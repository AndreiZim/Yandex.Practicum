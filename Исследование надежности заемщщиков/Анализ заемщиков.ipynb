{
 "cells": [
  {
   "cell_type": "markdown",
   "metadata": {
    "toc": true
   },
   "source": [
    "<h1>Исследование надежности заемщиков<span class=\"tocSkip\"></span></h1>\n",
    "<div class=\"toc\"><ul class=\"toc-item\"><li><span><a href=\"#Шаг-1.-Общая-информация\" data-toc-modified-id=\"Шаг-1.-Общая-информация-1\"><span class=\"toc-item-num\">1&nbsp;&nbsp;</span>Шаг 1. Общая информация</a></span></li><li><span><a href=\"#Шаг-2.-Предобработка-данных\" data-toc-modified-id=\"Шаг-2.-Предобработка-данных-2\"><span class=\"toc-item-num\">2&nbsp;&nbsp;</span>Шаг 2. Предобработка данных</a></span><ul class=\"toc-item\"><li><span><a href=\"#Обработка-пропусков\" data-toc-modified-id=\"Обработка-пропусков-2.1\"><span class=\"toc-item-num\">2.1&nbsp;&nbsp;</span>Обработка пропусков</a></span></li><li><span><a href=\"#Замена-типа-данных\" data-toc-modified-id=\"Замена-типа-данных-2.2\"><span class=\"toc-item-num\">2.2&nbsp;&nbsp;</span>Замена типа данных</a></span></li><li><span><a href=\"#Обработка-дубликатов\" data-toc-modified-id=\"Обработка-дубликатов-2.3\"><span class=\"toc-item-num\">2.3&nbsp;&nbsp;</span>Обработка дубликатов</a></span></li><li><span><a href=\"#Лемматизация\" data-toc-modified-id=\"Лемматизация-2.4\"><span class=\"toc-item-num\">2.4&nbsp;&nbsp;</span>Лемматизация</a></span></li><li><span><a href=\"#Категоризация-данных\" data-toc-modified-id=\"Категоризация-данных-2.5\"><span class=\"toc-item-num\">2.5&nbsp;&nbsp;</span>Категоризация данных</a></span></li></ul></li><li><span><a href=\"#Шаг-3.-Ответьте-на-вопросы\" data-toc-modified-id=\"Шаг-3.-Ответьте-на-вопросы-3\"><span class=\"toc-item-num\">3&nbsp;&nbsp;</span>Шаг 3. Ответьте на вопросы</a></span></li><li><span><a href=\"#Шаг-4.-Общий-вывод\" data-toc-modified-id=\"Шаг-4.-Общий-вывод-4\"><span class=\"toc-item-num\">4&nbsp;&nbsp;</span>Шаг 4. Общий вывод</a></span></li><li><span><a href=\"#Чек-лист-готовности-проекта\" data-toc-modified-id=\"Чек-лист-готовности-проекта-5\"><span class=\"toc-item-num\">5&nbsp;&nbsp;</span>Чек-лист готовности проекта</a></span></li></ul></div>"
   ]
  },
  {
   "cell_type": "markdown",
   "metadata": {},
   "source": [
    "# Исследование надёжности заёмщиков\n",
    "\n",
    "Заказчик — кредитный отдел банка. Нужно разобраться, влияет ли семейное положение и количество детей клиента на факт погашения кредита в срок. Входные данные от банка — статистика о платёжеспособности клиентов.\n",
    "\n",
    "Результаты исследования будут учтены при построении модели **кредитного скоринга** — специальной системы, которая оценивает способность потенциального заёмщика вернуть кредит банку."
   ]
  },
  {
   "cell_type": "markdown",
   "metadata": {},
   "source": [
    "## Шаг 1. Общая информация"
   ]
  },
  {
   "cell_type": "markdown",
   "metadata": {},
   "source": [
    "Для начала посмотрим на общий вид таблицы - выведем первые 20 строк"
   ]
  },
  {
   "cell_type": "code",
   "execution_count": 1,
   "metadata": {
    "scrolled": true
   },
   "outputs": [
    {
     "data": {
      "text/html": [
       "<div>\n",
       "<style scoped>\n",
       "    .dataframe tbody tr th:only-of-type {\n",
       "        vertical-align: middle;\n",
       "    }\n",
       "\n",
       "    .dataframe tbody tr th {\n",
       "        vertical-align: top;\n",
       "    }\n",
       "\n",
       "    .dataframe thead th {\n",
       "        text-align: right;\n",
       "    }\n",
       "</style>\n",
       "<table border=\"1\" class=\"dataframe\">\n",
       "  <thead>\n",
       "    <tr style=\"text-align: right;\">\n",
       "      <th></th>\n",
       "      <th>children</th>\n",
       "      <th>days_employed</th>\n",
       "      <th>dob_years</th>\n",
       "      <th>education</th>\n",
       "      <th>education_id</th>\n",
       "      <th>family_status</th>\n",
       "      <th>family_status_id</th>\n",
       "      <th>gender</th>\n",
       "      <th>income_type</th>\n",
       "      <th>debt</th>\n",
       "      <th>total_income</th>\n",
       "      <th>purpose</th>\n",
       "    </tr>\n",
       "  </thead>\n",
       "  <tbody>\n",
       "    <tr>\n",
       "      <td>0</td>\n",
       "      <td>1</td>\n",
       "      <td>-8437.673028</td>\n",
       "      <td>42</td>\n",
       "      <td>высшее</td>\n",
       "      <td>0</td>\n",
       "      <td>женат / замужем</td>\n",
       "      <td>0</td>\n",
       "      <td>F</td>\n",
       "      <td>сотрудник</td>\n",
       "      <td>0</td>\n",
       "      <td>253875.639453</td>\n",
       "      <td>покупка жилья</td>\n",
       "    </tr>\n",
       "    <tr>\n",
       "      <td>1</td>\n",
       "      <td>1</td>\n",
       "      <td>-4024.803754</td>\n",
       "      <td>36</td>\n",
       "      <td>среднее</td>\n",
       "      <td>1</td>\n",
       "      <td>женат / замужем</td>\n",
       "      <td>0</td>\n",
       "      <td>F</td>\n",
       "      <td>сотрудник</td>\n",
       "      <td>0</td>\n",
       "      <td>112080.014102</td>\n",
       "      <td>приобретение автомобиля</td>\n",
       "    </tr>\n",
       "    <tr>\n",
       "      <td>2</td>\n",
       "      <td>0</td>\n",
       "      <td>-5623.422610</td>\n",
       "      <td>33</td>\n",
       "      <td>Среднее</td>\n",
       "      <td>1</td>\n",
       "      <td>женат / замужем</td>\n",
       "      <td>0</td>\n",
       "      <td>M</td>\n",
       "      <td>сотрудник</td>\n",
       "      <td>0</td>\n",
       "      <td>145885.952297</td>\n",
       "      <td>покупка жилья</td>\n",
       "    </tr>\n",
       "    <tr>\n",
       "      <td>3</td>\n",
       "      <td>3</td>\n",
       "      <td>-4124.747207</td>\n",
       "      <td>32</td>\n",
       "      <td>среднее</td>\n",
       "      <td>1</td>\n",
       "      <td>женат / замужем</td>\n",
       "      <td>0</td>\n",
       "      <td>M</td>\n",
       "      <td>сотрудник</td>\n",
       "      <td>0</td>\n",
       "      <td>267628.550329</td>\n",
       "      <td>дополнительное образование</td>\n",
       "    </tr>\n",
       "    <tr>\n",
       "      <td>4</td>\n",
       "      <td>0</td>\n",
       "      <td>340266.072047</td>\n",
       "      <td>53</td>\n",
       "      <td>среднее</td>\n",
       "      <td>1</td>\n",
       "      <td>гражданский брак</td>\n",
       "      <td>1</td>\n",
       "      <td>F</td>\n",
       "      <td>пенсионер</td>\n",
       "      <td>0</td>\n",
       "      <td>158616.077870</td>\n",
       "      <td>сыграть свадьбу</td>\n",
       "    </tr>\n",
       "    <tr>\n",
       "      <td>5</td>\n",
       "      <td>0</td>\n",
       "      <td>-926.185831</td>\n",
       "      <td>27</td>\n",
       "      <td>высшее</td>\n",
       "      <td>0</td>\n",
       "      <td>гражданский брак</td>\n",
       "      <td>1</td>\n",
       "      <td>M</td>\n",
       "      <td>компаньон</td>\n",
       "      <td>0</td>\n",
       "      <td>255763.565419</td>\n",
       "      <td>покупка жилья</td>\n",
       "    </tr>\n",
       "    <tr>\n",
       "      <td>6</td>\n",
       "      <td>0</td>\n",
       "      <td>-2879.202052</td>\n",
       "      <td>43</td>\n",
       "      <td>высшее</td>\n",
       "      <td>0</td>\n",
       "      <td>женат / замужем</td>\n",
       "      <td>0</td>\n",
       "      <td>F</td>\n",
       "      <td>компаньон</td>\n",
       "      <td>0</td>\n",
       "      <td>240525.971920</td>\n",
       "      <td>операции с жильем</td>\n",
       "    </tr>\n",
       "    <tr>\n",
       "      <td>7</td>\n",
       "      <td>0</td>\n",
       "      <td>-152.779569</td>\n",
       "      <td>50</td>\n",
       "      <td>СРЕДНЕЕ</td>\n",
       "      <td>1</td>\n",
       "      <td>женат / замужем</td>\n",
       "      <td>0</td>\n",
       "      <td>M</td>\n",
       "      <td>сотрудник</td>\n",
       "      <td>0</td>\n",
       "      <td>135823.934197</td>\n",
       "      <td>образование</td>\n",
       "    </tr>\n",
       "    <tr>\n",
       "      <td>8</td>\n",
       "      <td>2</td>\n",
       "      <td>-6929.865299</td>\n",
       "      <td>35</td>\n",
       "      <td>ВЫСШЕЕ</td>\n",
       "      <td>0</td>\n",
       "      <td>гражданский брак</td>\n",
       "      <td>1</td>\n",
       "      <td>F</td>\n",
       "      <td>сотрудник</td>\n",
       "      <td>0</td>\n",
       "      <td>95856.832424</td>\n",
       "      <td>на проведение свадьбы</td>\n",
       "    </tr>\n",
       "    <tr>\n",
       "      <td>9</td>\n",
       "      <td>0</td>\n",
       "      <td>-2188.756445</td>\n",
       "      <td>41</td>\n",
       "      <td>среднее</td>\n",
       "      <td>1</td>\n",
       "      <td>женат / замужем</td>\n",
       "      <td>0</td>\n",
       "      <td>M</td>\n",
       "      <td>сотрудник</td>\n",
       "      <td>0</td>\n",
       "      <td>144425.938277</td>\n",
       "      <td>покупка жилья для семьи</td>\n",
       "    </tr>\n",
       "    <tr>\n",
       "      <td>10</td>\n",
       "      <td>2</td>\n",
       "      <td>-4171.483647</td>\n",
       "      <td>36</td>\n",
       "      <td>высшее</td>\n",
       "      <td>0</td>\n",
       "      <td>женат / замужем</td>\n",
       "      <td>0</td>\n",
       "      <td>M</td>\n",
       "      <td>компаньон</td>\n",
       "      <td>0</td>\n",
       "      <td>113943.491460</td>\n",
       "      <td>покупка недвижимости</td>\n",
       "    </tr>\n",
       "    <tr>\n",
       "      <td>11</td>\n",
       "      <td>0</td>\n",
       "      <td>-792.701887</td>\n",
       "      <td>40</td>\n",
       "      <td>среднее</td>\n",
       "      <td>1</td>\n",
       "      <td>женат / замужем</td>\n",
       "      <td>0</td>\n",
       "      <td>F</td>\n",
       "      <td>сотрудник</td>\n",
       "      <td>0</td>\n",
       "      <td>77069.234271</td>\n",
       "      <td>покупка коммерческой недвижимости</td>\n",
       "    </tr>\n",
       "    <tr>\n",
       "      <td>12</td>\n",
       "      <td>0</td>\n",
       "      <td>NaN</td>\n",
       "      <td>65</td>\n",
       "      <td>среднее</td>\n",
       "      <td>1</td>\n",
       "      <td>гражданский брак</td>\n",
       "      <td>1</td>\n",
       "      <td>M</td>\n",
       "      <td>пенсионер</td>\n",
       "      <td>0</td>\n",
       "      <td>NaN</td>\n",
       "      <td>сыграть свадьбу</td>\n",
       "    </tr>\n",
       "    <tr>\n",
       "      <td>13</td>\n",
       "      <td>0</td>\n",
       "      <td>-1846.641941</td>\n",
       "      <td>54</td>\n",
       "      <td>неоконченное высшее</td>\n",
       "      <td>2</td>\n",
       "      <td>женат / замужем</td>\n",
       "      <td>0</td>\n",
       "      <td>F</td>\n",
       "      <td>сотрудник</td>\n",
       "      <td>0</td>\n",
       "      <td>130458.228857</td>\n",
       "      <td>приобретение автомобиля</td>\n",
       "    </tr>\n",
       "    <tr>\n",
       "      <td>14</td>\n",
       "      <td>0</td>\n",
       "      <td>-1844.956182</td>\n",
       "      <td>56</td>\n",
       "      <td>высшее</td>\n",
       "      <td>0</td>\n",
       "      <td>гражданский брак</td>\n",
       "      <td>1</td>\n",
       "      <td>F</td>\n",
       "      <td>компаньон</td>\n",
       "      <td>1</td>\n",
       "      <td>165127.911772</td>\n",
       "      <td>покупка жилой недвижимости</td>\n",
       "    </tr>\n",
       "    <tr>\n",
       "      <td>15</td>\n",
       "      <td>1</td>\n",
       "      <td>-972.364419</td>\n",
       "      <td>26</td>\n",
       "      <td>среднее</td>\n",
       "      <td>1</td>\n",
       "      <td>женат / замужем</td>\n",
       "      <td>0</td>\n",
       "      <td>F</td>\n",
       "      <td>сотрудник</td>\n",
       "      <td>0</td>\n",
       "      <td>116820.904450</td>\n",
       "      <td>строительство собственной недвижимости</td>\n",
       "    </tr>\n",
       "    <tr>\n",
       "      <td>16</td>\n",
       "      <td>0</td>\n",
       "      <td>-1719.934226</td>\n",
       "      <td>35</td>\n",
       "      <td>среднее</td>\n",
       "      <td>1</td>\n",
       "      <td>женат / замужем</td>\n",
       "      <td>0</td>\n",
       "      <td>F</td>\n",
       "      <td>сотрудник</td>\n",
       "      <td>0</td>\n",
       "      <td>289202.704229</td>\n",
       "      <td>недвижимость</td>\n",
       "    </tr>\n",
       "    <tr>\n",
       "      <td>17</td>\n",
       "      <td>0</td>\n",
       "      <td>-2369.999720</td>\n",
       "      <td>33</td>\n",
       "      <td>высшее</td>\n",
       "      <td>0</td>\n",
       "      <td>гражданский брак</td>\n",
       "      <td>1</td>\n",
       "      <td>M</td>\n",
       "      <td>сотрудник</td>\n",
       "      <td>0</td>\n",
       "      <td>90410.586745</td>\n",
       "      <td>строительство недвижимости</td>\n",
       "    </tr>\n",
       "    <tr>\n",
       "      <td>18</td>\n",
       "      <td>0</td>\n",
       "      <td>400281.136913</td>\n",
       "      <td>53</td>\n",
       "      <td>среднее</td>\n",
       "      <td>1</td>\n",
       "      <td>вдовец / вдова</td>\n",
       "      <td>2</td>\n",
       "      <td>F</td>\n",
       "      <td>пенсионер</td>\n",
       "      <td>0</td>\n",
       "      <td>56823.777243</td>\n",
       "      <td>на покупку подержанного автомобиля</td>\n",
       "    </tr>\n",
       "    <tr>\n",
       "      <td>19</td>\n",
       "      <td>0</td>\n",
       "      <td>-10038.818549</td>\n",
       "      <td>48</td>\n",
       "      <td>СРЕДНЕЕ</td>\n",
       "      <td>1</td>\n",
       "      <td>в разводе</td>\n",
       "      <td>3</td>\n",
       "      <td>F</td>\n",
       "      <td>сотрудник</td>\n",
       "      <td>0</td>\n",
       "      <td>242831.107982</td>\n",
       "      <td>на покупку своего автомобиля</td>\n",
       "    </tr>\n",
       "  </tbody>\n",
       "</table>\n",
       "</div>"
      ],
      "text/plain": [
       "    children  days_employed  dob_years            education  education_id  \\\n",
       "0          1   -8437.673028         42               высшее             0   \n",
       "1          1   -4024.803754         36              среднее             1   \n",
       "2          0   -5623.422610         33              Среднее             1   \n",
       "3          3   -4124.747207         32              среднее             1   \n",
       "4          0  340266.072047         53              среднее             1   \n",
       "5          0    -926.185831         27               высшее             0   \n",
       "6          0   -2879.202052         43               высшее             0   \n",
       "7          0    -152.779569         50              СРЕДНЕЕ             1   \n",
       "8          2   -6929.865299         35               ВЫСШЕЕ             0   \n",
       "9          0   -2188.756445         41              среднее             1   \n",
       "10         2   -4171.483647         36               высшее             0   \n",
       "11         0    -792.701887         40              среднее             1   \n",
       "12         0            NaN         65              среднее             1   \n",
       "13         0   -1846.641941         54  неоконченное высшее             2   \n",
       "14         0   -1844.956182         56               высшее             0   \n",
       "15         1    -972.364419         26              среднее             1   \n",
       "16         0   -1719.934226         35              среднее             1   \n",
       "17         0   -2369.999720         33               высшее             0   \n",
       "18         0  400281.136913         53              среднее             1   \n",
       "19         0  -10038.818549         48              СРЕДНЕЕ             1   \n",
       "\n",
       "       family_status  family_status_id gender income_type  debt  \\\n",
       "0    женат / замужем                 0      F   сотрудник     0   \n",
       "1    женат / замужем                 0      F   сотрудник     0   \n",
       "2    женат / замужем                 0      M   сотрудник     0   \n",
       "3    женат / замужем                 0      M   сотрудник     0   \n",
       "4   гражданский брак                 1      F   пенсионер     0   \n",
       "5   гражданский брак                 1      M   компаньон     0   \n",
       "6    женат / замужем                 0      F   компаньон     0   \n",
       "7    женат / замужем                 0      M   сотрудник     0   \n",
       "8   гражданский брак                 1      F   сотрудник     0   \n",
       "9    женат / замужем                 0      M   сотрудник     0   \n",
       "10   женат / замужем                 0      M   компаньон     0   \n",
       "11   женат / замужем                 0      F   сотрудник     0   \n",
       "12  гражданский брак                 1      M   пенсионер     0   \n",
       "13   женат / замужем                 0      F   сотрудник     0   \n",
       "14  гражданский брак                 1      F   компаньон     1   \n",
       "15   женат / замужем                 0      F   сотрудник     0   \n",
       "16   женат / замужем                 0      F   сотрудник     0   \n",
       "17  гражданский брак                 1      M   сотрудник     0   \n",
       "18    вдовец / вдова                 2      F   пенсионер     0   \n",
       "19         в разводе                 3      F   сотрудник     0   \n",
       "\n",
       "     total_income                                 purpose  \n",
       "0   253875.639453                           покупка жилья  \n",
       "1   112080.014102                 приобретение автомобиля  \n",
       "2   145885.952297                           покупка жилья  \n",
       "3   267628.550329              дополнительное образование  \n",
       "4   158616.077870                         сыграть свадьбу  \n",
       "5   255763.565419                           покупка жилья  \n",
       "6   240525.971920                       операции с жильем  \n",
       "7   135823.934197                             образование  \n",
       "8    95856.832424                   на проведение свадьбы  \n",
       "9   144425.938277                 покупка жилья для семьи  \n",
       "10  113943.491460                    покупка недвижимости  \n",
       "11   77069.234271       покупка коммерческой недвижимости  \n",
       "12            NaN                         сыграть свадьбу  \n",
       "13  130458.228857                 приобретение автомобиля  \n",
       "14  165127.911772              покупка жилой недвижимости  \n",
       "15  116820.904450  строительство собственной недвижимости  \n",
       "16  289202.704229                            недвижимость  \n",
       "17   90410.586745              строительство недвижимости  \n",
       "18   56823.777243      на покупку подержанного автомобиля  \n",
       "19  242831.107982            на покупку своего автомобиля  "
      ]
     },
     "execution_count": 1,
     "metadata": {},
     "output_type": "execute_result"
    }
   ],
   "source": [
    "import pandas as pd\n",
    "df = pd.read_csv('/datasets/data.csv')\n",
    "df.head(20)"
   ]
  },
  {
   "cell_type": "markdown",
   "metadata": {},
   "source": [
    "Теперь посмотрим информацию о типах данных в таблице"
   ]
  },
  {
   "cell_type": "markdown",
   "metadata": {},
   "source": [
    "Столбцы education и education_id, family_status и family_status_id должны быть связаны. Проверим - надо посчитать количество уникальных значений в этих парах и сравнить результаты - они должны совпадать. Так как в строке education разное форматирование (есть \"среднее\", \"СРЕДНЕЕ\" и \"Среднее\"), то ее надо проверять только после предобработки. Пока проверим семейный статус"
   ]
  },
  {
   "cell_type": "code",
   "execution_count": 2,
   "metadata": {},
   "outputs": [
    {
     "name": "stdout",
     "output_type": "stream",
     "text": [
      "женат / замужем          12380\n",
      "гражданский брак          4177\n",
      "Не женат / не замужем     2813\n",
      "в разводе                 1195\n",
      "вдовец / вдова             960\n",
      "Name: family_status, dtype: int64\n"
     ]
    },
    {
     "data": {
      "text/plain": [
       "0    12380\n",
       "1     4177\n",
       "4     2813\n",
       "3     1195\n",
       "2      960\n",
       "Name: family_status_id, dtype: int64"
      ]
     },
     "execution_count": 2,
     "metadata": {},
     "output_type": "execute_result"
    }
   ],
   "source": [
    "#проверим семейный статус\n",
    "print(df['family_status'].value_counts())\n",
    "df['family_status_id'].value_counts()"
   ]
  },
  {
   "cell_type": "markdown",
   "metadata": {},
   "source": [
    "Как и предполагалось - значения совпадают. Можно будет вынести family_status в отдельный словарь из основной таблицы, чтоб ее было легче читать (как и в случае education после проверки, что они реально совпадают) "
   ]
  },
  {
   "cell_type": "markdown",
   "metadata": {},
   "source": [
    "В столбцах \"days_employed\" и \"total_income\" одинаковое количество пропусков, они должны быть напрямую связаны и в одних и тех же строках. Убедимся в этом, выведем первые 10 пустых строк"
   ]
  },
  {
   "cell_type": "code",
   "execution_count": 3,
   "metadata": {
    "scrolled": true
   },
   "outputs": [
    {
     "data": {
      "text/html": [
       "<div>\n",
       "<style scoped>\n",
       "    .dataframe tbody tr th:only-of-type {\n",
       "        vertical-align: middle;\n",
       "    }\n",
       "\n",
       "    .dataframe tbody tr th {\n",
       "        vertical-align: top;\n",
       "    }\n",
       "\n",
       "    .dataframe thead th {\n",
       "        text-align: right;\n",
       "    }\n",
       "</style>\n",
       "<table border=\"1\" class=\"dataframe\">\n",
       "  <thead>\n",
       "    <tr style=\"text-align: right;\">\n",
       "      <th></th>\n",
       "      <th>children</th>\n",
       "      <th>days_employed</th>\n",
       "      <th>dob_years</th>\n",
       "      <th>education</th>\n",
       "      <th>education_id</th>\n",
       "      <th>family_status</th>\n",
       "      <th>family_status_id</th>\n",
       "      <th>gender</th>\n",
       "      <th>income_type</th>\n",
       "      <th>debt</th>\n",
       "      <th>total_income</th>\n",
       "      <th>purpose</th>\n",
       "    </tr>\n",
       "  </thead>\n",
       "  <tbody>\n",
       "    <tr>\n",
       "      <td>12</td>\n",
       "      <td>0</td>\n",
       "      <td>NaN</td>\n",
       "      <td>65</td>\n",
       "      <td>среднее</td>\n",
       "      <td>1</td>\n",
       "      <td>гражданский брак</td>\n",
       "      <td>1</td>\n",
       "      <td>M</td>\n",
       "      <td>пенсионер</td>\n",
       "      <td>0</td>\n",
       "      <td>NaN</td>\n",
       "      <td>сыграть свадьбу</td>\n",
       "    </tr>\n",
       "    <tr>\n",
       "      <td>26</td>\n",
       "      <td>0</td>\n",
       "      <td>NaN</td>\n",
       "      <td>41</td>\n",
       "      <td>среднее</td>\n",
       "      <td>1</td>\n",
       "      <td>женат / замужем</td>\n",
       "      <td>0</td>\n",
       "      <td>M</td>\n",
       "      <td>госслужащий</td>\n",
       "      <td>0</td>\n",
       "      <td>NaN</td>\n",
       "      <td>образование</td>\n",
       "    </tr>\n",
       "    <tr>\n",
       "      <td>29</td>\n",
       "      <td>0</td>\n",
       "      <td>NaN</td>\n",
       "      <td>63</td>\n",
       "      <td>среднее</td>\n",
       "      <td>1</td>\n",
       "      <td>Не женат / не замужем</td>\n",
       "      <td>4</td>\n",
       "      <td>F</td>\n",
       "      <td>пенсионер</td>\n",
       "      <td>0</td>\n",
       "      <td>NaN</td>\n",
       "      <td>строительство жилой недвижимости</td>\n",
       "    </tr>\n",
       "    <tr>\n",
       "      <td>41</td>\n",
       "      <td>0</td>\n",
       "      <td>NaN</td>\n",
       "      <td>50</td>\n",
       "      <td>среднее</td>\n",
       "      <td>1</td>\n",
       "      <td>женат / замужем</td>\n",
       "      <td>0</td>\n",
       "      <td>F</td>\n",
       "      <td>госслужащий</td>\n",
       "      <td>0</td>\n",
       "      <td>NaN</td>\n",
       "      <td>сделка с подержанным автомобилем</td>\n",
       "    </tr>\n",
       "    <tr>\n",
       "      <td>55</td>\n",
       "      <td>0</td>\n",
       "      <td>NaN</td>\n",
       "      <td>54</td>\n",
       "      <td>среднее</td>\n",
       "      <td>1</td>\n",
       "      <td>гражданский брак</td>\n",
       "      <td>1</td>\n",
       "      <td>F</td>\n",
       "      <td>пенсионер</td>\n",
       "      <td>1</td>\n",
       "      <td>NaN</td>\n",
       "      <td>сыграть свадьбу</td>\n",
       "    </tr>\n",
       "    <tr>\n",
       "      <td>65</td>\n",
       "      <td>0</td>\n",
       "      <td>NaN</td>\n",
       "      <td>21</td>\n",
       "      <td>среднее</td>\n",
       "      <td>1</td>\n",
       "      <td>Не женат / не замужем</td>\n",
       "      <td>4</td>\n",
       "      <td>M</td>\n",
       "      <td>компаньон</td>\n",
       "      <td>0</td>\n",
       "      <td>NaN</td>\n",
       "      <td>операции с коммерческой недвижимостью</td>\n",
       "    </tr>\n",
       "    <tr>\n",
       "      <td>67</td>\n",
       "      <td>0</td>\n",
       "      <td>NaN</td>\n",
       "      <td>52</td>\n",
       "      <td>высшее</td>\n",
       "      <td>0</td>\n",
       "      <td>женат / замужем</td>\n",
       "      <td>0</td>\n",
       "      <td>F</td>\n",
       "      <td>пенсионер</td>\n",
       "      <td>0</td>\n",
       "      <td>NaN</td>\n",
       "      <td>покупка жилья для семьи</td>\n",
       "    </tr>\n",
       "    <tr>\n",
       "      <td>72</td>\n",
       "      <td>1</td>\n",
       "      <td>NaN</td>\n",
       "      <td>32</td>\n",
       "      <td>высшее</td>\n",
       "      <td>0</td>\n",
       "      <td>женат / замужем</td>\n",
       "      <td>0</td>\n",
       "      <td>M</td>\n",
       "      <td>госслужащий</td>\n",
       "      <td>0</td>\n",
       "      <td>NaN</td>\n",
       "      <td>операции с коммерческой недвижимостью</td>\n",
       "    </tr>\n",
       "    <tr>\n",
       "      <td>82</td>\n",
       "      <td>2</td>\n",
       "      <td>NaN</td>\n",
       "      <td>50</td>\n",
       "      <td>высшее</td>\n",
       "      <td>0</td>\n",
       "      <td>женат / замужем</td>\n",
       "      <td>0</td>\n",
       "      <td>F</td>\n",
       "      <td>сотрудник</td>\n",
       "      <td>0</td>\n",
       "      <td>NaN</td>\n",
       "      <td>жилье</td>\n",
       "    </tr>\n",
       "    <tr>\n",
       "      <td>83</td>\n",
       "      <td>0</td>\n",
       "      <td>NaN</td>\n",
       "      <td>52</td>\n",
       "      <td>среднее</td>\n",
       "      <td>1</td>\n",
       "      <td>женат / замужем</td>\n",
       "      <td>0</td>\n",
       "      <td>M</td>\n",
       "      <td>сотрудник</td>\n",
       "      <td>0</td>\n",
       "      <td>NaN</td>\n",
       "      <td>жилье</td>\n",
       "    </tr>\n",
       "  </tbody>\n",
       "</table>\n",
       "</div>"
      ],
      "text/plain": [
       "    children  days_employed  dob_years education  education_id  \\\n",
       "12         0            NaN         65   среднее             1   \n",
       "26         0            NaN         41   среднее             1   \n",
       "29         0            NaN         63   среднее             1   \n",
       "41         0            NaN         50   среднее             1   \n",
       "55         0            NaN         54   среднее             1   \n",
       "65         0            NaN         21   среднее             1   \n",
       "67         0            NaN         52    высшее             0   \n",
       "72         1            NaN         32    высшее             0   \n",
       "82         2            NaN         50    высшее             0   \n",
       "83         0            NaN         52   среднее             1   \n",
       "\n",
       "            family_status  family_status_id gender  income_type  debt  \\\n",
       "12       гражданский брак                 1      M    пенсионер     0   \n",
       "26        женат / замужем                 0      M  госслужащий     0   \n",
       "29  Не женат / не замужем                 4      F    пенсионер     0   \n",
       "41        женат / замужем                 0      F  госслужащий     0   \n",
       "55       гражданский брак                 1      F    пенсионер     1   \n",
       "65  Не женат / не замужем                 4      M    компаньон     0   \n",
       "67        женат / замужем                 0      F    пенсионер     0   \n",
       "72        женат / замужем                 0      M  госслужащий     0   \n",
       "82        женат / замужем                 0      F    сотрудник     0   \n",
       "83        женат / замужем                 0      M    сотрудник     0   \n",
       "\n",
       "    total_income                                purpose  \n",
       "12           NaN                        сыграть свадьбу  \n",
       "26           NaN                            образование  \n",
       "29           NaN       строительство жилой недвижимости  \n",
       "41           NaN       сделка с подержанным автомобилем  \n",
       "55           NaN                        сыграть свадьбу  \n",
       "65           NaN  операции с коммерческой недвижимостью  \n",
       "67           NaN                покупка жилья для семьи  \n",
       "72           NaN  операции с коммерческой недвижимостью  \n",
       "82           NaN                                  жилье  \n",
       "83           NaN                                  жилье  "
      ]
     },
     "execution_count": 3,
     "metadata": {},
     "output_type": "execute_result"
    }
   ],
   "source": [
    "df[df['days_employed'].isna()].head(10)"
   ]
  },
  {
   "cell_type": "markdown",
   "metadata": {},
   "source": [
    "Для ответа на поставленные вопросы нам нужны будут группировки по количеству детей ('children'), семейному положению ('family_status'), доходу ('total_income') и цели ('purpose'). Столбец семейное положение посмотрели выше, столбец целей нужно будет обрабатывать специальным образом.\n",
    "    Посмотрим на значения столбцов 'children' и 'total_income' "
   ]
  },
  {
   "cell_type": "code",
   "execution_count": 4,
   "metadata": {
    "scrolled": true
   },
   "outputs": [
    {
     "name": "stdout",
     "output_type": "stream",
     "text": [
      "Минимальное значение children: -1\n",
      "Максимальное значение children: 20\n",
      "Минимальное значение total_income: 20667.26379327158\n",
      "Максимальное значение total_income: 2265604.028722744\n"
     ]
    }
   ],
   "source": [
    "#посмотрим на крайние значения столбцов\n",
    "print('Минимальное значение children:', df['children'].min())\n",
    "print('Максимальное значение children:', df['children'].max())\n",
    "print('Минимальное значение total_income:', df['total_income'].min())\n",
    "print('Максимальное значение total_income:', df['total_income'].max())"
   ]
  },
  {
   "cell_type": "markdown",
   "metadata": {},
   "source": [
    "Значения дохода в общем вопросов не вызывают, а в значении столбца 'children' явно есть ошибки - не может быть отрицательного количества детей. 20 детей - тоже довольно нетривиальное значение. В теории такое может быть, к примеру, приемные дети, но очень маловероятно. Проверим количество отрицательных значений, максимальных и вообще больших для данного столбца. "
   ]
  },
  {
   "cell_type": "code",
   "execution_count": 5,
   "metadata": {},
   "outputs": [
    {
     "name": "stdout",
     "output_type": "stream",
     "text": [
      "Отрицательных значений: 47\n",
      "20 детей 76\n",
      "Больше 5 детей: 76\n"
     ]
    }
   ],
   "source": [
    "print('Отрицательных значений:', df[df['children'] < 0]['children'].count())\n",
    "print('20 детей', df[df['children'] == 20]['children'].count())\n",
    "print('Больше 5 детей:', df[df['children'] > 5]['children'].count())"
   ]
  },
  {
   "cell_type": "markdown",
   "metadata": {},
   "source": [
    "- 47 строк имеют значение -1 в столбце \"children\". Это ничтожно мало от общего количество, но может помешать нам при группировке и ответах на вопросы. Самое очевидное объяснение - это просто неправильно внесенные значения \"1\". Возьмем эти значения по модулю.\n",
    "- Поскольку 76 человек с 20 детьми - явно аномальное значение, особенно учитывая, что в остальных значениях - цифры не больше 5. Вероятнее всего это просто неправильно записанное значение 2. Надо вернуть его"
   ]
  },
  {
   "cell_type": "markdown",
   "metadata": {},
   "source": [
    "**Вывод**"
   ]
  },
  {
   "cell_type": "markdown",
   "metadata": {},
   "source": [
    "Из выведенных 20 строк видно:\n",
    "- очень странные цифры трудового стажа в днях - есть отрицательные значения, сами значения - не целые, хотя \"дни\" вроде бы это подразумевают. На первый взгляд отрицательные значения по модулю на порядок меньше положительных;\n",
    "- в столбце education - разное форматирование данных: как строчные, так и заглавные группы, нужно будет привести к одному виду.\n",
    "    \n",
    "Из информации о таблице:\n",
    "- есть пропуски в столбцах \"days_employed\" и \"total_income\". Количество значений одинаковое, категории напрямую связаны - это связанные пропуски в одних и тех же строках. Очевидно, что для людей, у которых не было данных о стаже - не было данных и о среднем размере дохода;\n",
    "- странный для значения в днях формат float столбца days_employed. Но и сами значения странные - надо будет разбираться.\n",
    "\n",
    "\n",
    "\n",
    "Есть ошибки в столбце 'children'.\n",
    "\n",
    "    "
   ]
  },
  {
   "cell_type": "code",
   "execution_count": 6,
   "metadata": {},
   "outputs": [
    {
     "data": {
      "text/plain": [
       "F      14236\n",
       "M       7288\n",
       "XNA        1\n",
       "Name: gender, dtype: int64"
      ]
     },
     "execution_count": 6,
     "metadata": {},
     "output_type": "execute_result"
    }
   ],
   "source": [
    "#посмотрим какие значения есть у столбца gender\n",
    "df['gender'].value_counts()"
   ]
  },
  {
   "cell_type": "markdown",
   "metadata": {},
   "source": [
    "Одно значение явно аномальное (XNA). Посмотрим на всю строку"
   ]
  },
  {
   "cell_type": "code",
   "execution_count": 7,
   "metadata": {},
   "outputs": [
    {
     "data": {
      "text/html": [
       "<div>\n",
       "<style scoped>\n",
       "    .dataframe tbody tr th:only-of-type {\n",
       "        vertical-align: middle;\n",
       "    }\n",
       "\n",
       "    .dataframe tbody tr th {\n",
       "        vertical-align: top;\n",
       "    }\n",
       "\n",
       "    .dataframe thead th {\n",
       "        text-align: right;\n",
       "    }\n",
       "</style>\n",
       "<table border=\"1\" class=\"dataframe\">\n",
       "  <thead>\n",
       "    <tr style=\"text-align: right;\">\n",
       "      <th></th>\n",
       "      <th>children</th>\n",
       "      <th>days_employed</th>\n",
       "      <th>dob_years</th>\n",
       "      <th>education</th>\n",
       "      <th>education_id</th>\n",
       "      <th>family_status</th>\n",
       "      <th>family_status_id</th>\n",
       "      <th>gender</th>\n",
       "      <th>income_type</th>\n",
       "      <th>debt</th>\n",
       "      <th>total_income</th>\n",
       "      <th>purpose</th>\n",
       "    </tr>\n",
       "  </thead>\n",
       "  <tbody>\n",
       "    <tr>\n",
       "      <td>10701</td>\n",
       "      <td>0</td>\n",
       "      <td>-2358.600502</td>\n",
       "      <td>24</td>\n",
       "      <td>неоконченное высшее</td>\n",
       "      <td>2</td>\n",
       "      <td>гражданский брак</td>\n",
       "      <td>1</td>\n",
       "      <td>XNA</td>\n",
       "      <td>компаньон</td>\n",
       "      <td>0</td>\n",
       "      <td>203905.157261</td>\n",
       "      <td>покупка недвижимости</td>\n",
       "    </tr>\n",
       "  </tbody>\n",
       "</table>\n",
       "</div>"
      ],
      "text/plain": [
       "       children  days_employed  dob_years            education  education_id  \\\n",
       "10701         0   -2358.600502         24  неоконченное высшее             2   \n",
       "\n",
       "          family_status  family_status_id gender income_type  debt  \\\n",
       "10701  гражданский брак                 1    XNA   компаньон     0   \n",
       "\n",
       "        total_income               purpose  \n",
       "10701  203905.157261  покупка недвижимости  "
      ]
     },
     "execution_count": 7,
     "metadata": {},
     "output_type": "execute_result"
    }
   ],
   "source": [
    "df[df['gender'] == 'XNA']"
   ]
  },
  {
   "cell_type": "markdown",
   "metadata": {},
   "source": [
    "Вероятно, это какая-то ошибка при написании NaN. Можно было бы заменить на реальный NaN, но зачем плодить лишний пропуск. Можно заменить на любое из двух значений - вы выборке из 14 и 7 тыс.значений еще одно роли не сыграет `df.loc[10701, 'gender'] = 'M'`. Также можно было бы просто удалить строку, но для наших целей группировка по этому столбцу не нужна, а данные этой строки пригодятся. Поэтому я бы просто оставил его как есть."
   ]
  },
  {
   "cell_type": "markdown",
   "metadata": {},
   "source": [
    "Переходим к income_type"
   ]
  },
  {
   "cell_type": "code",
   "execution_count": 8,
   "metadata": {},
   "outputs": [
    {
     "name": "stdout",
     "output_type": "stream",
     "text": [
      "count         21525\n",
      "unique            8\n",
      "top       сотрудник\n",
      "freq          11119\n",
      "Name: income_type, dtype: object\n"
     ]
    },
    {
     "data": {
      "text/plain": [
       "сотрудник          11119\n",
       "компаньон           5085\n",
       "пенсионер           3856\n",
       "госслужащий         1459\n",
       "безработный            2\n",
       "предприниматель        2\n",
       "в декрете              1\n",
       "студент                1\n",
       "Name: income_type, dtype: int64"
      ]
     },
     "execution_count": 8,
     "metadata": {},
     "output_type": "execute_result"
    }
   ],
   "source": [
    "print(df['income_type'].describe())\n",
    "df['income_type'].value_counts()"
   ]
  },
  {
   "cell_type": "markdown",
   "metadata": {},
   "source": [
    "К income_type вопросов, кажется, нет, посмотрим dob_years"
   ]
  },
  {
   "cell_type": "code",
   "execution_count": 9,
   "metadata": {
    "scrolled": true
   },
   "outputs": [
    {
     "name": "stdout",
     "output_type": "stream",
     "text": [
      "count    21525.000000\n",
      "mean        43.293380\n",
      "std         12.574584\n",
      "min          0.000000\n",
      "25%         33.000000\n",
      "50%         42.000000\n",
      "75%         53.000000\n",
      "max         75.000000\n",
      "Name: dob_years, dtype: float64\n"
     ]
    },
    {
     "data": {
      "text/plain": [
       "35    617\n",
       "40    609\n",
       "41    607\n",
       "34    603\n",
       "38    598\n",
       "42    597\n",
       "33    581\n",
       "39    573\n",
       "31    560\n",
       "36    555\n",
       "44    547\n",
       "29    545\n",
       "30    540\n",
       "48    538\n",
       "37    537\n",
       "50    514\n",
       "43    513\n",
       "32    510\n",
       "49    508\n",
       "28    503\n",
       "45    497\n",
       "27    493\n",
       "56    487\n",
       "52    484\n",
       "47    480\n",
       "54    479\n",
       "46    475\n",
       "58    461\n",
       "57    460\n",
       "53    459\n",
       "51    448\n",
       "59    444\n",
       "55    443\n",
       "26    408\n",
       "60    377\n",
       "25    357\n",
       "61    355\n",
       "62    352\n",
       "63    269\n",
       "64    265\n",
       "24    264\n",
       "23    254\n",
       "65    194\n",
       "66    183\n",
       "22    183\n",
       "67    167\n",
       "21    111\n",
       "0     101\n",
       "68     99\n",
       "69     85\n",
       "70     65\n",
       "71     58\n",
       "20     51\n",
       "72     33\n",
       "19     14\n",
       "73      8\n",
       "74      6\n",
       "75      1\n",
       "Name: dob_years, dtype: int64"
      ]
     },
     "execution_count": 9,
     "metadata": {},
     "output_type": "execute_result"
    }
   ],
   "source": [
    "print(df['dob_years'].describe())\n",
    "df['dob_years'].value_counts()"
   ]
  },
  {
   "cell_type": "markdown",
   "metadata": {},
   "source": [
    "Есть 101 аномальное значение в 0 лет. Скорее это такой вид 'нет данных'"
   ]
  },
  {
   "cell_type": "markdown",
   "metadata": {},
   "source": [
    "## Шаг 2. Предобработка данных"
   ]
  },
  {
   "cell_type": "markdown",
   "metadata": {},
   "source": [
    "### Обработка пропусков"
   ]
  },
  {
   "cell_type": "markdown",
   "metadata": {},
   "source": [
    "Прежде чем приступить к пропускам, разберемся с ошибками в столбце с количестовм детей. Возьмем значения - 1 по модулю и заменим 20 на 2"
   ]
  },
  {
   "cell_type": "code",
   "execution_count": 10,
   "metadata": {},
   "outputs": [
    {
     "name": "stdout",
     "output_type": "stream",
     "text": [
      "Отрицательных значений: 0\n",
      "20 детей 0\n",
      "Больше 5 детей: 0\n"
     ]
    }
   ],
   "source": [
    "#убираем минус из столбца\n",
    "df.loc[df['children'] == -1, 'children'] = df.loc[df['children'] == -1, 'children'].abs()\n",
    "#превращаем 20 в 2\n",
    "df.loc[df['children'] == 20, 'children'] = 2\n",
    "#проверяем\n",
    "print('Отрицательных значений:', df[df['children'] < 0]['children'].count())\n",
    "print('20 детей', df[df['children'] == 20]['children'].count())\n",
    "print('Больше 5 детей:', df[df['children'] > 5]['children'].count())"
   ]
  },
  {
   "cell_type": "markdown",
   "metadata": {},
   "source": [
    "Пропуски присутствуют в столбцах days_employed и total_income. Но сами данные в days_employed странные. Прежде чем удалять пропуски, нужно разобраться с этим столбцом"
   ]
  },
  {
   "cell_type": "code",
   "execution_count": 11,
   "metadata": {},
   "outputs": [
    {
     "name": "stdout",
     "output_type": "stream",
     "text": [
      "Отрицательных значений: 15906\n",
      "Положительных значений: 3445\n"
     ]
    }
   ],
   "source": [
    "#Явно в days_employed есть два типа значений - положительные и отрицательные. Посчитаем сколько их:\n",
    "print('Отрицательных значений:', df[df['days_employed'] < 0]['days_employed'].count())\n",
    "print('Положительных значений:', df[df['days_employed'] > 0]['days_employed'].count())"
   ]
  },
  {
   "cell_type": "markdown",
   "metadata": {},
   "source": [
    "Число значений значительное - посмотрим в каких они диапазонах - найдем максимальное и минимальное значение для каждой из групп, проверим, есть ли нулевой стаж"
   ]
  },
  {
   "cell_type": "code",
   "execution_count": 12,
   "metadata": {},
   "outputs": [
    {
     "name": "stdout",
     "output_type": "stream",
     "text": [
      "Минимум < 0: -18388.949900568383\n",
      "Максимум < 0: -24.14163324048118\n",
      "Минимум > 0: 328728.72060451825\n",
      "Максимум > 0: 401755.40047533\n",
      "Стаж равен 0: nan\n"
     ]
    }
   ],
   "source": [
    "\n",
    "print('Минимум < 0:', df[df['days_employed'] < 0]['days_employed'].min())\n",
    "print('Максимум < 0:', df[df['days_employed'] < 0]['days_employed'].max())\n",
    "print('Минимум > 0:', df[df['days_employed'] > 0]['days_employed'].min())\n",
    "print('Максимум > 0:', df[df['days_employed'] > 0]['days_employed'].max())\n",
    "print('Стаж равен 0:', df[df['days_employed'] == 0]['days_employed'].max())"
   ]
  },
  {
   "cell_type": "markdown",
   "metadata": {},
   "source": [
    "Нулевых значений нет. Значения больше нуля на порядок по модулю отличаются от значений меньше нуля. При этом значения больше нуля слишком большие.  Если это дни, то разделим на количество дней в году даже минимальное значение:"
   ]
  },
  {
   "cell_type": "code",
   "execution_count": 13,
   "metadata": {},
   "outputs": [
    {
     "data": {
      "text/plain": [
       "900.6266317932007"
      ]
     },
     "execution_count": 13,
     "metadata": {},
     "output_type": "execute_result"
    }
   ],
   "source": [
    "df[df['days_employed'] > 0]['days_employed'].min() / 365"
   ]
  },
  {
   "cell_type": "markdown",
   "metadata": {},
   "source": [
    "900 лет работы без выходных. Значение слишком большое. Допустим - это часы. Разделим на средний 8-часовой рабочий день, а затем снова на количество дней в году"
   ]
  },
  {
   "cell_type": "code",
   "execution_count": 14,
   "metadata": {},
   "outputs": [
    {
     "data": {
      "text/plain": [
       "112.57832897415008"
      ]
     },
     "execution_count": 14,
     "metadata": {},
     "output_type": "execute_result"
    }
   ],
   "source": [
    "df[df['days_employed'] > 0]['days_employed'].min() / 8 /365"
   ]
  },
  {
   "cell_type": "markdown",
   "metadata": {},
   "source": [
    "112 лет - тоже слишком много. Тогда допустим, что часы посчитаны по астрономическим часам в сутках. Найдем минимальные и максимальные значения"
   ]
  },
  {
   "cell_type": "code",
   "execution_count": 15,
   "metadata": {},
   "outputs": [
    {
     "name": "stdout",
     "output_type": "stream",
     "text": [
      "Минимум > 0: 37.526109658050025\n",
      "Максимум > 0: 45.8624886387363\n"
     ]
    }
   ],
   "source": [
    "print('Минимум > 0:', df[df['days_employed'] > 0]['days_employed'].min()/24/365)\n",
    "print('Максимум > 0:', df[df['days_employed'] > 0]['days_employed'].max()/24/365)"
   ]
  },
  {
   "cell_type": "markdown",
   "metadata": {},
   "source": [
    "Вот эти значения стажа подходят - это самое вероятное решение. Осталось привести данные к одному виду - взять по модулю отрицательные значения и перевести часы в дни"
   ]
  },
  {
   "cell_type": "code",
   "execution_count": 16,
   "metadata": {
    "scrolled": true
   },
   "outputs": [
    {
     "data": {
      "text/html": [
       "<div>\n",
       "<style scoped>\n",
       "    .dataframe tbody tr th:only-of-type {\n",
       "        vertical-align: middle;\n",
       "    }\n",
       "\n",
       "    .dataframe tbody tr th {\n",
       "        vertical-align: top;\n",
       "    }\n",
       "\n",
       "    .dataframe thead th {\n",
       "        text-align: right;\n",
       "    }\n",
       "</style>\n",
       "<table border=\"1\" class=\"dataframe\">\n",
       "  <thead>\n",
       "    <tr style=\"text-align: right;\">\n",
       "      <th></th>\n",
       "      <th>children</th>\n",
       "      <th>days_employed</th>\n",
       "      <th>dob_years</th>\n",
       "      <th>education</th>\n",
       "      <th>education_id</th>\n",
       "      <th>family_status</th>\n",
       "      <th>family_status_id</th>\n",
       "      <th>gender</th>\n",
       "      <th>income_type</th>\n",
       "      <th>debt</th>\n",
       "      <th>total_income</th>\n",
       "      <th>purpose</th>\n",
       "    </tr>\n",
       "  </thead>\n",
       "  <tbody>\n",
       "    <tr>\n",
       "      <td>0</td>\n",
       "      <td>1</td>\n",
       "      <td>8437.673028</td>\n",
       "      <td>42</td>\n",
       "      <td>высшее</td>\n",
       "      <td>0</td>\n",
       "      <td>женат / замужем</td>\n",
       "      <td>0</td>\n",
       "      <td>F</td>\n",
       "      <td>сотрудник</td>\n",
       "      <td>0</td>\n",
       "      <td>253875.639453</td>\n",
       "      <td>покупка жилья</td>\n",
       "    </tr>\n",
       "    <tr>\n",
       "      <td>1</td>\n",
       "      <td>1</td>\n",
       "      <td>4024.803754</td>\n",
       "      <td>36</td>\n",
       "      <td>среднее</td>\n",
       "      <td>1</td>\n",
       "      <td>женат / замужем</td>\n",
       "      <td>0</td>\n",
       "      <td>F</td>\n",
       "      <td>сотрудник</td>\n",
       "      <td>0</td>\n",
       "      <td>112080.014102</td>\n",
       "      <td>приобретение автомобиля</td>\n",
       "    </tr>\n",
       "    <tr>\n",
       "      <td>2</td>\n",
       "      <td>0</td>\n",
       "      <td>5623.422610</td>\n",
       "      <td>33</td>\n",
       "      <td>Среднее</td>\n",
       "      <td>1</td>\n",
       "      <td>женат / замужем</td>\n",
       "      <td>0</td>\n",
       "      <td>M</td>\n",
       "      <td>сотрудник</td>\n",
       "      <td>0</td>\n",
       "      <td>145885.952297</td>\n",
       "      <td>покупка жилья</td>\n",
       "    </tr>\n",
       "    <tr>\n",
       "      <td>3</td>\n",
       "      <td>3</td>\n",
       "      <td>4124.747207</td>\n",
       "      <td>32</td>\n",
       "      <td>среднее</td>\n",
       "      <td>1</td>\n",
       "      <td>женат / замужем</td>\n",
       "      <td>0</td>\n",
       "      <td>M</td>\n",
       "      <td>сотрудник</td>\n",
       "      <td>0</td>\n",
       "      <td>267628.550329</td>\n",
       "      <td>дополнительное образование</td>\n",
       "    </tr>\n",
       "    <tr>\n",
       "      <td>4</td>\n",
       "      <td>0</td>\n",
       "      <td>14177.753002</td>\n",
       "      <td>53</td>\n",
       "      <td>среднее</td>\n",
       "      <td>1</td>\n",
       "      <td>гражданский брак</td>\n",
       "      <td>1</td>\n",
       "      <td>F</td>\n",
       "      <td>пенсионер</td>\n",
       "      <td>0</td>\n",
       "      <td>158616.077870</td>\n",
       "      <td>сыграть свадьбу</td>\n",
       "    </tr>\n",
       "    <tr>\n",
       "      <td>5</td>\n",
       "      <td>0</td>\n",
       "      <td>926.185831</td>\n",
       "      <td>27</td>\n",
       "      <td>высшее</td>\n",
       "      <td>0</td>\n",
       "      <td>гражданский брак</td>\n",
       "      <td>1</td>\n",
       "      <td>M</td>\n",
       "      <td>компаньон</td>\n",
       "      <td>0</td>\n",
       "      <td>255763.565419</td>\n",
       "      <td>покупка жилья</td>\n",
       "    </tr>\n",
       "    <tr>\n",
       "      <td>6</td>\n",
       "      <td>0</td>\n",
       "      <td>2879.202052</td>\n",
       "      <td>43</td>\n",
       "      <td>высшее</td>\n",
       "      <td>0</td>\n",
       "      <td>женат / замужем</td>\n",
       "      <td>0</td>\n",
       "      <td>F</td>\n",
       "      <td>компаньон</td>\n",
       "      <td>0</td>\n",
       "      <td>240525.971920</td>\n",
       "      <td>операции с жильем</td>\n",
       "    </tr>\n",
       "    <tr>\n",
       "      <td>7</td>\n",
       "      <td>0</td>\n",
       "      <td>152.779569</td>\n",
       "      <td>50</td>\n",
       "      <td>СРЕДНЕЕ</td>\n",
       "      <td>1</td>\n",
       "      <td>женат / замужем</td>\n",
       "      <td>0</td>\n",
       "      <td>M</td>\n",
       "      <td>сотрудник</td>\n",
       "      <td>0</td>\n",
       "      <td>135823.934197</td>\n",
       "      <td>образование</td>\n",
       "    </tr>\n",
       "    <tr>\n",
       "      <td>8</td>\n",
       "      <td>2</td>\n",
       "      <td>6929.865299</td>\n",
       "      <td>35</td>\n",
       "      <td>ВЫСШЕЕ</td>\n",
       "      <td>0</td>\n",
       "      <td>гражданский брак</td>\n",
       "      <td>1</td>\n",
       "      <td>F</td>\n",
       "      <td>сотрудник</td>\n",
       "      <td>0</td>\n",
       "      <td>95856.832424</td>\n",
       "      <td>на проведение свадьбы</td>\n",
       "    </tr>\n",
       "    <tr>\n",
       "      <td>9</td>\n",
       "      <td>0</td>\n",
       "      <td>2188.756445</td>\n",
       "      <td>41</td>\n",
       "      <td>среднее</td>\n",
       "      <td>1</td>\n",
       "      <td>женат / замужем</td>\n",
       "      <td>0</td>\n",
       "      <td>M</td>\n",
       "      <td>сотрудник</td>\n",
       "      <td>0</td>\n",
       "      <td>144425.938277</td>\n",
       "      <td>покупка жилья для семьи</td>\n",
       "    </tr>\n",
       "    <tr>\n",
       "      <td>10</td>\n",
       "      <td>2</td>\n",
       "      <td>4171.483647</td>\n",
       "      <td>36</td>\n",
       "      <td>высшее</td>\n",
       "      <td>0</td>\n",
       "      <td>женат / замужем</td>\n",
       "      <td>0</td>\n",
       "      <td>M</td>\n",
       "      <td>компаньон</td>\n",
       "      <td>0</td>\n",
       "      <td>113943.491460</td>\n",
       "      <td>покупка недвижимости</td>\n",
       "    </tr>\n",
       "    <tr>\n",
       "      <td>11</td>\n",
       "      <td>0</td>\n",
       "      <td>792.701887</td>\n",
       "      <td>40</td>\n",
       "      <td>среднее</td>\n",
       "      <td>1</td>\n",
       "      <td>женат / замужем</td>\n",
       "      <td>0</td>\n",
       "      <td>F</td>\n",
       "      <td>сотрудник</td>\n",
       "      <td>0</td>\n",
       "      <td>77069.234271</td>\n",
       "      <td>покупка коммерческой недвижимости</td>\n",
       "    </tr>\n",
       "    <tr>\n",
       "      <td>12</td>\n",
       "      <td>0</td>\n",
       "      <td>NaN</td>\n",
       "      <td>65</td>\n",
       "      <td>среднее</td>\n",
       "      <td>1</td>\n",
       "      <td>гражданский брак</td>\n",
       "      <td>1</td>\n",
       "      <td>M</td>\n",
       "      <td>пенсионер</td>\n",
       "      <td>0</td>\n",
       "      <td>NaN</td>\n",
       "      <td>сыграть свадьбу</td>\n",
       "    </tr>\n",
       "    <tr>\n",
       "      <td>13</td>\n",
       "      <td>0</td>\n",
       "      <td>1846.641941</td>\n",
       "      <td>54</td>\n",
       "      <td>неоконченное высшее</td>\n",
       "      <td>2</td>\n",
       "      <td>женат / замужем</td>\n",
       "      <td>0</td>\n",
       "      <td>F</td>\n",
       "      <td>сотрудник</td>\n",
       "      <td>0</td>\n",
       "      <td>130458.228857</td>\n",
       "      <td>приобретение автомобиля</td>\n",
       "    </tr>\n",
       "    <tr>\n",
       "      <td>14</td>\n",
       "      <td>0</td>\n",
       "      <td>1844.956182</td>\n",
       "      <td>56</td>\n",
       "      <td>высшее</td>\n",
       "      <td>0</td>\n",
       "      <td>гражданский брак</td>\n",
       "      <td>1</td>\n",
       "      <td>F</td>\n",
       "      <td>компаньон</td>\n",
       "      <td>1</td>\n",
       "      <td>165127.911772</td>\n",
       "      <td>покупка жилой недвижимости</td>\n",
       "    </tr>\n",
       "    <tr>\n",
       "      <td>15</td>\n",
       "      <td>1</td>\n",
       "      <td>972.364419</td>\n",
       "      <td>26</td>\n",
       "      <td>среднее</td>\n",
       "      <td>1</td>\n",
       "      <td>женат / замужем</td>\n",
       "      <td>0</td>\n",
       "      <td>F</td>\n",
       "      <td>сотрудник</td>\n",
       "      <td>0</td>\n",
       "      <td>116820.904450</td>\n",
       "      <td>строительство собственной недвижимости</td>\n",
       "    </tr>\n",
       "    <tr>\n",
       "      <td>16</td>\n",
       "      <td>0</td>\n",
       "      <td>1719.934226</td>\n",
       "      <td>35</td>\n",
       "      <td>среднее</td>\n",
       "      <td>1</td>\n",
       "      <td>женат / замужем</td>\n",
       "      <td>0</td>\n",
       "      <td>F</td>\n",
       "      <td>сотрудник</td>\n",
       "      <td>0</td>\n",
       "      <td>289202.704229</td>\n",
       "      <td>недвижимость</td>\n",
       "    </tr>\n",
       "    <tr>\n",
       "      <td>17</td>\n",
       "      <td>0</td>\n",
       "      <td>2369.999720</td>\n",
       "      <td>33</td>\n",
       "      <td>высшее</td>\n",
       "      <td>0</td>\n",
       "      <td>гражданский брак</td>\n",
       "      <td>1</td>\n",
       "      <td>M</td>\n",
       "      <td>сотрудник</td>\n",
       "      <td>0</td>\n",
       "      <td>90410.586745</td>\n",
       "      <td>строительство недвижимости</td>\n",
       "    </tr>\n",
       "    <tr>\n",
       "      <td>18</td>\n",
       "      <td>0</td>\n",
       "      <td>16678.380705</td>\n",
       "      <td>53</td>\n",
       "      <td>среднее</td>\n",
       "      <td>1</td>\n",
       "      <td>вдовец / вдова</td>\n",
       "      <td>2</td>\n",
       "      <td>F</td>\n",
       "      <td>пенсионер</td>\n",
       "      <td>0</td>\n",
       "      <td>56823.777243</td>\n",
       "      <td>на покупку подержанного автомобиля</td>\n",
       "    </tr>\n",
       "    <tr>\n",
       "      <td>19</td>\n",
       "      <td>0</td>\n",
       "      <td>10038.818549</td>\n",
       "      <td>48</td>\n",
       "      <td>СРЕДНЕЕ</td>\n",
       "      <td>1</td>\n",
       "      <td>в разводе</td>\n",
       "      <td>3</td>\n",
       "      <td>F</td>\n",
       "      <td>сотрудник</td>\n",
       "      <td>0</td>\n",
       "      <td>242831.107982</td>\n",
       "      <td>на покупку своего автомобиля</td>\n",
       "    </tr>\n",
       "  </tbody>\n",
       "</table>\n",
       "</div>"
      ],
      "text/plain": [
       "    children  days_employed  dob_years            education  education_id  \\\n",
       "0          1    8437.673028         42               высшее             0   \n",
       "1          1    4024.803754         36              среднее             1   \n",
       "2          0    5623.422610         33              Среднее             1   \n",
       "3          3    4124.747207         32              среднее             1   \n",
       "4          0   14177.753002         53              среднее             1   \n",
       "5          0     926.185831         27               высшее             0   \n",
       "6          0    2879.202052         43               высшее             0   \n",
       "7          0     152.779569         50              СРЕДНЕЕ             1   \n",
       "8          2    6929.865299         35               ВЫСШЕЕ             0   \n",
       "9          0    2188.756445         41              среднее             1   \n",
       "10         2    4171.483647         36               высшее             0   \n",
       "11         0     792.701887         40              среднее             1   \n",
       "12         0            NaN         65              среднее             1   \n",
       "13         0    1846.641941         54  неоконченное высшее             2   \n",
       "14         0    1844.956182         56               высшее             0   \n",
       "15         1     972.364419         26              среднее             1   \n",
       "16         0    1719.934226         35              среднее             1   \n",
       "17         0    2369.999720         33               высшее             0   \n",
       "18         0   16678.380705         53              среднее             1   \n",
       "19         0   10038.818549         48              СРЕДНЕЕ             1   \n",
       "\n",
       "       family_status  family_status_id gender income_type  debt  \\\n",
       "0    женат / замужем                 0      F   сотрудник     0   \n",
       "1    женат / замужем                 0      F   сотрудник     0   \n",
       "2    женат / замужем                 0      M   сотрудник     0   \n",
       "3    женат / замужем                 0      M   сотрудник     0   \n",
       "4   гражданский брак                 1      F   пенсионер     0   \n",
       "5   гражданский брак                 1      M   компаньон     0   \n",
       "6    женат / замужем                 0      F   компаньон     0   \n",
       "7    женат / замужем                 0      M   сотрудник     0   \n",
       "8   гражданский брак                 1      F   сотрудник     0   \n",
       "9    женат / замужем                 0      M   сотрудник     0   \n",
       "10   женат / замужем                 0      M   компаньон     0   \n",
       "11   женат / замужем                 0      F   сотрудник     0   \n",
       "12  гражданский брак                 1      M   пенсионер     0   \n",
       "13   женат / замужем                 0      F   сотрудник     0   \n",
       "14  гражданский брак                 1      F   компаньон     1   \n",
       "15   женат / замужем                 0      F   сотрудник     0   \n",
       "16   женат / замужем                 0      F   сотрудник     0   \n",
       "17  гражданский брак                 1      M   сотрудник     0   \n",
       "18    вдовец / вдова                 2      F   пенсионер     0   \n",
       "19         в разводе                 3      F   сотрудник     0   \n",
       "\n",
       "     total_income                                 purpose  \n",
       "0   253875.639453                           покупка жилья  \n",
       "1   112080.014102                 приобретение автомобиля  \n",
       "2   145885.952297                           покупка жилья  \n",
       "3   267628.550329              дополнительное образование  \n",
       "4   158616.077870                         сыграть свадьбу  \n",
       "5   255763.565419                           покупка жилья  \n",
       "6   240525.971920                       операции с жильем  \n",
       "7   135823.934197                             образование  \n",
       "8    95856.832424                   на проведение свадьбы  \n",
       "9   144425.938277                 покупка жилья для семьи  \n",
       "10  113943.491460                    покупка недвижимости  \n",
       "11   77069.234271       покупка коммерческой недвижимости  \n",
       "12            NaN                         сыграть свадьбу  \n",
       "13  130458.228857                 приобретение автомобиля  \n",
       "14  165127.911772              покупка жилой недвижимости  \n",
       "15  116820.904450  строительство собственной недвижимости  \n",
       "16  289202.704229                            недвижимость  \n",
       "17   90410.586745              строительство недвижимости  \n",
       "18   56823.777243      на покупку подержанного автомобиля  \n",
       "19  242831.107982            на покупку своего автомобиля  "
      ]
     },
     "execution_count": 16,
     "metadata": {},
     "output_type": "execute_result"
    }
   ],
   "source": [
    "#сначала переводим часы (положительные значения) в дни\n",
    "df.loc[df['days_employed'] > 0, 'days_employed'] = df['days_employed'] / 24\n",
    "# теперь убираем минус из значений\n",
    "df['days_employed'] = df['days_employed'].abs()\n",
    "# проверяем\n",
    "df.head(20)"
   ]
  },
  {
   "cell_type": "markdown",
   "metadata": {},
   "source": [
    "Чтобы заполнить пропуски в 'days_employed', сгруппируем данные по 'income_type' и 'children'. Логика в следующем. Тип занятости может меняться с возрастом: пенсионер явно соответствует старшему возрасту, чтобы из сотрудника перерасти в компаньона (если я правильно понимаю что это) - тоже требуется время. Также и с рождением детей - наличие 3х детей указывает косвенно на больший возраст. Связи, конечно, опосредованные - предпринимателю может быть 18, а без детей можно прожить всю жизнь, но все равно это кажется несколько точнее, чем медиана по столбцу"
   ]
  },
  {
   "cell_type": "code",
   "execution_count": 17,
   "metadata": {},
   "outputs": [
    {
     "data": {
      "text/html": [
       "<div>\n",
       "<style scoped>\n",
       "    .dataframe tbody tr th:only-of-type {\n",
       "        vertical-align: middle;\n",
       "    }\n",
       "\n",
       "    .dataframe tbody tr th {\n",
       "        vertical-align: top;\n",
       "    }\n",
       "\n",
       "    .dataframe thead th {\n",
       "        text-align: right;\n",
       "    }\n",
       "</style>\n",
       "<table border=\"1\" class=\"dataframe\">\n",
       "  <thead>\n",
       "    <tr style=\"text-align: right;\">\n",
       "      <th></th>\n",
       "      <th>children</th>\n",
       "      <th>days_employed</th>\n",
       "      <th>dob_years</th>\n",
       "      <th>education</th>\n",
       "      <th>education_id</th>\n",
       "      <th>family_status</th>\n",
       "      <th>family_status_id</th>\n",
       "      <th>gender</th>\n",
       "      <th>income_type</th>\n",
       "      <th>debt</th>\n",
       "      <th>total_income</th>\n",
       "      <th>purpose</th>\n",
       "      <th>med_dob_years</th>\n",
       "    </tr>\n",
       "  </thead>\n",
       "  <tbody>\n",
       "    <tr>\n",
       "      <td>853</td>\n",
       "      <td>1</td>\n",
       "      <td>162.936952</td>\n",
       "      <td>0</td>\n",
       "      <td>среднее</td>\n",
       "      <td>1</td>\n",
       "      <td>гражданский брак</td>\n",
       "      <td>1</td>\n",
       "      <td>F</td>\n",
       "      <td>сотрудник</td>\n",
       "      <td>0</td>\n",
       "      <td>106956.800302</td>\n",
       "      <td>на покупку автомобиля</td>\n",
       "      <td>37.0</td>\n",
       "    </tr>\n",
       "    <tr>\n",
       "      <td>963</td>\n",
       "      <td>1</td>\n",
       "      <td>731.396794</td>\n",
       "      <td>0</td>\n",
       "      <td>высшее</td>\n",
       "      <td>0</td>\n",
       "      <td>в разводе</td>\n",
       "      <td>3</td>\n",
       "      <td>F</td>\n",
       "      <td>сотрудник</td>\n",
       "      <td>0</td>\n",
       "      <td>247540.528218</td>\n",
       "      <td>покупка жилья</td>\n",
       "      <td>37.0</td>\n",
       "    </tr>\n",
       "    <tr>\n",
       "      <td>966</td>\n",
       "      <td>1</td>\n",
       "      <td>260.992722</td>\n",
       "      <td>0</td>\n",
       "      <td>неоконченное высшее</td>\n",
       "      <td>2</td>\n",
       "      <td>гражданский брак</td>\n",
       "      <td>1</td>\n",
       "      <td>F</td>\n",
       "      <td>сотрудник</td>\n",
       "      <td>0</td>\n",
       "      <td>128246.646591</td>\n",
       "      <td>покупка недвижимости</td>\n",
       "      <td>37.0</td>\n",
       "    </tr>\n",
       "    <tr>\n",
       "      <td>1263</td>\n",
       "      <td>1</td>\n",
       "      <td>1720.866870</td>\n",
       "      <td>0</td>\n",
       "      <td>среднее</td>\n",
       "      <td>1</td>\n",
       "      <td>женат / замужем</td>\n",
       "      <td>0</td>\n",
       "      <td>F</td>\n",
       "      <td>сотрудник</td>\n",
       "      <td>0</td>\n",
       "      <td>220298.348654</td>\n",
       "      <td>профильное образование</td>\n",
       "      <td>37.0</td>\n",
       "    </tr>\n",
       "    <tr>\n",
       "      <td>1441</td>\n",
       "      <td>1</td>\n",
       "      <td>1605.506161</td>\n",
       "      <td>0</td>\n",
       "      <td>высшее</td>\n",
       "      <td>0</td>\n",
       "      <td>женат / замужем</td>\n",
       "      <td>0</td>\n",
       "      <td>F</td>\n",
       "      <td>сотрудник</td>\n",
       "      <td>0</td>\n",
       "      <td>153478.301459</td>\n",
       "      <td>сделка с подержанным автомобилем</td>\n",
       "      <td>37.0</td>\n",
       "    </tr>\n",
       "    <tr>\n",
       "      <td>1464</td>\n",
       "      <td>1</td>\n",
       "      <td>908.172637</td>\n",
       "      <td>0</td>\n",
       "      <td>среднее</td>\n",
       "      <td>1</td>\n",
       "      <td>женат / замужем</td>\n",
       "      <td>0</td>\n",
       "      <td>M</td>\n",
       "      <td>сотрудник</td>\n",
       "      <td>0</td>\n",
       "      <td>158458.734055</td>\n",
       "      <td>жилье</td>\n",
       "      <td>37.0</td>\n",
       "    </tr>\n",
       "    <tr>\n",
       "      <td>1552</td>\n",
       "      <td>1</td>\n",
       "      <td>223.709545</td>\n",
       "      <td>0</td>\n",
       "      <td>неоконченное высшее</td>\n",
       "      <td>2</td>\n",
       "      <td>гражданский брак</td>\n",
       "      <td>1</td>\n",
       "      <td>M</td>\n",
       "      <td>сотрудник</td>\n",
       "      <td>0</td>\n",
       "      <td>256070.541695</td>\n",
       "      <td>сыграть свадьбу</td>\n",
       "      <td>37.0</td>\n",
       "    </tr>\n",
       "    <tr>\n",
       "      <td>1678</td>\n",
       "      <td>1</td>\n",
       "      <td>1015.395451</td>\n",
       "      <td>0</td>\n",
       "      <td>среднее</td>\n",
       "      <td>1</td>\n",
       "      <td>Не женат / не замужем</td>\n",
       "      <td>4</td>\n",
       "      <td>M</td>\n",
       "      <td>сотрудник</td>\n",
       "      <td>1</td>\n",
       "      <td>107342.751020</td>\n",
       "      <td>покупка жилья</td>\n",
       "      <td>37.0</td>\n",
       "    </tr>\n",
       "    <tr>\n",
       "      <td>1841</td>\n",
       "      <td>1</td>\n",
       "      <td>3208.732719</td>\n",
       "      <td>0</td>\n",
       "      <td>высшее</td>\n",
       "      <td>0</td>\n",
       "      <td>гражданский брак</td>\n",
       "      <td>1</td>\n",
       "      <td>F</td>\n",
       "      <td>сотрудник</td>\n",
       "      <td>0</td>\n",
       "      <td>91924.300059</td>\n",
       "      <td>на проведение свадьбы</td>\n",
       "      <td>37.0</td>\n",
       "    </tr>\n",
       "    <tr>\n",
       "      <td>1902</td>\n",
       "      <td>1</td>\n",
       "      <td>1018.525283</td>\n",
       "      <td>0</td>\n",
       "      <td>среднее</td>\n",
       "      <td>1</td>\n",
       "      <td>женат / замужем</td>\n",
       "      <td>0</td>\n",
       "      <td>F</td>\n",
       "      <td>сотрудник</td>\n",
       "      <td>1</td>\n",
       "      <td>155341.706429</td>\n",
       "      <td>свой автомобиль</td>\n",
       "      <td>37.0</td>\n",
       "    </tr>\n",
       "    <tr>\n",
       "      <td>2337</td>\n",
       "      <td>1</td>\n",
       "      <td>1524.869300</td>\n",
       "      <td>0</td>\n",
       "      <td>среднее</td>\n",
       "      <td>1</td>\n",
       "      <td>женат / замужем</td>\n",
       "      <td>0</td>\n",
       "      <td>F</td>\n",
       "      <td>сотрудник</td>\n",
       "      <td>0</td>\n",
       "      <td>109923.399907</td>\n",
       "      <td>автомобили</td>\n",
       "      <td>37.0</td>\n",
       "    </tr>\n",
       "    <tr>\n",
       "      <td>2961</td>\n",
       "      <td>0</td>\n",
       "      <td>2664.273168</td>\n",
       "      <td>0</td>\n",
       "      <td>среднее</td>\n",
       "      <td>1</td>\n",
       "      <td>в разводе</td>\n",
       "      <td>3</td>\n",
       "      <td>F</td>\n",
       "      <td>сотрудник</td>\n",
       "      <td>0</td>\n",
       "      <td>70176.435951</td>\n",
       "      <td>операции с жильем</td>\n",
       "      <td>43.0</td>\n",
       "    </tr>\n",
       "    <tr>\n",
       "      <td>3474</td>\n",
       "      <td>0</td>\n",
       "      <td>NaN</td>\n",
       "      <td>0</td>\n",
       "      <td>высшее</td>\n",
       "      <td>0</td>\n",
       "      <td>Не женат / не замужем</td>\n",
       "      <td>4</td>\n",
       "      <td>F</td>\n",
       "      <td>сотрудник</td>\n",
       "      <td>0</td>\n",
       "      <td>NaN</td>\n",
       "      <td>жилье</td>\n",
       "      <td>43.0</td>\n",
       "    </tr>\n",
       "    <tr>\n",
       "      <td>3539</td>\n",
       "      <td>0</td>\n",
       "      <td>10689.250498</td>\n",
       "      <td>0</td>\n",
       "      <td>среднее</td>\n",
       "      <td>1</td>\n",
       "      <td>женат / замужем</td>\n",
       "      <td>0</td>\n",
       "      <td>F</td>\n",
       "      <td>сотрудник</td>\n",
       "      <td>0</td>\n",
       "      <td>386373.636958</td>\n",
       "      <td>операции с недвижимостью</td>\n",
       "      <td>43.0</td>\n",
       "    </tr>\n",
       "    <tr>\n",
       "      <td>3644</td>\n",
       "      <td>0</td>\n",
       "      <td>794.876230</td>\n",
       "      <td>0</td>\n",
       "      <td>среднее</td>\n",
       "      <td>1</td>\n",
       "      <td>гражданский брак</td>\n",
       "      <td>1</td>\n",
       "      <td>F</td>\n",
       "      <td>сотрудник</td>\n",
       "      <td>0</td>\n",
       "      <td>95967.700317</td>\n",
       "      <td>сыграть свадьбу</td>\n",
       "      <td>43.0</td>\n",
       "    </tr>\n",
       "    <tr>\n",
       "      <td>3648</td>\n",
       "      <td>0</td>\n",
       "      <td>2497.754414</td>\n",
       "      <td>0</td>\n",
       "      <td>среднее</td>\n",
       "      <td>1</td>\n",
       "      <td>женат / замужем</td>\n",
       "      <td>0</td>\n",
       "      <td>F</td>\n",
       "      <td>сотрудник</td>\n",
       "      <td>1</td>\n",
       "      <td>91367.005172</td>\n",
       "      <td>недвижимость</td>\n",
       "      <td>43.0</td>\n",
       "    </tr>\n",
       "    <tr>\n",
       "      <td>3989</td>\n",
       "      <td>0</td>\n",
       "      <td>4288.714410</td>\n",
       "      <td>0</td>\n",
       "      <td>среднее</td>\n",
       "      <td>1</td>\n",
       "      <td>в разводе</td>\n",
       "      <td>3</td>\n",
       "      <td>F</td>\n",
       "      <td>сотрудник</td>\n",
       "      <td>0</td>\n",
       "      <td>191033.656419</td>\n",
       "      <td>автомобили</td>\n",
       "      <td>43.0</td>\n",
       "    </tr>\n",
       "    <tr>\n",
       "      <td>4107</td>\n",
       "      <td>0</td>\n",
       "      <td>3549.117333</td>\n",
       "      <td>0</td>\n",
       "      <td>среднее</td>\n",
       "      <td>1</td>\n",
       "      <td>в разводе</td>\n",
       "      <td>3</td>\n",
       "      <td>M</td>\n",
       "      <td>сотрудник</td>\n",
       "      <td>0</td>\n",
       "      <td>108130.933212</td>\n",
       "      <td>покупка жилой недвижимости</td>\n",
       "      <td>43.0</td>\n",
       "    </tr>\n",
       "    <tr>\n",
       "      <td>4939</td>\n",
       "      <td>0</td>\n",
       "      <td>1478.092467</td>\n",
       "      <td>0</td>\n",
       "      <td>высшее</td>\n",
       "      <td>0</td>\n",
       "      <td>Не женат / не замужем</td>\n",
       "      <td>4</td>\n",
       "      <td>F</td>\n",
       "      <td>сотрудник</td>\n",
       "      <td>0</td>\n",
       "      <td>157362.970952</td>\n",
       "      <td>получение высшего образования</td>\n",
       "      <td>43.0</td>\n",
       "    </tr>\n",
       "    <tr>\n",
       "      <td>5046</td>\n",
       "      <td>0</td>\n",
       "      <td>1570.420460</td>\n",
       "      <td>0</td>\n",
       "      <td>среднее</td>\n",
       "      <td>1</td>\n",
       "      <td>гражданский брак</td>\n",
       "      <td>1</td>\n",
       "      <td>F</td>\n",
       "      <td>сотрудник</td>\n",
       "      <td>0</td>\n",
       "      <td>119958.933508</td>\n",
       "      <td>на проведение свадьбы</td>\n",
       "      <td>43.0</td>\n",
       "    </tr>\n",
       "  </tbody>\n",
       "</table>\n",
       "</div>"
      ],
      "text/plain": [
       "      children  days_employed  dob_years            education  education_id  \\\n",
       "853          1     162.936952          0              среднее             1   \n",
       "963          1     731.396794          0               высшее             0   \n",
       "966          1     260.992722          0  неоконченное высшее             2   \n",
       "1263         1    1720.866870          0              среднее             1   \n",
       "1441         1    1605.506161          0               высшее             0   \n",
       "1464         1     908.172637          0              среднее             1   \n",
       "1552         1     223.709545          0  неоконченное высшее             2   \n",
       "1678         1    1015.395451          0              среднее             1   \n",
       "1841         1    3208.732719          0               высшее             0   \n",
       "1902         1    1018.525283          0              среднее             1   \n",
       "2337         1    1524.869300          0              среднее             1   \n",
       "2961         0    2664.273168          0              среднее             1   \n",
       "3474         0            NaN          0               высшее             0   \n",
       "3539         0   10689.250498          0              среднее             1   \n",
       "3644         0     794.876230          0              среднее             1   \n",
       "3648         0    2497.754414          0              среднее             1   \n",
       "3989         0    4288.714410          0              среднее             1   \n",
       "4107         0    3549.117333          0              среднее             1   \n",
       "4939         0    1478.092467          0               высшее             0   \n",
       "5046         0    1570.420460          0              среднее             1   \n",
       "\n",
       "              family_status  family_status_id gender income_type  debt  \\\n",
       "853        гражданский брак                 1      F   сотрудник     0   \n",
       "963               в разводе                 3      F   сотрудник     0   \n",
       "966        гражданский брак                 1      F   сотрудник     0   \n",
       "1263        женат / замужем                 0      F   сотрудник     0   \n",
       "1441        женат / замужем                 0      F   сотрудник     0   \n",
       "1464        женат / замужем                 0      M   сотрудник     0   \n",
       "1552       гражданский брак                 1      M   сотрудник     0   \n",
       "1678  Не женат / не замужем                 4      M   сотрудник     1   \n",
       "1841       гражданский брак                 1      F   сотрудник     0   \n",
       "1902        женат / замужем                 0      F   сотрудник     1   \n",
       "2337        женат / замужем                 0      F   сотрудник     0   \n",
       "2961              в разводе                 3      F   сотрудник     0   \n",
       "3474  Не женат / не замужем                 4      F   сотрудник     0   \n",
       "3539        женат / замужем                 0      F   сотрудник     0   \n",
       "3644       гражданский брак                 1      F   сотрудник     0   \n",
       "3648        женат / замужем                 0      F   сотрудник     1   \n",
       "3989              в разводе                 3      F   сотрудник     0   \n",
       "4107              в разводе                 3      M   сотрудник     0   \n",
       "4939  Не женат / не замужем                 4      F   сотрудник     0   \n",
       "5046       гражданский брак                 1      F   сотрудник     0   \n",
       "\n",
       "       total_income                           purpose  med_dob_years  \n",
       "853   106956.800302             на покупку автомобиля           37.0  \n",
       "963   247540.528218                     покупка жилья           37.0  \n",
       "966   128246.646591              покупка недвижимости           37.0  \n",
       "1263  220298.348654            профильное образование           37.0  \n",
       "1441  153478.301459  сделка с подержанным автомобилем           37.0  \n",
       "1464  158458.734055                             жилье           37.0  \n",
       "1552  256070.541695                   сыграть свадьбу           37.0  \n",
       "1678  107342.751020                     покупка жилья           37.0  \n",
       "1841   91924.300059             на проведение свадьбы           37.0  \n",
       "1902  155341.706429                   свой автомобиль           37.0  \n",
       "2337  109923.399907                        автомобили           37.0  \n",
       "2961   70176.435951                 операции с жильем           43.0  \n",
       "3474            NaN                             жилье           43.0  \n",
       "3539  386373.636958          операции с недвижимостью           43.0  \n",
       "3644   95967.700317                   сыграть свадьбу           43.0  \n",
       "3648   91367.005172                      недвижимость           43.0  \n",
       "3989  191033.656419                        автомобили           43.0  \n",
       "4107  108130.933212        покупка жилой недвижимости           43.0  \n",
       "4939  157362.970952     получение высшего образования           43.0  \n",
       "5046  119958.933508             на проведение свадьбы           43.0  "
      ]
     },
     "execution_count": 17,
     "metadata": {},
     "output_type": "execute_result"
    }
   ],
   "source": [
    "#создадим фрейм с группированными значениями\n",
    "group_age = df.groupby(['income_type', 'children']).agg({'dob_years': 'median'}).rename(columns = {'dob_years': 'med_dob_years'})\n",
    "#дополняем исходный фрейм этими данными\n",
    "df = df.merge(group_age, on = ['income_type', 'children'])\n",
    "#проверяем, что получилась дополнительная колонка 'median_dob_years'\n",
    "df[df['dob_years'] == 0].head(20)"
   ]
  },
  {
   "cell_type": "code",
   "execution_count": 18,
   "metadata": {},
   "outputs": [
    {
     "data": {
      "text/plain": [
       "0"
      ]
     },
     "execution_count": 18,
     "metadata": {},
     "output_type": "execute_result"
    }
   ],
   "source": [
    "#переносим в нулевые ячейки dob_years медианные значения\n",
    "df.loc[df['dob_years'] == 0, 'dob_years'] = df.loc[df['dob_years'] == 0, 'med_dob_years']\n",
    "#проверяем\n",
    "df.loc[df['dob_years'] == 0]['dob_years'].count()"
   ]
  },
  {
   "cell_type": "code",
   "execution_count": 19,
   "metadata": {},
   "outputs": [
    {
     "data": {
      "text/html": [
       "<div>\n",
       "<style scoped>\n",
       "    .dataframe tbody tr th:only-of-type {\n",
       "        vertical-align: middle;\n",
       "    }\n",
       "\n",
       "    .dataframe tbody tr th {\n",
       "        vertical-align: top;\n",
       "    }\n",
       "\n",
       "    .dataframe thead th {\n",
       "        text-align: right;\n",
       "    }\n",
       "</style>\n",
       "<table border=\"1\" class=\"dataframe\">\n",
       "  <thead>\n",
       "    <tr style=\"text-align: right;\">\n",
       "      <th></th>\n",
       "      <th>children</th>\n",
       "      <th>days_employed</th>\n",
       "      <th>dob_years</th>\n",
       "      <th>education</th>\n",
       "      <th>education_id</th>\n",
       "      <th>family_status</th>\n",
       "      <th>family_status_id</th>\n",
       "      <th>gender</th>\n",
       "      <th>income_type</th>\n",
       "      <th>debt</th>\n",
       "      <th>total_income</th>\n",
       "      <th>purpose</th>\n",
       "      <th>med_dob_years</th>\n",
       "      <th>median_days_employed</th>\n",
       "    </tr>\n",
       "  </thead>\n",
       "  <tbody>\n",
       "    <tr>\n",
       "      <td>18</td>\n",
       "      <td>1</td>\n",
       "      <td>NaN</td>\n",
       "      <td>42.0</td>\n",
       "      <td>среднее</td>\n",
       "      <td>1</td>\n",
       "      <td>в разводе</td>\n",
       "      <td>3</td>\n",
       "      <td>F</td>\n",
       "      <td>сотрудник</td>\n",
       "      <td>0</td>\n",
       "      <td>NaN</td>\n",
       "      <td>недвижимость</td>\n",
       "      <td>37.0</td>\n",
       "      <td>1957.465867</td>\n",
       "    </tr>\n",
       "    <tr>\n",
       "      <td>21</td>\n",
       "      <td>1</td>\n",
       "      <td>NaN</td>\n",
       "      <td>42.0</td>\n",
       "      <td>среднее</td>\n",
       "      <td>1</td>\n",
       "      <td>женат / замужем</td>\n",
       "      <td>0</td>\n",
       "      <td>F</td>\n",
       "      <td>сотрудник</td>\n",
       "      <td>0</td>\n",
       "      <td>NaN</td>\n",
       "      <td>операции с недвижимостью</td>\n",
       "      <td>37.0</td>\n",
       "      <td>1957.465867</td>\n",
       "    </tr>\n",
       "    <tr>\n",
       "      <td>32</td>\n",
       "      <td>1</td>\n",
       "      <td>NaN</td>\n",
       "      <td>42.0</td>\n",
       "      <td>среднее</td>\n",
       "      <td>1</td>\n",
       "      <td>женат / замужем</td>\n",
       "      <td>0</td>\n",
       "      <td>F</td>\n",
       "      <td>сотрудник</td>\n",
       "      <td>1</td>\n",
       "      <td>NaN</td>\n",
       "      <td>получение дополнительного образования</td>\n",
       "      <td>37.0</td>\n",
       "      <td>1957.465867</td>\n",
       "    </tr>\n",
       "    <tr>\n",
       "      <td>50</td>\n",
       "      <td>1</td>\n",
       "      <td>NaN</td>\n",
       "      <td>42.0</td>\n",
       "      <td>среднее</td>\n",
       "      <td>1</td>\n",
       "      <td>женат / замужем</td>\n",
       "      <td>0</td>\n",
       "      <td>M</td>\n",
       "      <td>сотрудник</td>\n",
       "      <td>0</td>\n",
       "      <td>NaN</td>\n",
       "      <td>недвижимость</td>\n",
       "      <td>37.0</td>\n",
       "      <td>1957.465867</td>\n",
       "    </tr>\n",
       "    <tr>\n",
       "      <td>51</td>\n",
       "      <td>1</td>\n",
       "      <td>NaN</td>\n",
       "      <td>42.0</td>\n",
       "      <td>среднее</td>\n",
       "      <td>1</td>\n",
       "      <td>женат / замужем</td>\n",
       "      <td>0</td>\n",
       "      <td>M</td>\n",
       "      <td>сотрудник</td>\n",
       "      <td>0</td>\n",
       "      <td>NaN</td>\n",
       "      <td>покупка жилья</td>\n",
       "      <td>37.0</td>\n",
       "      <td>1957.465867</td>\n",
       "    </tr>\n",
       "  </tbody>\n",
       "</table>\n",
       "</div>"
      ],
      "text/plain": [
       "    children  days_employed  dob_years education  education_id  \\\n",
       "18         1            NaN       42.0   среднее             1   \n",
       "21         1            NaN       42.0   среднее             1   \n",
       "32         1            NaN       42.0   среднее             1   \n",
       "50         1            NaN       42.0   среднее             1   \n",
       "51         1            NaN       42.0   среднее             1   \n",
       "\n",
       "      family_status  family_status_id gender income_type  debt  total_income  \\\n",
       "18        в разводе                 3      F   сотрудник     0           NaN   \n",
       "21  женат / замужем                 0      F   сотрудник     0           NaN   \n",
       "32  женат / замужем                 0      F   сотрудник     1           NaN   \n",
       "50  женат / замужем                 0      M   сотрудник     0           NaN   \n",
       "51  женат / замужем                 0      M   сотрудник     0           NaN   \n",
       "\n",
       "                                  purpose  med_dob_years  median_days_employed  \n",
       "18                           недвижимость           37.0           1957.465867  \n",
       "21               операции с недвижимостью           37.0           1957.465867  \n",
       "32  получение дополнительного образования           37.0           1957.465867  \n",
       "50                           недвижимость           37.0           1957.465867  \n",
       "51                          покупка жилья           37.0           1957.465867  "
      ]
     },
     "execution_count": 19,
     "metadata": {},
     "output_type": "execute_result"
    }
   ],
   "source": [
    "#теперь собственно заполним аналогично стаж по возрасту и типу занятости\n",
    "group_med_emp = (df.groupby(['income_type', 'dob_years']).agg({'days_employed': 'median'}).\n",
    "                  rename(columns = {'days_employed': 'median_days_employed'}))\n",
    "#дополняем исходный фрейм этими данными\n",
    "df = df.merge(group_med_emp, on = ['dob_years', 'income_type'])\n",
    "#проверяем таблицу\n",
    "df.loc[df['days_employed'].isna()].head()"
   ]
  },
  {
   "cell_type": "code",
   "execution_count": 20,
   "metadata": {},
   "outputs": [
    {
     "data": {
      "text/html": [
       "<div>\n",
       "<style scoped>\n",
       "    .dataframe tbody tr th:only-of-type {\n",
       "        vertical-align: middle;\n",
       "    }\n",
       "\n",
       "    .dataframe tbody tr th {\n",
       "        vertical-align: top;\n",
       "    }\n",
       "\n",
       "    .dataframe thead th {\n",
       "        text-align: right;\n",
       "    }\n",
       "</style>\n",
       "<table border=\"1\" class=\"dataframe\">\n",
       "  <thead>\n",
       "    <tr style=\"text-align: right;\">\n",
       "      <th></th>\n",
       "      <th>children</th>\n",
       "      <th>days_employed</th>\n",
       "      <th>dob_years</th>\n",
       "      <th>education</th>\n",
       "      <th>education_id</th>\n",
       "      <th>family_status</th>\n",
       "      <th>family_status_id</th>\n",
       "      <th>gender</th>\n",
       "      <th>income_type</th>\n",
       "      <th>debt</th>\n",
       "      <th>total_income</th>\n",
       "      <th>purpose</th>\n",
       "      <th>med_dob_years</th>\n",
       "      <th>median_days_employed</th>\n",
       "    </tr>\n",
       "  </thead>\n",
       "  <tbody>\n",
       "    <tr>\n",
       "      <td>14953</td>\n",
       "      <td>0</td>\n",
       "      <td>NaN</td>\n",
       "      <td>24.0</td>\n",
       "      <td>среднее</td>\n",
       "      <td>1</td>\n",
       "      <td>женат / замужем</td>\n",
       "      <td>0</td>\n",
       "      <td>F</td>\n",
       "      <td>пенсионер</td>\n",
       "      <td>0</td>\n",
       "      <td>NaN</td>\n",
       "      <td>покупка своего жилья</td>\n",
       "      <td>60.0</td>\n",
       "      <td>NaN</td>\n",
       "    </tr>\n",
       "    <tr>\n",
       "      <td>20056</td>\n",
       "      <td>0</td>\n",
       "      <td>NaN</td>\n",
       "      <td>69.0</td>\n",
       "      <td>высшее</td>\n",
       "      <td>0</td>\n",
       "      <td>Не женат / не замужем</td>\n",
       "      <td>4</td>\n",
       "      <td>F</td>\n",
       "      <td>компаньон</td>\n",
       "      <td>0</td>\n",
       "      <td>NaN</td>\n",
       "      <td>автомобили</td>\n",
       "      <td>42.0</td>\n",
       "      <td>NaN</td>\n",
       "    </tr>\n",
       "    <tr>\n",
       "      <td>21518</td>\n",
       "      <td>2</td>\n",
       "      <td>NaN</td>\n",
       "      <td>31.0</td>\n",
       "      <td>среднее</td>\n",
       "      <td>1</td>\n",
       "      <td>гражданский брак</td>\n",
       "      <td>1</td>\n",
       "      <td>F</td>\n",
       "      <td>пенсионер</td>\n",
       "      <td>0</td>\n",
       "      <td>NaN</td>\n",
       "      <td>свадьба</td>\n",
       "      <td>55.0</td>\n",
       "      <td>NaN</td>\n",
       "    </tr>\n",
       "    <tr>\n",
       "      <td>21520</td>\n",
       "      <td>0</td>\n",
       "      <td>NaN</td>\n",
       "      <td>58.0</td>\n",
       "      <td>высшее</td>\n",
       "      <td>0</td>\n",
       "      <td>женат / замужем</td>\n",
       "      <td>0</td>\n",
       "      <td>M</td>\n",
       "      <td>предприниматель</td>\n",
       "      <td>0</td>\n",
       "      <td>NaN</td>\n",
       "      <td>покупка жилой недвижимости</td>\n",
       "      <td>42.5</td>\n",
       "      <td>NaN</td>\n",
       "    </tr>\n",
       "  </tbody>\n",
       "</table>\n",
       "</div>"
      ],
      "text/plain": [
       "       children  days_employed  dob_years education  education_id  \\\n",
       "14953         0            NaN       24.0   среднее             1   \n",
       "20056         0            NaN       69.0    высшее             0   \n",
       "21518         2            NaN       31.0   среднее             1   \n",
       "21520         0            NaN       58.0    высшее             0   \n",
       "\n",
       "               family_status  family_status_id gender      income_type  debt  \\\n",
       "14953        женат / замужем                 0      F        пенсионер     0   \n",
       "20056  Не женат / не замужем                 4      F        компаньон     0   \n",
       "21518       гражданский брак                 1      F        пенсионер     0   \n",
       "21520        женат / замужем                 0      M  предприниматель     0   \n",
       "\n",
       "       total_income                     purpose  med_dob_years  \\\n",
       "14953           NaN        покупка своего жилья           60.0   \n",
       "20056           NaN                  автомобили           42.0   \n",
       "21518           NaN                     свадьба           55.0   \n",
       "21520           NaN  покупка жилой недвижимости           42.5   \n",
       "\n",
       "       median_days_employed  \n",
       "14953                   NaN  \n",
       "20056                   NaN  \n",
       "21518                   NaN  \n",
       "21520                   NaN  "
      ]
     },
     "execution_count": 20,
     "metadata": {},
     "output_type": "execute_result"
    }
   ],
   "source": [
    "#переносим в пустые ячейки 'days_employed' значения 'median_days_employed'\n",
    "df.loc[df['days_employed'].isna(), 'days_employed'] = df.loc[df['days_employed'].isna(), 'median_days_employed']\n",
    "#проверяем пропуски\n",
    "df.loc[df['days_employed'].isna()]"
   ]
  },
  {
   "cell_type": "markdown",
   "metadata": {},
   "source": [
    "Остались 4 пустых значения, которые, видимо, не были отнесены при группировке к одной из групп. Заполним медианой"
   ]
  },
  {
   "cell_type": "code",
   "execution_count": 22,
   "metadata": {},
   "outputs": [
    {
     "data": {
      "text/plain": [
       "0"
      ]
     },
     "execution_count": 22,
     "metadata": {},
     "output_type": "execute_result"
    }
   ],
   "source": [
    "df.loc[df['days_employed'].isna(), 'days_employed'] = df['days_employed'].median()\n",
    "df['days_employed'].isna().sum()"
   ]
  },
  {
   "cell_type": "markdown",
   "metadata": {},
   "source": [
    "Проводим аналогичные операции для стобца 'total_income'. На этот раз группируем по образованию и типу занятости"
   ]
  },
  {
   "cell_type": "code",
   "execution_count": 23,
   "metadata": {},
   "outputs": [
    {
     "data": {
      "text/plain": [
       "0"
      ]
     },
     "execution_count": 23,
     "metadata": {},
     "output_type": "execute_result"
    }
   ],
   "source": [
    "#создадим фрейм с группированными значениями\n",
    "group_med_inc = (df.groupby(['income_type', 'education_id']).agg({'total_income': 'median'}).\n",
    "                  rename(columns = {'total_income': 'median_total_income'}))\n",
    "#дополняем исходный фрейм этими данными\n",
    "df = df.merge(group_med_inc, on = ['income_type', 'education_id'])\n",
    "#переносим в пустые ячейки 'total_income' значения 'median_total_income'\n",
    "df.loc[df['total_income'].isna(), 'total_income'] = df.loc[df['total_income'].isna(), 'median_total_income']\n",
    "#проверяем пропуски\n",
    "df['total_income'].isna().sum()"
   ]
  },
  {
   "cell_type": "markdown",
   "metadata": {},
   "source": [
    "**Вывод**"
   ]
  },
  {
   "cell_type": "markdown",
   "metadata": {},
   "source": [
    "Данные в days_empolyed приведены к одному виду значений, все пропуски в таблице заполнены медианными значениями для тех групп, которые нам нужны для анализа."
   ]
  },
  {
   "cell_type": "markdown",
   "metadata": {},
   "source": [
    "### Замена типа данных"
   ]
  },
  {
   "cell_type": "markdown",
   "metadata": {},
   "source": [
    "'days_employed' должен иметь целочисленные значения, раз измеряется в целых днях. Надо перевести значения столбца из float в int. Метод to_numeric() здесь не подходит, но подойдет astype()"
   ]
  },
  {
   "cell_type": "code",
   "execution_count": 24,
   "metadata": {},
   "outputs": [
    {
     "name": "stdout",
     "output_type": "stream",
     "text": [
      "<class 'pandas.core.frame.DataFrame'>\n",
      "Int64Index: 21525 entries, 0 to 21524\n",
      "Data columns (total 15 columns):\n",
      "children                21525 non-null int64\n",
      "days_employed           21525 non-null int64\n",
      "dob_years               21525 non-null float64\n",
      "education               21525 non-null object\n",
      "education_id            21525 non-null int64\n",
      "family_status           21525 non-null object\n",
      "family_status_id        21525 non-null int64\n",
      "gender                  21525 non-null object\n",
      "income_type             21525 non-null object\n",
      "debt                    21525 non-null int64\n",
      "total_income            21525 non-null int64\n",
      "purpose                 21525 non-null object\n",
      "med_dob_years           21525 non-null float64\n",
      "median_days_employed    21521 non-null float64\n",
      "median_total_income     21525 non-null float64\n",
      "dtypes: float64(4), int64(6), object(5)\n",
      "memory usage: 2.6+ MB\n"
     ]
    }
   ],
   "source": [
    "#переводим в int\n",
    "df['days_employed'] = df['days_employed'].astype(int)\n",
    "df['total_income'] = df['total_income'].astype(int)\n",
    "#проверяем\n",
    "df.info()"
   ]
  },
  {
   "cell_type": "markdown",
   "metadata": {},
   "source": [
    "**Вывод**"
   ]
  },
  {
   "cell_type": "markdown",
   "metadata": {},
   "source": [
    "Все данные приведены к нужным типам"
   ]
  },
  {
   "cell_type": "markdown",
   "metadata": {},
   "source": [
    "### Обработка дубликатов"
   ]
  },
  {
   "cell_type": "markdown",
   "metadata": {},
   "source": [
    "Как было замечено еще на этапе изучения данных, в столбце 'education' есть разное написание значений. Посмотрим, какие тут варианты:"
   ]
  },
  {
   "cell_type": "code",
   "execution_count": 25,
   "metadata": {},
   "outputs": [
    {
     "data": {
      "text/plain": [
       "среднее                13750\n",
       "высшее                  4718\n",
       "СРЕДНЕЕ                  772\n",
       "Среднее                  711\n",
       "неоконченное высшее      668\n",
       "ВЫСШЕЕ                   274\n",
       "Высшее                   268\n",
       "начальное                250\n",
       "Неоконченное высшее       47\n",
       "НЕОКОНЧЕННОЕ ВЫСШЕЕ       29\n",
       "НАЧАЛЬНОЕ                 17\n",
       "Начальное                 15\n",
       "ученая степень             4\n",
       "УЧЕНАЯ СТЕПЕНЬ             1\n",
       "Ученая степень             1\n",
       "Name: education, dtype: int64"
      ]
     },
     "execution_count": 25,
     "metadata": {},
     "output_type": "execute_result"
    }
   ],
   "source": [
    "df['education'].value_counts()"
   ]
  },
  {
   "cell_type": "markdown",
   "metadata": {},
   "source": [
    "Очевидно все дело в регистре. Переведем все в нижний регистр."
   ]
  },
  {
   "cell_type": "code",
   "execution_count": 26,
   "metadata": {
    "scrolled": true
   },
   "outputs": [
    {
     "name": "stdout",
     "output_type": "stream",
     "text": [
      "среднее                15233\n",
      "высшее                  5260\n",
      "неоконченное высшее      744\n",
      "начальное                282\n",
      "ученая степень             6\n",
      "Name: education, dtype: int64\n"
     ]
    },
    {
     "data": {
      "text/plain": [
       "1    15233\n",
       "0     5260\n",
       "2      744\n",
       "3      282\n",
       "4        6\n",
       "Name: education_id, dtype: int64"
      ]
     },
     "execution_count": 26,
     "metadata": {},
     "output_type": "execute_result"
    }
   ],
   "source": [
    "df['education'] = df['education'].str.lower()\n",
    "#Проверим результат и заодно проверим, что значения education и education_id совпадают. Посчитаем количество возможных значений,\n",
    "#если они для двух столбцов совпадают, значит значения education в правильном регистре и education = education_id\n",
    "print(df['education'].value_counts())\n",
    "df['education_id'].value_counts()"
   ]
  },
  {
   "cell_type": "markdown",
   "metadata": {},
   "source": [
    "Теперь 'education' точно можно будет вынести в отдельный словарь"
   ]
  },
  {
   "cell_type": "markdown",
   "metadata": {},
   "source": [
    "Теперь проверим, нет ли в таблице явных дубликатов. C одной стороны в таблице нет какого то уникального идентификатора, который бы позволил со 100% вероятностью утверждать, что перед нами дубликат, значения всех столбцов в приницпе могут дублироваться для разных строк. Но шанс того, что значения стажа в днях и среднего дохода до копеек, а также все остальные столбцы, совпадут - ничтожно мал. Вероятнее всего, это одни и те же люди, которые были почему-то записаны несколько раз. К примеру, подали заявку на кредит несколько раз, или просто произошел технический сбой. Поэтому дубликаты надо все же удалить."
   ]
  },
  {
   "cell_type": "code",
   "execution_count": 27,
   "metadata": {},
   "outputs": [
    {
     "data": {
      "text/plain": [
       "71"
      ]
     },
     "execution_count": 27,
     "metadata": {},
     "output_type": "execute_result"
    }
   ],
   "source": [
    "df.duplicated().sum()"
   ]
  },
  {
   "cell_type": "code",
   "execution_count": 28,
   "metadata": {},
   "outputs": [
    {
     "data": {
      "text/plain": [
       "0"
      ]
     },
     "execution_count": 28,
     "metadata": {},
     "output_type": "execute_result"
    }
   ],
   "source": [
    "#удалим дубликаты\n",
    "df = df.drop_duplicates().reset_index(drop=True)\n",
    "#проверим результат\n",
    "df.duplicated().sum()"
   ]
  },
  {
   "cell_type": "markdown",
   "metadata": {},
   "source": [
    "**Вывод**"
   ]
  },
  {
   "cell_type": "markdown",
   "metadata": {},
   "source": [
    "Данные в строке 'education' приведены к одному виду, найден и удален 71 явный дубликат."
   ]
  },
  {
   "cell_type": "markdown",
   "metadata": {},
   "source": [
    "### Лемматизация"
   ]
  },
  {
   "cell_type": "markdown",
   "metadata": {},
   "source": [
    "Чтобы категоризировать заемщиков по целям кредита, надо эти цели как-то формализовать, разделить по категориям. Для начала посмотрим, какие они бывают в исходных данных:\n"
   ]
  },
  {
   "cell_type": "code",
   "execution_count": 29,
   "metadata": {},
   "outputs": [
    {
     "data": {
      "text/plain": [
       "свадьба                                   791\n",
       "на проведение свадьбы                     768\n",
       "сыграть свадьбу                           765\n",
       "операции с недвижимостью                  675\n",
       "покупка коммерческой недвижимости         661\n",
       "операции с жильем                         652\n",
       "покупка жилья для сдачи                   651\n",
       "операции с коммерческой недвижимостью     650\n",
       "жилье                                     646\n",
       "покупка жилья                             646\n",
       "покупка жилья для семьи                   638\n",
       "строительство собственной недвижимости    635\n",
       "недвижимость                              633\n",
       "операции со своей недвижимостью           627\n",
       "строительство жилой недвижимости          624\n",
       "покупка недвижимости                      621\n",
       "покупка своего жилья                      620\n",
       "строительство недвижимости                619\n",
       "ремонт жилью                              607\n",
       "покупка жилой недвижимости                606\n",
       "на покупку своего автомобиля              505\n",
       "заняться высшим образованием              496\n",
       "автомобиль                                494\n",
       "сделка с подержанным автомобилем          486\n",
       "автомобили                                478\n",
       "свой автомобиль                           478\n",
       "на покупку подержанного автомобиля        478\n",
       "на покупку автомобиля                     471\n",
       "приобретение автомобиля                   461\n",
       "дополнительное образование                460\n",
       "сделка с автомобилем                      455\n",
       "высшее образование                        452\n",
       "образование                               447\n",
       "получение дополнительного образования     446\n",
       "получение образования                     442\n",
       "профильное образование                    436\n",
       "получение высшего образования             426\n",
       "заняться образованием                     408\n",
       "Name: purpose, dtype: int64"
      ]
     },
     "execution_count": 29,
     "metadata": {},
     "output_type": "execute_result"
    }
   ],
   "source": [
    "df['purpose'].value_counts()"
   ]
  },
  {
   "cell_type": "markdown",
   "metadata": {},
   "source": [
    "Для выделения категорий лемматизируем значения"
   ]
  },
  {
   "cell_type": "code",
   "execution_count": 30,
   "metadata": {
    "scrolled": true
   },
   "outputs": [
    {
     "data": {
      "text/plain": [
       "Counter({'покупка': 10,\n",
       "         ' ': 96,\n",
       "         'жилье': 7,\n",
       "         'получение': 3,\n",
       "         'образование': 9,\n",
       "         'на': 4,\n",
       "         'проведение': 1,\n",
       "         'свадьба': 3,\n",
       "         'сыграть': 1,\n",
       "         'высокий': 3,\n",
       "         'заниматься': 2,\n",
       "         'недвижимость': 10,\n",
       "         'строительство': 3,\n",
       "         'собственный': 1,\n",
       "         'дополнительный': 2,\n",
       "         'операция': 4,\n",
       "         'с': 5,\n",
       "         'коммерческий': 2,\n",
       "         'жилой': 2,\n",
       "         'автомобиль': 9,\n",
       "         'приобретение': 1,\n",
       "         'для': 2,\n",
       "         'семья': 1,\n",
       "         'свой': 4,\n",
       "         'сделка': 2,\n",
       "         'подержать': 2,\n",
       "         'профильный': 1,\n",
       "         'ремонт': 1,\n",
       "         'со': 1,\n",
       "         'сдача': 1,\n",
       "         '\\n': 1})"
      ]
     },
     "execution_count": 30,
     "metadata": {},
     "output_type": "execute_result"
    }
   ],
   "source": [
    "#выделим значения, склеим в одну строку и лемматизируем, подсчитаем количество упоминаний\n",
    "from pymystem3 import Mystem\n",
    "m = Mystem()\n",
    "from collections import Counter\n",
    "\n",
    "\n",
    "purp = df['purpose'].unique()\n",
    "purp = ' '.join(purp)\n",
    "purp = m.lemmatize(purp)\n",
    "Counter(purp)"
   ]
  },
  {
   "cell_type": "markdown",
   "metadata": {},
   "source": [
    "**Вывод**"
   ]
  },
  {
   "cell_type": "markdown",
   "metadata": {},
   "source": [
    "Очевидно, что есть некоторые категории: \"свадьба\", \"автомобиль\", \"образование\", не совсем ясно с категорией \"недвижимость\" - явно есть жилая, и коммерческая, и это, вероятно, очень разные категории по портретам заемщиков. Так же и с образованием - есть дополнительное и есть высшее - основное. Думаю, правильно будет выделять категории по следующим словам:\n",
    "- \"свадьба\"\n",
    "- \"автомобиль\"\n",
    "- \"коммерческий\" и \"недвижимость\" (эта категория оченб мильно отличается от \"жилье\")\n",
    "- \"жилье\" или \"недвижимость\" (если недвижимость коммерческая - об этом обычно указывают, поэтому просто \"недвижимость\" по умолчанию - к этой группе. Есть \"жилье под сдачу\" - но его трудно вычленить, подобные цели могут быть и просто в \"жилье\" и в \"недвижимости\". Учитывая, что это, зачастую, просто консервативный способ вложения денег для обычных людей, я бы не стал выделять в отдельную категорию)\n",
    "- \"дополнительный\" и \"образование\"\n",
    "- \"образованиe\" (помимо дополнительного - все высшее, профильное и т.д.)"
   ]
  },
  {
   "cell_type": "markdown",
   "metadata": {},
   "source": [
    "### Категоризация данных"
   ]
  },
  {
   "cell_type": "markdown",
   "metadata": {},
   "source": [
    "Во-первых, надо избавить данные от \"дублирующих\" столбцов 'family_status' и 'education' (вынести их в отдельные словари), а также убрать ненужные теперь 'median_days_employed' и 'median_total_income'."
   ]
  },
  {
   "cell_type": "code",
   "execution_count": 31,
   "metadata": {},
   "outputs": [
    {
     "name": "stdout",
     "output_type": "stream",
     "text": [
      "           family_status  family_status_id\n",
      "0        женат / замужем                 0\n",
      "1       гражданский брак                 1\n",
      "2  Не женат / не замужем                 4\n",
      "3              в разводе                 3\n",
      "4         вдовец / вдова                 2\n",
      "             education  education_id\n",
      "0               высшее             0\n",
      "1  неоконченное высшее             2\n",
      "2              среднее             1\n",
      "3            начальное             3\n",
      "4       ученая степень             4\n"
     ]
    },
    {
     "data": {
      "text/html": [
       "<div>\n",
       "<style scoped>\n",
       "    .dataframe tbody tr th:only-of-type {\n",
       "        vertical-align: middle;\n",
       "    }\n",
       "\n",
       "    .dataframe tbody tr th {\n",
       "        vertical-align: top;\n",
       "    }\n",
       "\n",
       "    .dataframe thead th {\n",
       "        text-align: right;\n",
       "    }\n",
       "</style>\n",
       "<table border=\"1\" class=\"dataframe\">\n",
       "  <thead>\n",
       "    <tr style=\"text-align: right;\">\n",
       "      <th></th>\n",
       "      <th>children</th>\n",
       "      <th>days_employed</th>\n",
       "      <th>dob_years</th>\n",
       "      <th>education_id</th>\n",
       "      <th>family_status_id</th>\n",
       "      <th>gender</th>\n",
       "      <th>income_type</th>\n",
       "      <th>debt</th>\n",
       "      <th>total_income</th>\n",
       "      <th>purpose</th>\n",
       "    </tr>\n",
       "  </thead>\n",
       "  <tbody>\n",
       "    <tr>\n",
       "      <td>0</td>\n",
       "      <td>1</td>\n",
       "      <td>8437</td>\n",
       "      <td>42.0</td>\n",
       "      <td>0</td>\n",
       "      <td>0</td>\n",
       "      <td>F</td>\n",
       "      <td>сотрудник</td>\n",
       "      <td>0</td>\n",
       "      <td>253875</td>\n",
       "      <td>покупка жилья</td>\n",
       "    </tr>\n",
       "    <tr>\n",
       "      <td>1</td>\n",
       "      <td>1</td>\n",
       "      <td>7215</td>\n",
       "      <td>42.0</td>\n",
       "      <td>0</td>\n",
       "      <td>0</td>\n",
       "      <td>F</td>\n",
       "      <td>сотрудник</td>\n",
       "      <td>0</td>\n",
       "      <td>143875</td>\n",
       "      <td>получение образования</td>\n",
       "    </tr>\n",
       "    <tr>\n",
       "      <td>2</td>\n",
       "      <td>1</td>\n",
       "      <td>4614</td>\n",
       "      <td>42.0</td>\n",
       "      <td>0</td>\n",
       "      <td>0</td>\n",
       "      <td>M</td>\n",
       "      <td>сотрудник</td>\n",
       "      <td>0</td>\n",
       "      <td>1278622</td>\n",
       "      <td>покупка жилья</td>\n",
       "    </tr>\n",
       "    <tr>\n",
       "      <td>3</td>\n",
       "      <td>1</td>\n",
       "      <td>733</td>\n",
       "      <td>42.0</td>\n",
       "      <td>0</td>\n",
       "      <td>1</td>\n",
       "      <td>M</td>\n",
       "      <td>сотрудник</td>\n",
       "      <td>0</td>\n",
       "      <td>433203</td>\n",
       "      <td>на проведение свадьбы</td>\n",
       "    </tr>\n",
       "    <tr>\n",
       "      <td>4</td>\n",
       "      <td>1</td>\n",
       "      <td>8899</td>\n",
       "      <td>42.0</td>\n",
       "      <td>0</td>\n",
       "      <td>1</td>\n",
       "      <td>F</td>\n",
       "      <td>сотрудник</td>\n",
       "      <td>0</td>\n",
       "      <td>360887</td>\n",
       "      <td>сыграть свадьбу</td>\n",
       "    </tr>\n",
       "  </tbody>\n",
       "</table>\n",
       "</div>"
      ],
      "text/plain": [
       "   children  days_employed  dob_years  education_id  family_status_id gender  \\\n",
       "0         1           8437       42.0             0                 0      F   \n",
       "1         1           7215       42.0             0                 0      F   \n",
       "2         1           4614       42.0             0                 0      M   \n",
       "3         1            733       42.0             0                 1      M   \n",
       "4         1           8899       42.0             0                 1      F   \n",
       "\n",
       "  income_type  debt  total_income                purpose  \n",
       "0   сотрудник     0        253875          покупка жилья  \n",
       "1   сотрудник     0        143875  получение образования  \n",
       "2   сотрудник     0       1278622          покупка жилья  \n",
       "3   сотрудник     0        433203  на проведение свадьбы  \n",
       "4   сотрудник     0        360887        сыграть свадьбу  "
      ]
     },
     "execution_count": 31,
     "metadata": {},
     "output_type": "execute_result"
    }
   ],
   "source": [
    "family_dict=df[['family_status','family_status_id']]\n",
    "family_dict = family_dict.drop_duplicates().reset_index(drop=True)\n",
    "education_dict = df[['education','education_id']]\n",
    "education_dict = education_dict.drop_duplicates().reset_index(drop=True)\n",
    "df = df.drop(['family_status', 'education', 'median_days_employed', 'median_total_income', 'med_dob_years'], axis = 1)\n",
    "#проверим\n",
    "print(family_dict)\n",
    "print(education_dict)\n",
    "df.head()"
   ]
  },
  {
   "cell_type": "markdown",
   "metadata": {},
   "source": [
    "Теперь создадим функцию, которая бы лемматизировала значения столбца 'purpose' и в соответствии с ними возвращала бы категорию займа и категоризируем с ее помощью заемщиков, добавив столбец 'category' в датасет"
   ]
  },
  {
   "cell_type": "code",
   "execution_count": 32,
   "metadata": {},
   "outputs": [
    {
     "data": {
      "text/html": [
       "<div>\n",
       "<style scoped>\n",
       "    .dataframe tbody tr th:only-of-type {\n",
       "        vertical-align: middle;\n",
       "    }\n",
       "\n",
       "    .dataframe tbody tr th {\n",
       "        vertical-align: top;\n",
       "    }\n",
       "\n",
       "    .dataframe thead th {\n",
       "        text-align: right;\n",
       "    }\n",
       "</style>\n",
       "<table border=\"1\" class=\"dataframe\">\n",
       "  <thead>\n",
       "    <tr style=\"text-align: right;\">\n",
       "      <th></th>\n",
       "      <th>children</th>\n",
       "      <th>days_employed</th>\n",
       "      <th>dob_years</th>\n",
       "      <th>education_id</th>\n",
       "      <th>family_status_id</th>\n",
       "      <th>gender</th>\n",
       "      <th>income_type</th>\n",
       "      <th>debt</th>\n",
       "      <th>total_income</th>\n",
       "      <th>purpose</th>\n",
       "      <th>category</th>\n",
       "    </tr>\n",
       "  </thead>\n",
       "  <tbody>\n",
       "    <tr>\n",
       "      <td>0</td>\n",
       "      <td>1</td>\n",
       "      <td>8437</td>\n",
       "      <td>42.0</td>\n",
       "      <td>0</td>\n",
       "      <td>0</td>\n",
       "      <td>F</td>\n",
       "      <td>сотрудник</td>\n",
       "      <td>0</td>\n",
       "      <td>253875</td>\n",
       "      <td>покупка жилья</td>\n",
       "      <td>real_estate</td>\n",
       "    </tr>\n",
       "    <tr>\n",
       "      <td>1</td>\n",
       "      <td>1</td>\n",
       "      <td>7215</td>\n",
       "      <td>42.0</td>\n",
       "      <td>0</td>\n",
       "      <td>0</td>\n",
       "      <td>F</td>\n",
       "      <td>сотрудник</td>\n",
       "      <td>0</td>\n",
       "      <td>143875</td>\n",
       "      <td>получение образования</td>\n",
       "      <td>gen_education</td>\n",
       "    </tr>\n",
       "    <tr>\n",
       "      <td>2</td>\n",
       "      <td>1</td>\n",
       "      <td>4614</td>\n",
       "      <td>42.0</td>\n",
       "      <td>0</td>\n",
       "      <td>0</td>\n",
       "      <td>M</td>\n",
       "      <td>сотрудник</td>\n",
       "      <td>0</td>\n",
       "      <td>1278622</td>\n",
       "      <td>покупка жилья</td>\n",
       "      <td>real_estate</td>\n",
       "    </tr>\n",
       "    <tr>\n",
       "      <td>3</td>\n",
       "      <td>1</td>\n",
       "      <td>733</td>\n",
       "      <td>42.0</td>\n",
       "      <td>0</td>\n",
       "      <td>1</td>\n",
       "      <td>M</td>\n",
       "      <td>сотрудник</td>\n",
       "      <td>0</td>\n",
       "      <td>433203</td>\n",
       "      <td>на проведение свадьбы</td>\n",
       "      <td>wedding</td>\n",
       "    </tr>\n",
       "    <tr>\n",
       "      <td>4</td>\n",
       "      <td>1</td>\n",
       "      <td>8899</td>\n",
       "      <td>42.0</td>\n",
       "      <td>0</td>\n",
       "      <td>1</td>\n",
       "      <td>F</td>\n",
       "      <td>сотрудник</td>\n",
       "      <td>0</td>\n",
       "      <td>360887</td>\n",
       "      <td>сыграть свадьбу</td>\n",
       "      <td>wedding</td>\n",
       "    </tr>\n",
       "  </tbody>\n",
       "</table>\n",
       "</div>"
      ],
      "text/plain": [
       "   children  days_employed  dob_years  education_id  family_status_id gender  \\\n",
       "0         1           8437       42.0             0                 0      F   \n",
       "1         1           7215       42.0             0                 0      F   \n",
       "2         1           4614       42.0             0                 0      M   \n",
       "3         1            733       42.0             0                 1      M   \n",
       "4         1           8899       42.0             0                 1      F   \n",
       "\n",
       "  income_type  debt  total_income                purpose       category  \n",
       "0   сотрудник     0        253875          покупка жилья    real_estate  \n",
       "1   сотрудник     0        143875  получение образования  gen_education  \n",
       "2   сотрудник     0       1278622          покупка жилья    real_estate  \n",
       "3   сотрудник     0        433203  на проведение свадьбы        wedding  \n",
       "4   сотрудник     0        360887        сыграть свадьбу        wedding  "
      ]
     },
     "execution_count": 32,
     "metadata": {},
     "output_type": "execute_result"
    }
   ],
   "source": [
    "def categorize_purpose(row):\n",
    "    row = m.lemmatize(row)\n",
    "    if 'свадьба' in row:\n",
    "        return 'wedding'\n",
    "    elif 'автомобиль' in row:\n",
    "        return 'car'\n",
    "    elif 'коммерческий' in row and 'недвижимость' in row:\n",
    "        return 'commercial'\n",
    "    elif 'жилье' in row or 'недвижимость' in row:\n",
    "        return 'real_estate'\n",
    "    elif 'дополнительный' in row and 'образование' in row:\n",
    "        return 'add_education'\n",
    "    elif 'образование' in row:\n",
    "        return 'gen_education'\n",
    "    else:\n",
    "        return 'unknown'\n",
    "    \n",
    "df['category'] = df['purpose'].apply(categorize_purpose)\n",
    "#проверим\n",
    "df.head()"
   ]
  },
  {
   "cell_type": "markdown",
   "metadata": {},
   "source": [
    "Помимо целей кредита, нужно будет еще категоризировать заемщиков по урвоню дохода. Минимальное и максимальное значение нам известны:\n",
    "- Минимальное значение total_income: 20667.26379327158\n",
    "- Максимальное значение total_income: 2265604.028722744\n",
    "\n",
    "Для этого надо написать функцию, аналогичную функции для целей, и применить ее к данным"
   ]
  },
  {
   "cell_type": "code",
   "execution_count": 33,
   "metadata": {},
   "outputs": [
    {
     "data": {
      "text/plain": [
       "'300000 and more'"
      ]
     },
     "execution_count": 33,
     "metadata": {},
     "output_type": "execute_result"
    }
   ],
   "source": [
    "def categorize_income(row, start, i, finish):\n",
    "    if row >= finish:\n",
    "        return (f'{finish} and more')\n",
    "    else:\n",
    "        while row >= start:\n",
    "            start = start+i\n",
    "        else:\n",
    "            return (f'{start-i}-{start}')\n",
    "        \n",
    "#проверим\n",
    "categorize_income(300000, 0, 30000, 300000)"
   ]
  },
  {
   "cell_type": "code",
   "execution_count": 35,
   "metadata": {},
   "outputs": [
    {
     "data": {
      "text/plain": [
       "120000-150000      4264\n",
       "90000-120000       3822\n",
       "150000-180000      3411\n",
       "60000-90000        2542\n",
       "180000-210000      2106\n",
       "300000 and more    1483\n",
       "210000-240000      1372\n",
       "240000-270000       989\n",
       "30000-60000         784\n",
       "270000-300000       659\n",
       "0-30000              22\n",
       "Name: category_income, dtype: int64"
      ]
     },
     "execution_count": 35,
     "metadata": {},
     "output_type": "execute_result"
    }
   ],
   "source": [
    "#проверим сколько значений получилось\n",
    "df['category_income'].value_counts()"
   ]
  },
  {
   "cell_type": "markdown",
   "metadata": {},
   "source": [
    "**Вывод**"
   ]
  },
  {
   "cell_type": "markdown",
   "metadata": {},
   "source": [
    "Данные очищены и категоризированы по целям кредита, можно приступать к ответу на вопросы."
   ]
  },
  {
   "cell_type": "markdown",
   "metadata": {},
   "source": [
    "## Шаг 3. Ответьте на вопросы"
   ]
  },
  {
   "cell_type": "markdown",
   "metadata": {},
   "source": [
    "- Есть ли зависимость между наличием детей и возвратом кредита в срок?"
   ]
  },
  {
   "cell_type": "code",
   "execution_count": 36,
   "metadata": {},
   "outputs": [],
   "source": [
    "#Упс! Сделал лишнее, но оставлю так\n",
    "#сделаем группировку по количеству детей (столбцу 'children') и посчитаем \n",
    "#общее количество людей с таким количеством детей, людей, которые задолжали, \n",
    "#и cреднее значение - чем оно ближе к единице, тем больше процент должников\n",
    "#children_debt = df.groupby(['children']).agg({'debt':['count','sum','mean']})\n",
    "#children_debt = children_debt.rename(columns = {'children': 'количество детей', 'count': 'всего случаев',\n",
    "                                              #'sum': 'должников','mean': 'доля должников'})\n",
    "#children_debt"
   ]
  },
  {
   "cell_type": "code",
   "execution_count": 37,
   "metadata": {},
   "outputs": [
    {
     "name": "stdout",
     "output_type": "stream",
     "text": [
      "Доля должников среди людей без детей: 0.07543822297920659\n",
      "Доля должников среди людей с детьми: 0.09208203178052424\n"
     ]
    }
   ],
   "source": [
    "#посчитаем процент должников среди людей без детей и с детьми:\n",
    "print('Доля должников среди людей без детей:', df[df['children'] == 0]['debt'].mean())\n",
    "print('Доля должников среди людей с детьми:', df[df['children'] != 0]['debt'].mean())"
   ]
  },
  {
   "cell_type": "markdown",
   "metadata": {},
   "source": [
    "**Вывод**"
   ]
  },
  {
   "cell_type": "markdown",
   "metadata": {},
   "source": [
    "Люди, у которых нет детей, возвращают кредиты лучше, чем люди с детьми. Должников среди них на почти на 2% меньше - 7,54% против 9,2% у людей с детьми"
   ]
  },
  {
   "cell_type": "markdown",
   "metadata": {},
   "source": [
    "Есть ли зависимость между семейным положением и возвратом кредита в срок?"
   ]
  },
  {
   "cell_type": "code",
   "execution_count": 38,
   "metadata": {},
   "outputs": [
    {
     "data": {
      "text/html": [
       "<div>\n",
       "<style scoped>\n",
       "    .dataframe tbody tr th:only-of-type {\n",
       "        vertical-align: middle;\n",
       "    }\n",
       "\n",
       "    .dataframe tbody tr th {\n",
       "        vertical-align: top;\n",
       "    }\n",
       "\n",
       "    .dataframe thead th {\n",
       "        text-align: right;\n",
       "    }\n",
       "</style>\n",
       "<table border=\"1\" class=\"dataframe\">\n",
       "  <thead>\n",
       "    <tr style=\"text-align: right;\">\n",
       "      <th></th>\n",
       "      <th>всего случаев</th>\n",
       "      <th>должников</th>\n",
       "      <th>доля должников</th>\n",
       "      <th>family_status</th>\n",
       "    </tr>\n",
       "  </thead>\n",
       "  <tbody>\n",
       "    <tr>\n",
       "      <td>0</td>\n",
       "      <td>12339</td>\n",
       "      <td>931</td>\n",
       "      <td>0.075452</td>\n",
       "      <td>женат / замужем</td>\n",
       "    </tr>\n",
       "    <tr>\n",
       "      <td>1</td>\n",
       "      <td>4151</td>\n",
       "      <td>388</td>\n",
       "      <td>0.093471</td>\n",
       "      <td>гражданский брак</td>\n",
       "    </tr>\n",
       "    <tr>\n",
       "      <td>2</td>\n",
       "      <td>959</td>\n",
       "      <td>63</td>\n",
       "      <td>0.065693</td>\n",
       "      <td>вдовец / вдова</td>\n",
       "    </tr>\n",
       "    <tr>\n",
       "      <td>3</td>\n",
       "      <td>1195</td>\n",
       "      <td>85</td>\n",
       "      <td>0.071130</td>\n",
       "      <td>в разводе</td>\n",
       "    </tr>\n",
       "    <tr>\n",
       "      <td>4</td>\n",
       "      <td>2810</td>\n",
       "      <td>274</td>\n",
       "      <td>0.097509</td>\n",
       "      <td>Не женат / не замужем</td>\n",
       "    </tr>\n",
       "  </tbody>\n",
       "</table>\n",
       "</div>"
      ],
      "text/plain": [
       "   всего случаев  должников  доля должников          family_status\n",
       "0          12339        931        0.075452        женат / замужем\n",
       "1           4151        388        0.093471       гражданский брак\n",
       "2            959         63        0.065693         вдовец / вдова\n",
       "3           1195         85        0.071130              в разводе\n",
       "4           2810        274        0.097509  Не женат / не замужем"
      ]
     },
     "execution_count": 38,
     "metadata": {},
     "output_type": "execute_result"
    }
   ],
   "source": [
    "#сгруппируем по family_status_id\n",
    "family_debt = df.pivot_table(index=['family_status_id'], values = 'debt', aggfunc = ['count','sum','mean'])\n",
    "#переименуем столбцы\n",
    "family_debt.columns = ['всего случаев', 'должников', 'доля должников']\n",
    "#\"расшифруем\" данные о семейном положении через присоеднинение family_dict\n",
    "family_debt = family_debt.merge(family_dict, on = \"family_status_id\", how = 'left')\n",
    "#уберем ненужный \"family_status_id\"\n",
    "family_debt = family_debt.drop(['family_status_id'], axis = 1)\n",
    "family_debt"
   ]
  },
  {
   "cell_type": "markdown",
   "metadata": {},
   "source": [
    "**Вывод**"
   ]
  },
  {
   "cell_type": "markdown",
   "metadata": {},
   "source": [
    "- Семейное положение оказывает влияние на возврат кредита (разница процента должников в разных группах - до 3%).\n",
    "- Меньше всего должников среди категории \"вдовец / вдова\" - 6,56%.\n",
    "- Хуже всего возвращают кредиты неженатые люди (9,75% должников) и люди, живущие в гражданском браке (9,34% должников).\n",
    "- Для самой многочисленной категории \"женат / замужем\" значения средние - 7,54% должников, чуть лучше показатель для людей в разводе - 7,11% должников."
   ]
  },
  {
   "cell_type": "markdown",
   "metadata": {},
   "source": [
    "Есть ли зависимость между уровнем дохода и возвратом кредита в срок?"
   ]
  },
  {
   "cell_type": "code",
   "execution_count": 39,
   "metadata": {
    "scrolled": true
   },
   "outputs": [
    {
     "data": {
      "text/html": [
       "<div>\n",
       "<style scoped>\n",
       "    .dataframe tbody tr th:only-of-type {\n",
       "        vertical-align: middle;\n",
       "    }\n",
       "\n",
       "    .dataframe tbody tr th {\n",
       "        vertical-align: top;\n",
       "    }\n",
       "\n",
       "    .dataframe thead th {\n",
       "        text-align: right;\n",
       "    }\n",
       "</style>\n",
       "<table border=\"1\" class=\"dataframe\">\n",
       "  <thead>\n",
       "    <tr style=\"text-align: right;\">\n",
       "      <th></th>\n",
       "      <th>всего случаев</th>\n",
       "      <th>должников</th>\n",
       "      <th>доля должников</th>\n",
       "    </tr>\n",
       "    <tr>\n",
       "      <th>category_income</th>\n",
       "      <th></th>\n",
       "      <th></th>\n",
       "      <th></th>\n",
       "    </tr>\n",
       "  </thead>\n",
       "  <tbody>\n",
       "    <tr>\n",
       "      <td>30000-60000</td>\n",
       "      <td>784</td>\n",
       "      <td>47</td>\n",
       "      <td>0.059949</td>\n",
       "    </tr>\n",
       "    <tr>\n",
       "      <td>240000-270000</td>\n",
       "      <td>989</td>\n",
       "      <td>66</td>\n",
       "      <td>0.066734</td>\n",
       "    </tr>\n",
       "    <tr>\n",
       "      <td>270000-300000</td>\n",
       "      <td>659</td>\n",
       "      <td>45</td>\n",
       "      <td>0.068285</td>\n",
       "    </tr>\n",
       "    <tr>\n",
       "      <td>210000-240000</td>\n",
       "      <td>1372</td>\n",
       "      <td>98</td>\n",
       "      <td>0.071429</td>\n",
       "    </tr>\n",
       "    <tr>\n",
       "      <td>300000 and more</td>\n",
       "      <td>1483</td>\n",
       "      <td>106</td>\n",
       "      <td>0.071477</td>\n",
       "    </tr>\n",
       "    <tr>\n",
       "      <td>180000-210000</td>\n",
       "      <td>2106</td>\n",
       "      <td>171</td>\n",
       "      <td>0.081197</td>\n",
       "    </tr>\n",
       "    <tr>\n",
       "      <td>90000-120000</td>\n",
       "      <td>3822</td>\n",
       "      <td>319</td>\n",
       "      <td>0.083464</td>\n",
       "    </tr>\n",
       "    <tr>\n",
       "      <td>150000-180000</td>\n",
       "      <td>3411</td>\n",
       "      <td>285</td>\n",
       "      <td>0.083553</td>\n",
       "    </tr>\n",
       "    <tr>\n",
       "      <td>60000-90000</td>\n",
       "      <td>2542</td>\n",
       "      <td>213</td>\n",
       "      <td>0.083792</td>\n",
       "    </tr>\n",
       "    <tr>\n",
       "      <td>0-30000</td>\n",
       "      <td>22</td>\n",
       "      <td>2</td>\n",
       "      <td>0.090909</td>\n",
       "    </tr>\n",
       "    <tr>\n",
       "      <td>120000-150000</td>\n",
       "      <td>4264</td>\n",
       "      <td>389</td>\n",
       "      <td>0.091229</td>\n",
       "    </tr>\n",
       "  </tbody>\n",
       "</table>\n",
       "</div>"
      ],
      "text/plain": [
       "                 всего случаев  должников  доля должников\n",
       "category_income                                          \n",
       "30000-60000                784         47        0.059949\n",
       "240000-270000              989         66        0.066734\n",
       "270000-300000              659         45        0.068285\n",
       "210000-240000             1372         98        0.071429\n",
       "300000 and more           1483        106        0.071477\n",
       "180000-210000             2106        171        0.081197\n",
       "90000-120000              3822        319        0.083464\n",
       "150000-180000             3411        285        0.083553\n",
       "60000-90000               2542        213        0.083792\n",
       "0-30000                     22          2        0.090909\n",
       "120000-150000             4264        389        0.091229"
      ]
     },
     "execution_count": 39,
     "metadata": {},
     "output_type": "execute_result"
    }
   ],
   "source": [
    "#сгруппируем по уровню дохода\n",
    "#income_debt = df.groupby(['category_income']).agg({'debt':['count','sum','mean']})\n",
    "income_debt = df.pivot_table(index=['category_income'], values = 'debt', aggfunc = ['count','sum','mean'])\n",
    "#переименуем столбцы\n",
    "income_debt.columns = ['всего случаев', 'должников', 'доля должников']\n",
    "income_debt.sort_values(by = 'доля должников')"
   ]
  },
  {
   "cell_type": "markdown",
   "metadata": {},
   "source": [
    "**Вывод**"
   ]
  },
  {
   "cell_type": "markdown",
   "metadata": {},
   "source": [
    "- Некоторая зависимость между урвонем доходи и возвратом кредита есть.\n",
    "- Хуже всего возвращают кредиты люди с доходами в диапазоне 120 - 150 тыс. (9,12%) и с доходами до 30 тыс. (9,09% должников, впрочем, тут очень мало данных - 22 случая).\n",
    "- Выделяется категория с доходом 30 - 60 тыс. - в ней рекордно низкий процент должников 5,99%. Но, несмотря на это в целом видна тенденция, что с ростом уровня дохода количество должников падает. Для категорий с доходом от 200 тыс. значения колеблятся около 7%, в то время как для категорий до 200 тыс. - это 8-9%.\n",
    "- Разница не очень существенна, и, как мне кажется, здесь нужно проводить отдельное исследование - смотреть скорее на цели кредита в каждой из групп. Они должны быть разные в разных категориях и именно этим, вероятно, можно объяснить аномально низкий процент должников в группе 30-60 тыс. Скорее всего цель кредита и его объем, соотвественно, там гораздо меньше, чем в кредитах группы 150 - 180 тыс., например.  "
   ]
  },
  {
   "cell_type": "markdown",
   "metadata": {},
   "source": [
    "Как разные цели кредита влияют на его возврат в срок?"
   ]
  },
  {
   "cell_type": "code",
   "execution_count": 40,
   "metadata": {},
   "outputs": [
    {
     "data": {
      "text/html": [
       "<div>\n",
       "<style scoped>\n",
       "    .dataframe tbody tr th:only-of-type {\n",
       "        vertical-align: middle;\n",
       "    }\n",
       "\n",
       "    .dataframe tbody tr th {\n",
       "        vertical-align: top;\n",
       "    }\n",
       "\n",
       "    .dataframe thead tr th {\n",
       "        text-align: left;\n",
       "    }\n",
       "\n",
       "    .dataframe thead tr:last-of-type th {\n",
       "        text-align: right;\n",
       "    }\n",
       "</style>\n",
       "<table border=\"1\" class=\"dataframe\">\n",
       "  <thead>\n",
       "    <tr>\n",
       "      <th></th>\n",
       "      <th colspan=\"3\" halign=\"left\">debt</th>\n",
       "    </tr>\n",
       "    <tr>\n",
       "      <th></th>\n",
       "      <th>всего случаев</th>\n",
       "      <th>должников</th>\n",
       "      <th>доля должников</th>\n",
       "    </tr>\n",
       "    <tr>\n",
       "      <th>category</th>\n",
       "      <th></th>\n",
       "      <th></th>\n",
       "      <th></th>\n",
       "    </tr>\n",
       "  </thead>\n",
       "  <tbody>\n",
       "    <tr>\n",
       "      <td>add_education</td>\n",
       "      <td>906</td>\n",
       "      <td>89</td>\n",
       "      <td>0.098234</td>\n",
       "    </tr>\n",
       "    <tr>\n",
       "      <td>car</td>\n",
       "      <td>4306</td>\n",
       "      <td>403</td>\n",
       "      <td>0.093590</td>\n",
       "    </tr>\n",
       "    <tr>\n",
       "      <td>commercial</td>\n",
       "      <td>1311</td>\n",
       "      <td>99</td>\n",
       "      <td>0.075515</td>\n",
       "    </tr>\n",
       "    <tr>\n",
       "      <td>gen_education</td>\n",
       "      <td>3107</td>\n",
       "      <td>281</td>\n",
       "      <td>0.090441</td>\n",
       "    </tr>\n",
       "    <tr>\n",
       "      <td>real_estate</td>\n",
       "      <td>9500</td>\n",
       "      <td>683</td>\n",
       "      <td>0.071895</td>\n",
       "    </tr>\n",
       "    <tr>\n",
       "      <td>wedding</td>\n",
       "      <td>2324</td>\n",
       "      <td>186</td>\n",
       "      <td>0.080034</td>\n",
       "    </tr>\n",
       "  </tbody>\n",
       "</table>\n",
       "</div>"
      ],
      "text/plain": [
       "                       debt                         \n",
       "              всего случаев должников доля должников\n",
       "category                                            \n",
       "add_education           906        89       0.098234\n",
       "car                    4306       403       0.093590\n",
       "commercial             1311        99       0.075515\n",
       "gen_education          3107       281       0.090441\n",
       "real_estate            9500       683       0.071895\n",
       "wedding                2324       186       0.080034"
      ]
     },
     "execution_count": 40,
     "metadata": {},
     "output_type": "execute_result"
    }
   ],
   "source": [
    "#сгруппируем по уровню дохода\n",
    "purpose_debt = df.groupby(['category']).agg({'debt':['count','sum','mean']})\n",
    "#переименуем столбцы\n",
    "purpose_debt = purpose_debt.rename(columns = {'count': 'всего случаев', 'sum': 'должников','mean': 'доля должников'})\n",
    "purpose_debt"
   ]
  },
  {
   "cell_type": "markdown",
   "metadata": {},
   "source": [
    "**Вывод**"
   ]
  },
  {
   "cell_type": "markdown",
   "metadata": {},
   "source": [
    "Есть прямая связь между целями кредитования и возвратом кредита в срок:\n",
    "- Лучше всего возвращаются кредиты на недвижимость, причем на жилую чть лучше (7,18% должников), чем на коммерческую (7,55% должников)\n",
    "- Хуже всего возвращаются кредиты на доп.образование (9,82% должников) и автомобили (9,35% должников)"
   ]
  },
  {
   "cell_type": "markdown",
   "metadata": {},
   "source": [
    "## Шаг 4. Общий вывод"
   ]
  },
  {
   "cell_type": "markdown",
   "metadata": {},
   "source": [
    "Каждый из показателей (наличие детей, семейное положение, цель кредита, уровень дохода) может указывать на вероятность его возврата в срок, увеличивая или уменьшая ее на 2-3%. Идеальный заемщик по этим показателям - вдова или вдовец без детей, взявший(ая) кредит на покупку жилья при высоком уровне дохода (от 210 тыс.). Худший из вариантов - одинокая мать с несколькими детьми, взявшая кредит на дополнительное образования. В данных об уровне дохода есть неравномерные показатели, которые, как мне кажется, говорят о необходимости изучения каждой из выделенных по уровню доход групп в разрезе целей кредитования."
   ]
  }
 ],
 "metadata": {
  "ExecuteTimeLog": [
   {
    "duration": 592,
    "start_time": "2021-12-02T04:19:32.133Z"
   },
   {
    "duration": 16,
    "start_time": "2021-12-02T04:24:21.401Z"
   },
   {
    "duration": 13,
    "start_time": "2021-12-02T04:47:23.958Z"
   },
   {
    "duration": 224,
    "start_time": "2021-12-02T04:57:29.060Z"
   },
   {
    "duration": 11,
    "start_time": "2021-12-02T04:59:02.375Z"
   },
   {
    "duration": 9,
    "start_time": "2021-12-02T05:03:17.198Z"
   },
   {
    "duration": 4128,
    "start_time": "2021-12-02T05:24:50.375Z"
   },
   {
    "duration": 12,
    "start_time": "2021-12-02T05:25:16.474Z"
   },
   {
    "duration": 7,
    "start_time": "2021-12-02T05:25:34.964Z"
   },
   {
    "duration": 8,
    "start_time": "2021-12-02T05:26:10.596Z"
   },
   {
    "duration": 57,
    "start_time": "2021-12-02T05:27:37.892Z"
   },
   {
    "duration": 9,
    "start_time": "2021-12-02T05:28:21.405Z"
   },
   {
    "duration": 8,
    "start_time": "2021-12-02T05:30:16.246Z"
   },
   {
    "duration": 9,
    "start_time": "2021-12-02T05:32:31.975Z"
   },
   {
    "duration": 58,
    "start_time": "2021-12-02T05:35:04.625Z"
   },
   {
    "duration": 14,
    "start_time": "2021-12-02T05:35:29.271Z"
   },
   {
    "duration": 4,
    "start_time": "2021-12-02T05:39:20.458Z"
   },
   {
    "duration": 3,
    "start_time": "2021-12-02T05:42:04.739Z"
   },
   {
    "duration": 3,
    "start_time": "2021-12-02T05:45:47.310Z"
   },
   {
    "duration": 6,
    "start_time": "2021-12-02T05:53:19.380Z"
   },
   {
    "duration": 7,
    "start_time": "2021-12-02T05:53:30.672Z"
   },
   {
    "duration": 923,
    "start_time": "2021-12-03T03:45:14.842Z"
   },
   {
    "duration": 19,
    "start_time": "2021-12-03T03:45:15.771Z"
   },
   {
    "duration": 13,
    "start_time": "2021-12-03T03:45:15.793Z"
   },
   {
    "duration": 13,
    "start_time": "2021-12-03T03:45:15.808Z"
   },
   {
    "duration": 66,
    "start_time": "2021-12-03T03:45:15.823Z"
   },
   {
    "duration": 10,
    "start_time": "2021-12-03T03:45:15.892Z"
   },
   {
    "duration": 9,
    "start_time": "2021-12-03T03:45:28.657Z"
   },
   {
    "duration": 11,
    "start_time": "2021-12-03T03:52:41.583Z"
   },
   {
    "duration": 12,
    "start_time": "2021-12-03T03:53:25.307Z"
   },
   {
    "duration": 8276,
    "start_time": "2021-12-03T04:00:52.021Z"
   },
   {
    "duration": 6707,
    "start_time": "2021-12-03T04:06:59.960Z"
   },
   {
    "duration": 13,
    "start_time": "2021-12-03T04:07:25.794Z"
   },
   {
    "duration": 25,
    "start_time": "2021-12-03T04:07:49.970Z"
   },
   {
    "duration": 288,
    "start_time": "2021-12-03T04:12:03.050Z"
   },
   {
    "duration": 94,
    "start_time": "2021-12-03T04:14:00.213Z"
   },
   {
    "duration": 279,
    "start_time": "2021-12-03T04:14:04.061Z"
   },
   {
    "duration": 295,
    "start_time": "2021-12-03T04:15:28.950Z"
   },
   {
    "duration": 32,
    "start_time": "2021-12-03T04:15:32.502Z"
   },
   {
    "duration": 17,
    "start_time": "2021-12-03T04:19:13.256Z"
   },
   {
    "duration": 13,
    "start_time": "2021-12-03T04:19:19.407Z"
   },
   {
    "duration": 13,
    "start_time": "2021-12-03T04:19:40.823Z"
   },
   {
    "duration": 13,
    "start_time": "2021-12-03T04:19:49.208Z"
   },
   {
    "duration": 15,
    "start_time": "2021-12-03T04:19:59.136Z"
   },
   {
    "duration": 79,
    "start_time": "2021-12-03T04:20:36.156Z"
   },
   {
    "duration": 32,
    "start_time": "2021-12-03T04:20:36.238Z"
   },
   {
    "duration": 13,
    "start_time": "2021-12-03T04:20:36.273Z"
   },
   {
    "duration": 15,
    "start_time": "2021-12-03T04:20:36.289Z"
   },
   {
    "duration": 19,
    "start_time": "2021-12-03T04:20:36.307Z"
   },
   {
    "duration": 46,
    "start_time": "2021-12-03T04:20:36.329Z"
   },
   {
    "duration": 9,
    "start_time": "2021-12-03T04:20:36.377Z"
   },
   {
    "duration": 11,
    "start_time": "2021-12-03T04:20:36.389Z"
   },
   {
    "duration": 29,
    "start_time": "2021-12-03T04:20:42.416Z"
   },
   {
    "duration": 80,
    "start_time": "2021-12-03T04:38:27.480Z"
   },
   {
    "duration": 14,
    "start_time": "2021-12-03T04:38:27.562Z"
   },
   {
    "duration": 12,
    "start_time": "2021-12-03T04:38:27.579Z"
   },
   {
    "duration": 23,
    "start_time": "2021-12-03T04:38:30.023Z"
   },
   {
    "duration": 96,
    "start_time": "2021-12-03T04:49:18.416Z"
   },
   {
    "duration": 15,
    "start_time": "2021-12-03T04:49:18.514Z"
   },
   {
    "duration": 39,
    "start_time": "2021-12-03T04:49:18.532Z"
   },
   {
    "duration": 21,
    "start_time": "2021-12-03T04:49:18.574Z"
   },
   {
    "duration": 12,
    "start_time": "2021-12-03T04:49:18.597Z"
   },
   {
    "duration": 19,
    "start_time": "2021-12-03T04:49:18.611Z"
   },
   {
    "duration": 9,
    "start_time": "2021-12-03T04:49:18.668Z"
   },
   {
    "duration": 10,
    "start_time": "2021-12-03T04:49:18.680Z"
   },
   {
    "duration": 12,
    "start_time": "2021-12-03T04:49:18.692Z"
   },
   {
    "duration": 31,
    "start_time": "2021-12-03T04:49:22.729Z"
   },
   {
    "duration": 31,
    "start_time": "2021-12-03T04:55:24.313Z"
   },
   {
    "duration": 16,
    "start_time": "2021-12-03T04:55:36.757Z"
   },
   {
    "duration": 20,
    "start_time": "2021-12-03T04:56:02.297Z"
   },
   {
    "duration": 27,
    "start_time": "2021-12-03T04:56:34.240Z"
   },
   {
    "duration": 77,
    "start_time": "2021-12-03T04:56:43.283Z"
   },
   {
    "duration": 19,
    "start_time": "2021-12-03T04:56:43.362Z"
   },
   {
    "duration": 21,
    "start_time": "2021-12-03T04:56:43.386Z"
   },
   {
    "duration": 61,
    "start_time": "2021-12-03T04:56:43.411Z"
   },
   {
    "duration": 15,
    "start_time": "2021-12-03T04:56:43.476Z"
   },
   {
    "duration": 20,
    "start_time": "2021-12-03T04:56:43.494Z"
   },
   {
    "duration": 9,
    "start_time": "2021-12-03T04:56:43.518Z"
   },
   {
    "duration": 11,
    "start_time": "2021-12-03T04:56:43.572Z"
   },
   {
    "duration": 11,
    "start_time": "2021-12-03T04:56:43.587Z"
   },
   {
    "duration": 76,
    "start_time": "2021-12-03T04:56:43.600Z"
   },
   {
    "duration": 32,
    "start_time": "2021-12-03T04:56:47.456Z"
   },
   {
    "duration": 852,
    "start_time": "2021-12-03T04:58:08.337Z"
   },
   {
    "duration": 17,
    "start_time": "2021-12-03T04:58:09.192Z"
   },
   {
    "duration": 13,
    "start_time": "2021-12-03T04:58:09.212Z"
   },
   {
    "duration": 59,
    "start_time": "2021-12-03T04:58:09.228Z"
   },
   {
    "duration": 13,
    "start_time": "2021-12-03T04:58:09.290Z"
   },
   {
    "duration": 20,
    "start_time": "2021-12-03T04:58:09.305Z"
   },
   {
    "duration": 45,
    "start_time": "2021-12-03T04:58:09.328Z"
   },
   {
    "duration": 10,
    "start_time": "2021-12-03T04:58:09.376Z"
   },
   {
    "duration": 10,
    "start_time": "2021-12-03T04:58:09.390Z"
   },
   {
    "duration": 65,
    "start_time": "2021-12-03T04:58:09.402Z"
   },
   {
    "duration": 19,
    "start_time": "2021-12-03T04:58:09.473Z"
   },
   {
    "duration": 16,
    "start_time": "2021-12-03T05:00:17.828Z"
   },
   {
    "duration": 18,
    "start_time": "2021-12-03T05:00:34.384Z"
   },
   {
    "duration": 83,
    "start_time": "2021-12-03T05:02:15.278Z"
   },
   {
    "duration": 22,
    "start_time": "2021-12-03T05:02:15.363Z"
   },
   {
    "duration": 13,
    "start_time": "2021-12-03T05:02:15.389Z"
   },
   {
    "duration": 33,
    "start_time": "2021-12-03T05:02:15.405Z"
   },
   {
    "duration": 17,
    "start_time": "2021-12-03T05:02:15.467Z"
   },
   {
    "duration": 24,
    "start_time": "2021-12-03T05:02:15.487Z"
   },
   {
    "duration": 10,
    "start_time": "2021-12-03T05:02:15.513Z"
   },
   {
    "duration": 47,
    "start_time": "2021-12-03T05:02:15.525Z"
   },
   {
    "duration": 15,
    "start_time": "2021-12-03T05:02:15.576Z"
   },
   {
    "duration": 31,
    "start_time": "2021-12-03T05:02:15.593Z"
   },
   {
    "duration": 16,
    "start_time": "2021-12-03T05:02:18.020Z"
   },
   {
    "duration": 1183,
    "start_time": "2021-12-03T05:07:40.277Z"
   },
   {
    "duration": 81,
    "start_time": "2021-12-03T05:12:51.746Z"
   },
   {
    "duration": 15,
    "start_time": "2021-12-03T05:12:51.829Z"
   },
   {
    "duration": 29,
    "start_time": "2021-12-03T05:12:51.847Z"
   },
   {
    "duration": 36,
    "start_time": "2021-12-03T05:12:51.879Z"
   },
   {
    "duration": 15,
    "start_time": "2021-12-03T05:12:51.917Z"
   },
   {
    "duration": 43,
    "start_time": "2021-12-03T05:12:51.935Z"
   },
   {
    "duration": 9,
    "start_time": "2021-12-03T05:12:51.981Z"
   },
   {
    "duration": 9,
    "start_time": "2021-12-03T05:12:51.993Z"
   },
   {
    "duration": 14,
    "start_time": "2021-12-03T05:12:52.005Z"
   },
   {
    "duration": 70,
    "start_time": "2021-12-03T05:12:52.021Z"
   },
   {
    "duration": 17,
    "start_time": "2021-12-03T05:12:52.094Z"
   },
   {
    "duration": 19,
    "start_time": "2021-12-03T05:12:58.384Z"
   },
   {
    "duration": 11,
    "start_time": "2021-12-03T05:32:08.535Z"
   },
   {
    "duration": 269,
    "start_time": "2021-12-03T05:40:25.363Z"
   },
   {
    "duration": 32,
    "start_time": "2021-12-03T05:41:07.124Z"
   },
   {
    "duration": 85,
    "start_time": "2021-12-03T05:43:09.835Z"
   },
   {
    "duration": 25,
    "start_time": "2021-12-03T05:43:34.867Z"
   },
   {
    "duration": 24,
    "start_time": "2021-12-03T05:50:58.408Z"
   },
   {
    "duration": 23,
    "start_time": "2021-12-03T05:52:12.863Z"
   },
   {
    "duration": 22,
    "start_time": "2021-12-03T05:52:25.374Z"
   },
   {
    "duration": 45,
    "start_time": "2021-12-03T05:53:54.761Z"
   },
   {
    "duration": 264,
    "start_time": "2021-12-03T06:38:53.411Z"
   },
   {
    "duration": 706,
    "start_time": "2021-12-03T06:42:24.351Z"
   },
   {
    "duration": 265,
    "start_time": "2021-12-03T06:46:31.207Z"
   },
   {
    "duration": 916,
    "start_time": "2021-12-03T06:46:41.574Z"
   },
   {
    "duration": 312,
    "start_time": "2021-12-03T12:46:22.131Z"
   },
   {
    "duration": 1616,
    "start_time": "2021-12-03T12:46:27.709Z"
   },
   {
    "duration": 21,
    "start_time": "2021-12-03T12:46:29.329Z"
   },
   {
    "duration": 188,
    "start_time": "2021-12-03T12:46:29.353Z"
   },
   {
    "duration": 30,
    "start_time": "2021-12-03T12:46:29.545Z"
   },
   {
    "duration": 13,
    "start_time": "2021-12-03T12:46:29.578Z"
   },
   {
    "duration": 23,
    "start_time": "2021-12-03T12:46:29.594Z"
   },
   {
    "duration": 10,
    "start_time": "2021-12-03T12:46:29.620Z"
   },
   {
    "duration": 43,
    "start_time": "2021-12-03T12:46:29.633Z"
   },
   {
    "duration": 12,
    "start_time": "2021-12-03T12:46:29.681Z"
   },
   {
    "duration": 33,
    "start_time": "2021-12-03T12:46:29.696Z"
   },
   {
    "duration": 50,
    "start_time": "2021-12-03T12:46:29.732Z"
   },
   {
    "duration": 18,
    "start_time": "2021-12-03T12:46:29.784Z"
   },
   {
    "duration": 14,
    "start_time": "2021-12-03T12:46:29.804Z"
   },
   {
    "duration": 64,
    "start_time": "2021-12-03T12:46:29.820Z"
   },
   {
    "duration": 27,
    "start_time": "2021-12-03T12:46:29.886Z"
   },
   {
    "duration": 78,
    "start_time": "2021-12-03T12:46:29.915Z"
   },
   {
    "duration": 323,
    "start_time": "2021-12-03T12:46:29.995Z"
   },
   {
    "duration": 377,
    "start_time": "2021-12-03T12:46:29.943Z"
   },
   {
    "duration": 10,
    "start_time": "2021-12-03T12:46:47.705Z"
   },
   {
    "duration": 11,
    "start_time": "2021-12-03T13:00:17.995Z"
   },
   {
    "duration": 461,
    "start_time": "2021-12-03T13:00:52.198Z"
   },
   {
    "duration": 9,
    "start_time": "2021-12-03T13:47:35.380Z"
   },
   {
    "duration": 254,
    "start_time": "2021-12-03T13:51:00.412Z"
   },
   {
    "duration": 928,
    "start_time": "2021-12-03T13:53:51.759Z"
   },
   {
    "duration": 970,
    "start_time": "2021-12-03T14:28:12.908Z"
   },
   {
    "duration": 78,
    "start_time": "2021-12-03T14:28:28.979Z"
   },
   {
    "duration": 965,
    "start_time": "2021-12-03T14:28:36.397Z"
   },
   {
    "duration": 963,
    "start_time": "2021-12-03T14:29:01.204Z"
   },
   {
    "duration": 1207,
    "start_time": "2021-12-03T14:29:37.533Z"
   },
   {
    "duration": 972,
    "start_time": "2021-12-03T14:29:44.733Z"
   },
   {
    "duration": 964,
    "start_time": "2021-12-03T14:30:27.310Z"
   },
   {
    "duration": 978,
    "start_time": "2021-12-03T14:30:50.772Z"
   },
   {
    "duration": 1046,
    "start_time": "2021-12-03T14:31:08.093Z"
   },
   {
    "duration": 1045,
    "start_time": "2021-12-03T14:31:14.559Z"
   },
   {
    "duration": 85,
    "start_time": "2021-12-03T14:31:35.787Z"
   },
   {
    "duration": 14,
    "start_time": "2021-12-03T14:31:35.875Z"
   },
   {
    "duration": 18,
    "start_time": "2021-12-03T14:31:35.892Z"
   },
   {
    "duration": 22,
    "start_time": "2021-12-03T14:31:35.913Z"
   },
   {
    "duration": 39,
    "start_time": "2021-12-03T14:31:35.938Z"
   },
   {
    "duration": 22,
    "start_time": "2021-12-03T14:31:35.979Z"
   },
   {
    "duration": 8,
    "start_time": "2021-12-03T14:31:36.004Z"
   },
   {
    "duration": 10,
    "start_time": "2021-12-03T14:31:36.014Z"
   },
   {
    "duration": 11,
    "start_time": "2021-12-03T14:31:36.069Z"
   },
   {
    "duration": 32,
    "start_time": "2021-12-03T14:31:36.083Z"
   },
   {
    "duration": 51,
    "start_time": "2021-12-03T14:31:36.118Z"
   },
   {
    "duration": 18,
    "start_time": "2021-12-03T14:31:36.171Z"
   },
   {
    "duration": 11,
    "start_time": "2021-12-03T14:31:36.191Z"
   },
   {
    "duration": 28,
    "start_time": "2021-12-03T14:31:36.204Z"
   },
   {
    "duration": 27,
    "start_time": "2021-12-03T14:31:36.267Z"
   },
   {
    "duration": 71,
    "start_time": "2021-12-03T14:31:36.297Z"
   },
   {
    "duration": 7,
    "start_time": "2021-12-03T14:31:36.370Z"
   },
   {
    "duration": 1010,
    "start_time": "2021-12-03T14:31:41.620Z"
   },
   {
    "duration": 1040,
    "start_time": "2021-12-03T14:32:09.413Z"
   },
   {
    "duration": 89,
    "start_time": "2021-12-03T14:32:16.263Z"
   },
   {
    "duration": 17,
    "start_time": "2021-12-03T14:32:16.366Z"
   },
   {
    "duration": 13,
    "start_time": "2021-12-03T14:32:16.387Z"
   },
   {
    "duration": 64,
    "start_time": "2021-12-03T14:32:16.403Z"
   },
   {
    "duration": 12,
    "start_time": "2021-12-03T14:32:16.470Z"
   },
   {
    "duration": 21,
    "start_time": "2021-12-03T14:32:16.485Z"
   },
   {
    "duration": 12,
    "start_time": "2021-12-03T14:32:16.509Z"
   },
   {
    "duration": 12,
    "start_time": "2021-12-03T14:32:16.568Z"
   },
   {
    "duration": 11,
    "start_time": "2021-12-03T14:32:16.584Z"
   },
   {
    "duration": 71,
    "start_time": "2021-12-03T14:32:16.598Z"
   },
   {
    "duration": 18,
    "start_time": "2021-12-03T14:32:16.671Z"
   },
   {
    "duration": 18,
    "start_time": "2021-12-03T14:32:16.691Z"
   },
   {
    "duration": 11,
    "start_time": "2021-12-03T14:32:16.712Z"
   },
   {
    "duration": 67,
    "start_time": "2021-12-03T14:32:16.726Z"
   },
   {
    "duration": 29,
    "start_time": "2021-12-03T14:32:16.796Z"
   },
   {
    "duration": 77,
    "start_time": "2021-12-03T14:32:16.827Z"
   },
   {
    "duration": 8,
    "start_time": "2021-12-03T14:32:16.906Z"
   },
   {
    "duration": 1013,
    "start_time": "2021-12-03T14:32:16.917Z"
   },
   {
    "duration": 1013,
    "start_time": "2021-12-03T14:33:24.880Z"
   },
   {
    "duration": 1059,
    "start_time": "2021-12-03T14:33:50.982Z"
   },
   {
    "duration": 103,
    "start_time": "2021-12-03T14:34:13.669Z"
   },
   {
    "duration": 15,
    "start_time": "2021-12-03T14:34:13.775Z"
   },
   {
    "duration": 13,
    "start_time": "2021-12-03T14:34:13.793Z"
   },
   {
    "duration": 59,
    "start_time": "2021-12-03T14:34:13.810Z"
   },
   {
    "duration": 12,
    "start_time": "2021-12-03T14:34:13.872Z"
   },
   {
    "duration": 18,
    "start_time": "2021-12-03T14:34:13.886Z"
   },
   {
    "duration": 8,
    "start_time": "2021-12-03T14:34:13.907Z"
   },
   {
    "duration": 52,
    "start_time": "2021-12-03T14:34:13.917Z"
   },
   {
    "duration": 11,
    "start_time": "2021-12-03T14:34:13.973Z"
   },
   {
    "duration": 32,
    "start_time": "2021-12-03T14:34:13.987Z"
   },
   {
    "duration": 50,
    "start_time": "2021-12-03T14:34:14.021Z"
   },
   {
    "duration": 19,
    "start_time": "2021-12-03T14:34:14.073Z"
   },
   {
    "duration": 10,
    "start_time": "2021-12-03T14:34:14.094Z"
   },
   {
    "duration": 62,
    "start_time": "2021-12-03T14:34:14.106Z"
   },
   {
    "duration": 24,
    "start_time": "2021-12-03T14:34:14.171Z"
   },
   {
    "duration": 72,
    "start_time": "2021-12-03T14:34:14.197Z"
   },
   {
    "duration": 8,
    "start_time": "2021-12-03T14:34:14.271Z"
   },
   {
    "duration": 1080,
    "start_time": "2021-12-03T14:34:14.281Z"
   },
   {
    "duration": 87,
    "start_time": "2021-12-03T14:34:22.219Z"
   },
   {
    "duration": 17,
    "start_time": "2021-12-03T14:34:22.310Z"
   },
   {
    "duration": 40,
    "start_time": "2021-12-03T14:34:22.331Z"
   },
   {
    "duration": 24,
    "start_time": "2021-12-03T14:34:22.374Z"
   },
   {
    "duration": 12,
    "start_time": "2021-12-03T14:34:22.401Z"
   },
   {
    "duration": 63,
    "start_time": "2021-12-03T14:34:22.415Z"
   },
   {
    "duration": 8,
    "start_time": "2021-12-03T14:34:22.480Z"
   },
   {
    "duration": 9,
    "start_time": "2021-12-03T14:34:22.491Z"
   },
   {
    "duration": 14,
    "start_time": "2021-12-03T14:34:22.505Z"
   },
   {
    "duration": 70,
    "start_time": "2021-12-03T14:34:22.523Z"
   },
   {
    "duration": 19,
    "start_time": "2021-12-03T14:34:22.596Z"
   },
   {
    "duration": 56,
    "start_time": "2021-12-03T14:34:22.618Z"
   },
   {
    "duration": 9,
    "start_time": "2021-12-03T14:34:22.676Z"
   },
   {
    "duration": 33,
    "start_time": "2021-12-03T14:34:22.688Z"
   },
   {
    "duration": 61,
    "start_time": "2021-12-03T14:34:22.724Z"
   },
   {
    "duration": 47,
    "start_time": "2021-12-03T14:34:22.788Z"
   },
   {
    "duration": 30,
    "start_time": "2021-12-03T14:34:22.838Z"
   },
   {
    "duration": 985,
    "start_time": "2021-12-03T14:34:22.871Z"
   },
   {
    "duration": 131,
    "start_time": "2021-12-03T14:35:19.748Z"
   },
   {
    "duration": 24,
    "start_time": "2021-12-03T14:35:19.883Z"
   },
   {
    "duration": 18,
    "start_time": "2021-12-03T14:35:19.912Z"
   },
   {
    "duration": 64,
    "start_time": "2021-12-03T14:35:19.934Z"
   },
   {
    "duration": 16,
    "start_time": "2021-12-03T14:35:20.001Z"
   },
   {
    "duration": 56,
    "start_time": "2021-12-03T14:35:20.020Z"
   },
   {
    "duration": 13,
    "start_time": "2021-12-03T14:35:20.080Z"
   },
   {
    "duration": 20,
    "start_time": "2021-12-03T14:35:20.096Z"
   },
   {
    "duration": 13,
    "start_time": "2021-12-03T14:35:20.121Z"
   },
   {
    "duration": 60,
    "start_time": "2021-12-03T14:35:20.137Z"
   },
   {
    "duration": 16,
    "start_time": "2021-12-03T14:35:20.200Z"
   },
   {
    "duration": 50,
    "start_time": "2021-12-03T14:35:20.219Z"
   },
   {
    "duration": 10,
    "start_time": "2021-12-03T14:35:20.272Z"
   },
   {
    "duration": 30,
    "start_time": "2021-12-03T14:35:20.285Z"
   },
   {
    "duration": 59,
    "start_time": "2021-12-03T14:35:20.317Z"
   },
   {
    "duration": 44,
    "start_time": "2021-12-03T14:35:20.379Z"
   },
   {
    "duration": 7,
    "start_time": "2021-12-03T14:35:20.426Z"
   },
   {
    "duration": 1034,
    "start_time": "2021-12-03T14:35:20.436Z"
   },
   {
    "duration": 247,
    "start_time": "2021-12-03T14:37:37.224Z"
   },
   {
    "duration": 13,
    "start_time": "2021-12-03T14:37:45.463Z"
   },
   {
    "duration": 82,
    "start_time": "2021-12-03T14:50:59.242Z"
   },
   {
    "duration": 15,
    "start_time": "2021-12-03T14:50:59.327Z"
   },
   {
    "duration": 30,
    "start_time": "2021-12-03T14:50:59.345Z"
   },
   {
    "duration": 25,
    "start_time": "2021-12-03T14:50:59.379Z"
   },
   {
    "duration": 14,
    "start_time": "2021-12-03T14:50:59.408Z"
   },
   {
    "duration": 63,
    "start_time": "2021-12-03T14:50:59.424Z"
   },
   {
    "duration": 11,
    "start_time": "2021-12-03T14:50:59.490Z"
   },
   {
    "duration": 10,
    "start_time": "2021-12-03T14:50:59.507Z"
   },
   {
    "duration": 13,
    "start_time": "2021-12-03T14:50:59.569Z"
   },
   {
    "duration": 33,
    "start_time": "2021-12-03T14:50:59.585Z"
   },
   {
    "duration": 55,
    "start_time": "2021-12-03T14:50:59.621Z"
   },
   {
    "duration": 21,
    "start_time": "2021-12-03T14:50:59.679Z"
   },
   {
    "duration": 12,
    "start_time": "2021-12-03T14:50:59.703Z"
   },
   {
    "duration": 71,
    "start_time": "2021-12-03T14:50:59.717Z"
   },
   {
    "duration": 25,
    "start_time": "2021-12-03T14:50:59.791Z"
   },
   {
    "duration": 74,
    "start_time": "2021-12-03T14:50:59.819Z"
   },
   {
    "duration": 11,
    "start_time": "2021-12-03T14:50:59.895Z"
   },
   {
    "duration": 1022,
    "start_time": "2021-12-03T14:50:59.908Z"
   },
   {
    "duration": 859,
    "start_time": "2021-12-03T16:47:31.452Z"
   },
   {
    "duration": 15,
    "start_time": "2021-12-03T16:47:32.314Z"
   },
   {
    "duration": 12,
    "start_time": "2021-12-03T16:47:32.332Z"
   },
   {
    "duration": 15,
    "start_time": "2021-12-03T16:47:54.598Z"
   },
   {
    "duration": 19,
    "start_time": "2021-12-03T16:58:09.908Z"
   },
   {
    "duration": 21,
    "start_time": "2021-12-03T16:58:12.907Z"
   },
   {
    "duration": 84,
    "start_time": "2021-12-03T17:11:22.155Z"
   },
   {
    "duration": 35,
    "start_time": "2021-12-03T17:11:22.242Z"
   },
   {
    "duration": 15,
    "start_time": "2021-12-03T17:11:22.280Z"
   },
   {
    "duration": 23,
    "start_time": "2021-12-03T17:11:22.299Z"
   },
   {
    "duration": 61,
    "start_time": "2021-12-03T17:11:22.324Z"
   },
   {
    "duration": 11,
    "start_time": "2021-12-03T17:11:22.388Z"
   },
   {
    "duration": 21,
    "start_time": "2021-12-03T17:11:22.402Z"
   },
   {
    "duration": 8,
    "start_time": "2021-12-03T17:11:22.467Z"
   },
   {
    "duration": 9,
    "start_time": "2021-12-03T17:11:22.478Z"
   },
   {
    "duration": 10,
    "start_time": "2021-12-03T17:11:22.490Z"
   },
   {
    "duration": 72,
    "start_time": "2021-12-03T17:11:22.504Z"
   },
   {
    "duration": 15,
    "start_time": "2021-12-03T17:11:22.579Z"
   },
   {
    "duration": 17,
    "start_time": "2021-12-03T17:11:22.596Z"
   },
   {
    "duration": 10,
    "start_time": "2021-12-03T17:11:22.615Z"
   },
   {
    "duration": 64,
    "start_time": "2021-12-03T17:11:22.627Z"
   },
   {
    "duration": 21,
    "start_time": "2021-12-03T17:11:25.912Z"
   },
   {
    "duration": 406,
    "start_time": "2021-12-03T17:11:38.441Z"
   },
   {
    "duration": 840,
    "start_time": "2021-12-03T17:12:56.457Z"
   },
   {
    "duration": 14,
    "start_time": "2021-12-03T17:12:57.300Z"
   },
   {
    "duration": 13,
    "start_time": "2021-12-03T17:12:57.317Z"
   },
   {
    "duration": 44,
    "start_time": "2021-12-03T17:12:57.332Z"
   },
   {
    "duration": 19,
    "start_time": "2021-12-03T17:12:57.379Z"
   },
   {
    "duration": 12,
    "start_time": "2021-12-03T17:12:57.400Z"
   },
   {
    "duration": 57,
    "start_time": "2021-12-03T17:12:57.415Z"
   },
   {
    "duration": 10,
    "start_time": "2021-12-03T17:12:57.475Z"
   },
   {
    "duration": 9,
    "start_time": "2021-12-03T17:12:57.490Z"
   },
   {
    "duration": 14,
    "start_time": "2021-12-03T17:12:57.502Z"
   },
   {
    "duration": 77,
    "start_time": "2021-12-03T17:12:57.519Z"
   },
   {
    "duration": 18,
    "start_time": "2021-12-03T17:12:57.599Z"
   },
   {
    "duration": 50,
    "start_time": "2021-12-03T17:12:57.620Z"
   },
   {
    "duration": 10,
    "start_time": "2021-12-03T17:12:57.674Z"
   },
   {
    "duration": 31,
    "start_time": "2021-12-03T17:12:57.687Z"
   },
   {
    "duration": 21,
    "start_time": "2021-12-03T17:13:02.804Z"
   },
   {
    "duration": 20,
    "start_time": "2021-12-03T17:13:08.347Z"
   },
   {
    "duration": 34,
    "start_time": "2021-12-03T17:13:10.196Z"
   },
   {
    "duration": 11,
    "start_time": "2021-12-03T17:13:15.435Z"
   },
   {
    "duration": 939,
    "start_time": "2021-12-03T17:14:26.580Z"
   },
   {
    "duration": 1031,
    "start_time": "2021-12-06T04:05:03.882Z"
   },
   {
    "duration": 15,
    "start_time": "2021-12-06T04:05:11.283Z"
   },
   {
    "duration": 12,
    "start_time": "2021-12-06T04:05:14.160Z"
   },
   {
    "duration": 21,
    "start_time": "2021-12-06T04:19:51.203Z"
   },
   {
    "duration": 80,
    "start_time": "2021-12-06T04:20:24.925Z"
   },
   {
    "duration": 14,
    "start_time": "2021-12-06T04:20:25.008Z"
   },
   {
    "duration": 12,
    "start_time": "2021-12-06T04:20:25.025Z"
   },
   {
    "duration": 21,
    "start_time": "2021-12-06T04:20:25.059Z"
   },
   {
    "duration": 11,
    "start_time": "2021-12-06T04:20:25.083Z"
   },
   {
    "duration": 17,
    "start_time": "2021-12-06T04:20:25.096Z"
   },
   {
    "duration": 45,
    "start_time": "2021-12-06T04:20:25.116Z"
   },
   {
    "duration": 8,
    "start_time": "2021-12-06T04:20:25.163Z"
   },
   {
    "duration": 9,
    "start_time": "2021-12-06T04:20:25.174Z"
   },
   {
    "duration": 33,
    "start_time": "2021-12-06T04:22:48.797Z"
   },
   {
    "duration": 54,
    "start_time": "2021-12-06T04:45:34.833Z"
   },
   {
    "duration": 10,
    "start_time": "2021-12-06T04:52:38.592Z"
   },
   {
    "duration": 874,
    "start_time": "2021-12-06T04:53:23.141Z"
   },
   {
    "duration": 17,
    "start_time": "2021-12-06T04:53:24.018Z"
   },
   {
    "duration": 27,
    "start_time": "2021-12-06T04:53:24.040Z"
   },
   {
    "duration": 22,
    "start_time": "2021-12-06T04:53:24.070Z"
   },
   {
    "duration": 12,
    "start_time": "2021-12-06T04:53:24.094Z"
   },
   {
    "duration": 61,
    "start_time": "2021-12-06T04:53:24.108Z"
   },
   {
    "duration": 10,
    "start_time": "2021-12-06T04:53:24.171Z"
   },
   {
    "duration": 10,
    "start_time": "2021-12-06T04:53:24.184Z"
   },
   {
    "duration": 11,
    "start_time": "2021-12-06T04:53:24.198Z"
   },
   {
    "duration": 80,
    "start_time": "2021-12-06T04:53:24.212Z"
   },
   {
    "duration": 71,
    "start_time": "2021-12-06T04:53:24.295Z"
   },
   {
    "duration": 11,
    "start_time": "2021-12-06T04:53:36.547Z"
   },
   {
    "duration": 18,
    "start_time": "2021-12-06T04:56:39.145Z"
   },
   {
    "duration": 21,
    "start_time": "2021-12-06T05:01:35.179Z"
   },
   {
    "duration": 17,
    "start_time": "2021-12-06T05:02:05.562Z"
   },
   {
    "duration": 10,
    "start_time": "2021-12-06T05:02:25.074Z"
   },
   {
    "duration": 29,
    "start_time": "2021-12-06T05:02:30.464Z"
   },
   {
    "duration": 25,
    "start_time": "2021-12-06T05:03:16.919Z"
   },
   {
    "duration": 42,
    "start_time": "2021-12-06T05:03:18.970Z"
   },
   {
    "duration": 10,
    "start_time": "2021-12-06T05:03:29.217Z"
   },
   {
    "duration": 915,
    "start_time": "2021-12-06T05:03:39.546Z"
   },
   {
    "duration": 1036,
    "start_time": "2021-12-06T05:08:06.230Z"
   },
   {
    "duration": 16,
    "start_time": "2021-12-06T05:08:10.892Z"
   },
   {
    "duration": 12,
    "start_time": "2021-12-06T05:08:13.155Z"
   },
   {
    "duration": 24,
    "start_time": "2021-12-06T05:08:15.740Z"
   },
   {
    "duration": 12,
    "start_time": "2021-12-06T05:08:25.720Z"
   },
   {
    "duration": 24,
    "start_time": "2021-12-06T05:08:27.567Z"
   },
   {
    "duration": 9,
    "start_time": "2021-12-06T05:08:29.672Z"
   },
   {
    "duration": 9,
    "start_time": "2021-12-06T05:08:33.085Z"
   },
   {
    "duration": 463,
    "start_time": "2021-12-06T05:10:39.532Z"
   },
   {
    "duration": 121,
    "start_time": "2021-12-06T05:10:48.571Z"
   },
   {
    "duration": 22,
    "start_time": "2021-12-06T05:10:54.127Z"
   },
   {
    "duration": 10,
    "start_time": "2021-12-06T05:11:53.319Z"
   },
   {
    "duration": 9,
    "start_time": "2021-12-06T05:11:55.683Z"
   },
   {
    "duration": 12,
    "start_time": "2021-12-06T05:11:57.467Z"
   },
   {
    "duration": 100,
    "start_time": "2021-12-06T05:11:59.760Z"
   },
   {
    "duration": 54,
    "start_time": "2021-12-06T05:12:07.021Z"
   },
   {
    "duration": 13,
    "start_time": "2021-12-06T05:13:06.457Z"
   },
   {
    "duration": 18,
    "start_time": "2021-12-06T05:13:26.742Z"
   },
   {
    "duration": 1154,
    "start_time": "2021-12-06T05:16:23.816Z"
   },
   {
    "duration": 16,
    "start_time": "2021-12-06T05:16:24.973Z"
   },
   {
    "duration": 13,
    "start_time": "2021-12-06T05:16:24.992Z"
   },
   {
    "duration": 59,
    "start_time": "2021-12-06T05:16:25.008Z"
   },
   {
    "duration": 11,
    "start_time": "2021-12-06T05:16:25.069Z"
   },
   {
    "duration": 21,
    "start_time": "2021-12-06T05:16:25.083Z"
   },
   {
    "duration": 8,
    "start_time": "2021-12-06T05:16:25.106Z"
   },
   {
    "duration": 47,
    "start_time": "2021-12-06T05:16:25.116Z"
   },
   {
    "duration": 12,
    "start_time": "2021-12-06T05:16:25.166Z"
   },
   {
    "duration": 48,
    "start_time": "2021-12-06T05:16:25.181Z"
   },
   {
    "duration": 71,
    "start_time": "2021-12-06T05:16:25.232Z"
   },
   {
    "duration": 11,
    "start_time": "2021-12-06T05:16:38.547Z"
   },
   {
    "duration": 40,
    "start_time": "2021-12-06T05:19:34.376Z"
   },
   {
    "duration": 18,
    "start_time": "2021-12-06T05:19:46.662Z"
   },
   {
    "duration": 10,
    "start_time": "2021-12-06T05:19:57.970Z"
   },
   {
    "duration": 27,
    "start_time": "2021-12-06T05:19:59.721Z"
   },
   {
    "duration": 27,
    "start_time": "2021-12-06T05:20:08.149Z"
   },
   {
    "duration": 49,
    "start_time": "2021-12-06T05:20:09.972Z"
   },
   {
    "duration": 10,
    "start_time": "2021-12-06T05:20:13.499Z"
   },
   {
    "duration": 1102,
    "start_time": "2021-12-06T05:20:16.969Z"
   },
   {
    "duration": 43,
    "start_time": "2021-12-06T05:20:58.897Z"
   },
   {
    "duration": 545,
    "start_time": "2021-12-06T05:21:15.021Z"
   },
   {
    "duration": 379,
    "start_time": "2021-12-06T05:21:23.430Z"
   },
   {
    "duration": 513,
    "start_time": "2021-12-06T05:22:26.467Z"
   },
   {
    "duration": 1001,
    "start_time": "2021-12-06T05:23:23.830Z"
   },
   {
    "duration": 14,
    "start_time": "2021-12-06T05:23:24.834Z"
   },
   {
    "duration": 13,
    "start_time": "2021-12-06T05:23:24.860Z"
   },
   {
    "duration": 21,
    "start_time": "2021-12-06T05:23:24.876Z"
   },
   {
    "duration": 11,
    "start_time": "2021-12-06T05:23:24.900Z"
   },
   {
    "duration": 62,
    "start_time": "2021-12-06T05:23:24.914Z"
   },
   {
    "duration": 8,
    "start_time": "2021-12-06T05:23:24.978Z"
   },
   {
    "duration": 8,
    "start_time": "2021-12-06T05:23:24.988Z"
   },
   {
    "duration": 9,
    "start_time": "2021-12-06T05:23:25.000Z"
   },
   {
    "duration": 72,
    "start_time": "2021-12-06T05:23:25.013Z"
   },
   {
    "duration": 73,
    "start_time": "2021-12-06T05:23:25.087Z"
   },
   {
    "duration": 11,
    "start_time": "2021-12-06T05:23:25.162Z"
   },
   {
    "duration": 45,
    "start_time": "2021-12-06T05:23:25.175Z"
   },
   {
    "duration": 43,
    "start_time": "2021-12-06T05:23:25.223Z"
   },
   {
    "duration": 10,
    "start_time": "2021-12-06T05:23:25.268Z"
   },
   {
    "duration": 29,
    "start_time": "2021-12-06T05:23:25.281Z"
   },
   {
    "duration": 60,
    "start_time": "2021-12-06T05:23:25.312Z"
   },
   {
    "duration": 49,
    "start_time": "2021-12-06T05:23:25.375Z"
   },
   {
    "duration": 10,
    "start_time": "2021-12-06T05:23:25.426Z"
   },
   {
    "duration": 1075,
    "start_time": "2021-12-06T05:23:25.439Z"
   },
   {
    "duration": 43,
    "start_time": "2021-12-06T05:23:33.524Z"
   },
   {
    "duration": 11,
    "start_time": "2021-12-06T05:47:44.025Z"
   },
   {
    "duration": 9,
    "start_time": "2021-12-06T05:48:51.729Z"
   },
   {
    "duration": 8,
    "start_time": "2021-12-06T05:50:12.058Z"
   },
   {
    "duration": 8,
    "start_time": "2021-12-06T05:51:10.586Z"
   },
   {
    "duration": 9,
    "start_time": "2021-12-06T05:51:31.715Z"
   },
   {
    "duration": 8,
    "start_time": "2021-12-06T05:51:33.067Z"
   },
   {
    "duration": 836,
    "start_time": "2021-12-06T05:52:01.978Z"
   },
   {
    "duration": 16,
    "start_time": "2021-12-06T05:52:02.817Z"
   },
   {
    "duration": 28,
    "start_time": "2021-12-06T05:52:02.836Z"
   },
   {
    "duration": 21,
    "start_time": "2021-12-06T05:52:02.867Z"
   },
   {
    "duration": 12,
    "start_time": "2021-12-06T05:52:02.890Z"
   },
   {
    "duration": 60,
    "start_time": "2021-12-06T05:52:02.904Z"
   },
   {
    "duration": 9,
    "start_time": "2021-12-06T05:52:02.966Z"
   },
   {
    "duration": 9,
    "start_time": "2021-12-06T05:52:02.978Z"
   },
   {
    "duration": 10,
    "start_time": "2021-12-06T05:52:02.990Z"
   },
   {
    "duration": 70,
    "start_time": "2021-12-06T05:52:03.003Z"
   },
   {
    "duration": 56,
    "start_time": "2021-12-06T05:52:03.075Z"
   },
   {
    "duration": 30,
    "start_time": "2021-12-06T05:52:03.133Z"
   },
   {
    "duration": 38,
    "start_time": "2021-12-06T05:52:03.165Z"
   },
   {
    "duration": 15,
    "start_time": "2021-12-06T05:52:03.205Z"
   },
   {
    "duration": 42,
    "start_time": "2021-12-06T05:52:03.222Z"
   },
   {
    "duration": 30,
    "start_time": "2021-12-06T05:52:03.266Z"
   },
   {
    "duration": 26,
    "start_time": "2021-12-06T05:52:03.299Z"
   },
   {
    "duration": 77,
    "start_time": "2021-12-06T05:52:03.327Z"
   },
   {
    "duration": 9,
    "start_time": "2021-12-06T05:52:03.407Z"
   },
   {
    "duration": 950,
    "start_time": "2021-12-06T05:52:03.418Z"
   },
   {
    "duration": 40,
    "start_time": "2021-12-06T05:52:04.370Z"
   },
   {
    "duration": 7,
    "start_time": "2021-12-06T05:52:04.413Z"
   },
   {
    "duration": 9,
    "start_time": "2021-12-06T05:53:12.926Z"
   },
   {
    "duration": 8,
    "start_time": "2021-12-06T05:53:17.891Z"
   },
   {
    "duration": 7,
    "start_time": "2021-12-06T05:53:26.583Z"
   },
   {
    "duration": 8,
    "start_time": "2021-12-06T05:53:37.963Z"
   },
   {
    "duration": 8,
    "start_time": "2021-12-06T05:54:09.484Z"
   },
   {
    "duration": 8,
    "start_time": "2021-12-06T05:55:07.693Z"
   },
   {
    "duration": 9,
    "start_time": "2021-12-06T05:57:02.271Z"
   },
   {
    "duration": 8,
    "start_time": "2021-12-06T05:57:03.824Z"
   },
   {
    "duration": 874,
    "start_time": "2021-12-06T05:58:15.475Z"
   },
   {
    "duration": 15,
    "start_time": "2021-12-06T05:58:16.351Z"
   },
   {
    "duration": 13,
    "start_time": "2021-12-06T05:58:16.369Z"
   },
   {
    "duration": 31,
    "start_time": "2021-12-06T05:58:16.384Z"
   },
   {
    "duration": 48,
    "start_time": "2021-12-06T05:58:16.418Z"
   },
   {
    "duration": 28,
    "start_time": "2021-12-06T05:58:16.468Z"
   },
   {
    "duration": 8,
    "start_time": "2021-12-06T05:58:16.499Z"
   },
   {
    "duration": 9,
    "start_time": "2021-12-06T05:58:16.511Z"
   },
   {
    "duration": 12,
    "start_time": "2021-12-06T05:58:16.559Z"
   },
   {
    "duration": 43,
    "start_time": "2021-12-06T05:58:16.573Z"
   },
   {
    "duration": 76,
    "start_time": "2021-12-06T05:58:16.619Z"
   },
   {
    "duration": 11,
    "start_time": "2021-12-06T05:58:16.698Z"
   },
   {
    "duration": 64,
    "start_time": "2021-12-06T05:58:16.712Z"
   },
   {
    "duration": 18,
    "start_time": "2021-12-06T05:58:16.779Z"
   },
   {
    "duration": 10,
    "start_time": "2021-12-06T05:58:16.800Z"
   },
   {
    "duration": 65,
    "start_time": "2021-12-06T05:58:16.813Z"
   },
   {
    "duration": 29,
    "start_time": "2021-12-06T05:58:16.881Z"
   },
   {
    "duration": 80,
    "start_time": "2021-12-06T05:58:16.913Z"
   },
   {
    "duration": 11,
    "start_time": "2021-12-06T05:58:16.995Z"
   },
   {
    "duration": 953,
    "start_time": "2021-12-06T05:58:17.008Z"
   },
   {
    "duration": 39,
    "start_time": "2021-12-06T05:58:17.963Z"
   },
   {
    "duration": 7,
    "start_time": "2021-12-06T05:58:18.005Z"
   },
   {
    "duration": 1161,
    "start_time": "2021-12-06T06:06:52.354Z"
   },
   {
    "duration": 15,
    "start_time": "2021-12-06T06:06:53.519Z"
   },
   {
    "duration": 33,
    "start_time": "2021-12-06T06:06:53.537Z"
   },
   {
    "duration": 25,
    "start_time": "2021-12-06T06:06:53.575Z"
   },
   {
    "duration": 14,
    "start_time": "2021-12-06T06:06:53.603Z"
   },
   {
    "duration": 62,
    "start_time": "2021-12-06T06:06:53.620Z"
   },
   {
    "duration": 14,
    "start_time": "2021-12-06T06:06:53.685Z"
   },
   {
    "duration": 10,
    "start_time": "2021-12-06T06:06:53.702Z"
   },
   {
    "duration": 50,
    "start_time": "2021-12-06T06:06:53.718Z"
   },
   {
    "duration": 50,
    "start_time": "2021-12-06T06:06:53.772Z"
   },
   {
    "duration": 70,
    "start_time": "2021-12-06T06:06:53.824Z"
   },
   {
    "duration": 15,
    "start_time": "2021-12-06T06:06:53.897Z"
   },
   {
    "duration": 85,
    "start_time": "2021-12-06T06:06:53.915Z"
   },
   {
    "duration": 22,
    "start_time": "2021-12-06T06:06:54.003Z"
   },
   {
    "duration": 12,
    "start_time": "2021-12-06T06:06:54.028Z"
   },
   {
    "duration": 49,
    "start_time": "2021-12-06T06:06:54.043Z"
   },
   {
    "duration": 28,
    "start_time": "2021-12-06T06:06:54.094Z"
   },
   {
    "duration": 91,
    "start_time": "2021-12-06T06:06:54.124Z"
   },
   {
    "duration": 11,
    "start_time": "2021-12-06T06:06:54.218Z"
   },
   {
    "duration": 1101,
    "start_time": "2021-12-06T06:06:54.231Z"
   },
   {
    "duration": 61,
    "start_time": "2021-12-06T06:06:55.335Z"
   },
   {
    "duration": 1440,
    "start_time": "2021-12-06T06:07:05.769Z"
   },
   {
    "duration": 8,
    "start_time": "2021-12-06T06:07:27.889Z"
   },
   {
    "duration": 8,
    "start_time": "2021-12-06T06:08:13.626Z"
   },
   {
    "duration": 7,
    "start_time": "2021-12-06T06:09:38.818Z"
   },
   {
    "duration": 9,
    "start_time": "2021-12-06T06:09:46.634Z"
   },
   {
    "duration": 8,
    "start_time": "2021-12-06T06:09:53.874Z"
   },
   {
    "duration": 132,
    "start_time": "2021-12-06T06:12:38.923Z"
   },
   {
    "duration": 8,
    "start_time": "2021-12-06T06:12:59.788Z"
   },
   {
    "duration": 8,
    "start_time": "2021-12-06T06:18:25.182Z"
   },
   {
    "duration": 10,
    "start_time": "2021-12-06T06:25:07.854Z"
   },
   {
    "duration": 11,
    "start_time": "2021-12-06T06:25:45.129Z"
   },
   {
    "duration": 11,
    "start_time": "2021-12-06T06:25:51.394Z"
   },
   {
    "duration": 8,
    "start_time": "2021-12-06T06:26:07.242Z"
   },
   {
    "duration": 8,
    "start_time": "2021-12-06T06:26:14.233Z"
   },
   {
    "duration": 7,
    "start_time": "2021-12-06T06:26:21.473Z"
   },
   {
    "duration": 9,
    "start_time": "2021-12-06T06:26:27.362Z"
   },
   {
    "duration": 4088,
    "start_time": "2021-12-06T06:29:09.053Z"
   },
   {
    "duration": 4391,
    "start_time": "2021-12-06T06:29:24.570Z"
   },
   {
    "duration": 866,
    "start_time": "2021-12-06T08:43:20.363Z"
   },
   {
    "duration": 865,
    "start_time": "2021-12-06T08:43:40.991Z"
   },
   {
    "duration": 15,
    "start_time": "2021-12-06T08:43:44.454Z"
   },
   {
    "duration": 13,
    "start_time": "2021-12-06T08:43:47.894Z"
   },
   {
    "duration": 23,
    "start_time": "2021-12-06T08:43:51.182Z"
   },
   {
    "duration": 141,
    "start_time": "2021-12-06T08:47:31.859Z"
   },
   {
    "duration": 205,
    "start_time": "2021-12-06T08:47:57.239Z"
   },
   {
    "duration": 7968,
    "start_time": "2021-12-06T08:48:28.579Z"
   },
   {
    "duration": 6,
    "start_time": "2021-12-06T08:49:33.778Z"
   },
   {
    "duration": 9,
    "start_time": "2021-12-06T08:50:39.148Z"
   },
   {
    "duration": 8,
    "start_time": "2021-12-06T08:55:21.282Z"
   },
   {
    "duration": 10,
    "start_time": "2021-12-06T08:59:23.420Z"
   },
   {
    "duration": 9,
    "start_time": "2021-12-06T08:59:36.333Z"
   },
   {
    "duration": 9,
    "start_time": "2021-12-06T08:59:39.517Z"
   },
   {
    "duration": 9,
    "start_time": "2021-12-06T08:59:52.581Z"
   },
   {
    "duration": 13,
    "start_time": "2021-12-06T09:00:25.086Z"
   },
   {
    "duration": 9,
    "start_time": "2021-12-06T09:02:07.088Z"
   },
   {
    "duration": 16,
    "start_time": "2021-12-06T09:02:51.359Z"
   },
   {
    "duration": 136,
    "start_time": "2021-12-06T09:09:48.005Z"
   },
   {
    "duration": 10057,
    "start_time": "2021-12-06T09:10:11.690Z"
   },
   {
    "duration": 380,
    "start_time": "2021-12-06T09:10:31.202Z"
   },
   {
    "duration": 32,
    "start_time": "2021-12-06T09:12:25.388Z"
   },
   {
    "duration": 16,
    "start_time": "2021-12-06T09:12:39.458Z"
   },
   {
    "duration": 859,
    "start_time": "2021-12-06T09:21:02.256Z"
   },
   {
    "duration": 15,
    "start_time": "2021-12-06T09:21:03.118Z"
   },
   {
    "duration": 24,
    "start_time": "2021-12-06T09:21:03.136Z"
   },
   {
    "duration": 22,
    "start_time": "2021-12-06T09:21:03.163Z"
   },
   {
    "duration": 9,
    "start_time": "2021-12-06T09:21:03.187Z"
   },
   {
    "duration": 11,
    "start_time": "2021-12-06T09:21:03.198Z"
   },
   {
    "duration": 21,
    "start_time": "2021-12-06T09:24:05.063Z"
   },
   {
    "duration": 12,
    "start_time": "2021-12-06T09:24:24.680Z"
   },
   {
    "duration": 23,
    "start_time": "2021-12-06T09:24:26.239Z"
   },
   {
    "duration": 9,
    "start_time": "2021-12-06T09:24:27.928Z"
   },
   {
    "duration": 11,
    "start_time": "2021-12-06T09:24:29.232Z"
   },
   {
    "duration": 12,
    "start_time": "2021-12-06T09:24:30.945Z"
   },
   {
    "duration": 35,
    "start_time": "2021-12-06T09:24:32.073Z"
   },
   {
    "duration": 53,
    "start_time": "2021-12-06T09:24:52.329Z"
   },
   {
    "duration": 11,
    "start_time": "2021-12-06T09:24:55.249Z"
   },
   {
    "duration": 40,
    "start_time": "2021-12-06T09:25:02.274Z"
   },
   {
    "duration": 18,
    "start_time": "2021-12-06T09:25:08.321Z"
   },
   {
    "duration": 10,
    "start_time": "2021-12-06T09:25:11.112Z"
   },
   {
    "duration": 28,
    "start_time": "2021-12-06T09:25:12.833Z"
   },
   {
    "duration": 31,
    "start_time": "2021-12-06T09:25:15.032Z"
   },
   {
    "duration": 47,
    "start_time": "2021-12-06T09:25:16.843Z"
   },
   {
    "duration": 11,
    "start_time": "2021-12-06T09:25:22.392Z"
   },
   {
    "duration": 955,
    "start_time": "2021-12-06T09:25:24.714Z"
   },
   {
    "duration": 3995,
    "start_time": "2021-12-06T09:25:58.281Z"
   },
   {
    "duration": 534,
    "start_time": "2021-12-06T09:39:29.103Z"
   },
   {
    "duration": 14,
    "start_time": "2021-12-06T09:39:38.213Z"
   },
   {
    "duration": 121,
    "start_time": "2021-12-06T09:41:00.293Z"
   },
   {
    "duration": 167,
    "start_time": "2021-12-06T09:41:43.143Z"
   },
   {
    "duration": 22,
    "start_time": "2021-12-06T09:48:02.506Z"
   },
   {
    "duration": 33,
    "start_time": "2021-12-06T09:52:26.811Z"
   },
   {
    "duration": 386,
    "start_time": "2021-12-06T09:59:37.726Z"
   },
   {
    "duration": 120,
    "start_time": "2021-12-06T10:01:07.074Z"
   },
   {
    "duration": 20,
    "start_time": "2021-12-06T10:01:18.369Z"
   },
   {
    "duration": 538,
    "start_time": "2021-12-06T10:09:46.626Z"
   },
   {
    "duration": 487,
    "start_time": "2021-12-06T10:10:03.957Z"
   },
   {
    "duration": 24,
    "start_time": "2021-12-06T10:10:11.856Z"
   },
   {
    "duration": 583,
    "start_time": "2021-12-06T10:59:18.444Z"
   },
   {
    "duration": 578,
    "start_time": "2021-12-06T10:59:26.711Z"
   },
   {
    "duration": 26,
    "start_time": "2021-12-06T10:59:34.012Z"
   },
   {
    "duration": 20,
    "start_time": "2021-12-06T11:14:46.774Z"
   },
   {
    "duration": 649,
    "start_time": "2021-12-07T03:48:57.297Z"
   },
   {
    "duration": 12,
    "start_time": "2021-12-07T03:49:01.873Z"
   },
   {
    "duration": 11,
    "start_time": "2021-12-07T03:49:12.798Z"
   },
   {
    "duration": 16,
    "start_time": "2021-12-07T03:49:26.939Z"
   },
   {
    "duration": 7,
    "start_time": "2021-12-07T03:49:35.684Z"
   },
   {
    "duration": 9,
    "start_time": "2021-12-07T03:50:03.119Z"
   },
   {
    "duration": 16,
    "start_time": "2021-12-07T03:50:14.451Z"
   },
   {
    "duration": 10,
    "start_time": "2021-12-07T03:50:26.511Z"
   },
   {
    "duration": 16,
    "start_time": "2021-12-07T03:50:30.335Z"
   },
   {
    "duration": 6,
    "start_time": "2021-12-07T03:50:33.507Z"
   },
   {
    "duration": 7,
    "start_time": "2021-12-07T03:50:35.489Z"
   },
   {
    "duration": 9,
    "start_time": "2021-12-07T03:50:42.250Z"
   },
   {
    "duration": 23,
    "start_time": "2021-12-07T03:50:45.854Z"
   },
   {
    "duration": 37,
    "start_time": "2021-12-07T03:51:09.440Z"
   },
   {
    "duration": 9,
    "start_time": "2021-12-07T03:51:11.616Z"
   },
   {
    "duration": 29,
    "start_time": "2021-12-07T03:51:48.895Z"
   },
   {
    "duration": 13,
    "start_time": "2021-12-07T03:51:54.823Z"
   },
   {
    "duration": 8,
    "start_time": "2021-12-07T03:51:58.541Z"
   },
   {
    "duration": 21,
    "start_time": "2021-12-07T03:52:00.661Z"
   },
   {
    "duration": 20,
    "start_time": "2021-12-07T03:52:25.089Z"
   },
   {
    "duration": 35,
    "start_time": "2021-12-07T03:52:26.433Z"
   },
   {
    "duration": 12,
    "start_time": "2021-12-07T03:52:29.210Z"
   },
   {
    "duration": 691,
    "start_time": "2021-12-07T03:52:32.596Z"
   },
   {
    "duration": 31,
    "start_time": "2021-12-07T03:52:44.639Z"
   },
   {
    "duration": 2875,
    "start_time": "2021-12-07T03:52:55.133Z"
   },
   {
    "duration": 19,
    "start_time": "2021-12-07T03:53:32.855Z"
   },
   {
    "duration": 14,
    "start_time": "2021-12-07T03:54:04.978Z"
   },
   {
    "duration": 18,
    "start_time": "2021-12-07T03:58:40.383Z"
   },
   {
    "duration": 19,
    "start_time": "2021-12-07T03:59:00.193Z"
   },
   {
    "duration": 305,
    "start_time": "2021-12-07T04:03:07.866Z"
   },
   {
    "duration": 21,
    "start_time": "2021-12-07T04:03:19.651Z"
   },
   {
    "duration": 74,
    "start_time": "2021-12-07T04:06:51.029Z"
   },
   {
    "duration": 16,
    "start_time": "2021-12-07T04:07:00.196Z"
   },
   {
    "duration": 19,
    "start_time": "2021-12-07T04:07:27.230Z"
   },
   {
    "duration": 19,
    "start_time": "2021-12-07T04:07:30.541Z"
   },
   {
    "duration": 18,
    "start_time": "2021-12-07T04:07:45.485Z"
   },
   {
    "duration": 19,
    "start_time": "2021-12-07T04:08:05.270Z"
   },
   {
    "duration": 18,
    "start_time": "2021-12-07T04:09:08.958Z"
   },
   {
    "duration": 19,
    "start_time": "2021-12-07T04:10:38.624Z"
   },
   {
    "duration": 19,
    "start_time": "2021-12-07T04:10:57.151Z"
   },
   {
    "duration": 16,
    "start_time": "2021-12-07T04:11:58.200Z"
   },
   {
    "duration": 19,
    "start_time": "2021-12-07T04:16:44.362Z"
   },
   {
    "duration": 6,
    "start_time": "2021-12-07T04:31:44.512Z"
   },
   {
    "duration": 261,
    "start_time": "2021-12-07T04:31:55.473Z"
   },
   {
    "duration": 8,
    "start_time": "2021-12-07T04:32:29.609Z"
   },
   {
    "duration": 2998,
    "start_time": "2021-12-07T04:38:10.934Z"
   },
   {
    "duration": 7,
    "start_time": "2021-12-07T05:06:40.087Z"
   },
   {
    "duration": 6,
    "start_time": "2021-12-07T05:06:43.141Z"
   },
   {
    "duration": 6,
    "start_time": "2021-12-07T05:06:44.896Z"
   },
   {
    "duration": 7,
    "start_time": "2021-12-07T05:06:47.233Z"
   },
   {
    "duration": 7,
    "start_time": "2021-12-07T05:06:58.456Z"
   },
   {
    "duration": 7,
    "start_time": "2021-12-07T05:07:42.018Z"
   },
   {
    "duration": 31,
    "start_time": "2021-12-07T05:08:20.834Z"
   },
   {
    "duration": 32,
    "start_time": "2021-12-07T05:11:00.267Z"
   },
   {
    "duration": 32,
    "start_time": "2021-12-07T05:11:16.177Z"
   },
   {
    "duration": 259,
    "start_time": "2021-12-07T05:12:33.051Z"
   },
   {
    "duration": 21,
    "start_time": "2021-12-07T05:12:43.159Z"
   },
   {
    "duration": 18,
    "start_time": "2021-12-07T05:14:14.802Z"
   },
   {
    "duration": 17,
    "start_time": "2021-12-07T05:14:34.866Z"
   },
   {
    "duration": 17,
    "start_time": "2021-12-07T05:17:50.852Z"
   },
   {
    "duration": 17,
    "start_time": "2021-12-07T05:17:58.910Z"
   },
   {
    "duration": 17,
    "start_time": "2021-12-07T05:18:12.133Z"
   },
   {
    "duration": 18,
    "start_time": "2021-12-07T05:19:23.165Z"
   },
   {
    "duration": 258,
    "start_time": "2021-12-07T05:19:50.316Z"
   },
   {
    "duration": 252,
    "start_time": "2021-12-07T05:20:03.279Z"
   },
   {
    "duration": 251,
    "start_time": "2021-12-07T05:20:05.775Z"
   },
   {
    "duration": 244,
    "start_time": "2021-12-07T05:20:18.880Z"
   },
   {
    "duration": 251,
    "start_time": "2021-12-07T05:20:29.094Z"
   },
   {
    "duration": 290,
    "start_time": "2021-12-07T05:21:33.318Z"
   },
   {
    "duration": 271,
    "start_time": "2021-12-07T05:22:35.358Z"
   },
   {
    "duration": 16,
    "start_time": "2021-12-07T05:25:50.567Z"
   },
   {
    "duration": 262,
    "start_time": "2021-12-07T05:28:04.325Z"
   },
   {
    "duration": 248,
    "start_time": "2021-12-07T05:28:12.600Z"
   },
   {
    "duration": 297,
    "start_time": "2021-12-07T05:28:36.352Z"
   },
   {
    "duration": 16,
    "start_time": "2021-12-07T05:29:46.441Z"
   },
   {
    "duration": 27,
    "start_time": "2021-12-07T05:35:24.808Z"
   },
   {
    "duration": 18,
    "start_time": "2021-12-07T05:35:29.639Z"
   },
   {
    "duration": 20,
    "start_time": "2021-12-07T05:35:47.007Z"
   },
   {
    "duration": 17,
    "start_time": "2021-12-07T05:35:52.518Z"
   },
   {
    "duration": 30,
    "start_time": "2021-12-07T05:38:34.481Z"
   },
   {
    "duration": 16,
    "start_time": "2021-12-07T05:38:43.454Z"
   },
   {
    "duration": 20,
    "start_time": "2021-12-07T05:38:46.567Z"
   },
   {
    "duration": 18,
    "start_time": "2021-12-07T05:38:49.760Z"
   },
   {
    "duration": 276,
    "start_time": "2021-12-07T05:41:23.545Z"
   },
   {
    "duration": 8,
    "start_time": "2021-12-07T05:42:02.034Z"
   },
   {
    "duration": 672,
    "start_time": "2021-12-07T05:42:45.080Z"
   },
   {
    "duration": 12,
    "start_time": "2021-12-07T05:42:45.754Z"
   },
   {
    "duration": 10,
    "start_time": "2021-12-07T05:42:45.768Z"
   },
   {
    "duration": 16,
    "start_time": "2021-12-07T05:42:45.780Z"
   },
   {
    "duration": 7,
    "start_time": "2021-12-07T05:42:45.797Z"
   },
   {
    "duration": 11,
    "start_time": "2021-12-07T05:42:45.805Z"
   },
   {
    "duration": 52,
    "start_time": "2021-12-07T05:42:45.818Z"
   },
   {
    "duration": 8,
    "start_time": "2021-12-07T05:42:45.873Z"
   },
   {
    "duration": 15,
    "start_time": "2021-12-07T05:42:45.883Z"
   },
   {
    "duration": 6,
    "start_time": "2021-12-07T05:42:45.900Z"
   },
   {
    "duration": 8,
    "start_time": "2021-12-07T05:42:45.908Z"
   },
   {
    "duration": 10,
    "start_time": "2021-12-07T05:42:45.917Z"
   },
   {
    "duration": 21,
    "start_time": "2021-12-07T05:42:45.963Z"
   },
   {
    "duration": 38,
    "start_time": "2021-12-07T05:42:45.986Z"
   },
   {
    "duration": 9,
    "start_time": "2021-12-07T05:42:46.026Z"
   },
   {
    "duration": 56,
    "start_time": "2021-12-07T05:42:46.036Z"
   },
   {
    "duration": 13,
    "start_time": "2021-12-07T05:42:46.093Z"
   },
   {
    "duration": 8,
    "start_time": "2021-12-07T05:42:46.107Z"
   },
   {
    "duration": 48,
    "start_time": "2021-12-07T05:42:46.116Z"
   },
   {
    "duration": 20,
    "start_time": "2021-12-07T05:42:46.166Z"
   },
   {
    "duration": 45,
    "start_time": "2021-12-07T05:42:46.188Z"
   },
   {
    "duration": 8,
    "start_time": "2021-12-07T05:42:46.234Z"
   },
   {
    "duration": 726,
    "start_time": "2021-12-07T05:42:46.245Z"
   },
   {
    "duration": 32,
    "start_time": "2021-12-07T05:42:46.973Z"
   },
   {
    "duration": 3044,
    "start_time": "2021-12-07T05:42:47.006Z"
   },
   {
    "duration": 43,
    "start_time": "2021-12-07T05:42:50.052Z"
   },
   {
    "duration": 9,
    "start_time": "2021-12-07T05:42:50.098Z"
   },
   {
    "duration": 27,
    "start_time": "2021-12-07T05:42:50.108Z"
   },
   {
    "duration": 46,
    "start_time": "2021-12-07T05:42:50.136Z"
   },
   {
    "duration": 18,
    "start_time": "2021-12-07T05:42:50.184Z"
   },
   {
    "duration": 332,
    "start_time": "2021-12-07T05:44:15.923Z"
   },
   {
    "duration": 260,
    "start_time": "2021-12-07T05:44:22.715Z"
   },
   {
    "duration": 329,
    "start_time": "2021-12-07T05:46:06.069Z"
   },
   {
    "duration": 400,
    "start_time": "2021-12-07T07:27:09.582Z"
   },
   {
    "duration": 688,
    "start_time": "2021-12-07T07:27:23.327Z"
   },
   {
    "duration": 13,
    "start_time": "2021-12-07T07:27:24.017Z"
   },
   {
    "duration": 10,
    "start_time": "2021-12-07T07:27:24.032Z"
   },
   {
    "duration": 15,
    "start_time": "2021-12-07T07:27:24.044Z"
   },
   {
    "duration": 7,
    "start_time": "2021-12-07T07:27:24.060Z"
   },
   {
    "duration": 48,
    "start_time": "2021-12-07T07:27:24.068Z"
   },
   {
    "duration": 14,
    "start_time": "2021-12-07T07:27:24.118Z"
   },
   {
    "duration": 9,
    "start_time": "2021-12-07T07:27:24.134Z"
   },
   {
    "duration": 16,
    "start_time": "2021-12-07T07:27:24.145Z"
   },
   {
    "duration": 5,
    "start_time": "2021-12-07T07:27:24.163Z"
   },
   {
    "duration": 41,
    "start_time": "2021-12-07T07:27:24.170Z"
   },
   {
    "duration": 7,
    "start_time": "2021-12-07T07:27:24.213Z"
   },
   {
    "duration": 24,
    "start_time": "2021-12-07T07:27:24.222Z"
   },
   {
    "duration": 59,
    "start_time": "2021-12-07T07:27:24.248Z"
   },
   {
    "duration": 8,
    "start_time": "2021-12-07T07:27:24.310Z"
   },
   {
    "duration": 27,
    "start_time": "2021-12-07T07:27:24.320Z"
   },
   {
    "duration": 13,
    "start_time": "2021-12-07T07:27:24.349Z"
   },
   {
    "duration": 7,
    "start_time": "2021-12-07T07:27:24.364Z"
   },
   {
    "duration": 51,
    "start_time": "2021-12-07T07:27:24.373Z"
   },
   {
    "duration": 19,
    "start_time": "2021-12-07T07:27:24.426Z"
   },
   {
    "duration": 33,
    "start_time": "2021-12-07T07:27:24.447Z"
   },
   {
    "duration": 9,
    "start_time": "2021-12-07T07:27:24.507Z"
   },
   {
    "duration": 1041,
    "start_time": "2021-12-07T07:27:24.518Z"
   },
   {
    "duration": 29,
    "start_time": "2021-12-07T07:27:25.562Z"
   },
   {
    "duration": 3461,
    "start_time": "2021-12-07T07:27:25.592Z"
   },
   {
    "duration": 28,
    "start_time": "2021-12-07T07:27:29.055Z"
   },
   {
    "duration": 21,
    "start_time": "2021-12-07T07:27:29.086Z"
   },
   {
    "duration": 18,
    "start_time": "2021-12-07T07:27:29.109Z"
   },
   {
    "duration": 22,
    "start_time": "2021-12-07T07:27:29.130Z"
   },
   {
    "duration": 56,
    "start_time": "2021-12-07T07:27:29.154Z"
   },
   {
    "duration": 26,
    "start_time": "2021-12-07T07:28:45.641Z"
   },
   {
    "duration": 7,
    "start_time": "2021-12-07T07:28:48.137Z"
   },
   {
    "duration": 8,
    "start_time": "2021-12-07T07:29:07.221Z"
   },
   {
    "duration": 15,
    "start_time": "2021-12-07T07:29:16.853Z"
   },
   {
    "duration": 21,
    "start_time": "2021-12-07T07:29:19.436Z"
   },
   {
    "duration": 17,
    "start_time": "2021-12-07T07:29:22.036Z"
   },
   {
    "duration": 29,
    "start_time": "2021-12-07T07:30:17.888Z"
   },
   {
    "duration": 7,
    "start_time": "2021-12-07T07:30:20.122Z"
   },
   {
    "duration": 21,
    "start_time": "2021-12-07T07:30:22.894Z"
   },
   {
    "duration": 21,
    "start_time": "2021-12-07T07:30:25.645Z"
   },
   {
    "duration": 18,
    "start_time": "2021-12-07T07:30:28.183Z"
   },
   {
    "duration": 27,
    "start_time": "2021-12-07T07:35:54.777Z"
   },
   {
    "duration": 7,
    "start_time": "2021-12-07T07:35:59.551Z"
   },
   {
    "duration": 19,
    "start_time": "2021-12-07T07:36:01.840Z"
   },
   {
    "duration": 20,
    "start_time": "2021-12-07T07:36:03.916Z"
   },
   {
    "duration": 20,
    "start_time": "2021-12-07T07:36:07.812Z"
   },
   {
    "duration": 445,
    "start_time": "2021-12-07T07:39:51.608Z"
   },
   {
    "duration": 363,
    "start_time": "2021-12-07T07:40:10.755Z"
   },
   {
    "duration": 17,
    "start_time": "2021-12-07T07:40:55.183Z"
   },
   {
    "duration": 29,
    "start_time": "2021-12-07T07:43:55.692Z"
   },
   {
    "duration": 17,
    "start_time": "2021-12-07T07:45:46.866Z"
   },
   {
    "duration": 864,
    "start_time": "2021-12-07T10:14:10.213Z"
   },
   {
    "duration": 17,
    "start_time": "2021-12-07T10:14:11.080Z"
   },
   {
    "duration": 13,
    "start_time": "2021-12-07T10:14:11.100Z"
   },
   {
    "duration": 59,
    "start_time": "2021-12-07T10:14:11.117Z"
   },
   {
    "duration": 12,
    "start_time": "2021-12-07T10:14:11.179Z"
   },
   {
    "duration": 16,
    "start_time": "2021-12-07T10:14:11.194Z"
   },
   {
    "duration": 64,
    "start_time": "2021-12-07T10:14:11.213Z"
   },
   {
    "duration": 12,
    "start_time": "2021-12-07T10:14:11.282Z"
   },
   {
    "duration": 23,
    "start_time": "2021-12-07T10:14:11.296Z"
   },
   {
    "duration": 46,
    "start_time": "2021-12-07T10:14:11.322Z"
   },
   {
    "duration": 15,
    "start_time": "2021-12-07T10:14:11.371Z"
   },
   {
    "duration": 11,
    "start_time": "2021-12-07T10:14:11.388Z"
   },
   {
    "duration": 64,
    "start_time": "2021-12-07T10:14:11.402Z"
   },
   {
    "duration": 56,
    "start_time": "2021-12-07T10:14:11.469Z"
   },
   {
    "duration": 33,
    "start_time": "2021-12-07T10:14:11.528Z"
   },
   {
    "duration": 46,
    "start_time": "2021-12-07T10:14:11.564Z"
   },
   {
    "duration": 47,
    "start_time": "2021-12-07T10:14:11.612Z"
   },
   {
    "duration": 15,
    "start_time": "2021-12-07T10:14:11.663Z"
   },
   {
    "duration": 27,
    "start_time": "2021-12-07T10:14:11.681Z"
   },
   {
    "duration": 65,
    "start_time": "2021-12-07T10:14:11.711Z"
   },
   {
    "duration": 46,
    "start_time": "2021-12-07T10:14:11.779Z"
   },
   {
    "duration": 11,
    "start_time": "2021-12-07T10:14:11.827Z"
   },
   {
    "duration": 1082,
    "start_time": "2021-12-07T10:14:11.863Z"
   },
   {
    "duration": 50,
    "start_time": "2021-12-07T10:14:12.948Z"
   },
   {
    "duration": 4279,
    "start_time": "2021-12-07T10:14:13.001Z"
   },
   {
    "duration": 42,
    "start_time": "2021-12-07T10:14:17.283Z"
   },
   {
    "duration": 32,
    "start_time": "2021-12-07T10:14:17.328Z"
   },
   {
    "duration": 30,
    "start_time": "2021-12-07T10:14:17.363Z"
   },
   {
    "duration": 36,
    "start_time": "2021-12-07T10:14:17.396Z"
   },
   {
    "duration": 56,
    "start_time": "2021-12-07T10:14:17.434Z"
   },
   {
    "duration": 24,
    "start_time": "2021-12-07T10:14:17.493Z"
   },
   {
    "duration": 926,
    "start_time": "2021-12-07T11:14:42.646Z"
   },
   {
    "duration": 1217,
    "start_time": "2021-12-07T11:15:02.974Z"
   },
   {
    "duration": 1060,
    "start_time": "2021-12-07T11:15:22.085Z"
   },
   {
    "duration": 959,
    "start_time": "2021-12-07T11:16:43.710Z"
   },
   {
    "duration": 597,
    "start_time": "2021-12-07T11:17:50.422Z"
   },
   {
    "duration": 42,
    "start_time": "2021-12-07T11:18:12.057Z"
   },
   {
    "duration": 70,
    "start_time": "2021-12-07T11:18:31.145Z"
   },
   {
    "duration": 44,
    "start_time": "2021-12-07T11:21:01.784Z"
   },
   {
    "duration": 426,
    "start_time": "2021-12-07T11:22:16.394Z"
   },
   {
    "duration": 44,
    "start_time": "2021-12-07T11:24:13.970Z"
   },
   {
    "duration": 468,
    "start_time": "2021-12-07T11:24:34.345Z"
   },
   {
    "duration": 406,
    "start_time": "2021-12-07T11:24:41.050Z"
   },
   {
    "duration": 388,
    "start_time": "2021-12-07T11:25:18.925Z"
   },
   {
    "duration": 43,
    "start_time": "2021-12-07T11:25:34.873Z"
   },
   {
    "duration": 47,
    "start_time": "2021-12-07T11:25:50.004Z"
   },
   {
    "duration": 44,
    "start_time": "2021-12-07T11:25:59.276Z"
   },
   {
    "duration": 64,
    "start_time": "2021-12-07T11:30:15.195Z"
   },
   {
    "duration": 525,
    "start_time": "2021-12-07T11:31:14.918Z"
   },
   {
    "duration": 27,
    "start_time": "2021-12-07T11:31:20.765Z"
   },
   {
    "duration": 46,
    "start_time": "2021-12-07T11:31:27.252Z"
   },
   {
    "duration": 46,
    "start_time": "2021-12-07T11:33:27.525Z"
   },
   {
    "duration": 479,
    "start_time": "2021-12-07T11:33:56.000Z"
   },
   {
    "duration": 45,
    "start_time": "2021-12-07T11:34:17.550Z"
   },
   {
    "duration": 26,
    "start_time": "2021-12-07T11:35:24.431Z"
   },
   {
    "duration": 898,
    "start_time": "2021-12-07T11:35:35.387Z"
   },
   {
    "duration": 16,
    "start_time": "2021-12-07T11:35:36.289Z"
   },
   {
    "duration": 15,
    "start_time": "2021-12-07T11:35:36.309Z"
   },
   {
    "duration": 24,
    "start_time": "2021-12-07T11:35:36.358Z"
   },
   {
    "duration": 10,
    "start_time": "2021-12-07T11:35:36.385Z"
   },
   {
    "duration": 12,
    "start_time": "2021-12-07T11:35:36.398Z"
   },
   {
    "duration": 64,
    "start_time": "2021-12-07T11:35:36.414Z"
   },
   {
    "duration": 15,
    "start_time": "2021-12-07T11:35:36.483Z"
   },
   {
    "duration": 58,
    "start_time": "2021-12-07T11:35:36.501Z"
   },
   {
    "duration": 8,
    "start_time": "2021-12-07T11:35:36.562Z"
   },
   {
    "duration": 10,
    "start_time": "2021-12-07T11:35:36.572Z"
   },
   {
    "duration": 14,
    "start_time": "2021-12-07T11:35:36.584Z"
   },
   {
    "duration": 71,
    "start_time": "2021-12-07T11:35:36.601Z"
   },
   {
    "duration": 53,
    "start_time": "2021-12-07T11:35:36.675Z"
   },
   {
    "duration": 31,
    "start_time": "2021-12-07T11:35:36.730Z"
   },
   {
    "duration": 42,
    "start_time": "2021-12-07T11:35:36.763Z"
   },
   {
    "duration": 16,
    "start_time": "2021-12-07T11:35:36.807Z"
   },
   {
    "duration": 39,
    "start_time": "2021-12-07T11:35:36.825Z"
   },
   {
    "duration": 27,
    "start_time": "2021-12-07T11:35:36.867Z"
   },
   {
    "duration": 26,
    "start_time": "2021-12-07T11:35:36.897Z"
   },
   {
    "duration": 79,
    "start_time": "2021-12-07T11:35:36.926Z"
   },
   {
    "duration": 10,
    "start_time": "2021-12-07T11:35:37.007Z"
   },
   {
    "duration": 943,
    "start_time": "2021-12-07T11:35:37.022Z"
   },
   {
    "duration": 40,
    "start_time": "2021-12-07T11:35:37.969Z"
   },
   {
    "duration": 4089,
    "start_time": "2021-12-07T11:35:38.012Z"
   },
   {
    "duration": 55,
    "start_time": "2021-12-07T11:35:42.104Z"
   },
   {
    "duration": 9,
    "start_time": "2021-12-07T11:35:42.161Z"
   },
   {
    "duration": 28,
    "start_time": "2021-12-07T11:35:42.172Z"
   },
   {
    "duration": 75,
    "start_time": "2021-12-07T11:35:42.202Z"
   },
   {
    "duration": 457,
    "start_time": "2021-12-07T11:35:42.280Z"
   },
   {
    "duration": -1409,
    "start_time": "2021-12-07T11:35:44.148Z"
   },
   {
    "duration": 853,
    "start_time": "2021-12-07T11:36:14.202Z"
   },
   {
    "duration": 18,
    "start_time": "2021-12-07T11:36:15.057Z"
   },
   {
    "duration": 19,
    "start_time": "2021-12-07T11:36:15.079Z"
   },
   {
    "duration": 59,
    "start_time": "2021-12-07T11:36:15.101Z"
   },
   {
    "duration": 9,
    "start_time": "2021-12-07T11:36:15.163Z"
   },
   {
    "duration": 18,
    "start_time": "2021-12-07T11:36:15.175Z"
   },
   {
    "duration": 20,
    "start_time": "2021-12-07T11:36:15.196Z"
   },
   {
    "duration": 50,
    "start_time": "2021-12-07T11:36:15.219Z"
   },
   {
    "duration": 25,
    "start_time": "2021-12-07T11:36:15.275Z"
   },
   {
    "duration": 9,
    "start_time": "2021-12-07T11:36:15.303Z"
   },
   {
    "duration": 46,
    "start_time": "2021-12-07T11:36:15.315Z"
   },
   {
    "duration": 12,
    "start_time": "2021-12-07T11:36:15.364Z"
   },
   {
    "duration": 35,
    "start_time": "2021-12-07T11:36:15.378Z"
   },
   {
    "duration": 83,
    "start_time": "2021-12-07T11:36:15.415Z"
   },
   {
    "duration": 11,
    "start_time": "2021-12-07T11:36:15.500Z"
   },
   {
    "duration": 63,
    "start_time": "2021-12-07T11:36:15.513Z"
   },
   {
    "duration": 15,
    "start_time": "2021-12-07T11:36:15.579Z"
   },
   {
    "duration": 9,
    "start_time": "2021-12-07T11:36:15.596Z"
   },
   {
    "duration": 57,
    "start_time": "2021-12-07T11:36:15.607Z"
   },
   {
    "duration": 26,
    "start_time": "2021-12-07T11:36:15.666Z"
   },
   {
    "duration": 65,
    "start_time": "2021-12-07T11:36:15.694Z"
   },
   {
    "duration": 10,
    "start_time": "2021-12-07T11:36:15.762Z"
   },
   {
    "duration": 969,
    "start_time": "2021-12-07T11:36:15.775Z"
   },
   {
    "duration": 50,
    "start_time": "2021-12-07T11:36:16.747Z"
   },
   {
    "duration": 3839,
    "start_time": "2021-12-07T11:36:16.800Z"
   },
   {
    "duration": 52,
    "start_time": "2021-12-07T11:36:20.642Z"
   },
   {
    "duration": 10,
    "start_time": "2021-12-07T11:36:20.699Z"
   },
   {
    "duration": 55,
    "start_time": "2021-12-07T11:36:20.711Z"
   },
   {
    "duration": 48,
    "start_time": "2021-12-07T11:36:20.769Z"
   },
   {
    "duration": 50,
    "start_time": "2021-12-07T11:36:20.819Z"
   },
   {
    "duration": 24,
    "start_time": "2021-12-07T11:36:20.871Z"
   },
   {
    "duration": 883,
    "start_time": "2021-12-07T11:55:42.867Z"
   },
   {
    "duration": 7,
    "start_time": "2021-12-07T11:55:51.021Z"
   },
   {
    "duration": -1395,
    "start_time": "2021-12-07T12:21:11.763Z"
   },
   {
    "duration": 672,
    "start_time": "2021-12-07T12:21:12.566Z"
   },
   {
    "duration": 700,
    "start_time": "2021-12-07T12:22:12.496Z"
   },
   {
    "duration": 652,
    "start_time": "2021-12-07T12:22:18.984Z"
   },
   {
    "duration": 6,
    "start_time": "2021-12-07T12:23:06.696Z"
   },
   {
    "duration": 6,
    "start_time": "2021-12-07T12:23:29.066Z"
   },
   {
    "duration": 6,
    "start_time": "2021-12-07T12:25:59.369Z"
   },
   {
    "duration": 6,
    "start_time": "2021-12-07T12:26:12.969Z"
   },
   {
    "duration": 119,
    "start_time": "2021-12-07T12:33:19.264Z"
   },
   {
    "duration": 368,
    "start_time": "2021-12-07T12:33:27.845Z"
   },
   {
    "duration": 191,
    "start_time": "2021-12-07T12:34:18.557Z"
   },
   {
    "duration": 750,
    "start_time": "2021-12-07T12:34:41.828Z"
   },
   {
    "duration": 2391,
    "start_time": "2021-12-07T12:35:08.468Z"
   },
   {
    "duration": 723,
    "start_time": "2021-12-07T12:36:49.285Z"
   },
   {
    "duration": 680,
    "start_time": "2021-12-07T12:37:06.717Z"
   },
   {
    "duration": 784,
    "start_time": "2021-12-07T12:37:21.254Z"
   },
   {
    "duration": 633,
    "start_time": "2021-12-07T12:38:21.311Z"
   },
   {
    "duration": 631,
    "start_time": "2021-12-07T12:38:28.213Z"
   },
   {
    "duration": 698,
    "start_time": "2021-12-07T12:39:25.266Z"
   },
   {
    "duration": 625,
    "start_time": "2021-12-07T12:39:40.590Z"
   },
   {
    "duration": 720,
    "start_time": "2021-12-07T12:39:45.463Z"
   },
   {
    "duration": 938,
    "start_time": "2021-12-07T12:39:51.480Z"
   },
   {
    "duration": 7991,
    "start_time": "2021-12-07T12:39:56.846Z"
   },
   {
    "duration": 357,
    "start_time": "2021-12-07T12:43:13.363Z"
   },
   {
    "duration": 128,
    "start_time": "2021-12-07T12:45:17.534Z"
   },
   {
    "duration": 715,
    "start_time": "2021-12-07T12:45:23.827Z"
   },
   {
    "duration": 1008,
    "start_time": "2021-12-07T12:47:34.452Z"
   },
   {
    "duration": 437,
    "start_time": "2021-12-07T12:47:49.259Z"
   },
   {
    "duration": 864,
    "start_time": "2021-12-07T12:50:47.675Z"
   },
   {
    "duration": 25,
    "start_time": "2021-12-07T12:50:48.541Z"
   },
   {
    "duration": 13,
    "start_time": "2021-12-07T12:50:48.569Z"
   },
   {
    "duration": 31,
    "start_time": "2021-12-07T12:50:48.585Z"
   },
   {
    "duration": 11,
    "start_time": "2021-12-07T12:50:48.619Z"
   },
   {
    "duration": 14,
    "start_time": "2021-12-07T12:50:48.658Z"
   },
   {
    "duration": 23,
    "start_time": "2021-12-07T12:50:48.675Z"
   },
   {
    "duration": 13,
    "start_time": "2021-12-07T12:50:48.703Z"
   },
   {
    "duration": 24,
    "start_time": "2021-12-07T12:50:48.761Z"
   },
   {
    "duration": 8,
    "start_time": "2021-12-07T12:50:48.788Z"
   },
   {
    "duration": 12,
    "start_time": "2021-12-07T12:50:48.798Z"
   },
   {
    "duration": 47,
    "start_time": "2021-12-07T12:50:48.812Z"
   },
   {
    "duration": 41,
    "start_time": "2021-12-07T12:50:48.862Z"
   },
   {
    "duration": 72,
    "start_time": "2021-12-07T12:50:48.907Z"
   },
   {
    "duration": 12,
    "start_time": "2021-12-07T12:50:48.981Z"
   },
   {
    "duration": 66,
    "start_time": "2021-12-07T12:50:48.996Z"
   },
   {
    "duration": 21,
    "start_time": "2021-12-07T12:50:49.065Z"
   },
   {
    "duration": 12,
    "start_time": "2021-12-07T12:50:49.089Z"
   },
   {
    "duration": 66,
    "start_time": "2021-12-07T12:50:49.103Z"
   },
   {
    "duration": 31,
    "start_time": "2021-12-07T12:50:49.172Z"
   },
   {
    "duration": 88,
    "start_time": "2021-12-07T12:50:49.205Z"
   },
   {
    "duration": 11,
    "start_time": "2021-12-07T12:50:49.296Z"
   },
   {
    "duration": 1007,
    "start_time": "2021-12-07T12:50:49.312Z"
   },
   {
    "duration": 51,
    "start_time": "2021-12-07T12:50:50.323Z"
   },
   {
    "duration": 4145,
    "start_time": "2021-12-07T12:50:50.376Z"
   },
   {
    "duration": 48,
    "start_time": "2021-12-07T12:50:54.523Z"
   },
   {
    "duration": 11,
    "start_time": "2021-12-07T12:50:54.574Z"
   },
   {
    "duration": 30,
    "start_time": "2021-12-07T12:50:54.588Z"
   },
   {
    "duration": 81,
    "start_time": "2021-12-07T12:50:54.622Z"
   },
   {
    "duration": 25,
    "start_time": "2021-12-07T12:50:54.706Z"
   },
   {
    "duration": 50,
    "start_time": "2021-12-07T12:50:54.733Z"
   },
   {
    "duration": 865,
    "start_time": "2021-12-08T05:23:35.971Z"
   },
   {
    "duration": 15,
    "start_time": "2021-12-08T05:23:36.838Z"
   },
   {
    "duration": 12,
    "start_time": "2021-12-08T05:23:36.856Z"
   },
   {
    "duration": 57,
    "start_time": "2021-12-08T05:23:36.870Z"
   },
   {
    "duration": 14,
    "start_time": "2021-12-08T05:23:36.929Z"
   },
   {
    "duration": 11,
    "start_time": "2021-12-08T05:23:36.945Z"
   },
   {
    "duration": 19,
    "start_time": "2021-12-08T05:23:36.959Z"
   },
   {
    "duration": 45,
    "start_time": "2021-12-08T05:23:36.982Z"
   },
   {
    "duration": 21,
    "start_time": "2021-12-08T05:23:37.030Z"
   },
   {
    "duration": 8,
    "start_time": "2021-12-08T05:23:37.053Z"
   },
   {
    "duration": 16,
    "start_time": "2021-12-08T05:23:37.063Z"
   },
   {
    "duration": 42,
    "start_time": "2021-12-08T05:23:37.082Z"
   },
   {
    "duration": 33,
    "start_time": "2021-12-08T05:23:37.126Z"
   },
   {
    "duration": 74,
    "start_time": "2021-12-08T05:23:37.161Z"
   },
   {
    "duration": 11,
    "start_time": "2021-12-08T05:23:37.237Z"
   },
   {
    "duration": 67,
    "start_time": "2021-12-08T05:23:37.251Z"
   },
   {
    "duration": 17,
    "start_time": "2021-12-08T05:23:37.320Z"
   },
   {
    "duration": 9,
    "start_time": "2021-12-08T05:23:37.339Z"
   },
   {
    "duration": 26,
    "start_time": "2021-12-08T05:23:37.350Z"
   },
   {
    "duration": 62,
    "start_time": "2021-12-08T05:23:37.378Z"
   },
   {
    "duration": 48,
    "start_time": "2021-12-08T05:23:37.442Z"
   },
   {
    "duration": 31,
    "start_time": "2021-12-08T05:23:37.492Z"
   },
   {
    "duration": 935,
    "start_time": "2021-12-08T05:23:37.527Z"
   },
   {
    "duration": 53,
    "start_time": "2021-12-08T05:23:38.465Z"
   },
   {
    "duration": 3553,
    "start_time": "2021-12-08T05:23:38.521Z"
   },
   {
    "duration": 53,
    "start_time": "2021-12-08T05:23:42.077Z"
   },
   {
    "duration": 8,
    "start_time": "2021-12-08T05:23:42.133Z"
   },
   {
    "duration": 28,
    "start_time": "2021-12-08T05:23:42.143Z"
   },
   {
    "duration": 77,
    "start_time": "2021-12-08T05:23:42.173Z"
   },
   {
    "duration": 24,
    "start_time": "2021-12-08T05:23:42.253Z"
   },
   {
    "duration": 39,
    "start_time": "2021-12-08T05:23:42.279Z"
   },
   {
    "duration": 102,
    "start_time": "2021-12-08T11:27:08.060Z"
   },
   {
    "duration": 403,
    "start_time": "2021-12-08T11:45:28.650Z"
   },
   {
    "duration": 1555,
    "start_time": "2021-12-08T11:45:37.900Z"
   },
   {
    "duration": 14,
    "start_time": "2021-12-08T11:45:42.526Z"
   },
   {
    "duration": 14,
    "start_time": "2021-12-08T11:45:44.877Z"
   },
   {
    "duration": 21,
    "start_time": "2021-12-08T11:45:47.246Z"
   },
   {
    "duration": 9,
    "start_time": "2021-12-08T11:45:50.103Z"
   },
   {
    "duration": 12,
    "start_time": "2021-12-08T11:45:53.471Z"
   },
   {
    "duration": 13,
    "start_time": "2021-12-08T11:45:57.163Z"
   },
   {
    "duration": 9,
    "start_time": "2021-12-08T11:47:06.742Z"
   },
   {
    "duration": 11,
    "start_time": "2021-12-08T11:49:41.215Z"
   },
   {
    "duration": 17,
    "start_time": "2021-12-08T11:50:30.841Z"
   },
   {
    "duration": 18,
    "start_time": "2021-12-08T11:50:46.488Z"
   },
   {
    "duration": 293,
    "start_time": "2021-12-08T12:39:47.512Z"
   },
   {
    "duration": 18,
    "start_time": "2021-12-08T12:39:56.935Z"
   },
   {
    "duration": 18,
    "start_time": "2021-12-08T13:12:40.958Z"
   },
   {
    "duration": 105,
    "start_time": "2021-12-08T13:12:56.006Z"
   },
   {
    "duration": 90,
    "start_time": "2021-12-08T13:13:02.359Z"
   },
   {
    "duration": 7,
    "start_time": "2021-12-08T13:13:15.743Z"
   },
   {
    "duration": 8,
    "start_time": "2021-12-08T13:13:24.548Z"
   },
   {
    "duration": 11,
    "start_time": "2021-12-08T13:13:31.615Z"
   },
   {
    "duration": 109,
    "start_time": "2021-12-08T14:02:58.992Z"
   },
   {
    "duration": 9,
    "start_time": "2021-12-08T14:03:48.636Z"
   },
   {
    "duration": 765,
    "start_time": "2021-12-08T14:04:09.376Z"
   },
   {
    "duration": 15,
    "start_time": "2021-12-08T14:04:10.144Z"
   },
   {
    "duration": 35,
    "start_time": "2021-12-08T14:04:10.162Z"
   },
   {
    "duration": 36,
    "start_time": "2021-12-08T14:04:10.200Z"
   },
   {
    "duration": 9,
    "start_time": "2021-12-08T14:04:10.238Z"
   },
   {
    "duration": 35,
    "start_time": "2021-12-08T14:04:10.249Z"
   },
   {
    "duration": 22,
    "start_time": "2021-12-08T14:04:10.286Z"
   },
   {
    "duration": 37,
    "start_time": "2021-12-08T14:04:10.312Z"
   },
   {
    "duration": 10,
    "start_time": "2021-12-08T14:04:25.215Z"
   },
   {
    "duration": 96,
    "start_time": "2021-12-08T14:06:24.278Z"
   },
   {
    "duration": 19,
    "start_time": "2021-12-08T14:06:37.574Z"
   },
   {
    "duration": 7503,
    "start_time": "2021-12-08T14:10:07.800Z"
   },
   {
    "duration": 15,
    "start_time": "2021-12-08T14:11:14.521Z"
   },
   {
    "duration": 21,
    "start_time": "2021-12-08T14:25:17.864Z"
   },
   {
    "duration": 13,
    "start_time": "2021-12-08T14:25:31.909Z"
   },
   {
    "duration": 22,
    "start_time": "2021-12-08T14:25:51.551Z"
   },
   {
    "duration": 9,
    "start_time": "2021-12-08T14:25:56.477Z"
   },
   {
    "duration": 8,
    "start_time": "2021-12-08T14:25:57.710Z"
   },
   {
    "duration": 10,
    "start_time": "2021-12-08T14:25:59.368Z"
   },
   {
    "duration": 35,
    "start_time": "2021-12-08T14:26:00.721Z"
   },
   {
    "duration": 2595,
    "start_time": "2021-12-08T14:42:08.957Z"
   },
   {
    "duration": 7,
    "start_time": "2021-12-08T14:44:02.908Z"
   },
   {
    "duration": 23,
    "start_time": "2021-12-08T14:44:14.486Z"
   },
   {
    "duration": 46,
    "start_time": "2021-12-08T14:44:34.671Z"
   },
   {
    "duration": 14,
    "start_time": "2021-12-08T14:46:55.192Z"
   },
   {
    "duration": 120,
    "start_time": "2021-12-08T14:54:18.699Z"
   },
   {
    "duration": 290,
    "start_time": "2021-12-08T14:54:23.545Z"
   },
   {
    "duration": 54,
    "start_time": "2021-12-08T14:54:35.739Z"
   },
   {
    "duration": 314,
    "start_time": "2021-12-08T14:56:10.143Z"
   },
   {
    "duration": 354,
    "start_time": "2021-12-08T14:56:19.287Z"
   },
   {
    "duration": 313,
    "start_time": "2021-12-08T14:56:23.368Z"
   },
   {
    "duration": 7042,
    "start_time": "2021-12-08T14:56:59.696Z"
   },
   {
    "duration": 284,
    "start_time": "2021-12-08T14:57:19.137Z"
   },
   {
    "duration": 105,
    "start_time": "2021-12-08T15:12:55.356Z"
   },
   {
    "duration": 85,
    "start_time": "2021-12-08T15:13:24.516Z"
   },
   {
    "duration": 832,
    "start_time": "2021-12-08T15:14:21.427Z"
   },
   {
    "duration": 16,
    "start_time": "2021-12-08T15:14:22.262Z"
   },
   {
    "duration": 30,
    "start_time": "2021-12-08T15:14:22.281Z"
   },
   {
    "duration": 59,
    "start_time": "2021-12-08T15:14:22.315Z"
   },
   {
    "duration": 14,
    "start_time": "2021-12-08T15:14:22.377Z"
   },
   {
    "duration": 55,
    "start_time": "2021-12-08T15:14:22.393Z"
   },
   {
    "duration": 41,
    "start_time": "2021-12-08T15:14:22.450Z"
   },
   {
    "duration": 47,
    "start_time": "2021-12-08T15:14:22.493Z"
   },
   {
    "duration": 43,
    "start_time": "2021-12-08T15:14:22.543Z"
   },
   {
    "duration": 43,
    "start_time": "2021-12-08T15:14:22.589Z"
   },
   {
    "duration": 27,
    "start_time": "2021-12-08T15:14:22.635Z"
   },
   {
    "duration": 39,
    "start_time": "2021-12-08T15:14:22.664Z"
   },
   {
    "duration": 44,
    "start_time": "2021-12-08T15:14:22.706Z"
   },
   {
    "duration": 54,
    "start_time": "2021-12-08T15:14:22.752Z"
   },
   {
    "duration": 34,
    "start_time": "2021-12-08T15:14:22.809Z"
   },
   {
    "duration": 30,
    "start_time": "2021-12-08T15:14:22.846Z"
   },
   {
    "duration": 46,
    "start_time": "2021-12-08T15:14:22.879Z"
   },
   {
    "duration": 98,
    "start_time": "2021-12-08T15:14:36.724Z"
   },
   {
    "duration": 86,
    "start_time": "2021-12-08T15:17:07.187Z"
   },
   {
    "duration": 85,
    "start_time": "2021-12-08T15:17:50.997Z"
   },
   {
    "duration": 384,
    "start_time": "2021-12-08T15:18:50.744Z"
   },
   {
    "duration": 96,
    "start_time": "2021-12-08T15:19:27.999Z"
   },
   {
    "duration": 87,
    "start_time": "2021-12-08T15:20:24.662Z"
   },
   {
    "duration": 91,
    "start_time": "2021-12-08T15:20:36.877Z"
   },
   {
    "duration": 51,
    "start_time": "2021-12-08T15:20:50.398Z"
   },
   {
    "duration": 101,
    "start_time": "2021-12-08T15:21:54.527Z"
   },
   {
    "duration": 90,
    "start_time": "2021-12-08T15:22:04.745Z"
   },
   {
    "duration": 82,
    "start_time": "2021-12-08T15:22:53.687Z"
   },
   {
    "duration": 89,
    "start_time": "2021-12-08T15:23:07.793Z"
   },
   {
    "duration": 90,
    "start_time": "2021-12-08T15:23:55.849Z"
   },
   {
    "duration": 22,
    "start_time": "2021-12-08T15:26:35.928Z"
   },
   {
    "duration": 50,
    "start_time": "2021-12-08T15:29:07.890Z"
   },
   {
    "duration": 66,
    "start_time": "2021-12-08T15:37:35.999Z"
   },
   {
    "duration": 60,
    "start_time": "2021-12-08T15:38:00.713Z"
   },
   {
    "duration": 8007,
    "start_time": "2021-12-08T15:39:18.313Z"
   },
   {
    "duration": 12410,
    "start_time": "2021-12-08T15:43:01.023Z"
   },
   {
    "duration": 16,
    "start_time": "2021-12-08T15:43:38.618Z"
   },
   {
    "duration": 7,
    "start_time": "2021-12-08T15:44:26.696Z"
   },
   {
    "duration": 806,
    "start_time": "2021-12-08T15:45:28.293Z"
   },
   {
    "duration": 23,
    "start_time": "2021-12-08T15:45:29.101Z"
   },
   {
    "duration": 12,
    "start_time": "2021-12-08T15:45:29.127Z"
   },
   {
    "duration": 21,
    "start_time": "2021-12-08T15:45:29.141Z"
   },
   {
    "duration": 6,
    "start_time": "2021-12-08T15:45:29.165Z"
   },
   {
    "duration": 52,
    "start_time": "2021-12-08T15:45:29.173Z"
   },
   {
    "duration": 13,
    "start_time": "2021-12-08T15:45:29.228Z"
   },
   {
    "duration": 28,
    "start_time": "2021-12-08T15:45:29.245Z"
   },
   {
    "duration": 30,
    "start_time": "2021-12-08T15:45:29.275Z"
   },
   {
    "duration": 26,
    "start_time": "2021-12-08T15:45:29.307Z"
   },
   {
    "duration": 20,
    "start_time": "2021-12-08T15:45:29.335Z"
   },
   {
    "duration": 10,
    "start_time": "2021-12-08T15:45:29.357Z"
   },
   {
    "duration": 54,
    "start_time": "2021-12-08T15:45:29.369Z"
   },
   {
    "duration": 8,
    "start_time": "2021-12-08T15:45:29.426Z"
   },
   {
    "duration": 9,
    "start_time": "2021-12-08T15:45:29.436Z"
   },
   {
    "duration": 14,
    "start_time": "2021-12-08T15:45:29.447Z"
   },
   {
    "duration": 62,
    "start_time": "2021-12-08T15:45:29.463Z"
   },
   {
    "duration": 59,
    "start_time": "2021-12-08T15:45:29.527Z"
   },
   {
    "duration": 15,
    "start_time": "2021-12-08T15:45:33.737Z"
   },
   {
    "duration": 8,
    "start_time": "2021-12-08T15:45:38.274Z"
   },
   {
    "duration": 7,
    "start_time": "2021-12-08T15:46:07.002Z"
   },
   {
    "duration": 14,
    "start_time": "2021-12-08T15:46:31.027Z"
   },
   {
    "duration": 34,
    "start_time": "2021-12-08T15:47:58.411Z"
   },
   {
    "duration": 15,
    "start_time": "2021-12-08T15:48:02.883Z"
   },
   {
    "duration": 48,
    "start_time": "2021-12-08T15:48:48.437Z"
   },
   {
    "duration": 769,
    "start_time": "2021-12-08T15:49:42.562Z"
   },
   {
    "duration": 16,
    "start_time": "2021-12-08T15:49:43.334Z"
   },
   {
    "duration": 12,
    "start_time": "2021-12-08T15:49:43.353Z"
   },
   {
    "duration": 57,
    "start_time": "2021-12-08T15:49:43.368Z"
   },
   {
    "duration": 9,
    "start_time": "2021-12-08T15:49:43.427Z"
   },
   {
    "duration": 13,
    "start_time": "2021-12-08T15:49:43.439Z"
   },
   {
    "duration": 13,
    "start_time": "2021-12-08T15:49:43.454Z"
   },
   {
    "duration": 54,
    "start_time": "2021-12-08T15:49:43.471Z"
   },
   {
    "duration": 18,
    "start_time": "2021-12-08T15:49:43.527Z"
   },
   {
    "duration": 16,
    "start_time": "2021-12-08T15:49:43.547Z"
   },
   {
    "duration": 19,
    "start_time": "2021-12-08T15:49:43.565Z"
   },
   {
    "duration": 12,
    "start_time": "2021-12-08T15:49:43.622Z"
   },
   {
    "duration": 20,
    "start_time": "2021-12-08T15:49:43.637Z"
   },
   {
    "duration": 8,
    "start_time": "2021-12-08T15:49:43.660Z"
   },
   {
    "duration": 8,
    "start_time": "2021-12-08T15:49:43.670Z"
   },
   {
    "duration": 11,
    "start_time": "2021-12-08T15:49:43.724Z"
   },
   {
    "duration": 32,
    "start_time": "2021-12-08T15:49:43.737Z"
   },
   {
    "duration": 86,
    "start_time": "2021-12-08T15:49:43.772Z"
   },
   {
    "duration": 14,
    "start_time": "2021-12-08T15:49:43.860Z"
   },
   {
    "duration": 75,
    "start_time": "2021-12-08T15:49:43.876Z"
   },
   {
    "duration": 16,
    "start_time": "2021-12-08T15:51:10.536Z"
   },
   {
    "duration": 54,
    "start_time": "2021-12-08T15:52:16.026Z"
   },
   {
    "duration": 52,
    "start_time": "2021-12-08T15:55:47.651Z"
   },
   {
    "duration": 11,
    "start_time": "2021-12-08T15:55:49.467Z"
   },
   {
    "duration": 815,
    "start_time": "2021-12-08T15:58:25.151Z"
   },
   {
    "duration": 16,
    "start_time": "2021-12-08T15:58:25.968Z"
   },
   {
    "duration": 40,
    "start_time": "2021-12-08T15:58:25.986Z"
   },
   {
    "duration": 31,
    "start_time": "2021-12-08T15:58:26.029Z"
   },
   {
    "duration": 19,
    "start_time": "2021-12-08T15:58:26.062Z"
   },
   {
    "duration": 34,
    "start_time": "2021-12-08T15:58:26.083Z"
   },
   {
    "duration": 25,
    "start_time": "2021-12-08T15:58:26.120Z"
   },
   {
    "duration": 39,
    "start_time": "2021-12-08T15:58:26.149Z"
   },
   {
    "duration": 35,
    "start_time": "2021-12-08T15:58:26.192Z"
   },
   {
    "duration": 16,
    "start_time": "2021-12-08T15:58:26.231Z"
   },
   {
    "duration": 20,
    "start_time": "2021-12-08T15:58:26.250Z"
   },
   {
    "duration": 16,
    "start_time": "2021-12-08T15:58:26.272Z"
   },
   {
    "duration": 58,
    "start_time": "2021-12-08T15:58:26.290Z"
   },
   {
    "duration": 8,
    "start_time": "2021-12-08T15:58:26.350Z"
   },
   {
    "duration": 8,
    "start_time": "2021-12-08T15:58:26.360Z"
   },
   {
    "duration": 10,
    "start_time": "2021-12-08T15:58:26.370Z"
   },
   {
    "duration": 36,
    "start_time": "2021-12-08T15:58:26.423Z"
   },
   {
    "duration": 80,
    "start_time": "2021-12-08T15:58:26.461Z"
   },
   {
    "duration": 15,
    "start_time": "2021-12-08T15:58:26.544Z"
   },
   {
    "duration": 89,
    "start_time": "2021-12-08T15:58:26.561Z"
   },
   {
    "duration": 12,
    "start_time": "2021-12-08T15:58:33.301Z"
   },
   {
    "duration": 45,
    "start_time": "2021-12-08T16:00:31.024Z"
   },
   {
    "duration": 12,
    "start_time": "2021-12-08T16:10:57.129Z"
   },
   {
    "duration": 25,
    "start_time": "2021-12-08T16:11:34.490Z"
   },
   {
    "duration": 10,
    "start_time": "2021-12-08T16:12:15.555Z"
   },
   {
    "duration": 468,
    "start_time": "2021-12-08T17:04:10.009Z"
   },
   {
    "duration": 25,
    "start_time": "2021-12-08T17:09:12.715Z"
   },
   {
    "duration": 840,
    "start_time": "2021-12-08T17:19:32.982Z"
   },
   {
    "duration": 17,
    "start_time": "2021-12-08T17:19:33.826Z"
   },
   {
    "duration": 14,
    "start_time": "2021-12-08T17:19:33.847Z"
   },
   {
    "duration": 62,
    "start_time": "2021-12-08T17:19:33.865Z"
   },
   {
    "duration": 9,
    "start_time": "2021-12-08T17:19:33.930Z"
   },
   {
    "duration": 15,
    "start_time": "2021-12-08T17:19:33.942Z"
   },
   {
    "duration": 11,
    "start_time": "2021-12-08T17:19:33.959Z"
   },
   {
    "duration": 64,
    "start_time": "2021-12-08T17:19:33.976Z"
   },
   {
    "duration": 28,
    "start_time": "2021-12-08T17:19:34.043Z"
   },
   {
    "duration": 13,
    "start_time": "2021-12-08T17:19:34.074Z"
   },
   {
    "duration": 49,
    "start_time": "2021-12-08T17:19:34.090Z"
   },
   {
    "duration": 12,
    "start_time": "2021-12-08T17:19:34.141Z"
   },
   {
    "duration": 21,
    "start_time": "2021-12-08T17:19:34.155Z"
   },
   {
    "duration": 45,
    "start_time": "2021-12-08T17:19:34.178Z"
   },
   {
    "duration": 8,
    "start_time": "2021-12-08T17:19:34.226Z"
   },
   {
    "duration": 11,
    "start_time": "2021-12-08T17:19:34.236Z"
   },
   {
    "duration": 35,
    "start_time": "2021-12-08T17:19:34.250Z"
   },
   {
    "duration": 91,
    "start_time": "2021-12-08T17:19:34.288Z"
   },
   {
    "duration": 15,
    "start_time": "2021-12-08T17:19:34.381Z"
   },
   {
    "duration": 74,
    "start_time": "2021-12-08T17:19:34.398Z"
   },
   {
    "duration": 24,
    "start_time": "2021-12-08T17:19:34.474Z"
   },
   {
    "duration": 7,
    "start_time": "2021-12-08T17:30:39.681Z"
   },
   {
    "duration": 101,
    "start_time": "2021-12-08T17:30:51.274Z"
   },
   {
    "duration": 14,
    "start_time": "2021-12-08T17:31:05.361Z"
   },
   {
    "duration": 12,
    "start_time": "2021-12-08T17:32:05.752Z"
   },
   {
    "duration": 10,
    "start_time": "2021-12-08T17:32:55.427Z"
   },
   {
    "duration": 39,
    "start_time": "2021-12-08T17:33:11.365Z"
   },
   {
    "duration": 20,
    "start_time": "2021-12-08T17:33:19.066Z"
   },
   {
    "duration": 19,
    "start_time": "2021-12-08T17:33:35.499Z"
   },
   {
    "duration": 10,
    "start_time": "2021-12-08T17:33:51.795Z"
   },
   {
    "duration": 24,
    "start_time": "2021-12-08T17:33:54.081Z"
   },
   {
    "duration": 26,
    "start_time": "2021-12-08T17:33:57.441Z"
   },
   {
    "duration": 50,
    "start_time": "2021-12-08T17:33:59.529Z"
   },
   {
    "duration": 11,
    "start_time": "2021-12-08T17:34:14.674Z"
   },
   {
    "duration": 867,
    "start_time": "2021-12-08T17:34:17.665Z"
   },
   {
    "duration": 43,
    "start_time": "2021-12-08T17:36:53.181Z"
   },
   {
    "duration": 132,
    "start_time": "2021-12-08T17:38:02.761Z"
   },
   {
    "duration": 738,
    "start_time": "2021-12-08T17:43:30.127Z"
   },
   {
    "duration": 7,
    "start_time": "2021-12-08T17:44:07.590Z"
   },
   {
    "duration": 7,
    "start_time": "2021-12-08T17:44:50.183Z"
   },
   {
    "duration": 7,
    "start_time": "2021-12-08T17:45:13.103Z"
   },
   {
    "duration": 94,
    "start_time": "2021-12-08T17:45:55.730Z"
   },
   {
    "duration": 6,
    "start_time": "2021-12-08T17:46:04.568Z"
   },
   {
    "duration": 7,
    "start_time": "2021-12-08T17:46:13.103Z"
   },
   {
    "duration": 8,
    "start_time": "2021-12-08T17:46:24.904Z"
   },
   {
    "duration": 7,
    "start_time": "2021-12-08T17:46:30.703Z"
   },
   {
    "duration": 7,
    "start_time": "2021-12-08T17:52:02.737Z"
   },
   {
    "duration": 4309,
    "start_time": "2021-12-08T17:52:12.103Z"
   },
   {
    "duration": 7,
    "start_time": "2021-12-08T17:53:12.454Z"
   },
   {
    "duration": 134,
    "start_time": "2021-12-08T17:56:11.429Z"
   },
   {
    "duration": 1190,
    "start_time": "2021-12-08T17:56:29.725Z"
   },
   {
    "duration": 51,
    "start_time": "2021-12-08T17:56:45.564Z"
   },
   {
    "duration": 12,
    "start_time": "2021-12-08T17:57:13.307Z"
   },
   {
    "duration": 8,
    "start_time": "2021-12-08T18:06:53.393Z"
   },
   {
    "duration": 9,
    "start_time": "2021-12-08T18:07:08.024Z"
   },
   {
    "duration": 7,
    "start_time": "2021-12-08T18:07:16.344Z"
   },
   {
    "duration": 51,
    "start_time": "2021-12-08T18:07:53.161Z"
   },
   {
    "duration": 11,
    "start_time": "2021-12-08T18:08:16.896Z"
   },
   {
    "duration": 29,
    "start_time": "2021-12-08T18:12:38.292Z"
   },
   {
    "duration": 8,
    "start_time": "2021-12-08T18:17:03.414Z"
   },
   {
    "duration": 13,
    "start_time": "2021-12-08T18:17:10.052Z"
   },
   {
    "duration": 12,
    "start_time": "2021-12-08T18:18:57.812Z"
   },
   {
    "duration": 12,
    "start_time": "2021-12-08T18:22:05.774Z"
   },
   {
    "duration": 117,
    "start_time": "2021-12-08T18:23:44.567Z"
   },
   {
    "duration": 3,
    "start_time": "2021-12-08T18:24:00.043Z"
   },
   {
    "duration": 12,
    "start_time": "2021-12-08T18:24:02.591Z"
   },
   {
    "duration": 46,
    "start_time": "2021-12-08T18:29:17.346Z"
   },
   {
    "duration": 25,
    "start_time": "2021-12-08T18:29:24.859Z"
   },
   {
    "duration": 42,
    "start_time": "2021-12-08T18:32:54.900Z"
   },
   {
    "duration": 45,
    "start_time": "2021-12-08T18:33:31.925Z"
   },
   {
    "duration": 44,
    "start_time": "2021-12-08T18:33:38.685Z"
   },
   {
    "duration": 23,
    "start_time": "2021-12-08T18:35:48.951Z"
   },
   {
    "duration": 972,
    "start_time": "2021-12-08T18:47:44.840Z"
   },
   {
    "duration": 16,
    "start_time": "2021-12-08T18:47:45.816Z"
   },
   {
    "duration": 13,
    "start_time": "2021-12-08T18:47:45.835Z"
   },
   {
    "duration": 22,
    "start_time": "2021-12-08T18:47:45.852Z"
   },
   {
    "duration": 47,
    "start_time": "2021-12-08T18:47:45.877Z"
   },
   {
    "duration": 13,
    "start_time": "2021-12-08T18:47:45.928Z"
   },
   {
    "duration": 13,
    "start_time": "2021-12-08T18:47:45.944Z"
   },
   {
    "duration": 18,
    "start_time": "2021-12-08T18:47:45.961Z"
   },
   {
    "duration": 18,
    "start_time": "2021-12-08T18:47:46.025Z"
   },
   {
    "duration": 14,
    "start_time": "2021-12-08T18:47:46.045Z"
   },
   {
    "duration": 19,
    "start_time": "2021-12-08T18:47:46.061Z"
   },
   {
    "duration": 49,
    "start_time": "2021-12-08T18:47:46.082Z"
   },
   {
    "duration": 19,
    "start_time": "2021-12-08T18:47:46.134Z"
   },
   {
    "duration": 7,
    "start_time": "2021-12-08T18:47:46.156Z"
   },
   {
    "duration": 7,
    "start_time": "2021-12-08T18:47:46.165Z"
   },
   {
    "duration": 55,
    "start_time": "2021-12-08T18:47:46.175Z"
   },
   {
    "duration": 29,
    "start_time": "2021-12-08T18:47:46.233Z"
   },
   {
    "duration": 80,
    "start_time": "2021-12-08T18:47:46.264Z"
   },
   {
    "duration": 13,
    "start_time": "2021-12-08T18:47:46.346Z"
   },
   {
    "duration": 73,
    "start_time": "2021-12-08T18:47:46.361Z"
   },
   {
    "duration": 23,
    "start_time": "2021-12-08T18:47:46.436Z"
   },
   {
    "duration": 12,
    "start_time": "2021-12-08T18:47:46.461Z"
   },
   {
    "duration": 73,
    "start_time": "2021-12-08T18:47:46.477Z"
   },
   {
    "duration": 17,
    "start_time": "2021-12-08T18:47:46.553Z"
   },
   {
    "duration": 16,
    "start_time": "2021-12-08T18:47:46.572Z"
   },
   {
    "duration": 50,
    "start_time": "2021-12-08T18:47:46.590Z"
   },
   {
    "duration": 28,
    "start_time": "2021-12-08T18:47:46.642Z"
   },
   {
    "duration": 72,
    "start_time": "2021-12-08T18:47:46.672Z"
   },
   {
    "duration": 10,
    "start_time": "2021-12-08T18:47:46.747Z"
   },
   {
    "duration": 888,
    "start_time": "2021-12-08T18:47:46.760Z"
   },
   {
    "duration": 44,
    "start_time": "2021-12-08T18:47:47.651Z"
   },
   {
    "duration": 4115,
    "start_time": "2021-12-08T18:47:47.697Z"
   },
   {
    "duration": 7,
    "start_time": "2021-12-08T18:47:51.823Z"
   },
   {
    "duration": 48,
    "start_time": "2021-12-08T18:47:51.834Z"
   },
   {
    "duration": 38,
    "start_time": "2021-12-08T18:47:51.885Z"
   },
   {
    "duration": 3,
    "start_time": "2021-12-08T18:47:51.926Z"
   },
   {
    "duration": 19,
    "start_time": "2021-12-08T18:47:51.931Z"
   },
   {
    "duration": 71,
    "start_time": "2021-12-08T18:47:51.952Z"
   },
   {
    "duration": 42,
    "start_time": "2021-12-08T18:47:52.025Z"
   },
   {
    "duration": 23,
    "start_time": "2021-12-08T18:47:52.070Z"
   },
   {
    "duration": 7,
    "start_time": "2021-12-08T18:54:13.682Z"
   },
   {
    "duration": 7,
    "start_time": "2021-12-08T18:54:28.473Z"
   },
   {
    "duration": 6,
    "start_time": "2021-12-08T18:54:45.154Z"
   },
   {
    "duration": 803,
    "start_time": "2021-12-08T18:54:57.033Z"
   },
   {
    "duration": 13,
    "start_time": "2021-12-08T18:54:57.839Z"
   },
   {
    "duration": 35,
    "start_time": "2021-12-08T18:54:57.855Z"
   },
   {
    "duration": 31,
    "start_time": "2021-12-08T18:54:57.894Z"
   },
   {
    "duration": 26,
    "start_time": "2021-12-08T18:54:57.928Z"
   },
   {
    "duration": 41,
    "start_time": "2021-12-08T18:54:57.956Z"
   },
   {
    "duration": 25,
    "start_time": "2021-12-08T18:54:57.999Z"
   },
   {
    "duration": 45,
    "start_time": "2021-12-08T18:54:58.028Z"
   },
   {
    "duration": 36,
    "start_time": "2021-12-08T18:54:58.076Z"
   },
   {
    "duration": 34,
    "start_time": "2021-12-08T18:54:58.114Z"
   },
   {
    "duration": 42,
    "start_time": "2021-12-08T18:54:58.151Z"
   },
   {
    "duration": 19,
    "start_time": "2021-12-08T18:54:58.195Z"
   },
   {
    "duration": 38,
    "start_time": "2021-12-08T18:54:58.217Z"
   },
   {
    "duration": 23,
    "start_time": "2021-12-08T18:54:58.258Z"
   },
   {
    "duration": 33,
    "start_time": "2021-12-08T18:54:58.284Z"
   },
   {
    "duration": 37,
    "start_time": "2021-12-08T18:54:58.320Z"
   },
   {
    "duration": 45,
    "start_time": "2021-12-08T18:54:58.360Z"
   },
   {
    "duration": 54,
    "start_time": "2021-12-08T18:54:58.408Z"
   },
   {
    "duration": 13,
    "start_time": "2021-12-08T18:54:58.464Z"
   },
   {
    "duration": 86,
    "start_time": "2021-12-08T18:54:58.480Z"
   },
   {
    "duration": 21,
    "start_time": "2021-12-08T18:54:58.569Z"
   },
   {
    "duration": 31,
    "start_time": "2021-12-08T18:54:58.592Z"
   },
   {
    "duration": 66,
    "start_time": "2021-12-08T18:54:58.629Z"
   },
   {
    "duration": 17,
    "start_time": "2021-12-08T18:54:58.698Z"
   },
   {
    "duration": 33,
    "start_time": "2021-12-08T18:54:58.717Z"
   },
   {
    "duration": 45,
    "start_time": "2021-12-08T18:54:58.753Z"
   },
   {
    "duration": 63,
    "start_time": "2021-12-08T18:54:58.800Z"
   },
   {
    "duration": 44,
    "start_time": "2021-12-08T18:54:58.866Z"
   },
   {
    "duration": 10,
    "start_time": "2021-12-08T18:54:58.912Z"
   },
   {
    "duration": 861,
    "start_time": "2021-12-08T18:54:58.925Z"
   },
   {
    "duration": 51,
    "start_time": "2021-12-08T18:54:59.788Z"
   },
   {
    "duration": 3720,
    "start_time": "2021-12-08T18:54:59.841Z"
   },
   {
    "duration": 7,
    "start_time": "2021-12-08T18:55:03.563Z"
   },
   {
    "duration": 69,
    "start_time": "2021-12-08T18:55:03.573Z"
   },
   {
    "duration": 10,
    "start_time": "2021-12-08T18:55:03.645Z"
   },
   {
    "duration": 8,
    "start_time": "2021-12-08T18:55:03.658Z"
   },
   {
    "duration": 18,
    "start_time": "2021-12-08T18:55:03.668Z"
   },
   {
    "duration": 72,
    "start_time": "2021-12-08T18:55:03.689Z"
   },
   {
    "duration": 40,
    "start_time": "2021-12-08T18:55:03.764Z"
   },
   {
    "duration": 23,
    "start_time": "2021-12-08T18:55:03.822Z"
   },
   {
    "duration": 819,
    "start_time": "2021-12-09T18:22:04.240Z"
   },
   {
    "duration": 15,
    "start_time": "2021-12-09T18:22:05.062Z"
   },
   {
    "duration": 13,
    "start_time": "2021-12-09T18:22:05.081Z"
   },
   {
    "duration": 52,
    "start_time": "2021-12-09T18:22:05.097Z"
   },
   {
    "duration": 8,
    "start_time": "2021-12-09T18:22:05.151Z"
   },
   {
    "duration": 13,
    "start_time": "2021-12-09T18:22:05.162Z"
   },
   {
    "duration": 49,
    "start_time": "2021-12-09T18:22:05.178Z"
   },
   {
    "duration": 24,
    "start_time": "2021-12-09T18:22:05.233Z"
   },
   {
    "duration": 23,
    "start_time": "2021-12-09T18:22:05.261Z"
   },
   {
    "duration": 46,
    "start_time": "2021-12-09T18:22:05.287Z"
   },
   {
    "duration": 20,
    "start_time": "2021-12-09T18:22:05.335Z"
   },
   {
    "duration": 11,
    "start_time": "2021-12-09T18:22:05.357Z"
   },
   {
    "duration": 61,
    "start_time": "2021-12-09T18:22:05.370Z"
   },
   {
    "duration": 7,
    "start_time": "2021-12-09T18:22:05.433Z"
   },
   {
    "duration": 13,
    "start_time": "2021-12-09T18:22:05.442Z"
   },
   {
    "duration": 16,
    "start_time": "2021-12-09T18:22:05.457Z"
   },
   {
    "duration": 58,
    "start_time": "2021-12-09T18:22:05.475Z"
   },
   {
    "duration": 56,
    "start_time": "2021-12-09T18:22:05.535Z"
   },
   {
    "duration": 34,
    "start_time": "2021-12-09T18:22:05.593Z"
   },
   {
    "duration": 55,
    "start_time": "2021-12-09T18:22:05.630Z"
   },
   {
    "duration": 43,
    "start_time": "2021-12-09T18:22:05.687Z"
   },
   {
    "duration": 9,
    "start_time": "2021-12-09T18:22:05.733Z"
   },
   {
    "duration": 39,
    "start_time": "2021-12-09T18:22:05.746Z"
   },
   {
    "duration": 49,
    "start_time": "2021-12-09T18:22:05.788Z"
   },
   {
    "duration": 11,
    "start_time": "2021-12-09T18:22:05.839Z"
   },
   {
    "duration": 26,
    "start_time": "2021-12-09T18:22:05.852Z"
   },
   {
    "duration": 61,
    "start_time": "2021-12-09T18:22:05.881Z"
   },
   {
    "duration": 45,
    "start_time": "2021-12-09T18:22:05.945Z"
   },
   {
    "duration": 30,
    "start_time": "2021-12-09T18:22:05.993Z"
   },
   {
    "duration": 849,
    "start_time": "2021-12-09T18:22:06.026Z"
   },
   {
    "duration": 49,
    "start_time": "2021-12-09T18:22:06.878Z"
   },
   {
    "duration": 3847,
    "start_time": "2021-12-09T18:22:06.929Z"
   },
   {
    "duration": 7,
    "start_time": "2021-12-09T18:22:10.778Z"
   },
   {
    "duration": 65,
    "start_time": "2021-12-09T18:22:10.787Z"
   },
   {
    "duration": 10,
    "start_time": "2021-12-09T18:22:10.854Z"
   },
   {
    "duration": 4,
    "start_time": "2021-12-09T18:22:10.867Z"
   },
   {
    "duration": 18,
    "start_time": "2021-12-09T18:22:10.874Z"
   },
   {
    "duration": 64,
    "start_time": "2021-12-09T18:22:10.923Z"
   },
   {
    "duration": 84,
    "start_time": "2021-12-09T18:22:10.990Z"
   },
   {
    "duration": 47,
    "start_time": "2021-12-09T18:22:11.077Z"
   },
   {
    "duration": 831,
    "start_time": "2021-12-09T18:48:15.930Z"
   },
   {
    "duration": 15,
    "start_time": "2021-12-09T18:48:17.960Z"
   },
   {
    "duration": 13,
    "start_time": "2021-12-09T18:48:18.327Z"
   },
   {
    "duration": 22,
    "start_time": "2021-12-09T18:48:18.864Z"
   },
   {
    "duration": 8,
    "start_time": "2021-12-09T18:48:19.229Z"
   },
   {
    "duration": 11,
    "start_time": "2021-12-09T18:48:19.699Z"
   },
   {
    "duration": 10,
    "start_time": "2021-12-09T18:48:20.961Z"
   },
   {
    "duration": 18,
    "start_time": "2021-12-09T18:48:21.313Z"
   },
   {
    "duration": 16,
    "start_time": "2021-12-09T18:48:22.459Z"
   },
   {
    "duration": 14,
    "start_time": "2021-12-09T18:48:23.311Z"
   },
   {
    "duration": 19,
    "start_time": "2021-12-09T18:48:24.623Z"
   },
   {
    "duration": 12,
    "start_time": "2021-12-09T18:48:25.435Z"
   },
   {
    "duration": 20,
    "start_time": "2021-12-09T18:48:26.241Z"
   },
   {
    "duration": 9,
    "start_time": "2021-12-09T18:48:27.051Z"
   },
   {
    "duration": 8,
    "start_time": "2021-12-09T18:48:27.589Z"
   },
   {
    "duration": 12,
    "start_time": "2021-12-09T18:48:28.236Z"
   },
   {
    "duration": 33,
    "start_time": "2021-12-09T18:48:34.956Z"
   },
   {
    "duration": 59,
    "start_time": "2021-12-09T18:49:13.960Z"
   },
   {
    "duration": 51,
    "start_time": "2021-12-09T18:49:22.760Z"
   },
   {
    "duration": 5,
    "start_time": "2021-12-09T18:49:56.769Z"
   },
   {
    "duration": 15,
    "start_time": "2021-12-09T18:49:59.988Z"
   },
   {
    "duration": 15,
    "start_time": "2021-12-09T18:50:55.051Z"
   },
   {
    "duration": 16,
    "start_time": "2021-12-09T18:51:03.055Z"
   },
   {
    "duration": 57,
    "start_time": "2021-12-09T18:51:24.913Z"
   },
   {
    "duration": 24,
    "start_time": "2021-12-09T18:51:55.764Z"
   },
   {
    "duration": 27,
    "start_time": "2021-12-09T18:52:58.536Z"
   },
   {
    "duration": 510,
    "start_time": "2021-12-09T18:53:06.155Z"
   },
   {
    "duration": 28,
    "start_time": "2021-12-09T18:53:10.049Z"
   },
   {
    "duration": 25,
    "start_time": "2021-12-09T18:53:27.438Z"
   },
   {
    "duration": 592,
    "start_time": "2021-12-09T18:53:34.594Z"
   },
   {
    "duration": 23,
    "start_time": "2021-12-09T18:53:41.944Z"
   },
   {
    "duration": 25,
    "start_time": "2021-12-09T18:53:55.962Z"
   },
   {
    "duration": 928,
    "start_time": "2021-12-09T18:54:31.984Z"
   },
   {
    "duration": 15,
    "start_time": "2021-12-09T18:54:32.916Z"
   },
   {
    "duration": 14,
    "start_time": "2021-12-09T18:54:32.935Z"
   },
   {
    "duration": 21,
    "start_time": "2021-12-09T18:54:32.952Z"
   },
   {
    "duration": 48,
    "start_time": "2021-12-09T18:54:32.975Z"
   },
   {
    "duration": 11,
    "start_time": "2021-12-09T18:54:33.025Z"
   },
   {
    "duration": 19,
    "start_time": "2021-12-09T18:54:33.038Z"
   },
   {
    "duration": 21,
    "start_time": "2021-12-09T18:54:33.059Z"
   },
   {
    "duration": 41,
    "start_time": "2021-12-09T18:54:33.084Z"
   },
   {
    "duration": 13,
    "start_time": "2021-12-09T18:54:33.128Z"
   },
   {
    "duration": 27,
    "start_time": "2021-12-09T18:54:33.144Z"
   },
   {
    "duration": 50,
    "start_time": "2021-12-09T18:54:33.174Z"
   },
   {
    "duration": 24,
    "start_time": "2021-12-09T18:54:33.227Z"
   },
   {
    "duration": 8,
    "start_time": "2021-12-09T18:54:33.254Z"
   },
   {
    "duration": 14,
    "start_time": "2021-12-09T18:54:33.264Z"
   },
   {
    "duration": 43,
    "start_time": "2021-12-09T18:54:33.280Z"
   },
   {
    "duration": 31,
    "start_time": "2021-12-09T18:54:33.325Z"
   },
   {
    "duration": 105,
    "start_time": "2021-12-09T18:54:33.359Z"
   },
   {
    "duration": 20,
    "start_time": "2021-12-09T18:54:33.467Z"
   },
   {
    "duration": 41,
    "start_time": "2021-12-09T18:54:33.489Z"
   },
   {
    "duration": 53,
    "start_time": "2021-12-09T18:54:33.532Z"
   },
   {
    "duration": 50,
    "start_time": "2021-12-09T18:54:33.587Z"
   },
   {
    "duration": 10,
    "start_time": "2021-12-09T18:54:33.639Z"
   },
   {
    "duration": 39,
    "start_time": "2021-12-09T18:54:33.651Z"
   },
   {
    "duration": 45,
    "start_time": "2021-12-09T18:54:33.692Z"
   },
   {
    "duration": 9,
    "start_time": "2021-12-09T18:54:33.739Z"
   },
   {
    "duration": 24,
    "start_time": "2021-12-09T18:54:33.753Z"
   },
   {
    "duration": 62,
    "start_time": "2021-12-09T18:54:33.779Z"
   },
   {
    "duration": 46,
    "start_time": "2021-12-09T18:54:33.843Z"
   },
   {
    "duration": 10,
    "start_time": "2021-12-09T18:54:33.891Z"
   },
   {
    "duration": 862,
    "start_time": "2021-12-09T18:54:33.903Z"
   },
   {
    "duration": 37,
    "start_time": "2021-12-09T18:54:34.768Z"
   },
   {
    "duration": 3752,
    "start_time": "2021-12-09T18:54:34.824Z"
   },
   {
    "duration": 6,
    "start_time": "2021-12-09T18:54:38.578Z"
   },
   {
    "duration": 68,
    "start_time": "2021-12-09T18:54:38.587Z"
   },
   {
    "duration": 10,
    "start_time": "2021-12-09T18:54:38.658Z"
   },
   {
    "duration": 6,
    "start_time": "2021-12-09T18:54:38.670Z"
   },
   {
    "duration": 17,
    "start_time": "2021-12-09T18:54:38.678Z"
   },
   {
    "duration": 67,
    "start_time": "2021-12-09T18:54:38.697Z"
   },
   {
    "duration": 63,
    "start_time": "2021-12-09T18:54:38.767Z"
   },
   {
    "duration": 25,
    "start_time": "2021-12-09T18:54:38.833Z"
   },
   {
    "duration": 27,
    "start_time": "2021-12-09T18:54:48.256Z"
   },
   {
    "duration": 894,
    "start_time": "2021-12-09T18:55:01.785Z"
   },
   {
    "duration": 15,
    "start_time": "2021-12-09T18:55:02.682Z"
   },
   {
    "duration": 25,
    "start_time": "2021-12-09T18:55:02.700Z"
   },
   {
    "duration": 23,
    "start_time": "2021-12-09T18:55:02.928Z"
   },
   {
    "duration": 9,
    "start_time": "2021-12-09T18:55:03.255Z"
   },
   {
    "duration": 11,
    "start_time": "2021-12-09T18:55:03.595Z"
   },
   {
    "duration": 9,
    "start_time": "2021-12-09T18:55:04.761Z"
   },
   {
    "duration": 17,
    "start_time": "2021-12-09T18:55:05.274Z"
   },
   {
    "duration": 16,
    "start_time": "2021-12-09T18:55:06.128Z"
   },
   {
    "duration": 14,
    "start_time": "2021-12-09T18:55:07.880Z"
   },
   {
    "duration": 20,
    "start_time": "2021-12-09T18:55:09.344Z"
   },
   {
    "duration": 12,
    "start_time": "2021-12-09T18:55:10.458Z"
   },
   {
    "duration": 24,
    "start_time": "2021-12-09T18:55:10.792Z"
   },
   {
    "duration": 8,
    "start_time": "2021-12-09T18:55:11.147Z"
   },
   {
    "duration": 9,
    "start_time": "2021-12-09T18:55:11.643Z"
   },
   {
    "duration": 12,
    "start_time": "2021-12-09T18:55:12.426Z"
   },
   {
    "duration": 33,
    "start_time": "2021-12-09T18:55:13.049Z"
   },
   {
    "duration": 61,
    "start_time": "2021-12-09T18:55:18.488Z"
   },
   {
    "duration": 34,
    "start_time": "2021-12-09T18:55:21.578Z"
   },
   {
    "duration": 14,
    "start_time": "2021-12-09T18:55:27.533Z"
   },
   {
    "duration": 11,
    "start_time": "2021-12-09T18:55:43.910Z"
   },
   {
    "duration": 7,
    "start_time": "2021-12-09T18:55:50.686Z"
   },
   {
    "duration": 13,
    "start_time": "2021-12-09T18:56:17.731Z"
   },
   {
    "duration": 14,
    "start_time": "2021-12-09T18:56:18.648Z"
   },
   {
    "duration": 56,
    "start_time": "2021-12-09T18:56:24.048Z"
   },
   {
    "duration": 24,
    "start_time": "2021-12-09T18:56:56.438Z"
   },
   {
    "duration": 14,
    "start_time": "2021-12-09T18:57:41.245Z"
   },
   {
    "duration": 791,
    "start_time": "2021-12-09T18:58:02.778Z"
   },
   {
    "duration": 14,
    "start_time": "2021-12-09T18:58:03.572Z"
   },
   {
    "duration": 34,
    "start_time": "2021-12-09T18:58:03.589Z"
   },
   {
    "duration": 24,
    "start_time": "2021-12-09T18:58:03.827Z"
   },
   {
    "duration": 8,
    "start_time": "2021-12-09T18:58:04.147Z"
   },
   {
    "duration": 12,
    "start_time": "2021-12-09T18:58:04.471Z"
   },
   {
    "duration": 10,
    "start_time": "2021-12-09T18:58:05.609Z"
   },
   {
    "duration": 18,
    "start_time": "2021-12-09T18:58:05.943Z"
   },
   {
    "duration": 25,
    "start_time": "2021-12-09T18:58:06.618Z"
   },
   {
    "duration": 16,
    "start_time": "2021-12-09T18:58:06.949Z"
   },
   {
    "duration": 20,
    "start_time": "2021-12-09T18:58:07.784Z"
   },
   {
    "duration": 12,
    "start_time": "2021-12-09T18:58:08.309Z"
   },
   {
    "duration": 21,
    "start_time": "2021-12-09T18:58:09.143Z"
   },
   {
    "duration": 9,
    "start_time": "2021-12-09T18:58:09.454Z"
   },
   {
    "duration": 8,
    "start_time": "2021-12-09T18:58:09.778Z"
   },
   {
    "duration": 12,
    "start_time": "2021-12-09T18:58:10.406Z"
   },
   {
    "duration": 31,
    "start_time": "2021-12-09T18:58:11.548Z"
   },
   {
    "duration": 59,
    "start_time": "2021-12-09T18:58:18.025Z"
   },
   {
    "duration": 14,
    "start_time": "2021-12-09T18:58:20.924Z"
   },
   {
    "duration": 58,
    "start_time": "2021-12-09T18:58:21.752Z"
   },
   {
    "duration": 14,
    "start_time": "2021-12-09T18:58:23.548Z"
   },
   {
    "duration": 24,
    "start_time": "2021-12-09T19:00:47.170Z"
   },
   {
    "duration": 15,
    "start_time": "2021-12-09T19:00:50.996Z"
   },
   {
    "duration": 19,
    "start_time": "2021-12-09T19:03:53.207Z"
   },
   {
    "duration": 440,
    "start_time": "2021-12-09T19:04:01.265Z"
   },
   {
    "duration": 438,
    "start_time": "2021-12-09T19:04:06.762Z"
   },
   {
    "duration": 19,
    "start_time": "2021-12-09T19:04:11.109Z"
   },
   {
    "duration": 12,
    "start_time": "2021-12-09T19:04:16.866Z"
   },
   {
    "duration": 17,
    "start_time": "2021-12-09T19:04:21.146Z"
   },
   {
    "duration": 19,
    "start_time": "2021-12-09T19:04:29.040Z"
   },
   {
    "duration": 9,
    "start_time": "2021-12-09T19:04:33.776Z"
   },
   {
    "duration": 8,
    "start_time": "2021-12-09T19:06:56.149Z"
   },
   {
    "duration": 7,
    "start_time": "2021-12-09T19:07:04.173Z"
   },
   {
    "duration": 20,
    "start_time": "2021-12-09T19:07:10.094Z"
   },
   {
    "duration": 20,
    "start_time": "2021-12-09T19:07:15.261Z"
   },
   {
    "duration": 20,
    "start_time": "2021-12-09T19:07:18.452Z"
   },
   {
    "duration": 17,
    "start_time": "2021-12-09T19:07:21.502Z"
   },
   {
    "duration": 17,
    "start_time": "2021-12-09T19:07:27.772Z"
   },
   {
    "duration": 38,
    "start_time": "2021-12-09T19:08:11.835Z"
   },
   {
    "duration": 797,
    "start_time": "2021-12-09T19:09:11.848Z"
   },
   {
    "duration": 520,
    "start_time": "2021-12-09T19:09:47.570Z"
   },
   {
    "duration": 415,
    "start_time": "2021-12-09T19:09:56.023Z"
   },
   {
    "duration": 369,
    "start_time": "2021-12-09T19:10:04.505Z"
   },
   {
    "duration": 903,
    "start_time": "2021-12-09T19:10:14.704Z"
   },
   {
    "duration": 8,
    "start_time": "2021-12-09T19:10:18.945Z"
   },
   {
    "duration": 7,
    "start_time": "2021-12-09T19:10:23.973Z"
   },
   {
    "duration": 15,
    "start_time": "2021-12-09T19:10:27.359Z"
   },
   {
    "duration": 11,
    "start_time": "2021-12-09T19:11:02.675Z"
   },
   {
    "duration": 887,
    "start_time": "2021-12-09T19:11:26.006Z"
   },
   {
    "duration": 12,
    "start_time": "2021-12-09T19:11:26.896Z"
   },
   {
    "duration": 34,
    "start_time": "2021-12-09T19:11:26.911Z"
   },
   {
    "duration": 11,
    "start_time": "2021-12-09T19:11:26.948Z"
   },
   {
    "duration": 14,
    "start_time": "2021-12-09T19:11:26.961Z"
   },
   {
    "duration": 10,
    "start_time": "2021-12-09T19:11:27.024Z"
   },
   {
    "duration": 25,
    "start_time": "2021-12-09T19:11:27.037Z"
   },
   {
    "duration": 19,
    "start_time": "2021-12-09T19:11:27.065Z"
   },
   {
    "duration": 46,
    "start_time": "2021-12-09T19:11:27.087Z"
   },
   {
    "duration": 20,
    "start_time": "2021-12-09T19:11:27.136Z"
   },
   {
    "duration": 12,
    "start_time": "2021-12-09T19:11:27.158Z"
   },
   {
    "duration": 54,
    "start_time": "2021-12-09T19:11:27.172Z"
   },
   {
    "duration": 8,
    "start_time": "2021-12-09T19:11:27.229Z"
   },
   {
    "duration": 11,
    "start_time": "2021-12-09T19:11:27.239Z"
   },
   {
    "duration": 12,
    "start_time": "2021-12-09T19:11:27.253Z"
   },
   {
    "duration": 76,
    "start_time": "2021-12-09T19:11:27.268Z"
   },
   {
    "duration": 58,
    "start_time": "2021-12-09T19:11:27.347Z"
   },
   {
    "duration": 14,
    "start_time": "2021-12-09T19:11:27.424Z"
   },
   {
    "duration": 54,
    "start_time": "2021-12-09T19:11:27.441Z"
   },
   {
    "duration": 48,
    "start_time": "2021-12-09T19:11:27.497Z"
   },
   {
    "duration": 10,
    "start_time": "2021-12-09T19:11:27.548Z"
   },
   {
    "duration": 72,
    "start_time": "2021-12-09T19:11:27.560Z"
   },
   {
    "duration": 17,
    "start_time": "2021-12-09T19:11:27.637Z"
   },
   {
    "duration": 9,
    "start_time": "2021-12-09T19:11:27.657Z"
   },
   {
    "duration": 42,
    "start_time": "2021-12-09T19:11:27.668Z"
   },
   {
    "duration": 29,
    "start_time": "2021-12-09T19:11:27.725Z"
   },
   {
    "duration": 77,
    "start_time": "2021-12-09T19:11:27.757Z"
   },
   {
    "duration": 10,
    "start_time": "2021-12-09T19:11:27.836Z"
   },
   {
    "duration": 914,
    "start_time": "2021-12-09T19:11:27.849Z"
   },
   {
    "duration": 40,
    "start_time": "2021-12-09T19:11:28.766Z"
   },
   {
    "duration": 4014,
    "start_time": "2021-12-09T19:11:28.824Z"
   },
   {
    "duration": 7,
    "start_time": "2021-12-09T19:11:32.840Z"
   },
   {
    "duration": 53,
    "start_time": "2021-12-09T19:11:32.850Z"
   },
   {
    "duration": 14,
    "start_time": "2021-12-09T19:11:32.924Z"
   },
   {
    "duration": 11,
    "start_time": "2021-12-09T19:11:32.941Z"
   },
   {
    "duration": 34,
    "start_time": "2021-12-09T19:11:32.954Z"
   },
   {
    "duration": 61,
    "start_time": "2021-12-09T19:11:32.991Z"
   },
   {
    "duration": 41,
    "start_time": "2021-12-09T19:11:33.055Z"
   },
   {
    "duration": 39,
    "start_time": "2021-12-09T19:11:33.099Z"
   },
   {
    "duration": 9,
    "start_time": "2021-12-09T19:12:05.246Z"
   },
   {
    "duration": 813,
    "start_time": "2021-12-09T19:12:36.984Z"
   },
   {
    "duration": 22,
    "start_time": "2021-12-09T19:12:37.801Z"
   },
   {
    "duration": 23,
    "start_time": "2021-12-09T19:12:37.828Z"
   },
   {
    "duration": 8,
    "start_time": "2021-12-09T19:12:37.855Z"
   },
   {
    "duration": 11,
    "start_time": "2021-12-09T19:12:37.865Z"
   },
   {
    "duration": 55,
    "start_time": "2021-12-09T19:12:37.878Z"
   },
   {
    "duration": 19,
    "start_time": "2021-12-09T19:12:37.935Z"
   },
   {
    "duration": 19,
    "start_time": "2021-12-09T19:12:37.956Z"
   },
   {
    "duration": 45,
    "start_time": "2021-12-09T19:12:37.979Z"
   },
   {
    "duration": 21,
    "start_time": "2021-12-09T19:12:38.027Z"
   },
   {
    "duration": 12,
    "start_time": "2021-12-09T19:12:38.051Z"
   },
   {
    "duration": 64,
    "start_time": "2021-12-09T19:12:38.065Z"
   },
   {
    "duration": 10,
    "start_time": "2021-12-09T19:12:38.132Z"
   },
   {
    "duration": 8,
    "start_time": "2021-12-09T19:12:38.145Z"
   },
   {
    "duration": 10,
    "start_time": "2021-12-09T19:12:38.155Z"
   },
   {
    "duration": 76,
    "start_time": "2021-12-09T19:12:38.167Z"
   },
   {
    "duration": 60,
    "start_time": "2021-12-09T19:12:38.245Z"
   },
   {
    "duration": 27,
    "start_time": "2021-12-09T19:12:38.307Z"
   },
   {
    "duration": 55,
    "start_time": "2021-12-09T19:12:38.337Z"
   },
   {
    "duration": 26,
    "start_time": "2021-12-09T19:12:38.423Z"
   },
   {
    "duration": 16,
    "start_time": "2021-12-09T19:12:38.451Z"
   },
   {
    "duration": 9,
    "start_time": "2021-12-09T19:12:38.470Z"
   },
   {
    "duration": 51,
    "start_time": "2021-12-09T19:12:38.481Z"
   },
   {
    "duration": 37,
    "start_time": "2021-12-09T19:12:38.534Z"
   },
   {
    "duration": 17,
    "start_time": "2021-12-09T19:12:38.573Z"
   },
   {
    "duration": 37,
    "start_time": "2021-12-09T19:12:38.592Z"
   },
   {
    "duration": 26,
    "start_time": "2021-12-09T19:12:38.634Z"
   },
   {
    "duration": 32,
    "start_time": "2021-12-09T19:12:38.663Z"
   },
   {
    "duration": 74,
    "start_time": "2021-12-09T19:12:38.697Z"
   },
   {
    "duration": 10,
    "start_time": "2021-12-09T19:12:38.773Z"
   },
   {
    "duration": 921,
    "start_time": "2021-12-09T19:12:38.785Z"
   },
   {
    "duration": 46,
    "start_time": "2021-12-09T19:12:39.709Z"
   },
   {
    "duration": 3970,
    "start_time": "2021-12-09T19:12:39.757Z"
   },
   {
    "duration": 7,
    "start_time": "2021-12-09T19:12:43.730Z"
   },
   {
    "duration": 48,
    "start_time": "2021-12-09T19:12:43.740Z"
   },
   {
    "duration": 38,
    "start_time": "2021-12-09T19:12:43.790Z"
   },
   {
    "duration": 9,
    "start_time": "2021-12-09T19:12:43.831Z"
   },
   {
    "duration": 35,
    "start_time": "2021-12-09T19:12:43.842Z"
   },
   {
    "duration": 58,
    "start_time": "2021-12-09T19:12:43.880Z"
   },
   {
    "duration": 41,
    "start_time": "2021-12-09T19:12:43.941Z"
   },
   {
    "duration": 44,
    "start_time": "2021-12-09T19:12:43.984Z"
   },
   {
    "duration": 15,
    "start_time": "2021-12-09T19:13:37.643Z"
   },
   {
    "duration": 856,
    "start_time": "2021-12-09T19:14:06.654Z"
   },
   {
    "duration": 15,
    "start_time": "2021-12-09T19:14:07.513Z"
   },
   {
    "duration": 35,
    "start_time": "2021-12-09T19:14:07.532Z"
   },
   {
    "duration": 22,
    "start_time": "2021-12-09T19:14:07.571Z"
   },
   {
    "duration": 32,
    "start_time": "2021-12-09T19:14:07.596Z"
   },
   {
    "duration": 14,
    "start_time": "2021-12-09T19:14:07.631Z"
   },
   {
    "duration": 29,
    "start_time": "2021-12-09T19:14:07.647Z"
   },
   {
    "duration": 24,
    "start_time": "2021-12-09T19:14:07.678Z"
   },
   {
    "duration": 13,
    "start_time": "2021-12-09T19:14:07.725Z"
   },
   {
    "duration": 24,
    "start_time": "2021-12-09T19:14:07.741Z"
   },
   {
    "duration": 25,
    "start_time": "2021-12-09T19:14:07.767Z"
   },
   {
    "duration": 45,
    "start_time": "2021-12-09T19:14:07.794Z"
   },
   {
    "duration": 8,
    "start_time": "2021-12-09T19:14:07.841Z"
   },
   {
    "duration": 14,
    "start_time": "2021-12-09T19:14:07.851Z"
   },
   {
    "duration": 14,
    "start_time": "2021-12-09T19:14:07.867Z"
   },
   {
    "duration": 71,
    "start_time": "2021-12-09T19:14:07.883Z"
   },
   {
    "duration": 85,
    "start_time": "2021-12-09T19:14:07.956Z"
   },
   {
    "duration": 15,
    "start_time": "2021-12-09T19:14:08.044Z"
   },
   {
    "duration": 91,
    "start_time": "2021-12-09T19:14:08.061Z"
   },
   {
    "duration": 22,
    "start_time": "2021-12-09T19:14:08.155Z"
   },
   {
    "duration": 54,
    "start_time": "2021-12-09T19:14:08.180Z"
   },
   {
    "duration": 19,
    "start_time": "2021-12-09T19:14:08.237Z"
   },
   {
    "duration": 19,
    "start_time": "2021-12-09T19:14:08.258Z"
   },
   {
    "duration": 58,
    "start_time": "2021-12-09T19:14:08.280Z"
   },
   {
    "duration": 17,
    "start_time": "2021-12-09T19:14:08.340Z"
   },
   {
    "duration": 9,
    "start_time": "2021-12-09T19:14:08.359Z"
   },
   {
    "duration": 56,
    "start_time": "2021-12-09T19:14:08.373Z"
   },
   {
    "duration": 28,
    "start_time": "2021-12-09T19:14:08.432Z"
   },
   {
    "duration": 73,
    "start_time": "2021-12-09T19:14:08.462Z"
   },
   {
    "duration": 10,
    "start_time": "2021-12-09T19:14:08.538Z"
   },
   {
    "duration": 924,
    "start_time": "2021-12-09T19:14:08.550Z"
   },
   {
    "duration": 54,
    "start_time": "2021-12-09T19:14:09.477Z"
   },
   {
    "duration": 4567,
    "start_time": "2021-12-09T19:14:09.534Z"
   },
   {
    "duration": 29,
    "start_time": "2021-12-09T19:14:14.103Z"
   },
   {
    "duration": 51,
    "start_time": "2021-12-09T19:14:14.134Z"
   },
   {
    "duration": 36,
    "start_time": "2021-12-09T19:14:14.187Z"
   },
   {
    "duration": 3,
    "start_time": "2021-12-09T19:14:14.226Z"
   },
   {
    "duration": 25,
    "start_time": "2021-12-09T19:14:14.232Z"
   },
   {
    "duration": 72,
    "start_time": "2021-12-09T19:14:14.260Z"
   },
   {
    "duration": 46,
    "start_time": "2021-12-09T19:14:14.334Z"
   },
   {
    "duration": 48,
    "start_time": "2021-12-09T19:14:14.383Z"
   },
   {
    "duration": 879,
    "start_time": "2021-12-09T19:16:59.514Z"
   },
   {
    "duration": 12,
    "start_time": "2021-12-09T19:17:00.396Z"
   },
   {
    "duration": 27,
    "start_time": "2021-12-09T19:17:00.424Z"
   },
   {
    "duration": 14,
    "start_time": "2021-12-09T19:17:00.454Z"
   },
   {
    "duration": 13,
    "start_time": "2021-12-09T19:17:00.470Z"
   },
   {
    "duration": 37,
    "start_time": "2021-12-09T19:17:00.486Z"
   },
   {
    "duration": 17,
    "start_time": "2021-12-09T19:17:00.526Z"
   },
   {
    "duration": 21,
    "start_time": "2021-12-09T19:17:00.546Z"
   },
   {
    "duration": 25,
    "start_time": "2021-12-09T19:17:00.569Z"
   },
   {
    "duration": 44,
    "start_time": "2021-12-09T19:17:00.597Z"
   },
   {
    "duration": 11,
    "start_time": "2021-12-09T19:17:00.644Z"
   },
   {
    "duration": 22,
    "start_time": "2021-12-09T19:17:00.657Z"
   },
   {
    "duration": 48,
    "start_time": "2021-12-09T19:17:00.681Z"
   },
   {
    "duration": 17,
    "start_time": "2021-12-09T19:17:00.731Z"
   },
   {
    "duration": 12,
    "start_time": "2021-12-09T19:17:00.751Z"
   },
   {
    "duration": 33,
    "start_time": "2021-12-09T19:17:00.765Z"
   },
   {
    "duration": 59,
    "start_time": "2021-12-09T19:17:00.824Z"
   },
   {
    "duration": 14,
    "start_time": "2021-12-09T19:17:00.885Z"
   },
   {
    "duration": 55,
    "start_time": "2021-12-09T19:17:00.924Z"
   },
   {
    "duration": 49,
    "start_time": "2021-12-09T19:17:00.981Z"
   },
   {
    "duration": 8,
    "start_time": "2021-12-09T19:17:01.032Z"
   },
   {
    "duration": 11,
    "start_time": "2021-12-09T19:17:01.042Z"
   },
   {
    "duration": 68,
    "start_time": "2021-12-09T19:17:01.057Z"
   },
   {
    "duration": 17,
    "start_time": "2021-12-09T19:17:01.128Z"
   },
   {
    "duration": 11,
    "start_time": "2021-12-09T19:17:01.147Z"
   },
   {
    "duration": 32,
    "start_time": "2021-12-09T19:17:01.160Z"
   },
   {
    "duration": 39,
    "start_time": "2021-12-09T19:17:01.223Z"
   },
   {
    "duration": 63,
    "start_time": "2021-12-09T19:17:01.265Z"
   },
   {
    "duration": 11,
    "start_time": "2021-12-09T19:17:01.330Z"
   },
   {
    "duration": 937,
    "start_time": "2021-12-09T19:17:01.344Z"
   },
   {
    "duration": 55,
    "start_time": "2021-12-09T19:17:02.284Z"
   },
   {
    "duration": 4059,
    "start_time": "2021-12-09T19:17:02.341Z"
   },
   {
    "duration": 7,
    "start_time": "2021-12-09T19:17:06.402Z"
   },
   {
    "duration": 59,
    "start_time": "2021-12-09T19:17:06.412Z"
   },
   {
    "duration": 12,
    "start_time": "2021-12-09T19:17:06.474Z"
   },
   {
    "duration": 4,
    "start_time": "2021-12-09T19:17:06.489Z"
   },
   {
    "duration": 46,
    "start_time": "2021-12-09T19:17:06.495Z"
   },
   {
    "duration": 46,
    "start_time": "2021-12-09T19:17:06.544Z"
   },
   {
    "duration": 45,
    "start_time": "2021-12-09T19:17:06.624Z"
   },
   {
    "duration": 52,
    "start_time": "2021-12-09T19:17:06.672Z"
   }
  ],
  "kernelspec": {
   "display_name": "Python 3 (ipykernel)",
   "language": "python",
   "name": "python3"
  },
  "language_info": {
   "codemirror_mode": {
    "name": "ipython",
    "version": 3
   },
   "file_extension": ".py",
   "mimetype": "text/x-python",
   "name": "python",
   "nbconvert_exporter": "python",
   "pygments_lexer": "ipython3",
   "version": "3.9.7"
  },
  "toc": {
   "base_numbering": 1,
   "nav_menu": {},
   "number_sections": true,
   "sideBar": true,
   "skip_h1_title": true,
   "title_cell": "Исследование надежности заемщиков",
   "title_sidebar": "Contents",
   "toc_cell": true,
   "toc_position": {},
   "toc_section_display": true,
   "toc_window_display": true
  }
 },
 "nbformat": 4,
 "nbformat_minor": 2
}
