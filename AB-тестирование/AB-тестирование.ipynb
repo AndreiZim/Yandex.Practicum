{
 "cells": [
  {
   "cell_type": "markdown",
   "metadata": {},
   "source": [
    "# Описание проекта\n",
    "\n",
    "Задача для аналитика крупного интернет-магазина. Вместе с отделом маркетинга вы подготовили список гипотез для увеличения выручки.\n",
    "Приоритизируйте гипотезы, запустите A/B-тест и проанализируйте результаты."
   ]
  },
  {
   "cell_type": "code",
   "execution_count": 1,
   "metadata": {},
   "outputs": [],
   "source": [
    "import pandas as pd\n",
    "import scipy.stats as stats\n",
    "import datetime as dt\n",
    "import numpy as np\n",
    "from matplotlib import pyplot as plt\n",
    "from pandas.plotting import register_matplotlib_converters\n",
    "register_matplotlib_converters()"
   ]
  },
  {
   "cell_type": "markdown",
   "metadata": {},
   "source": [
    "## Часть 1. Приоритизация гипотез."
   ]
  },
  {
   "cell_type": "markdown",
   "metadata": {},
   "source": [
    "Посмотрим на файл гипотез /datasets/hypothesis.csv"
   ]
  },
  {
   "cell_type": "code",
   "execution_count": 2,
   "metadata": {},
   "outputs": [
    {
     "data": {
      "text/html": [
       "<div>\n",
       "<style scoped>\n",
       "    .dataframe tbody tr th:only-of-type {\n",
       "        vertical-align: middle;\n",
       "    }\n",
       "\n",
       "    .dataframe tbody tr th {\n",
       "        vertical-align: top;\n",
       "    }\n",
       "\n",
       "    .dataframe thead th {\n",
       "        text-align: right;\n",
       "    }\n",
       "</style>\n",
       "<table border=\"1\" class=\"dataframe\">\n",
       "  <thead>\n",
       "    <tr style=\"text-align: right;\">\n",
       "      <th></th>\n",
       "      <th>Hypothesis</th>\n",
       "      <th>Reach</th>\n",
       "      <th>Impact</th>\n",
       "      <th>Confidence</th>\n",
       "      <th>Efforts</th>\n",
       "    </tr>\n",
       "  </thead>\n",
       "  <tbody>\n",
       "    <tr>\n",
       "      <td>0</td>\n",
       "      <td>Добавить два новых канала привлечения трафика, что позволит привлекать на 30% больше пользователей</td>\n",
       "      <td>3</td>\n",
       "      <td>10</td>\n",
       "      <td>8</td>\n",
       "      <td>6</td>\n",
       "    </tr>\n",
       "    <tr>\n",
       "      <td>1</td>\n",
       "      <td>Запустить собственную службу доставки, что сократит срок доставки заказов</td>\n",
       "      <td>2</td>\n",
       "      <td>5</td>\n",
       "      <td>4</td>\n",
       "      <td>10</td>\n",
       "    </tr>\n",
       "    <tr>\n",
       "      <td>2</td>\n",
       "      <td>Добавить блоки рекомендаций товаров на сайт интернет магазина, чтобы повысить конверсию и средний чек заказа</td>\n",
       "      <td>8</td>\n",
       "      <td>3</td>\n",
       "      <td>7</td>\n",
       "      <td>3</td>\n",
       "    </tr>\n",
       "    <tr>\n",
       "      <td>3</td>\n",
       "      <td>Изменить структура категорий, что увеличит конверсию, т.к. пользователи быстрее найдут нужный товар</td>\n",
       "      <td>8</td>\n",
       "      <td>3</td>\n",
       "      <td>3</td>\n",
       "      <td>8</td>\n",
       "    </tr>\n",
       "    <tr>\n",
       "      <td>4</td>\n",
       "      <td>Изменить цвет фона главной страницы, чтобы увеличить вовлеченность пользователей</td>\n",
       "      <td>3</td>\n",
       "      <td>1</td>\n",
       "      <td>1</td>\n",
       "      <td>1</td>\n",
       "    </tr>\n",
       "    <tr>\n",
       "      <td>5</td>\n",
       "      <td>Добавить страницу отзывов клиентов о магазине, что позволит увеличить количество заказов</td>\n",
       "      <td>3</td>\n",
       "      <td>2</td>\n",
       "      <td>2</td>\n",
       "      <td>3</td>\n",
       "    </tr>\n",
       "    <tr>\n",
       "      <td>6</td>\n",
       "      <td>Показать на главной странице баннеры с актуальными акциями и распродажами, чтобы увеличить конверсию</td>\n",
       "      <td>5</td>\n",
       "      <td>3</td>\n",
       "      <td>8</td>\n",
       "      <td>3</td>\n",
       "    </tr>\n",
       "    <tr>\n",
       "      <td>7</td>\n",
       "      <td>Добавить форму подписки на все основные страницы, чтобы собрать базу клиентов для email-рассылок</td>\n",
       "      <td>10</td>\n",
       "      <td>7</td>\n",
       "      <td>8</td>\n",
       "      <td>5</td>\n",
       "    </tr>\n",
       "    <tr>\n",
       "      <td>8</td>\n",
       "      <td>Запустить акцию, дающую скидку на товар в день рождения</td>\n",
       "      <td>1</td>\n",
       "      <td>9</td>\n",
       "      <td>9</td>\n",
       "      <td>5</td>\n",
       "    </tr>\n",
       "  </tbody>\n",
       "</table>\n",
       "</div>"
      ],
      "text/plain": [
       "                                                                                                     Hypothesis  \\\n",
       "0            Добавить два новых канала привлечения трафика, что позволит привлекать на 30% больше пользователей   \n",
       "1                                     Запустить собственную службу доставки, что сократит срок доставки заказов   \n",
       "2  Добавить блоки рекомендаций товаров на сайт интернет магазина, чтобы повысить конверсию и средний чек заказа   \n",
       "3           Изменить структура категорий, что увеличит конверсию, т.к. пользователи быстрее найдут нужный товар   \n",
       "4                              Изменить цвет фона главной страницы, чтобы увеличить вовлеченность пользователей   \n",
       "5                      Добавить страницу отзывов клиентов о магазине, что позволит увеличить количество заказов   \n",
       "6          Показать на главной странице баннеры с актуальными акциями и распродажами, чтобы увеличить конверсию   \n",
       "7              Добавить форму подписки на все основные страницы, чтобы собрать базу клиентов для email-рассылок   \n",
       "8                                                       Запустить акцию, дающую скидку на товар в день рождения   \n",
       "\n",
       "   Reach  Impact  Confidence  Efforts  \n",
       "0      3      10           8        6  \n",
       "1      2       5           4       10  \n",
       "2      8       3           7        3  \n",
       "3      8       3           3        8  \n",
       "4      3       1           1        1  \n",
       "5      3       2           2        3  \n",
       "6      5       3           8        3  \n",
       "7     10       7           8        5  \n",
       "8      1       9           9        5  "
      ]
     },
     "execution_count": 2,
     "metadata": {},
     "output_type": "execute_result"
    }
   ],
   "source": [
    "hypo_df = pd.read_csv('/datasets/hypothesis.csv', sep=',')\n",
    "pd.set_option('display.max_columns', None)  \n",
    "pd.options.display.max_colwidth = 150\n",
    "hypo_df"
   ]
  },
  {
   "cell_type": "markdown",
   "metadata": {},
   "source": [
    "Приоритизируем по разным фреймворкам"
   ]
  },
  {
   "cell_type": "markdown",
   "metadata": {},
   "source": [
    "### Фреймворк ICE для приоритизации гипотез"
   ]
  },
  {
   "cell_type": "markdown",
   "metadata": {},
   "source": [
    "Применим фреймворк ICE. Посчитаем показатели и добавим в столбец ice, а затем выведем, отсортировав по убыванию"
   ]
  },
  {
   "cell_type": "code",
   "execution_count": 3,
   "metadata": {},
   "outputs": [
    {
     "data": {
      "text/html": [
       "<div>\n",
       "<style scoped>\n",
       "    .dataframe tbody tr th:only-of-type {\n",
       "        vertical-align: middle;\n",
       "    }\n",
       "\n",
       "    .dataframe tbody tr th {\n",
       "        vertical-align: top;\n",
       "    }\n",
       "\n",
       "    .dataframe thead th {\n",
       "        text-align: right;\n",
       "    }\n",
       "</style>\n",
       "<table border=\"1\" class=\"dataframe\">\n",
       "  <thead>\n",
       "    <tr style=\"text-align: right;\">\n",
       "      <th></th>\n",
       "      <th>Hypothesis</th>\n",
       "      <th>ICE</th>\n",
       "    </tr>\n",
       "  </thead>\n",
       "  <tbody>\n",
       "    <tr>\n",
       "      <td>8</td>\n",
       "      <td>Запустить акцию, дающую скидку на товар в день рождения</td>\n",
       "      <td>16.20</td>\n",
       "    </tr>\n",
       "    <tr>\n",
       "      <td>0</td>\n",
       "      <td>Добавить два новых канала привлечения трафика, что позволит привлекать на 30% больше пользователей</td>\n",
       "      <td>13.33</td>\n",
       "    </tr>\n",
       "    <tr>\n",
       "      <td>7</td>\n",
       "      <td>Добавить форму подписки на все основные страницы, чтобы собрать базу клиентов для email-рассылок</td>\n",
       "      <td>11.20</td>\n",
       "    </tr>\n",
       "    <tr>\n",
       "      <td>6</td>\n",
       "      <td>Показать на главной странице баннеры с актуальными акциями и распродажами, чтобы увеличить конверсию</td>\n",
       "      <td>8.00</td>\n",
       "    </tr>\n",
       "    <tr>\n",
       "      <td>2</td>\n",
       "      <td>Добавить блоки рекомендаций товаров на сайт интернет магазина, чтобы повысить конверсию и средний чек заказа</td>\n",
       "      <td>7.00</td>\n",
       "    </tr>\n",
       "    <tr>\n",
       "      <td>1</td>\n",
       "      <td>Запустить собственную службу доставки, что сократит срок доставки заказов</td>\n",
       "      <td>2.00</td>\n",
       "    </tr>\n",
       "    <tr>\n",
       "      <td>5</td>\n",
       "      <td>Добавить страницу отзывов клиентов о магазине, что позволит увеличить количество заказов</td>\n",
       "      <td>1.33</td>\n",
       "    </tr>\n",
       "    <tr>\n",
       "      <td>3</td>\n",
       "      <td>Изменить структура категорий, что увеличит конверсию, т.к. пользователи быстрее найдут нужный товар</td>\n",
       "      <td>1.12</td>\n",
       "    </tr>\n",
       "    <tr>\n",
       "      <td>4</td>\n",
       "      <td>Изменить цвет фона главной страницы, чтобы увеличить вовлеченность пользователей</td>\n",
       "      <td>1.00</td>\n",
       "    </tr>\n",
       "  </tbody>\n",
       "</table>\n",
       "</div>"
      ],
      "text/plain": [
       "                                                                                                     Hypothesis  \\\n",
       "8                                                       Запустить акцию, дающую скидку на товар в день рождения   \n",
       "0            Добавить два новых канала привлечения трафика, что позволит привлекать на 30% больше пользователей   \n",
       "7              Добавить форму подписки на все основные страницы, чтобы собрать базу клиентов для email-рассылок   \n",
       "6          Показать на главной странице баннеры с актуальными акциями и распродажами, чтобы увеличить конверсию   \n",
       "2  Добавить блоки рекомендаций товаров на сайт интернет магазина, чтобы повысить конверсию и средний чек заказа   \n",
       "1                                     Запустить собственную службу доставки, что сократит срок доставки заказов   \n",
       "5                      Добавить страницу отзывов клиентов о магазине, что позволит увеличить количество заказов   \n",
       "3           Изменить структура категорий, что увеличит конверсию, т.к. пользователи быстрее найдут нужный товар   \n",
       "4                              Изменить цвет фона главной страницы, чтобы увеличить вовлеченность пользователей   \n",
       "\n",
       "     ICE  \n",
       "8  16.20  \n",
       "0  13.33  \n",
       "7  11.20  \n",
       "6   8.00  \n",
       "2   7.00  \n",
       "1   2.00  \n",
       "5   1.33  \n",
       "3   1.12  \n",
       "4   1.00  "
      ]
     },
     "execution_count": 3,
     "metadata": {},
     "output_type": "execute_result"
    }
   ],
   "source": [
    "hypo_df['ICE'] = ((hypo_df['Impact'] * hypo_df['Confidence']) / hypo_df['Efforts']).round(2)\n",
    "hypo_df[['Hypothesis', 'ICE']].sort_values(by = 'ICE', ascending = False)"
   ]
  },
  {
   "cell_type": "markdown",
   "metadata": {},
   "source": [
    "По методу ICE самые приоритетные гипотезы:\n",
    "- Запустить акцию, дающую скидку на товар в день рождения (8)\n",
    "- Добавить два новых канала привлечения трафика, что позволит привлекать на 30% больше пользователей (0)\n",
    "- Добавить форму подписки на все основные страницы, чтобы собрать базу клиентов для email-рассылок (7)"
   ]
  },
  {
   "cell_type": "markdown",
   "metadata": {},
   "source": [
    "### Фреймворк RICE для приоритизации гипотез"
   ]
  },
  {
   "cell_type": "markdown",
   "metadata": {},
   "source": [
    "Теперь воспользуемая оценкой RICE."
   ]
  },
  {
   "cell_type": "code",
   "execution_count": 4,
   "metadata": {},
   "outputs": [
    {
     "data": {
      "text/html": [
       "<div>\n",
       "<style scoped>\n",
       "    .dataframe tbody tr th:only-of-type {\n",
       "        vertical-align: middle;\n",
       "    }\n",
       "\n",
       "    .dataframe tbody tr th {\n",
       "        vertical-align: top;\n",
       "    }\n",
       "\n",
       "    .dataframe thead th {\n",
       "        text-align: right;\n",
       "    }\n",
       "</style>\n",
       "<table border=\"1\" class=\"dataframe\">\n",
       "  <thead>\n",
       "    <tr style=\"text-align: right;\">\n",
       "      <th></th>\n",
       "      <th>Hypothesis</th>\n",
       "      <th>RICE</th>\n",
       "    </tr>\n",
       "  </thead>\n",
       "  <tbody>\n",
       "    <tr>\n",
       "      <td>7</td>\n",
       "      <td>Добавить форму подписки на все основные страницы, чтобы собрать базу клиентов для email-рассылок</td>\n",
       "      <td>112.0</td>\n",
       "    </tr>\n",
       "    <tr>\n",
       "      <td>2</td>\n",
       "      <td>Добавить блоки рекомендаций товаров на сайт интернет магазина, чтобы повысить конверсию и средний чек заказа</td>\n",
       "      <td>56.0</td>\n",
       "    </tr>\n",
       "    <tr>\n",
       "      <td>0</td>\n",
       "      <td>Добавить два новых канала привлечения трафика, что позволит привлекать на 30% больше пользователей</td>\n",
       "      <td>40.0</td>\n",
       "    </tr>\n",
       "    <tr>\n",
       "      <td>6</td>\n",
       "      <td>Показать на главной странице баннеры с актуальными акциями и распродажами, чтобы увеличить конверсию</td>\n",
       "      <td>40.0</td>\n",
       "    </tr>\n",
       "    <tr>\n",
       "      <td>8</td>\n",
       "      <td>Запустить акцию, дающую скидку на товар в день рождения</td>\n",
       "      <td>16.2</td>\n",
       "    </tr>\n",
       "    <tr>\n",
       "      <td>3</td>\n",
       "      <td>Изменить структура категорий, что увеличит конверсию, т.к. пользователи быстрее найдут нужный товар</td>\n",
       "      <td>9.0</td>\n",
       "    </tr>\n",
       "    <tr>\n",
       "      <td>1</td>\n",
       "      <td>Запустить собственную службу доставки, что сократит срок доставки заказов</td>\n",
       "      <td>4.0</td>\n",
       "    </tr>\n",
       "    <tr>\n",
       "      <td>5</td>\n",
       "      <td>Добавить страницу отзывов клиентов о магазине, что позволит увеличить количество заказов</td>\n",
       "      <td>4.0</td>\n",
       "    </tr>\n",
       "    <tr>\n",
       "      <td>4</td>\n",
       "      <td>Изменить цвет фона главной страницы, чтобы увеличить вовлеченность пользователей</td>\n",
       "      <td>3.0</td>\n",
       "    </tr>\n",
       "  </tbody>\n",
       "</table>\n",
       "</div>"
      ],
      "text/plain": [
       "                                                                                                     Hypothesis  \\\n",
       "7              Добавить форму подписки на все основные страницы, чтобы собрать базу клиентов для email-рассылок   \n",
       "2  Добавить блоки рекомендаций товаров на сайт интернет магазина, чтобы повысить конверсию и средний чек заказа   \n",
       "0            Добавить два новых канала привлечения трафика, что позволит привлекать на 30% больше пользователей   \n",
       "6          Показать на главной странице баннеры с актуальными акциями и распродажами, чтобы увеличить конверсию   \n",
       "8                                                       Запустить акцию, дающую скидку на товар в день рождения   \n",
       "3           Изменить структура категорий, что увеличит конверсию, т.к. пользователи быстрее найдут нужный товар   \n",
       "1                                     Запустить собственную службу доставки, что сократит срок доставки заказов   \n",
       "5                      Добавить страницу отзывов клиентов о магазине, что позволит увеличить количество заказов   \n",
       "4                              Изменить цвет фона главной страницы, чтобы увеличить вовлеченность пользователей   \n",
       "\n",
       "    RICE  \n",
       "7  112.0  \n",
       "2   56.0  \n",
       "0   40.0  \n",
       "6   40.0  \n",
       "8   16.2  \n",
       "3    9.0  \n",
       "1    4.0  \n",
       "5    4.0  \n",
       "4    3.0  "
      ]
     },
     "execution_count": 4,
     "metadata": {},
     "output_type": "execute_result"
    }
   ],
   "source": [
    "hypo_df['RICE'] = ((hypo_df['Reach'] * hypo_df['Impact'] * hypo_df['Confidence']) / hypo_df['Efforts']).round(2)\n",
    "\n",
    "hypo_df[['Hypothesis', 'RICE']].sort_values(by = 'RICE', ascending = False)"
   ]
  },
  {
   "cell_type": "markdown",
   "metadata": {},
   "source": [
    "По этой метрике самые приотритетные гипотезы - это 7, 2, 0:\n",
    "- Добавить форму подписки на все основные страницы, чтобы собрать базу клиентов для email-рассылок\n",
    "- Добавить блоки рекомендаций товаров на сайт интернет магазина, чтобы повысить конверсию и средний чек заказа\n",
    "- Добавить два новых канала привлечения трафика, что позволит привлекать на 30% больше пользователей"
   ]
  },
  {
   "cell_type": "markdown",
   "metadata": {},
   "source": [
    "### Разница приоритизации гипотез при применении RICE вместо ICE."
   ]
  },
  {
   "cell_type": "markdown",
   "metadata": {},
   "source": [
    "Приоритизация гипотез при применении RICE и ICE различается. Это связано с тем, что RICE учитывает охват пользователей. Поэтому самая приоритетеная при применении ICE гипотеза: \"Запустить акцию, дающую скидку на товар в день рождения\" находится только в середине списка при применении RICE. Ведь количество пользователей, у которых день рождения в период проведения акции, ограничено, в то время, как акции с формой подписки и блоками рекомендаций на сайте охватывают всех пользователей."
   ]
  },
  {
   "cell_type": "markdown",
   "metadata": {},
   "source": [
    "## Часть 2. Анализ A/B-теста"
   ]
  },
  {
   "cell_type": "markdown",
   "metadata": {},
   "source": [
    "### Подготовка данных"
   ]
  },
  {
   "cell_type": "markdown",
   "metadata": {},
   "source": [
    "Результаты A/B-теста описаны в файлах /datasets/orders.csv и /datasets/visitors.csv.\n",
    "Для начала взглянем на данные и сохраним их в переменных orders и visitors. Посмотрим информацию о них"
   ]
  },
  {
   "cell_type": "code",
   "execution_count": 5,
   "metadata": {
    "scrolled": false
   },
   "outputs": [
    {
     "data": {
      "text/html": [
       "<div>\n",
       "<style scoped>\n",
       "    .dataframe tbody tr th:only-of-type {\n",
       "        vertical-align: middle;\n",
       "    }\n",
       "\n",
       "    .dataframe tbody tr th {\n",
       "        vertical-align: top;\n",
       "    }\n",
       "\n",
       "    .dataframe thead th {\n",
       "        text-align: right;\n",
       "    }\n",
       "</style>\n",
       "<table border=\"1\" class=\"dataframe\">\n",
       "  <thead>\n",
       "    <tr style=\"text-align: right;\">\n",
       "      <th></th>\n",
       "      <th>transactionId</th>\n",
       "      <th>visitorId</th>\n",
       "      <th>date</th>\n",
       "      <th>revenue</th>\n",
       "      <th>group</th>\n",
       "    </tr>\n",
       "  </thead>\n",
       "  <tbody>\n",
       "    <tr>\n",
       "      <td>0</td>\n",
       "      <td>3667963787</td>\n",
       "      <td>3312258926</td>\n",
       "      <td>2019-08-15</td>\n",
       "      <td>1650</td>\n",
       "      <td>B</td>\n",
       "    </tr>\n",
       "    <tr>\n",
       "      <td>1</td>\n",
       "      <td>2804400009</td>\n",
       "      <td>3642806036</td>\n",
       "      <td>2019-08-15</td>\n",
       "      <td>730</td>\n",
       "      <td>B</td>\n",
       "    </tr>\n",
       "    <tr>\n",
       "      <td>2</td>\n",
       "      <td>2961555356</td>\n",
       "      <td>4069496402</td>\n",
       "      <td>2019-08-15</td>\n",
       "      <td>400</td>\n",
       "      <td>A</td>\n",
       "    </tr>\n",
       "    <tr>\n",
       "      <td>3</td>\n",
       "      <td>3797467345</td>\n",
       "      <td>1196621759</td>\n",
       "      <td>2019-08-15</td>\n",
       "      <td>9759</td>\n",
       "      <td>B</td>\n",
       "    </tr>\n",
       "    <tr>\n",
       "      <td>4</td>\n",
       "      <td>2282983706</td>\n",
       "      <td>2322279887</td>\n",
       "      <td>2019-08-15</td>\n",
       "      <td>2308</td>\n",
       "      <td>B</td>\n",
       "    </tr>\n",
       "    <tr>\n",
       "      <td>...</td>\n",
       "      <td>...</td>\n",
       "      <td>...</td>\n",
       "      <td>...</td>\n",
       "      <td>...</td>\n",
       "      <td>...</td>\n",
       "    </tr>\n",
       "    <tr>\n",
       "      <td>1192</td>\n",
       "      <td>2662137336</td>\n",
       "      <td>3733762160</td>\n",
       "      <td>2019-08-14</td>\n",
       "      <td>6490</td>\n",
       "      <td>B</td>\n",
       "    </tr>\n",
       "    <tr>\n",
       "      <td>1193</td>\n",
       "      <td>2203539145</td>\n",
       "      <td>370388673</td>\n",
       "      <td>2019-08-14</td>\n",
       "      <td>3190</td>\n",
       "      <td>A</td>\n",
       "    </tr>\n",
       "    <tr>\n",
       "      <td>1194</td>\n",
       "      <td>1807773912</td>\n",
       "      <td>573423106</td>\n",
       "      <td>2019-08-14</td>\n",
       "      <td>10550</td>\n",
       "      <td>A</td>\n",
       "    </tr>\n",
       "    <tr>\n",
       "      <td>1195</td>\n",
       "      <td>1947021204</td>\n",
       "      <td>1614305549</td>\n",
       "      <td>2019-08-14</td>\n",
       "      <td>100</td>\n",
       "      <td>A</td>\n",
       "    </tr>\n",
       "    <tr>\n",
       "      <td>1196</td>\n",
       "      <td>3936777065</td>\n",
       "      <td>2108080724</td>\n",
       "      <td>2019-08-15</td>\n",
       "      <td>202740</td>\n",
       "      <td>B</td>\n",
       "    </tr>\n",
       "  </tbody>\n",
       "</table>\n",
       "<p>1197 rows × 5 columns</p>\n",
       "</div>"
      ],
      "text/plain": [
       "      transactionId   visitorId        date  revenue group\n",
       "0        3667963787  3312258926  2019-08-15     1650     B\n",
       "1        2804400009  3642806036  2019-08-15      730     B\n",
       "2        2961555356  4069496402  2019-08-15      400     A\n",
       "3        3797467345  1196621759  2019-08-15     9759     B\n",
       "4        2282983706  2322279887  2019-08-15     2308     B\n",
       "...             ...         ...         ...      ...   ...\n",
       "1192     2662137336  3733762160  2019-08-14     6490     B\n",
       "1193     2203539145   370388673  2019-08-14     3190     A\n",
       "1194     1807773912   573423106  2019-08-14    10550     A\n",
       "1195     1947021204  1614305549  2019-08-14      100     A\n",
       "1196     3936777065  2108080724  2019-08-15   202740     B\n",
       "\n",
       "[1197 rows x 5 columns]"
      ]
     },
     "metadata": {},
     "output_type": "display_data"
    },
    {
     "data": {
      "text/html": [
       "<div>\n",
       "<style scoped>\n",
       "    .dataframe tbody tr th:only-of-type {\n",
       "        vertical-align: middle;\n",
       "    }\n",
       "\n",
       "    .dataframe tbody tr th {\n",
       "        vertical-align: top;\n",
       "    }\n",
       "\n",
       "    .dataframe thead th {\n",
       "        text-align: right;\n",
       "    }\n",
       "</style>\n",
       "<table border=\"1\" class=\"dataframe\">\n",
       "  <thead>\n",
       "    <tr style=\"text-align: right;\">\n",
       "      <th></th>\n",
       "      <th>date</th>\n",
       "      <th>group</th>\n",
       "      <th>visitors</th>\n",
       "    </tr>\n",
       "  </thead>\n",
       "  <tbody>\n",
       "    <tr>\n",
       "      <td>0</td>\n",
       "      <td>2019-08-01</td>\n",
       "      <td>A</td>\n",
       "      <td>719</td>\n",
       "    </tr>\n",
       "    <tr>\n",
       "      <td>1</td>\n",
       "      <td>2019-08-02</td>\n",
       "      <td>A</td>\n",
       "      <td>619</td>\n",
       "    </tr>\n",
       "    <tr>\n",
       "      <td>2</td>\n",
       "      <td>2019-08-03</td>\n",
       "      <td>A</td>\n",
       "      <td>507</td>\n",
       "    </tr>\n",
       "    <tr>\n",
       "      <td>3</td>\n",
       "      <td>2019-08-04</td>\n",
       "      <td>A</td>\n",
       "      <td>717</td>\n",
       "    </tr>\n",
       "    <tr>\n",
       "      <td>4</td>\n",
       "      <td>2019-08-05</td>\n",
       "      <td>A</td>\n",
       "      <td>756</td>\n",
       "    </tr>\n",
       "    <tr>\n",
       "      <td>...</td>\n",
       "      <td>...</td>\n",
       "      <td>...</td>\n",
       "      <td>...</td>\n",
       "    </tr>\n",
       "    <tr>\n",
       "      <td>57</td>\n",
       "      <td>2019-08-27</td>\n",
       "      <td>B</td>\n",
       "      <td>720</td>\n",
       "    </tr>\n",
       "    <tr>\n",
       "      <td>58</td>\n",
       "      <td>2019-08-28</td>\n",
       "      <td>B</td>\n",
       "      <td>654</td>\n",
       "    </tr>\n",
       "    <tr>\n",
       "      <td>59</td>\n",
       "      <td>2019-08-29</td>\n",
       "      <td>B</td>\n",
       "      <td>531</td>\n",
       "    </tr>\n",
       "    <tr>\n",
       "      <td>60</td>\n",
       "      <td>2019-08-30</td>\n",
       "      <td>B</td>\n",
       "      <td>490</td>\n",
       "    </tr>\n",
       "    <tr>\n",
       "      <td>61</td>\n",
       "      <td>2019-08-31</td>\n",
       "      <td>B</td>\n",
       "      <td>718</td>\n",
       "    </tr>\n",
       "  </tbody>\n",
       "</table>\n",
       "<p>62 rows × 3 columns</p>\n",
       "</div>"
      ],
      "text/plain": [
       "          date group  visitors\n",
       "0   2019-08-01     A       719\n",
       "1   2019-08-02     A       619\n",
       "2   2019-08-03     A       507\n",
       "3   2019-08-04     A       717\n",
       "4   2019-08-05     A       756\n",
       "..         ...   ...       ...\n",
       "57  2019-08-27     B       720\n",
       "58  2019-08-28     B       654\n",
       "59  2019-08-29     B       531\n",
       "60  2019-08-30     B       490\n",
       "61  2019-08-31     B       718\n",
       "\n",
       "[62 rows x 3 columns]"
      ]
     },
     "metadata": {},
     "output_type": "display_data"
    },
    {
     "name": "stdout",
     "output_type": "stream",
     "text": [
      "<class 'pandas.core.frame.DataFrame'>\n",
      "RangeIndex: 1197 entries, 0 to 1196\n",
      "Data columns (total 5 columns):\n",
      "transactionId    1197 non-null int64\n",
      "visitorId        1197 non-null int64\n",
      "date             1197 non-null object\n",
      "revenue          1197 non-null int64\n",
      "group            1197 non-null object\n",
      "dtypes: int64(3), object(2)\n",
      "memory usage: 46.9+ KB\n",
      "<class 'pandas.core.frame.DataFrame'>\n",
      "RangeIndex: 62 entries, 0 to 61\n",
      "Data columns (total 3 columns):\n",
      "date        62 non-null object\n",
      "group       62 non-null object\n",
      "visitors    62 non-null int64\n",
      "dtypes: int64(1), object(2)\n",
      "memory usage: 1.6+ KB\n"
     ]
    }
   ],
   "source": [
    "orders = pd.read_csv('/datasets/orders.csv')\n",
    "visitors = pd.read_csv('/datasets/visitors.csv')\n",
    "display(orders)\n",
    "display(visitors)\n",
    "orders.info()\n",
    "visitors.info()"
   ]
  },
  {
   "cell_type": "markdown",
   "metadata": {},
   "source": [
    "Приведем информацию о времени к формату date"
   ]
  },
  {
   "cell_type": "code",
   "execution_count": 6,
   "metadata": {
    "scrolled": true
   },
   "outputs": [],
   "source": [
    "visitors['date'] = visitors['date'].map(lambda x: dt.datetime.strptime(x, '%Y-%m-%d'))\n",
    "orders['date'] = orders['date'].map(lambda x: dt.datetime.strptime(x, '%Y-%m-%d'))"
   ]
  },
  {
   "cell_type": "code",
   "execution_count": 7,
   "metadata": {
    "scrolled": true
   },
   "outputs": [
    {
     "name": "stdout",
     "output_type": "stream",
     "text": [
      "<class 'pandas.core.frame.DataFrame'>\n",
      "RangeIndex: 1197 entries, 0 to 1196\n",
      "Data columns (total 5 columns):\n",
      "transactionId    1197 non-null int64\n",
      "visitorId        1197 non-null int64\n",
      "date             1197 non-null datetime64[ns]\n",
      "revenue          1197 non-null int64\n",
      "group            1197 non-null object\n",
      "dtypes: datetime64[ns](1), int64(3), object(1)\n",
      "memory usage: 46.9+ KB\n",
      "<class 'pandas.core.frame.DataFrame'>\n",
      "RangeIndex: 62 entries, 0 to 61\n",
      "Data columns (total 3 columns):\n",
      "date        62 non-null datetime64[ns]\n",
      "group       62 non-null object\n",
      "visitors    62 non-null int64\n",
      "dtypes: datetime64[ns](1), int64(1), object(1)\n",
      "memory usage: 1.6+ KB\n"
     ]
    }
   ],
   "source": [
    "#проверим\n",
    "orders.info()\n",
    "visitors.info()"
   ]
  },
  {
   "cell_type": "markdown",
   "metadata": {},
   "source": [
    "Пропусков (явных) в данных нет. Проверим на дубликаты"
   ]
  },
  {
   "cell_type": "code",
   "execution_count": 8,
   "metadata": {},
   "outputs": [
    {
     "name": "stdout",
     "output_type": "stream",
     "text": [
      "0\n"
     ]
    },
    {
     "data": {
      "text/plain": [
       "0"
      ]
     },
     "execution_count": 8,
     "metadata": {},
     "output_type": "execute_result"
    }
   ],
   "source": [
    "print(visitors.duplicated().sum())\n",
    "orders.duplicated().sum()"
   ]
  },
  {
   "cell_type": "markdown",
   "metadata": {},
   "source": [
    "Явных дубликатов нет. Теперь посмотрим, есть ли пользователи, которые оказались сразу в обеих группах. Для этого надо cоздать переменную, где сгруппировать заказы по 'visitorId', и посчитать количество уникальных значений в столбце 'group'."
   ]
  },
  {
   "cell_type": "code",
   "execution_count": 9,
   "metadata": {},
   "outputs": [
    {
     "name": "stdout",
     "output_type": "stream",
     "text": [
      "Всего в данных 58 двойных пользователей или 4.85% от общего числа сделавших заказы\n"
     ]
    }
   ],
   "source": [
    "users_duplicated = orders.groupby('visitorId').agg({'group': 'nunique'})\n",
    "#оставим только тех пользователей, у которых две группы\n",
    "users_duplicated = users_duplicated.query('group > 1')\n",
    "#посчитаем сколько процентов от общего числа пользователей оказалось в двух группах\n",
    "double_percent = ((len(users_duplicated)/orders['visitorId'].value_counts().sum())*100).round(2)\n",
    "#посмотрим сколько пользователей оказалось сразу в двух группах\n",
    "print(f'Всего в данных {len(users_duplicated)} двойных пользователей или {double_percent}% от общего числа сделавших заказы')"
   ]
  },
  {
   "cell_type": "markdown",
   "metadata": {},
   "source": [
    "Таким образом в данных о покупках есть пользователи, которые попали и в ту и в другую группу. Их меньше 5% от общего числа сделавших заказы, и, соответственно, совсем мало от общего числа посетителей. Можно пренебречь этими \"помехами\". Кроме того, мы не знаем только Id людей, сделавших заказы, а сколько \"двойных\" посетителей в visitors - нет. Поэтому лучше оставить данные как есть и не удалять \"двойных\" пользователей."
   ]
  },
  {
   "cell_type": "markdown",
   "metadata": {},
   "source": [
    "### График кумулятивной выручки по группам"
   ]
  },
  {
   "cell_type": "markdown",
   "metadata": {},
   "source": [
    "Проанализируем кумулятивную выручку по группам. Для этого сначала надо найти ежедневную выручку по группам, а уже потом - кумулятивную"
   ]
  },
  {
   "cell_type": "code",
   "execution_count": 10,
   "metadata": {},
   "outputs": [],
   "source": [
    "#находим ежедневную выручку и количество заказов (пригодится при анализе среднего чека) в группе А\n",
    "ordersADaily = (\n",
    "    orders[orders['group'] == 'A'][['date', 'transactionId', 'visitorId', 'revenue']]\n",
    "    .groupby('date', as_index=False)\n",
    "    .agg({'transactionId': pd.Series.nunique, 'revenue': 'sum'})\n",
    ")\n",
    "ordersADaily.columns = ['date', 'ordersPerDateA', 'revenuePerDateA']\n",
    "\n",
    "#находим кумулятивную выручку и количество заказов в группе А\n",
    "ordersACummulative = ordersADaily.apply(\n",
    "    lambda x: ordersADaily[ordersADaily['date'] <= x['date']].agg(\n",
    "        {'date': 'max', 'ordersPerDateA': 'sum', 'revenuePerDateA': 'sum'}\n",
    "    ),\n",
    "    axis=1,\n",
    ").sort_values(by=['date'])\n",
    "ordersACummulative.columns = [\n",
    "    'date',\n",
    "    'ordersCummulativeA',\n",
    "    'revenueCummulativeA',\n",
    "]\n",
    "\n",
    "#находим ежедневную выручку и количество заказов в группе В\n",
    "ordersBDaily = (\n",
    "    orders[orders['group'] == 'B'][['date', 'transactionId', 'visitorId', 'revenue']]\n",
    "    .groupby('date', as_index=False)\n",
    "    .agg({'transactionId': pd.Series.nunique, 'revenue': 'sum'})\n",
    ")\n",
    "ordersBDaily.columns = ['date', 'ordersPerDateB', 'revenuePerDateB']\n",
    "\n",
    "#находим кумулятивную выручку и количество заказов в группе В\n",
    "ordersBCummulative = ordersBDaily.apply(\n",
    "    lambda x: ordersBDaily[ordersBDaily['date'] <= x['date']].agg(\n",
    "        {'date': 'max', 'ordersPerDateB': 'sum', 'revenuePerDateB': 'sum'}\n",
    "    ),\n",
    "    axis=1,\n",
    ").sort_values(by=['date'])\n",
    "ordersBCummulative.columns = [\n",
    "    'date',\n",
    "    'ordersCummulativeB',\n",
    "    'revenueCummulativeB',\n",
    "]"
   ]
  },
  {
   "cell_type": "markdown",
   "metadata": {},
   "source": [
    "Построим график"
   ]
  },
  {
   "cell_type": "code",
   "execution_count": 41,
   "metadata": {
    "scrolled": false
   },
   "outputs": [
    {
     "data": {
      "image/png": "[encoded data removed]",
      "text/plain": [
       "<Figure size 1080x720 with 1 Axes>"
      ]
     },
     "metadata": {
      "needs_background": "light"
     },
     "output_type": "display_data"
    }
   ],
   "source": [
    "plt.figure(figsize=(15, 10))\n",
    "plt.title('График кумулятивной выручки по группам', fontsize=18)\n",
    "# Строим график выручки группы А\n",
    "plt.plot(ordersACummulative['date'], ordersACummulative['revenueCummulativeA'], label='A')\n",
    "# Строим график выручки группы Ba\n",
    "plt.plot(ordersBCummulative['date'], ordersBCummulative['revenueCummulativeB'], label='B')\n",
    "plt.legend(('A', 'B'),title = 'Группы', fontsize=14)\n",
    "plt.ylabel('Cумма выручки', fontsize=14)\n",
    "plt.xlabel('Дата', fontsize=14)\n",
    "plt.annotate('скачок', xy=('2019-08-17', 2800000), xytext=('2019-08-10', 3500000),\n",
    "            arrowprops=dict(facecolor='g'))\n",
    "plt.annotate('отрыв', xy=('2019-08-05', 800000), xytext=('2019-08-05', 2000000),\n",
    "            arrowprops=dict(facecolor='g'))\n",
    "plt.grid()\n",
    "plt.show()"
   ]
  },
  {
   "cell_type": "markdown",
   "metadata": {},
   "source": [
    "На графике видно, что кумулятивная выручка в группе B поначалу лучше незначительно, графики идут практически параллельно, хотя В начинает понемногу отрываться, но 18 августа происходит значительный скачок выручки  - это может быть следствием либо резкого роста числа заказов, либо появления каких-то очень дорогих заказов в эти дни. Дальше графики идут практически параллельно, и, поскольку речь идет о кумулятивной метрике, можно констатировать, что изменение 18 августа - единственно настолько сильно выбивающееся из общей картины. Посмотрим на кумулятивный средний чек."
   ]
  },
  {
   "cell_type": "markdown",
   "metadata": {},
   "source": [
    "### График кумулятивного среднего чека по группам."
   ]
  },
  {
   "cell_type": "markdown",
   "metadata": {},
   "source": [
    "Постороим график кумулятивного среднего чека"
   ]
  },
  {
   "cell_type": "code",
   "execution_count": 12,
   "metadata": {
    "scrolled": false
   },
   "outputs": [
    {
     "data": {
      "image/png": "[encoded data removed]",
      "text/plain": [
       "<Figure size 1080x720 with 1 Axes>"
      ]
     },
     "metadata": {
      "needs_background": "light"
     },
     "output_type": "display_data"
    }
   ],
   "source": [
    "plt.figure(figsize=(15, 10))\n",
    "plt.title('График кумулятивного среднего чека по группам', fontsize=18)\n",
    "plt.plot(ordersACummulative['date'], ordersACummulative['revenueCummulativeA']/ordersACummulative['ordersCummulativeA'], label='A')\n",
    "plt.plot(ordersBCummulative['date'], ordersBCummulative['revenueCummulativeB']/ordersBCummulative['ordersCummulativeB'], label='A')\n",
    "plt.legend(('A', 'B'),title = 'Группы', fontsize=14)\n",
    "plt.ylabel('Cумма кумулятивного среднего чека', fontsize=14)\n",
    "plt.xlabel('Дата', fontsize=14)\n",
    "plt.grid()\n",
    "plt.show()"
   ]
  },
  {
   "cell_type": "markdown",
   "metadata": {},
   "source": [
    "График кумулятивного среднего чека показывает, что:\n",
    " - дублируется резкий скачок в группе В 18 августа, т.е. размер среднего чека для группы B в этот день резко вырос - очевидно, присутствуют какие-то выбивающиеся значения в данных. При этом дальше средний чек в группе относительно стабилен и начинает немного снижаться, что говорит об отсутствии других подобных аномальных скачков.\n",
    " - средний чек в группе A после двух недель наблюдений фиксируется вокруг 7000."
   ]
  },
  {
   "cell_type": "markdown",
   "metadata": {},
   "source": [
    "### График относительного изменения кумулятивного среднего чека группы B к группе A."
   ]
  },
  {
   "cell_type": "markdown",
   "metadata": {},
   "source": [
    "Теперь построим график относительно изменения кумулятивного среднего чека"
   ]
  },
  {
   "cell_type": "code",
   "execution_count": 13,
   "metadata": {},
   "outputs": [
    {
     "data": {
      "image/png": "[encoded data removed]",
      "text/plain": [
       "<Figure size 1080x720 with 1 Axes>"
      ]
     },
     "metadata": {
      "needs_background": "light"
     },
     "output_type": "display_data"
    }
   ],
   "source": [
    "# собираем данные в одном датафрейме\n",
    "mergedCumulativeRevenue = ordersACummulative.merge(ordersBCummulative, left_on='date', right_on='date', how='left', suffixes=['A', 'B'])\n",
    "\n",
    "plt.figure(figsize=(15, 10))\n",
    "plt.title('График относительного изменения кумулятивного среднего чека группы B к группе A', fontsize=18)\n",
    "# cтроим отношение средних чеков\n",
    "plt.plot(mergedCumulativeRevenue['date'], ((ordersBCummulative['revenueCummulativeB']/ordersBCummulative['ordersCummulativeB'])/(ordersACummulative['revenueCummulativeA']/ordersACummulative['ordersCummulativeA'])-1))\n",
    "# добавляем ось X\n",
    "plt.axhline(y=0, color='black', linestyle='--')\n",
    "plt.xlabel('Дата', fontsize=14)\n",
    "plt.grid()\n",
    "plt.show()"
   ]
  },
  {
   "cell_type": "markdown",
   "metadata": {},
   "source": [
    "График довольно сильно скачет в обе стороны и только после 18 августа видна какая-то тенденция к стабилизации, но уверенно говорить, что график стабилизировался - нельзя."
   ]
  },
  {
   "cell_type": "markdown",
   "metadata": {},
   "source": [
    "### График кумулятивной конверсии по группам"
   ]
  },
  {
   "cell_type": "markdown",
   "metadata": {},
   "source": [
    "Чтобы построить график кумулятивной конверсии, нужно сначала вычислить данные по пользователям"
   ]
  },
  {
   "cell_type": "code",
   "execution_count": 14,
   "metadata": {},
   "outputs": [],
   "source": [
    "#количество пользователей на дату в группе А\n",
    "visitorsADaily = visitors[visitors['group'] == 'A'][['date', 'visitors']]\n",
    "visitorsADaily.columns = ['date', 'visitorsPerDateA']\n",
    "\n",
    "#количество пользователей до выбранной даты включительно в группе В\n",
    "visitorsACummulative = visitorsADaily.apply(\n",
    "    lambda x: visitorsADaily[visitorsADaily['date'] <= x['date']].agg(\n",
    "        {'date': 'max', 'visitorsPerDateA': 'sum'}\n",
    "    ),\n",
    "    axis=1,\n",
    ")\n",
    "visitorsACummulative.columns = ['date', 'visitorsCummulativeA']\n",
    "\n",
    "#количество пользователей на дату в группе В\n",
    "visitorsBDaily = visitors[visitors['group'] == 'B'][['date', 'visitors']]\n",
    "visitorsBDaily.columns = ['date', 'visitorsPerDateB']\n",
    "\n",
    "#количество пользователей до выбранной даты включительно в группе В\n",
    "visitorsBCummulative = visitorsBDaily.apply(\n",
    "    lambda x: visitorsBDaily[visitorsBDaily['date'] <= x['date']].agg(\n",
    "        {'date': 'max', 'visitorsPerDateB': 'sum'}\n",
    "    ),\n",
    "    axis=1,\n",
    ")\n",
    "visitorsBCummulative.columns = ['date', 'visitorsCummulativeB']"
   ]
  },
  {
   "cell_type": "markdown",
   "metadata": {},
   "source": [
    "Объединим все данные (по пользователям и заказам) в одном датасете."
   ]
  },
  {
   "cell_type": "code",
   "execution_count": 15,
   "metadata": {
    "scrolled": false
   },
   "outputs": [
    {
     "data": {
      "text/html": [
       "<div>\n",
       "<style scoped>\n",
       "    .dataframe tbody tr th:only-of-type {\n",
       "        vertical-align: middle;\n",
       "    }\n",
       "\n",
       "    .dataframe tbody tr th {\n",
       "        vertical-align: top;\n",
       "    }\n",
       "\n",
       "    .dataframe thead th {\n",
       "        text-align: right;\n",
       "    }\n",
       "</style>\n",
       "<table border=\"1\" class=\"dataframe\">\n",
       "  <thead>\n",
       "    <tr style=\"text-align: right;\">\n",
       "      <th></th>\n",
       "      <th>date</th>\n",
       "      <th>ordersPerDateA</th>\n",
       "      <th>revenuePerDateA</th>\n",
       "      <th>ordersPerDateB</th>\n",
       "      <th>revenuePerDateB</th>\n",
       "      <th>ordersCummulativeA</th>\n",
       "      <th>revenueCummulativeA</th>\n",
       "      <th>ordersCummulativeB</th>\n",
       "      <th>revenueCummulativeB</th>\n",
       "      <th>visitorsPerDateA</th>\n",
       "      <th>visitorsPerDateB</th>\n",
       "      <th>visitorsCummulativeA</th>\n",
       "      <th>visitorsCummulativeB</th>\n",
       "    </tr>\n",
       "  </thead>\n",
       "  <tbody>\n",
       "    <tr>\n",
       "      <td>0</td>\n",
       "      <td>2019-08-01</td>\n",
       "      <td>24</td>\n",
       "      <td>148579</td>\n",
       "      <td>21</td>\n",
       "      <td>101217</td>\n",
       "      <td>24</td>\n",
       "      <td>148579</td>\n",
       "      <td>21</td>\n",
       "      <td>101217</td>\n",
       "      <td>719</td>\n",
       "      <td>713</td>\n",
       "      <td>719</td>\n",
       "      <td>713</td>\n",
       "    </tr>\n",
       "    <tr>\n",
       "      <td>1</td>\n",
       "      <td>2019-08-02</td>\n",
       "      <td>20</td>\n",
       "      <td>93822</td>\n",
       "      <td>24</td>\n",
       "      <td>165531</td>\n",
       "      <td>44</td>\n",
       "      <td>242401</td>\n",
       "      <td>45</td>\n",
       "      <td>266748</td>\n",
       "      <td>619</td>\n",
       "      <td>581</td>\n",
       "      <td>1338</td>\n",
       "      <td>1294</td>\n",
       "    </tr>\n",
       "    <tr>\n",
       "      <td>2</td>\n",
       "      <td>2019-08-03</td>\n",
       "      <td>24</td>\n",
       "      <td>112473</td>\n",
       "      <td>16</td>\n",
       "      <td>114248</td>\n",
       "      <td>68</td>\n",
       "      <td>354874</td>\n",
       "      <td>61</td>\n",
       "      <td>380996</td>\n",
       "      <td>507</td>\n",
       "      <td>509</td>\n",
       "      <td>1845</td>\n",
       "      <td>1803</td>\n",
       "    </tr>\n",
       "    <tr>\n",
       "      <td>3</td>\n",
       "      <td>2019-08-04</td>\n",
       "      <td>16</td>\n",
       "      <td>70825</td>\n",
       "      <td>17</td>\n",
       "      <td>108571</td>\n",
       "      <td>84</td>\n",
       "      <td>425699</td>\n",
       "      <td>78</td>\n",
       "      <td>489567</td>\n",
       "      <td>717</td>\n",
       "      <td>770</td>\n",
       "      <td>2562</td>\n",
       "      <td>2573</td>\n",
       "    </tr>\n",
       "    <tr>\n",
       "      <td>4</td>\n",
       "      <td>2019-08-05</td>\n",
       "      <td>25</td>\n",
       "      <td>124218</td>\n",
       "      <td>23</td>\n",
       "      <td>92428</td>\n",
       "      <td>109</td>\n",
       "      <td>549917</td>\n",
       "      <td>101</td>\n",
       "      <td>581995</td>\n",
       "      <td>756</td>\n",
       "      <td>707</td>\n",
       "      <td>3318</td>\n",
       "      <td>3280</td>\n",
       "    </tr>\n",
       "  </tbody>\n",
       "</table>\n",
       "</div>"
      ],
      "text/plain": [
       "        date  ordersPerDateA  revenuePerDateA  ordersPerDateB  \\\n",
       "0 2019-08-01              24           148579              21   \n",
       "1 2019-08-02              20            93822              24   \n",
       "2 2019-08-03              24           112473              16   \n",
       "3 2019-08-04              16            70825              17   \n",
       "4 2019-08-05              25           124218              23   \n",
       "\n",
       "   revenuePerDateB  ordersCummulativeA  revenueCummulativeA  \\\n",
       "0           101217                  24               148579   \n",
       "1           165531                  44               242401   \n",
       "2           114248                  68               354874   \n",
       "3           108571                  84               425699   \n",
       "4            92428                 109               549917   \n",
       "\n",
       "   ordersCummulativeB  revenueCummulativeB  visitorsPerDateA  \\\n",
       "0                  21               101217               719   \n",
       "1                  45               266748               619   \n",
       "2                  61               380996               507   \n",
       "3                  78               489567               717   \n",
       "4                 101               581995               756   \n",
       "\n",
       "   visitorsPerDateB  visitorsCummulativeA  visitorsCummulativeB  \n",
       "0               713                   719                   713  \n",
       "1               581                  1338                  1294  \n",
       "2               509                  1845                  1803  \n",
       "3               770                  2562                  2573  \n",
       "4               707                  3318                  3280  "
      ]
     },
     "execution_count": 15,
     "metadata": {},
     "output_type": "execute_result"
    }
   ],
   "source": [
    "data = (\n",
    "    ordersADaily.merge(\n",
    "        ordersBDaily, left_on='date', right_on='date', how='left'\n",
    "    )\n",
    "    .merge(ordersACummulative, left_on='date', right_on='date', how='left')\n",
    "    .merge(ordersBCummulative, left_on='date', right_on='date', how='left')\n",
    "    .merge(visitorsADaily, left_on='date', right_on='date', how='left')\n",
    "    .merge(visitorsBDaily, left_on='date', right_on='date', how='left')\n",
    "    .merge(visitorsACummulative, left_on='date', right_on='date', how='left')\n",
    "    .merge(visitorsBCummulative, left_on='date', right_on='date', how='left')\n",
    ")\n",
    "#проверим\n",
    "data.head(5)"
   ]
  },
  {
   "cell_type": "code",
   "execution_count": 16,
   "metadata": {},
   "outputs": [
    {
     "data": {
      "image/png": "[encoded data removed]",
      "text/plain": [
       "<Figure size 1080x720 with 1 Axes>"
      ]
     },
     "metadata": {
      "needs_background": "light"
     },
     "output_type": "display_data"
    }
   ],
   "source": [
    "# считаем кумулятивную конверсию по группам\n",
    "data['conversionCummulativeA'] = data['ordersCummulativeA']/data['visitorsCummulativeA']\n",
    "data['conversionCummulativeB'] = data['ordersCummulativeB']/data['visitorsCummulativeB']\n",
    "#строим график\n",
    "plt.figure(figsize=(15, 10))\n",
    "plt.title('График кумулятивной конверсии по группам', fontsize=18)\n",
    "# Строим график выручки группы А\n",
    "plt.plot(data['date'], data['conversionCummulativeA'], label='A')\n",
    "# Строим график выручки группы B\n",
    "plt.plot(data['date'], data['conversionCummulativeB'], label='B')\n",
    "plt.legend(('A', 'B'),title = 'Группы', fontsize=14)\n",
    "plt.ylabel('Уровень конверсии', fontsize=14)\n",
    "plt.xlabel('Дата', fontsize=14)\n",
    "plt.grid()\n",
    "plt.show()"
   ]
  },
  {
   "cell_type": "markdown",
   "metadata": {},
   "source": [
    "Как видно из графика, кумулятивная конверсия в группе В после скачков вначале и стабилизации показателей выше, чем в A, разница составляет в районе 0,3 - 0,4 %. Еще лучше это должно быть видно на графике относительного изменения кумулятивной конверсии. "
   ]
  },
  {
   "cell_type": "markdown",
   "metadata": {},
   "source": [
    "### График относительного изменения кумулятивной конверсии группы B к группе A"
   ]
  },
  {
   "cell_type": "code",
   "execution_count": 17,
   "metadata": {},
   "outputs": [
    {
     "data": {
      "image/png": "[encoded data removed]",
      "text/plain": [
       "<Figure size 1080x720 with 1 Axes>"
      ]
     },
     "metadata": {
      "needs_background": "light"
     },
     "output_type": "display_data"
    }
   ],
   "source": [
    "plt.figure(figsize=(15, 10))\n",
    "plt.title('График относительного изменения кумулятивной конверсии группы B к группе A', fontsize=18)\n",
    "plt.plot(data['date'], \n",
    "         data['conversionCummulativeB']/data['conversionCummulativeA']-1, \n",
    "         label=\"Относительный прирост конверсии группы B относительно группы A\")\n",
    "plt.axhline(y=0, color='black', linestyle='--')\n",
    "plt.xlabel('Дата', fontsize=14)\n",
    "plt.grid()\n",
    "plt.show()"
   ]
  },
  {
   "cell_type": "markdown",
   "metadata": {},
   "source": [
    "На этом графике также видно, что, поскольку он больше 0, конверсия группы В в целом больше, чем у А. Вопрос в том, является ли такое различие статистически значимым. Чтобы это понять, нужно изучит заказы и аномальные показатели в них "
   ]
  },
  {
   "cell_type": "markdown",
   "metadata": {},
   "source": [
    "### Точечный график количества заказов по пользователям."
   ]
  },
  {
   "cell_type": "markdown",
   "metadata": {},
   "source": [
    "Построим точечный график количества заказов на пользователя. Для этого создадим фрейм ordersByUsers, где подсичтаем количество заказов для каждого пользователя."
   ]
  },
  {
   "cell_type": "code",
   "execution_count": 18,
   "metadata": {
    "scrolled": true
   },
   "outputs": [
    {
     "data": {
      "text/html": [
       "<div>\n",
       "<style scoped>\n",
       "    .dataframe tbody tr th:only-of-type {\n",
       "        vertical-align: middle;\n",
       "    }\n",
       "\n",
       "    .dataframe tbody tr th {\n",
       "        vertical-align: top;\n",
       "    }\n",
       "\n",
       "    .dataframe thead th {\n",
       "        text-align: right;\n",
       "    }\n",
       "</style>\n",
       "<table border=\"1\" class=\"dataframe\">\n",
       "  <thead>\n",
       "    <tr style=\"text-align: right;\">\n",
       "      <th></th>\n",
       "      <th>userId</th>\n",
       "      <th>orders</th>\n",
       "    </tr>\n",
       "  </thead>\n",
       "  <tbody>\n",
       "    <tr>\n",
       "      <td>1023</td>\n",
       "      <td>4256040402</td>\n",
       "      <td>11</td>\n",
       "    </tr>\n",
       "    <tr>\n",
       "      <td>591</td>\n",
       "      <td>2458001652</td>\n",
       "      <td>11</td>\n",
       "    </tr>\n",
       "    <tr>\n",
       "      <td>569</td>\n",
       "      <td>2378935119</td>\n",
       "      <td>9</td>\n",
       "    </tr>\n",
       "    <tr>\n",
       "      <td>487</td>\n",
       "      <td>2038680547</td>\n",
       "      <td>8</td>\n",
       "    </tr>\n",
       "    <tr>\n",
       "      <td>44</td>\n",
       "      <td>199603092</td>\n",
       "      <td>5</td>\n",
       "    </tr>\n",
       "    <tr>\n",
       "      <td>744</td>\n",
       "      <td>3062433592</td>\n",
       "      <td>5</td>\n",
       "    </tr>\n",
       "    <tr>\n",
       "      <td>55</td>\n",
       "      <td>237748145</td>\n",
       "      <td>5</td>\n",
       "    </tr>\n",
       "    <tr>\n",
       "      <td>917</td>\n",
       "      <td>3803269165</td>\n",
       "      <td>5</td>\n",
       "    </tr>\n",
       "    <tr>\n",
       "      <td>299</td>\n",
       "      <td>1230306981</td>\n",
       "      <td>5</td>\n",
       "    </tr>\n",
       "    <tr>\n",
       "      <td>897</td>\n",
       "      <td>3717692402</td>\n",
       "      <td>5</td>\n",
       "    </tr>\n",
       "  </tbody>\n",
       "</table>\n",
       "</div>"
      ],
      "text/plain": [
       "          userId  orders\n",
       "1023  4256040402      11\n",
       "591   2458001652      11\n",
       "569   2378935119       9\n",
       "487   2038680547       8\n",
       "44     199603092       5\n",
       "744   3062433592       5\n",
       "55     237748145       5\n",
       "917   3803269165       5\n",
       "299   1230306981       5\n",
       "897   3717692402       5"
      ]
     },
     "execution_count": 18,
     "metadata": {},
     "output_type": "execute_result"
    }
   ],
   "source": [
    "ordersByUsers = (\n",
    "    orders.groupby('visitorId', as_index=False)\n",
    "    .agg({'transactionId': pd.Series.nunique})\n",
    ")\n",
    "\n",
    "ordersByUsers.columns = ['userId', 'orders']\n",
    "#выведем 10 наибольших по количеству заказов пользователей\n",
    "ordersByUsers.sort_values(by='orders', ascending=False).head(10)"
   ]
  },
  {
   "cell_type": "markdown",
   "metadata": {},
   "source": [
    "Теперь построим точечную диаграмму"
   ]
  },
  {
   "cell_type": "code",
   "execution_count": 29,
   "metadata": {
    "scrolled": false
   },
   "outputs": [
    {
     "data": {
      "image/png": "[encoded data removed]",
      "text/plain": [
       "<Figure size 1080x720 with 1 Axes>"
      ]
     },
     "metadata": {
      "needs_background": "light"
     },
     "output_type": "display_data"
    }
   ],
   "source": [
    "x_values = pd.Series(range(0,len(ordersByUsers)))\n",
    "plt.figure(figsize=(15, 10))\n",
    "plt.title('Количество заказов на пользователя', fontsize=18)\n",
    "plt.scatter(x_values, ordersByUsers['orders'], alpha = 0.5)\n",
    "plt.ylabel('Количество заказов', fontsize=14)\n",
    "plt.xticks([])\n",
    "plt.grid()\n",
    "plt.show()"
   ]
  },
  {
   "cell_type": "markdown",
   "metadata": {},
   "source": [
    "Как видно, наиболее типичной является ситуация, когда 1 пользователь делает 1 заказ, реже - 2 или 3, для 4 и более заказов точек совсем мало. Однако, чтобы понять, какие значения являются аномальными, необходимо определить 95 и 99 перцентили. "
   ]
  },
  {
   "cell_type": "markdown",
   "metadata": {},
   "source": [
    "### 95-й и 99-й перцентили количества заказов на пользователя. Граница аномальных значений"
   ]
  },
  {
   "cell_type": "markdown",
   "metadata": {},
   "source": [
    "Определим 95 и 99 перцентили"
   ]
  },
  {
   "cell_type": "code",
   "execution_count": 30,
   "metadata": {},
   "outputs": [
    {
     "data": {
      "text/plain": [
       "array([2., 4.])"
      ]
     },
     "execution_count": 30,
     "metadata": {},
     "output_type": "execute_result"
    }
   ],
   "source": [
    "np.percentile(ordersByUsers['orders'], [95, 99])"
   ]
  },
  {
   "cell_type": "markdown",
   "metadata": {},
   "source": [
    "Эти цифры означачют, что только 5% пользователей делают больше 2 заказов и только 1% - больше 4. Примем за аномальные значения все, где заказов больше 2х."
   ]
  },
  {
   "cell_type": "markdown",
   "metadata": {},
   "source": [
    "### Точечный график стоимостей заказов"
   ]
  },
  {
   "cell_type": "markdown",
   "metadata": {},
   "source": [
    "Теперь посмотрим на аномальные показатели стоимости заказов. для этого построим точечный график стоимости заказов"
   ]
  },
  {
   "cell_type": "code",
   "execution_count": 33,
   "metadata": {
    "scrolled": false
   },
   "outputs": [
    {
     "data": {
      "image/png": "[encoded data removed]",
      "text/plain": [
       "<Figure size 1080x720 with 1 Axes>"
      ]
     },
     "metadata": {
      "needs_background": "light"
     },
     "output_type": "display_data"
    }
   ],
   "source": [
    "x_values = pd.Series(range(0,len(orders['revenue'])))\n",
    "plt.figure(figsize=(15, 10))\n",
    "plt.title('Стоимость заказов', fontsize=18)\n",
    "plt.scatter(x_values, orders['revenue'], alpha = 0.5)\n",
    "plt.ylabel('Стоимость заказов', fontsize=14)\n",
    "plt.xticks([])\n",
    "plt.grid()\n",
    "plt.show()"
   ]
  },
  {
   "cell_type": "markdown",
   "metadata": {},
   "source": [
    "Подавляющее масса заказов по стоимости лежит в одной плоскости, но есть несколько значений, которые очень сильно выбиваются. Это точно выбросы, скорее всего - ошибки в данных. Взглянем ближе на ту же диаграмму, в пределах до 100000."
   ]
  },
  {
   "cell_type": "code",
   "execution_count": 34,
   "metadata": {},
   "outputs": [
    {
     "data": {
      "image/png": "[encoded data removed]",
      "text/plain": [
       "<Figure size 1080x720 with 1 Axes>"
      ]
     },
     "metadata": {
      "needs_background": "light"
     },
     "output_type": "display_data"
    }
   ],
   "source": [
    "x_values = pd.Series(range(0,len(orders['revenue'])))\n",
    "plt.figure(figsize=(15, 10))\n",
    "plt.title('Стоимость заказов', fontsize=18)\n",
    "plt.scatter(x_values, orders['revenue'], alpha = 0.5)\n",
    "plt.ylabel('Стоимость заказов', fontsize=14)\n",
    "plt.xticks([])\n",
    "plt.grid()\n",
    "plt.ylim(0, 100000)\n",
    "plt.show()"
   ]
  },
  {
   "cell_type": "markdown",
   "metadata": {},
   "source": [
    "Большинство значений не доходят и до 20000. Чтобы точно оценить и отсеять аномальные показатели, посчитаем 95 и 99 перцентили"
   ]
  },
  {
   "cell_type": "markdown",
   "metadata": {},
   "source": [
    "### 95-й и 99-й перцентили стоимости заказов. Граница для определения аномальных заказов."
   ]
  },
  {
   "cell_type": "code",
   "execution_count": 35,
   "metadata": {},
   "outputs": [
    {
     "data": {
      "text/plain": [
       "array([28000. , 58233.2])"
      ]
     },
     "execution_count": 35,
     "metadata": {},
     "output_type": "execute_result"
    }
   ],
   "source": [
    "np.percentile(orders['revenue'], [95, 99]) "
   ]
  },
  {
   "cell_type": "markdown",
   "metadata": {},
   "source": [
    "Итак, несмотря на то, что в данных есть значение стоимости больше 1 млн., только 1% стоимости заказов превышается отметку в 58233.2, и только 5% больше 28 тыс. Возьмем этот показатель за границу нормальных значений"
   ]
  },
  {
   "cell_type": "markdown",
   "metadata": {},
   "source": [
    "### Cтатистическая значимость различий в конверсии между группами по «сырым» данным."
   ]
  },
  {
   "cell_type": "markdown",
   "metadata": {},
   "source": [
    "Оценим статистическую значимость различий в конверсии по \"сырым\" данным, применив тест Манна-Уитни. Нулева гипотеза заключается в том, что статистически значимых различий в конверсии между группами А и В нет, альтернативная - что есть."
   ]
  },
  {
   "cell_type": "code",
   "execution_count": 37,
   "metadata": {
    "scrolled": true
   },
   "outputs": [
    {
     "name": "stdout",
     "output_type": "stream",
     "text": [
      "0.00840\n",
      "0.138\n"
     ]
    }
   ],
   "source": [
    "#создадим переменные с количеством заказов для пользователей групп A и B\n",
    "ordersByUsersA = (\n",
    "    orders[orders['group'] == 'A']\n",
    "    .groupby('visitorId', as_index=False)\n",
    "    .agg({'transactionId': pd.Series.nunique})\n",
    ")\n",
    "ordersByUsersA.columns = ['userId', 'orders']\n",
    "\n",
    "ordersByUsersB = (\n",
    "    orders[orders['group'] == 'B']\n",
    "    .groupby('visitorId', as_index=False)\n",
    "    .agg({'transactionId': pd.Series.nunique})\n",
    ")\n",
    "ordersByUsersB.columns = ['userId', 'orders'] \n",
    "\n",
    "#cоздадим переменные sampleA и sampleB для теста Манна-Уитни. \n",
    "#В них буду те пользователи, которые сделали заказ из переменных ordersByUsers, a также те, кто ничего не заказывал\n",
    "#Их количество равно разнице между суммой посетителей и количеством записей о заказах: \n",
    "#data['visitorsPerDateA'].sum() - len(ordersByUsersA['orders'])\n",
    "sampleA = pd.concat([ordersByUsersA['orders'],pd.Series(0, index=np.arange(data['visitorsPerDateA'].sum() - len(ordersByUsersA['orders'])), name='orders')],axis=0)\n",
    "\n",
    "sampleB = pd.concat([ordersByUsersB['orders'],pd.Series(0, index=np.arange(data['visitorsPerDateB'].sum() - len(ordersByUsersB['orders'])), name='orders')],axis=0)\n",
    "\n",
    "#применим тест, выведем полученное p-value и относительное различие конверсии между группами, прирост конверсии группы В по отношению к А\n",
    "print(\"{0:.5f}\".format(stats.mannwhitneyu(sampleA, sampleB)[1]))\n",
    "print(\"{0:.3f}\".format(sampleB.mean() / sampleA.mean() - 1))"
   ]
  },
  {
   "cell_type": "markdown",
   "metadata": {},
   "source": [
    "В результате получилось, что p-value довольно значительно меньше 5%, поэтому можно отврергнуть первоначальную гипотезу о том, что конверсия групп A и B равны и принять, что они не равны. Относительный прирост конверсии группы В к конверсии группы A составляет 13.8%. Однако это подсчеты по \"сырым\" данным - надо будет взглянуть на очищенные. Но сначала посмотрим на значимость различий в среднем чеке."
   ]
  },
  {
   "cell_type": "markdown",
   "metadata": {},
   "source": [
    "### Статистическая значимость различий в среднем чеке заказа между группами по «сырым» данным."
   ]
  },
  {
   "cell_type": "markdown",
   "metadata": {},
   "source": [
    "Оценим статистическую значимость различий в среднем чеке заказа между группами: применим тест Манна-Уитни, а ткаже посчитаем относительную разницу между средним чеком групп A и B.  "
   ]
  },
  {
   "cell_type": "code",
   "execution_count": 38,
   "metadata": {},
   "outputs": [
    {
     "name": "stdout",
     "output_type": "stream",
     "text": [
      "0.365\n",
      "0.259\n"
     ]
    }
   ],
   "source": [
    "print('{0:.3f}'.format(stats.mannwhitneyu(orders[orders['group']=='A']['revenue'], orders[orders['group']=='B']['revenue'])[1]))\n",
    "print('{0:.3f}'.format(orders[orders['group']=='B']['revenue'].mean()/orders[orders['group']=='A']['revenue'].mean()-1))"
   ]
  },
  {
   "cell_type": "markdown",
   "metadata": {},
   "source": [
    "P-value очень большое, намного выше чем статистическая значимость в 5%. Поэтому отвергнуть гипотезу о равенстве среднего чека по \"сырым\" данным нельзя, даже несмотря на то, что, прирост среднего чека группы B к группе A составляет очень большие 25.9%. Дело здесь, вероятно, в выбросах и аномально больших значениях в группе B. Нужно будет смотреть очищенные данные"
   ]
  },
  {
   "cell_type": "markdown",
   "metadata": {},
   "source": [
    "### Статистическая значимость различий в конверсии между группами по «очищенным» данным."
   ]
  },
  {
   "cell_type": "markdown",
   "metadata": {},
   "source": [
    "Теперь проанализируем очищенные данные, т.е. те, где количество заказов не больше 2х и стоимость заказа не больше 28 тыс."
   ]
  },
  {
   "cell_type": "code",
   "execution_count": 39,
   "metadata": {},
   "outputs": [
    {
     "name": "stdout",
     "output_type": "stream",
     "text": [
      "0.00652\n",
      "0.173\n"
     ]
    }
   ],
   "source": [
    "#выделим пользователей с количеством заказов больше 2\n",
    "usersWithManyOrders = pd.concat(\n",
    "    [\n",
    "        ordersByUsersA[ordersByUsersA['orders'] > 2]['userId'],\n",
    "        ordersByUsersB[ordersByUsersB['orders'] > 2]['userId'],\n",
    "    ],\n",
    "    axis=0,\n",
    ")\n",
    "\n",
    "#выделим пользователей со стоимостью заказов больше 28 тыс.\n",
    "usersWithExpensiveOrders = orders[orders['revenue'] > 28000]['visitorId']\n",
    "usersWithExpensiveOrders.columns = ['userId']\n",
    "\n",
    "#объединим аномальных пользователей в один список\n",
    "abnormalUsers = (\n",
    "    pd.concat([usersWithManyOrders, usersWithExpensiveOrders], axis=0)\n",
    "    .drop_duplicates()\n",
    "    .sort_values()\n",
    ")\n",
    "\n",
    "#cоздадим sampleAfiltered и sampleBfiltered по аналогии с sampleA и sampleB, но не включая аномальных пользователей\n",
    "sampleAFiltered = pd.concat([ordersByUsersA[np.logical_not(ordersByUsersA['userId'].isin(abnormalUsers))]['orders'],\n",
    "        pd.Series(0, index=np.arange(data['visitorsPerDateA'].sum() - len(ordersByUsersA['orders'])), name='orders')], axis=0)\n",
    "sampleBFiltered = pd.concat([ordersByUsersB[np.logical_not(ordersByUsersB['userId'].isin(abnormalUsers))]['orders'],\n",
    "        pd.Series(0, index=np.arange(data['visitorsPerDateB'].sum() - len(ordersByUsersB['orders'])), name='orders')], axis=0)\n",
    "\n",
    "#применим тест Манна-Уитни, выведем полученное p-value и относительное различие конверсии между группами\n",
    "print('{0:.5f}'.format(stats.mannwhitneyu(sampleAFiltered, sampleBFiltered)[1]))\n",
    "print('{0:.3f}'.format(sampleBFiltered.mean()/sampleAFiltered.mean()-1)) "
   ]
  },
  {
   "cell_type": "markdown",
   "metadata": {},
   "source": [
    "P-value значительно меньше порога в 5%, что позволяет отвергнуть гипотезу о равенстве конверсий A и B. Относительный прирост конверсии группы В к конверсии группы A составляет по очищенным данным еще больше, чем по \"сырым\" - 17.3%. Конверсия в группе В действительно лучше. "
   ]
  },
  {
   "cell_type": "markdown",
   "metadata": {},
   "source": [
    "### Статистическая значимость различий в среднем чеке заказа между группами по «очищенным» данным."
   ]
  },
  {
   "cell_type": "code",
   "execution_count": 40,
   "metadata": {},
   "outputs": [
    {
     "name": "stdout",
     "output_type": "stream",
     "text": [
      "0.738\n",
      "-0.020\n"
     ]
    }
   ],
   "source": [
    "print(\n",
    "    '{0:.3f}'.format(\n",
    "        stats.mannwhitneyu(\n",
    "            orders[\n",
    "                np.logical_and(\n",
    "                    orders['group'] == 'A',\n",
    "                    np.logical_not(orders['visitorId'].isin(abnormalUsers)),\n",
    "                )\n",
    "            ]['revenue'],\n",
    "            orders[\n",
    "                np.logical_and(\n",
    "                    orders['group'] == 'B',\n",
    "                    np.logical_not(orders['visitorId'].isin(abnormalUsers)),\n",
    "                )\n",
    "            ]['revenue']\n",
    "        )[1]\n",
    "    )\n",
    ")\n",
    "\n",
    "print(\n",
    "    \"{0:.3f}\".format(\n",
    "        orders[\n",
    "            np.logical_and(\n",
    "                orders['group'] == 'B',\n",
    "                np.logical_not(orders['visitorId'].isin(abnormalUsers)),\n",
    "            )\n",
    "        ]['revenue'].mean()\n",
    "        / orders[\n",
    "            np.logical_and(\n",
    "                orders['group'] == 'A',\n",
    "                np.logical_not(orders['visitorId'].isin(abnormalUsers)),\n",
    "            )\n",
    "        ]['revenue'].mean()\n",
    "        - 1\n",
    "    )\n",
    ") "
   ]
  },
  {
   "cell_type": "markdown",
   "metadata": {},
   "source": [
    "P-value осталось практически таким же, как и в сырых данных, намного выше чем статистическая значимость в 5%. Поэтому отвергнуть гипотезу о равенстве среднего чека в двух группах нельзя. Как и предпологалось, очень большая относительная разница среднего чека в группе B по отношению к А после очистки данных исчезла: в очищенных данных наблюдается даже падение среднего чека группы B к группе A, но незначительное - в 2%."
   ]
  },
  {
   "cell_type": "markdown",
   "metadata": {},
   "source": [
    "### Решение по результатам теста."
   ]
  },
  {
   "cell_type": "markdown",
   "metadata": {},
   "source": [
    "Итак, по итогам анализа результатов теста можно констатировать, что:\n",
    "- существует статистически значимое различие между группами А и В как по \"сырым\" данным, так и по очищенным.\n",
    "- статистически значимых различий в размере среднего чека не обнаружено ни в \"сырых\" данных, ни после фильтрации.\n",
    "- график кумулятивной конверсии показывает, что конверсия группы B и прирост конверсии группы В по отношению к А что по \"сырым\", что по очищенным данным показывают, что конверсия группы В выше.\n",
    "\n",
    "На основании этих выводов можно признать тест успешным и остановить его, зафиксировав победу группы В."
   ]
  },
  {
   "cell_type": "markdown",
   "metadata": {},
   "source": [
    "## Вывод"
   ]
  },
  {
   "cell_type": "markdown",
   "metadata": {},
   "source": [
    "### Приоритизация гипотез\n",
    "\n",
    "В результате исследования были приоритизированы 9 гипотез по методам ICE и RICE. \n",
    "- Запустить акцию, дающую скидку на товар в день рождения (8)\n",
    "- Добавить два новых канала привлечения трафика, что позволит привлекать на 30% больше пользователей (0)\n",
    "- Добавить форму подписки на все основные страницы, чтобы собрать базу клиентов для email-рассылок (7)\n",
    "\n",
    "По методу RICE самые приотритетные гипотезы - это 7, 2, 0:\n",
    "- Добавить форму подписки на все основные страницы, чтобы собрать базу клиентов для email-рассылок\n",
    "- Добавить блоки рекомендаций товаров на сайт интернет магазина, чтобы повысить конверсию и средний чек заказа\n",
    "- Добавить два новых канала привлечения трафика, что позволит привлекать на 30% больше пользователей\n",
    "\n",
    "Разница обусловлена тем, что в случае RICE учитывается охват пользователей: гипотезы о форме подписки и блоках рассылки охватывают всех. Нужно отметить, что в топе по обоим методам есть гипотеза о новых каналах привлечения трафика - на 2 и 3 месте соответственно.\n",
    "\n",
    "### Результаты A/B теста\n",
    "\n",
    "Данные по результатам проведения теста не содержат пропусков или дубликатов, однако, по какой то причине есть пользователи, сделавшие заказ, которые попали в обе группы. Тем не менее, таких пользователей немного и этим можно пренебречь.\n",
    "\n",
    "В данных есть аномальные значения количества и стоимости заказов, нормальными (95% значений) можно считать не более 2х заказов на пользователя и стоимость заказа не более 28 тыс.\n",
    "\n",
    "По итогам анализа результатов теста можно констатировать, что:\n",
    "- существует статистически значимое различие между группами А и В как по \"сырым\" данным, так и по очищенным.\n",
    "- статистически значимых различий в размере среднего чека не обнаружено ни в \"сырых\" данных, ни после фильтрации.\n",
    "- график кумулятивной конверсии показывает, что конверсия группы B и прирост конверсии группы В по отношению к А, что по \"сырым\", что по очищенным данным для группы В выше.\n",
    "\n",
    "На основании этих выводов можно признать тест успешным и остановить его, зафиксировав победу группы В, конверсия в ней выше, хотя разницы в размере среднего чека не зафиксировано."
   ]
  }
 ],
 "metadata": {
  "ExecuteTimeLog": [
   {
    "duration": 544,
    "start_time": "2022-03-08T04:56:28.641Z"
   },
   {
    "duration": 30,
    "start_time": "2022-03-08T04:58:50.035Z"
   },
   {
    "duration": 881,
    "start_time": "2022-03-08T05:07:42.976Z"
   },
   {
    "duration": 6,
    "start_time": "2022-03-08T05:09:01.795Z"
   },
   {
    "duration": 6,
    "start_time": "2022-03-08T05:13:21.902Z"
   },
   {
    "duration": 28,
    "start_time": "2022-03-08T05:13:34.207Z"
   },
   {
    "duration": 6,
    "start_time": "2022-03-08T05:13:44.718Z"
   },
   {
    "duration": 229,
    "start_time": "2022-03-08T05:16:23.896Z"
   },
   {
    "duration": 227,
    "start_time": "2022-03-08T05:16:32.056Z"
   },
   {
    "duration": 8,
    "start_time": "2022-03-08T05:16:40.825Z"
   },
   {
    "duration": 225,
    "start_time": "2022-03-08T05:18:30.120Z"
   },
   {
    "duration": 7,
    "start_time": "2022-03-08T05:19:09.426Z"
   },
   {
    "duration": 259,
    "start_time": "2022-03-08T05:19:13.033Z"
   },
   {
    "duration": 8,
    "start_time": "2022-03-08T05:24:16.788Z"
   },
   {
    "duration": 213,
    "start_time": "2022-03-08T05:26:55.518Z"
   },
   {
    "duration": 7,
    "start_time": "2022-03-08T05:27:06.702Z"
   },
   {
    "duration": 8,
    "start_time": "2022-03-08T05:28:16.550Z"
   },
   {
    "duration": 8,
    "start_time": "2022-03-08T05:28:29.302Z"
   },
   {
    "duration": 8,
    "start_time": "2022-03-08T05:28:42.822Z"
   },
   {
    "duration": 205,
    "start_time": "2022-03-08T05:34:19.962Z"
   },
   {
    "duration": 9,
    "start_time": "2022-03-08T05:34:25.146Z"
   },
   {
    "duration": 344,
    "start_time": "2022-03-08T06:01:19.299Z"
   },
   {
    "duration": 18,
    "start_time": "2022-03-08T06:02:24.116Z"
   },
   {
    "duration": 11,
    "start_time": "2022-03-08T06:02:29.964Z"
   },
   {
    "duration": 13,
    "start_time": "2022-03-08T06:02:37.220Z"
   },
   {
    "duration": 11,
    "start_time": "2022-03-08T06:02:45.956Z"
   },
   {
    "duration": 32,
    "start_time": "2022-03-08T06:02:52.243Z"
   },
   {
    "duration": 75,
    "start_time": "2022-03-08T06:03:56.180Z"
   },
   {
    "duration": 288,
    "start_time": "2022-03-08T06:04:11.165Z"
   },
   {
    "duration": 67,
    "start_time": "2022-03-08T06:04:16.852Z"
   },
   {
    "duration": 135,
    "start_time": "2022-03-08T06:15:23.723Z"
   },
   {
    "duration": 90,
    "start_time": "2022-03-08T06:15:57.099Z"
   },
   {
    "duration": 1013,
    "start_time": "2022-03-08T06:17:47.348Z"
   },
   {
    "duration": 15,
    "start_time": "2022-03-08T06:18:31.220Z"
   },
   {
    "duration": 984,
    "start_time": "2022-03-08T06:18:55.173Z"
   },
   {
    "duration": 11,
    "start_time": "2022-03-08T06:19:13.780Z"
   },
   {
    "duration": 17,
    "start_time": "2022-03-08T06:19:27.956Z"
   },
   {
    "duration": 19,
    "start_time": "2022-03-08T06:44:14.778Z"
   },
   {
    "duration": 145,
    "start_time": "2022-03-08T06:49:20.188Z"
   },
   {
    "duration": 9,
    "start_time": "2022-03-08T06:49:30.748Z"
   },
   {
    "duration": 222,
    "start_time": "2022-03-08T06:52:49.703Z"
   },
   {
    "duration": 120,
    "start_time": "2022-03-08T06:53:29.126Z"
   },
   {
    "duration": 1442,
    "start_time": "2022-03-08T06:53:35.224Z"
   },
   {
    "duration": 541,
    "start_time": "2022-03-08T06:54:40.513Z"
   },
   {
    "duration": 409,
    "start_time": "2022-03-08T06:55:03.568Z"
   },
   {
    "duration": 398,
    "start_time": "2022-03-08T07:04:09.805Z"
   },
   {
    "duration": 6117,
    "start_time": "2022-03-08T07:20:28.663Z"
   },
   {
    "duration": 5871,
    "start_time": "2022-03-08T07:20:49.815Z"
   },
   {
    "duration": 387,
    "start_time": "2022-03-08T07:21:40.304Z"
   },
   {
    "duration": 353,
    "start_time": "2022-03-08T07:22:13.680Z"
   },
   {
    "duration": 72,
    "start_time": "2022-03-08T07:50:48.701Z"
   },
   {
    "duration": 378,
    "start_time": "2022-03-08T07:51:05.358Z"
   },
   {
    "duration": 571,
    "start_time": "2022-03-08T07:51:59.240Z"
   },
   {
    "duration": 12,
    "start_time": "2022-03-08T09:10:44.749Z"
   },
   {
    "duration": 119,
    "start_time": "2022-03-08T09:13:36.902Z"
   },
   {
    "duration": 8,
    "start_time": "2022-03-08T09:14:22.478Z"
   },
   {
    "duration": 28,
    "start_time": "2022-03-08T09:23:11.991Z"
   },
   {
    "duration": 17,
    "start_time": "2022-03-08T09:23:21.241Z"
   },
   {
    "duration": 36,
    "start_time": "2022-03-08T10:17:13.844Z"
   },
   {
    "duration": 35,
    "start_time": "2022-03-08T10:17:26.005Z"
   },
   {
    "duration": 6,
    "start_time": "2022-03-08T10:20:35.686Z"
   },
   {
    "duration": 411,
    "start_time": "2022-03-08T10:23:03.277Z"
   },
   {
    "duration": 472,
    "start_time": "2022-03-08T10:35:42.499Z"
   },
   {
    "duration": 470,
    "start_time": "2022-03-08T10:36:26.973Z"
   },
   {
    "duration": 392,
    "start_time": "2022-03-08T10:37:06.556Z"
   },
   {
    "duration": 14,
    "start_time": "2022-03-08T11:28:13.178Z"
   },
   {
    "duration": 219,
    "start_time": "2022-03-08T11:29:20.755Z"
   },
   {
    "duration": 5232,
    "start_time": "2022-03-08T11:29:36.435Z"
   },
   {
    "duration": 111,
    "start_time": "2022-03-08T11:29:58.276Z"
   },
   {
    "duration": 292,
    "start_time": "2022-03-08T11:33:40.720Z"
   },
   {
    "duration": 415,
    "start_time": "2022-03-08T11:34:44.733Z"
   },
   {
    "duration": 413,
    "start_time": "2022-03-08T11:34:56.221Z"
   },
   {
    "duration": 427,
    "start_time": "2022-03-08T11:38:18.608Z"
   },
   {
    "duration": 4,
    "start_time": "2022-03-08T11:45:27.635Z"
   },
   {
    "duration": 323,
    "start_time": "2022-03-08T11:53:16.470Z"
   },
   {
    "duration": 649,
    "start_time": "2022-03-08T11:54:15.391Z"
   },
   {
    "duration": 529,
    "start_time": "2022-03-08T11:54:35.806Z"
   },
   {
    "duration": 470,
    "start_time": "2022-03-08T11:54:56.976Z"
   },
   {
    "duration": 489,
    "start_time": "2022-03-08T11:59:35.961Z"
   },
   {
    "duration": 5337,
    "start_time": "2022-03-08T12:02:41.673Z"
   },
   {
    "duration": 5,
    "start_time": "2022-03-08T12:02:51.793Z"
   },
   {
    "duration": 214,
    "start_time": "2022-03-08T12:34:28.253Z"
   },
   {
    "duration": 135,
    "start_time": "2022-03-08T12:35:39.822Z"
   },
   {
    "duration": 6,
    "start_time": "2022-03-08T12:50:15.386Z"
   },
   {
    "duration": 118,
    "start_time": "2022-03-08T12:50:27.109Z"
   },
   {
    "duration": 120,
    "start_time": "2022-03-08T12:52:11.566Z"
   },
   {
    "duration": 142,
    "start_time": "2022-03-08T12:52:25.669Z"
   },
   {
    "duration": 10,
    "start_time": "2022-03-08T13:08:59.510Z"
   },
   {
    "duration": 5335,
    "start_time": "2022-03-08T13:51:55.518Z"
   },
   {
    "duration": 5252,
    "start_time": "2022-03-08T13:52:22.752Z"
   },
   {
    "duration": 9,
    "start_time": "2022-03-08T13:54:12.568Z"
   },
   {
    "duration": 12,
    "start_time": "2022-03-08T14:04:03.245Z"
   },
   {
    "duration": 15,
    "start_time": "2022-03-08T14:04:11.206Z"
   },
   {
    "duration": 18,
    "start_time": "2022-03-08T14:05:21.964Z"
   },
   {
    "duration": 19,
    "start_time": "2022-03-08T14:06:39.316Z"
   },
   {
    "duration": 5325,
    "start_time": "2022-03-08T14:31:00.654Z"
   },
   {
    "duration": 13,
    "start_time": "2022-03-08T14:35:12.727Z"
   },
   {
    "duration": 1132,
    "start_time": "2022-03-08T14:43:45.763Z"
   },
   {
    "duration": 24,
    "start_time": "2022-03-08T14:43:46.898Z"
   },
   {
    "duration": 10,
    "start_time": "2022-03-08T14:43:46.924Z"
   },
   {
    "duration": 13,
    "start_time": "2022-03-08T14:43:46.935Z"
   },
   {
    "duration": 12,
    "start_time": "2022-03-08T14:43:46.949Z"
   },
   {
    "duration": 70,
    "start_time": "2022-03-08T14:43:46.963Z"
   },
   {
    "duration": 14,
    "start_time": "2022-03-08T14:43:47.035Z"
   },
   {
    "duration": 35,
    "start_time": "2022-03-08T14:43:47.051Z"
   },
   {
    "duration": 206,
    "start_time": "2022-03-08T14:43:47.089Z"
   },
   {
    "duration": 448,
    "start_time": "2022-03-08T14:43:47.298Z"
   },
   {
    "duration": 384,
    "start_time": "2022-03-08T14:43:47.748Z"
   },
   {
    "duration": 468,
    "start_time": "2022-03-08T14:43:48.134Z"
   },
   {
    "duration": 130,
    "start_time": "2022-03-08T14:43:48.604Z"
   },
   {
    "duration": 45,
    "start_time": "2022-03-08T14:43:48.736Z"
   },
   {
    "duration": 395,
    "start_time": "2022-03-08T14:43:48.783Z"
   },
   {
    "duration": 464,
    "start_time": "2022-03-08T14:43:49.180Z"
   },
   {
    "duration": 132,
    "start_time": "2022-03-08T14:43:49.646Z"
   },
   {
    "duration": 460,
    "start_time": "2022-03-08T14:43:49.780Z"
   },
   {
    "duration": 5,
    "start_time": "2022-03-08T14:43:50.242Z"
   },
   {
    "duration": 500,
    "start_time": "2022-03-08T14:43:50.249Z"
   },
   {
    "duration": 511,
    "start_time": "2022-03-08T14:43:50.751Z"
   },
   {
    "duration": 5,
    "start_time": "2022-03-08T14:43:51.264Z"
   },
   {
    "duration": 212,
    "start_time": "2022-03-08T14:43:51.277Z"
   },
   {
    "duration": 10,
    "start_time": "2022-03-08T14:43:51.491Z"
   },
   {
    "duration": 18,
    "start_time": "2022-03-08T14:43:51.502Z"
   },
   {
    "duration": 14,
    "start_time": "2022-03-08T14:43:51.522Z"
   },
   {
    "duration": 1333,
    "start_time": "2022-03-09T03:59:50.958Z"
   },
   {
    "duration": 42,
    "start_time": "2022-03-09T04:00:06.759Z"
   },
   {
    "duration": 20,
    "start_time": "2022-03-09T04:00:54.035Z"
   },
   {
    "duration": 16,
    "start_time": "2022-03-09T04:01:59.459Z"
   },
   {
    "duration": 88,
    "start_time": "2022-03-09T04:03:05.076Z"
   },
   {
    "duration": 21,
    "start_time": "2022-03-09T04:03:10.661Z"
   },
   {
    "duration": 27,
    "start_time": "2022-03-09T04:03:11.787Z"
   },
   {
    "duration": 13,
    "start_time": "2022-03-09T04:03:15.044Z"
   },
   {
    "duration": 227,
    "start_time": "2022-03-09T04:03:33.243Z"
   },
   {
    "duration": 559,
    "start_time": "2022-03-09T04:03:37.060Z"
   },
   {
    "duration": 527,
    "start_time": "2022-03-09T04:04:49.941Z"
   },
   {
    "duration": 626,
    "start_time": "2022-03-09T04:05:48.677Z"
   },
   {
    "duration": 188,
    "start_time": "2022-03-09T04:06:10.070Z"
   },
   {
    "duration": 51,
    "start_time": "2022-03-09T04:06:15.517Z"
   },
   {
    "duration": 548,
    "start_time": "2022-03-09T04:06:20.926Z"
   },
   {
    "duration": 633,
    "start_time": "2022-03-09T04:07:04.741Z"
   },
   {
    "duration": 217,
    "start_time": "2022-03-09T04:07:31.471Z"
   },
   {
    "duration": 687,
    "start_time": "2022-03-09T04:07:36.061Z"
   },
   {
    "duration": 7,
    "start_time": "2022-03-09T04:07:50.238Z"
   },
   {
    "duration": 640,
    "start_time": "2022-03-09T04:08:07.783Z"
   },
   {
    "duration": 630,
    "start_time": "2022-03-09T04:08:44.726Z"
   },
   {
    "duration": 7,
    "start_time": "2022-03-09T04:08:51.510Z"
   },
   {
    "duration": 300,
    "start_time": "2022-03-09T04:09:22.527Z"
   },
   {
    "duration": 226,
    "start_time": "2022-03-09T04:09:46.741Z"
   },
   {
    "duration": 14,
    "start_time": "2022-03-09T04:10:02.039Z"
   },
   {
    "duration": 27,
    "start_time": "2022-03-09T04:10:46.104Z"
   },
   {
    "duration": 20,
    "start_time": "2022-03-09T04:11:28.560Z"
   },
   {
    "duration": 1336,
    "start_time": "2022-03-10T04:36:02.119Z"
   },
   {
    "duration": 26,
    "start_time": "2022-03-10T04:36:05.198Z"
   },
   {
    "duration": 19,
    "start_time": "2022-03-10T04:36:11.108Z"
   },
   {
    "duration": 15,
    "start_time": "2022-03-10T04:54:38.702Z"
   },
   {
    "duration": 20,
    "start_time": "2022-03-10T04:54:53.932Z"
   },
   {
    "duration": 431,
    "start_time": "2022-03-10T04:58:02.265Z"
   },
   {
    "duration": 1348,
    "start_time": "2022-03-10T04:58:28.581Z"
   },
   {
    "duration": 28,
    "start_time": "2022-03-10T04:58:29.932Z"
   },
   {
    "duration": 31,
    "start_time": "2022-03-10T04:58:29.964Z"
   },
   {
    "duration": 17,
    "start_time": "2022-03-10T04:58:29.999Z"
   },
   {
    "duration": 77,
    "start_time": "2022-03-10T04:58:30.018Z"
   },
   {
    "duration": 22,
    "start_time": "2022-03-10T04:58:30.097Z"
   },
   {
    "duration": 43,
    "start_time": "2022-03-10T04:58:30.121Z"
   },
   {
    "duration": 13,
    "start_time": "2022-03-10T04:58:30.167Z"
   },
   {
    "duration": 239,
    "start_time": "2022-03-10T04:58:30.183Z"
   },
   {
    "duration": 600,
    "start_time": "2022-03-10T04:58:30.424Z"
   },
   {
    "duration": 554,
    "start_time": "2022-03-10T04:58:31.026Z"
   },
   {
    "duration": 646,
    "start_time": "2022-03-10T04:58:31.582Z"
   },
   {
    "duration": 198,
    "start_time": "2022-03-10T04:58:32.230Z"
   },
   {
    "duration": 71,
    "start_time": "2022-03-10T04:58:32.430Z"
   },
   {
    "duration": 573,
    "start_time": "2022-03-10T04:58:32.504Z"
   },
   {
    "duration": 633,
    "start_time": "2022-03-10T04:58:33.088Z"
   },
   {
    "duration": 263,
    "start_time": "2022-03-10T04:58:33.724Z"
   },
   {
    "duration": 590,
    "start_time": "2022-03-10T04:58:33.989Z"
   },
   {
    "duration": 8,
    "start_time": "2022-03-10T04:58:34.582Z"
   },
   {
    "duration": 624,
    "start_time": "2022-03-10T04:58:34.592Z"
   },
   {
    "duration": 611,
    "start_time": "2022-03-10T04:58:35.218Z"
   },
   {
    "duration": 6,
    "start_time": "2022-03-10T04:58:35.831Z"
   },
   {
    "duration": 305,
    "start_time": "2022-03-10T04:58:35.842Z"
   },
   {
    "duration": 13,
    "start_time": "2022-03-10T04:58:36.150Z"
   },
   {
    "duration": 35,
    "start_time": "2022-03-10T04:58:36.165Z"
   },
   {
    "duration": 23,
    "start_time": "2022-03-10T04:58:36.203Z"
   },
   {
    "duration": 10,
    "start_time": "2022-03-10T04:59:15.987Z"
   },
   {
    "duration": 11,
    "start_time": "2022-03-10T04:59:31.097Z"
   },
   {
    "duration": 8,
    "start_time": "2022-03-10T05:20:13.032Z"
   },
   {
    "duration": 15,
    "start_time": "2022-03-10T05:20:18.696Z"
   },
   {
    "duration": 15,
    "start_time": "2022-03-10T05:23:17.341Z"
   },
   {
    "duration": 404,
    "start_time": "2022-03-10T05:42:54.203Z"
   },
   {
    "duration": 6799,
    "start_time": "2022-03-10T05:42:59.347Z"
   },
   {
    "duration": 13,
    "start_time": "2022-03-10T05:43:13.090Z"
   },
   {
    "duration": 11,
    "start_time": "2022-03-10T05:44:42.339Z"
   },
   {
    "duration": 86,
    "start_time": "2022-03-10T05:48:07.603Z"
   },
   {
    "duration": 83,
    "start_time": "2022-03-10T05:48:26.854Z"
   },
   {
    "duration": 112,
    "start_time": "2022-03-10T05:48:52.638Z"
   },
   {
    "duration": 118,
    "start_time": "2022-03-10T05:49:27.272Z"
   },
   {
    "duration": 11,
    "start_time": "2022-03-10T05:53:07.351Z"
   },
   {
    "duration": 95,
    "start_time": "2022-03-10T05:53:27.702Z"
   },
   {
    "duration": 85,
    "start_time": "2022-03-10T05:53:40.272Z"
   },
   {
    "duration": 98,
    "start_time": "2022-03-10T05:54:13.622Z"
   },
   {
    "duration": 90,
    "start_time": "2022-03-10T05:54:20.086Z"
   },
   {
    "duration": 84,
    "start_time": "2022-03-10T05:54:43.521Z"
   },
   {
    "duration": 264,
    "start_time": "2022-03-10T05:55:48.006Z"
   },
   {
    "duration": 356,
    "start_time": "2022-03-10T05:57:34.585Z"
   },
   {
    "duration": 15,
    "start_time": "2022-03-10T05:58:05.185Z"
   },
   {
    "duration": 13,
    "start_time": "2022-03-10T05:58:39.816Z"
   },
   {
    "duration": 17,
    "start_time": "2022-03-10T07:40:56.306Z"
   },
   {
    "duration": 96,
    "start_time": "2022-03-10T07:41:26.715Z"
   },
   {
    "duration": 13,
    "start_time": "2022-03-10T07:41:56.153Z"
   },
   {
    "duration": 13,
    "start_time": "2022-03-10T07:42:07.030Z"
   },
   {
    "duration": 14,
    "start_time": "2022-03-10T07:42:39.590Z"
   },
   {
    "duration": 14,
    "start_time": "2022-03-10T07:44:24.451Z"
   },
   {
    "duration": 246,
    "start_time": "2022-03-10T07:44:33.342Z"
   },
   {
    "duration": 5,
    "start_time": "2022-03-10T07:45:27.897Z"
   },
   {
    "duration": 590,
    "start_time": "2022-03-10T07:45:39.368Z"
   },
   {
    "duration": 225,
    "start_time": "2022-03-10T10:47:10.264Z"
   },
   {
    "duration": 665,
    "start_time": "2022-03-10T10:51:31.642Z"
   },
   {
    "duration": 790,
    "start_time": "2022-03-10T10:56:09.209Z"
   },
   {
    "duration": 95,
    "start_time": "2022-03-10T10:56:27.787Z"
   },
   {
    "duration": 95,
    "start_time": "2022-03-10T10:56:32.476Z"
   },
   {
    "duration": 678,
    "start_time": "2022-03-10T10:56:38.461Z"
   },
   {
    "duration": 658,
    "start_time": "2022-03-10T10:58:01.901Z"
   },
   {
    "duration": 665,
    "start_time": "2022-03-10T10:58:36.805Z"
   },
   {
    "duration": 718,
    "start_time": "2022-03-10T10:59:58.006Z"
   },
   {
    "duration": 1009,
    "start_time": "2022-03-10T11:00:14.364Z"
   },
   {
    "duration": 697,
    "start_time": "2022-03-10T11:00:25.349Z"
   },
   {
    "duration": 776,
    "start_time": "2022-03-10T11:01:34.142Z"
   },
   {
    "duration": 689,
    "start_time": "2022-03-10T11:02:32.438Z"
   },
   {
    "duration": 567,
    "start_time": "2022-03-10T11:06:59.500Z"
   },
   {
    "duration": 578,
    "start_time": "2022-03-10T11:07:15.585Z"
   },
   {
    "duration": 697,
    "start_time": "2022-03-10T11:07:28.072Z"
   },
   {
    "duration": 562,
    "start_time": "2022-03-10T11:08:47.249Z"
   },
   {
    "duration": 575,
    "start_time": "2022-03-10T11:08:53.906Z"
   },
   {
    "duration": 683,
    "start_time": "2022-03-10T11:09:48.667Z"
   },
   {
    "duration": 643,
    "start_time": "2022-03-10T11:10:51.320Z"
   },
   {
    "duration": 192,
    "start_time": "2022-03-10T11:10:59.617Z"
   },
   {
    "duration": 52,
    "start_time": "2022-03-10T11:11:02.285Z"
   },
   {
    "duration": 577,
    "start_time": "2022-03-10T11:12:43.123Z"
   },
   {
    "duration": 675,
    "start_time": "2022-03-10T11:13:04.500Z"
   },
   {
    "duration": 717,
    "start_time": "2022-03-10T11:13:12.625Z"
   },
   {
    "duration": 205,
    "start_time": "2022-03-10T11:13:33.074Z"
   },
   {
    "duration": 645,
    "start_time": "2022-03-10T11:13:36.658Z"
   },
   {
    "duration": 7,
    "start_time": "2022-03-10T11:13:43.208Z"
   },
   {
    "duration": 654,
    "start_time": "2022-03-10T11:13:45.800Z"
   },
   {
    "duration": 665,
    "start_time": "2022-03-10T11:13:47.680Z"
   },
   {
    "duration": 7,
    "start_time": "2022-03-10T11:13:50.577Z"
   },
   {
    "duration": 243,
    "start_time": "2022-03-10T11:14:35.980Z"
   },
   {
    "duration": 16,
    "start_time": "2022-03-10T11:14:41.877Z"
   },
   {
    "duration": 26,
    "start_time": "2022-03-10T11:14:44.461Z"
   },
   {
    "duration": 22,
    "start_time": "2022-03-10T11:14:47.233Z"
   },
   {
    "duration": 355,
    "start_time": "2022-03-10T11:21:57.428Z"
   },
   {
    "duration": 22,
    "start_time": "2022-03-10T11:22:07.262Z"
   },
   {
    "duration": 1327,
    "start_time": "2022-03-10T11:23:02.229Z"
   },
   {
    "duration": 34,
    "start_time": "2022-03-10T11:23:03.558Z"
   },
   {
    "duration": 23,
    "start_time": "2022-03-10T11:23:03.596Z"
   },
   {
    "duration": 18,
    "start_time": "2022-03-10T11:23:03.622Z"
   },
   {
    "duration": 98,
    "start_time": "2022-03-10T11:23:03.644Z"
   },
   {
    "duration": 23,
    "start_time": "2022-03-10T11:23:03.745Z"
   },
   {
    "duration": 22,
    "start_time": "2022-03-10T11:23:03.770Z"
   },
   {
    "duration": 17,
    "start_time": "2022-03-10T11:23:03.796Z"
   },
   {
    "duration": 17,
    "start_time": "2022-03-10T11:23:03.816Z"
   },
   {
    "duration": 22,
    "start_time": "2022-03-10T11:23:14.794Z"
   },
   {
    "duration": 23,
    "start_time": "2022-03-10T11:23:30.176Z"
   },
   {
    "duration": 20,
    "start_time": "2022-03-10T11:23:47.564Z"
   },
   {
    "duration": 235,
    "start_time": "2022-03-10T11:23:59.520Z"
   },
   {
    "duration": 691,
    "start_time": "2022-03-10T11:24:00.968Z"
   },
   {
    "duration": 669,
    "start_time": "2022-03-10T11:24:54.329Z"
   },
   {
    "duration": 668,
    "start_time": "2022-03-10T11:25:04.929Z"
   },
   {
    "duration": 687,
    "start_time": "2022-03-10T11:25:20.748Z"
   },
   {
    "duration": 566,
    "start_time": "2022-03-10T11:25:41.465Z"
   },
   {
    "duration": 643,
    "start_time": "2022-03-10T11:26:11.217Z"
   },
   {
    "duration": 196,
    "start_time": "2022-03-10T11:26:20.562Z"
   },
   {
    "duration": 54,
    "start_time": "2022-03-10T11:26:22.701Z"
   },
   {
    "duration": 572,
    "start_time": "2022-03-10T11:26:24.074Z"
   },
   {
    "duration": 616,
    "start_time": "2022-03-10T11:27:02.522Z"
   },
   {
    "duration": 200,
    "start_time": "2022-03-10T11:27:15.074Z"
   },
   {
    "duration": 756,
    "start_time": "2022-03-10T11:27:28.586Z"
   },
   {
    "duration": 7,
    "start_time": "2022-03-10T11:27:36.953Z"
   },
   {
    "duration": 617,
    "start_time": "2022-03-10T11:27:51.904Z"
   },
   {
    "duration": 603,
    "start_time": "2022-03-10T11:27:57.706Z"
   },
   {
    "duration": 6,
    "start_time": "2022-03-10T11:28:02.930Z"
   },
   {
    "duration": 245,
    "start_time": "2022-03-10T11:28:14.458Z"
   },
   {
    "duration": 14,
    "start_time": "2022-03-10T11:28:22.185Z"
   },
   {
    "duration": 27,
    "start_time": "2022-03-10T11:28:26.227Z"
   },
   {
    "duration": 21,
    "start_time": "2022-03-10T11:28:31.112Z"
   },
   {
    "duration": 1395,
    "start_time": "2022-03-10T11:32:49.972Z"
   },
   {
    "duration": 32,
    "start_time": "2022-03-10T11:32:51.369Z"
   },
   {
    "duration": 16,
    "start_time": "2022-03-10T11:32:51.406Z"
   },
   {
    "duration": 15,
    "start_time": "2022-03-10T11:32:51.425Z"
   },
   {
    "duration": 86,
    "start_time": "2022-03-10T11:32:51.443Z"
   },
   {
    "duration": 23,
    "start_time": "2022-03-10T11:32:51.531Z"
   },
   {
    "duration": 35,
    "start_time": "2022-03-10T11:32:51.558Z"
   },
   {
    "duration": 11,
    "start_time": "2022-03-10T11:32:51.596Z"
   },
   {
    "duration": 13,
    "start_time": "2022-03-10T11:32:51.609Z"
   },
   {
    "duration": 277,
    "start_time": "2022-03-10T11:32:51.625Z"
   },
   {
    "duration": 721,
    "start_time": "2022-03-10T11:32:51.904Z"
   },
   {
    "duration": 587,
    "start_time": "2022-03-10T11:32:52.627Z"
   },
   {
    "duration": 653,
    "start_time": "2022-03-10T11:32:53.216Z"
   },
   {
    "duration": 191,
    "start_time": "2022-03-10T11:32:53.871Z"
   },
   {
    "duration": 62,
    "start_time": "2022-03-10T11:32:54.065Z"
   },
   {
    "duration": 609,
    "start_time": "2022-03-10T11:32:54.129Z"
   },
   {
    "duration": 699,
    "start_time": "2022-03-10T11:32:54.741Z"
   },
   {
    "duration": 198,
    "start_time": "2022-03-10T11:32:55.442Z"
   },
   {
    "duration": 609,
    "start_time": "2022-03-10T11:32:55.642Z"
   },
   {
    "duration": 6,
    "start_time": "2022-03-10T11:32:56.254Z"
   },
   {
    "duration": 668,
    "start_time": "2022-03-10T11:32:56.263Z"
   },
   {
    "duration": 626,
    "start_time": "2022-03-10T11:32:56.936Z"
   },
   {
    "duration": 7,
    "start_time": "2022-03-10T11:32:57.564Z"
   },
   {
    "duration": 344,
    "start_time": "2022-03-10T11:32:57.573Z"
   },
   {
    "duration": 13,
    "start_time": "2022-03-10T11:32:57.919Z"
   },
   {
    "duration": 25,
    "start_time": "2022-03-10T11:32:57.935Z"
   },
   {
    "duration": 20,
    "start_time": "2022-03-10T11:32:57.988Z"
   },
   {
    "duration": 639,
    "start_time": "2022-03-10T11:40:45.544Z"
   },
   {
    "duration": 514,
    "start_time": "2022-03-10T11:41:32.512Z"
   },
   {
    "duration": 7,
    "start_time": "2022-03-10T11:41:58.879Z"
   },
   {
    "duration": 511,
    "start_time": "2022-03-10T11:42:20.928Z"
   },
   {
    "duration": 579,
    "start_time": "2022-03-10T11:42:30.040Z"
   },
   {
    "duration": 527,
    "start_time": "2022-03-10T11:42:47.025Z"
   },
   {
    "duration": 539,
    "start_time": "2022-03-10T11:42:55.601Z"
   },
   {
    "duration": 9,
    "start_time": "2022-03-10T11:43:00.927Z"
   },
   {
    "duration": 210,
    "start_time": "2022-03-10T11:43:05.497Z"
   },
   {
    "duration": 219,
    "start_time": "2022-03-10T11:43:29.145Z"
   },
   {
    "duration": 15,
    "start_time": "2022-03-10T11:43:32.655Z"
   },
   {
    "duration": 28,
    "start_time": "2022-03-10T11:43:43.320Z"
   },
   {
    "duration": 22,
    "start_time": "2022-03-10T11:44:37.702Z"
   },
   {
    "duration": 662,
    "start_time": "2022-03-10T12:30:08.596Z"
   }
  ],
  "kernelspec": {
   "display_name": "Python 3 (ipykernel)",
   "language": "python",
   "name": "python3"
  },
  "language_info": {
   "codemirror_mode": {
    "name": "ipython",
    "version": 3
   },
   "file_extension": ".py",
   "mimetype": "text/x-python",
   "name": "python",
   "nbconvert_exporter": "python",
   "pygments_lexer": "ipython3",
   "version": "3.9.7"
  },
  "toc": {
   "base_numbering": 1,
   "nav_menu": {},
   "number_sections": true,
   "sideBar": true,
   "skip_h1_title": true,
   "title_cell": "Table of Contents",
   "title_sidebar": "Contents",
   "toc_cell": false,
   "toc_position": {},
   "toc_section_display": true,
   "toc_window_display": true
  }
 },
 "nbformat": 4,
 "nbformat_minor": 2
}
