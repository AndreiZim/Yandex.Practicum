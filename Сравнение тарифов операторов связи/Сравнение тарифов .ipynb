{
 "cells": [
  {
   "cell_type": "markdown",
   "metadata": {},
   "source": [
    "# Определение перспективного тарифа для телеком-компании \"Мегалайн\""
   ]
  },
  {
   "cell_type": "markdown",
   "metadata": {},
   "source": [
    "## Цель исследования"
   ]
  },
  {
   "cell_type": "markdown",
   "metadata": {},
   "source": [
    "Определить, какой из двух тарифных планов: «Смарт» или «Ультра», приносит больше денег, на основании данных о поведении клиентов за 2018 год"
   ]
  },
  {
   "cell_type": "markdown",
   "metadata": {},
   "source": [
    "### Описание тарифов"
   ]
  },
  {
   "cell_type": "markdown",
   "metadata": {},
   "source": [
    "#### Тариф «Смарт»"
   ]
  },
  {
   "cell_type": "markdown",
   "metadata": {},
   "source": [
    "Ежемесячная плата: 550 рублей\n",
    "\n",
    "Включено 500 минут разговора, 50 сообщений и 15 Гб интернет-трафика\n",
    "\n",
    "Стоимость услуг сверх тарифного пакета: 1. минута разговора: 3 рубля («Мегалайн» всегда округляет вверх значения минут и мегабайтов. Если пользователь проговорил всего 1 секунду, в тарифе засчитывается целая минута); 2. сообщение: 3 рубля; 3. 1 Гб интернет-трафика: 200 рублей."
   ]
  },
  {
   "cell_type": "markdown",
   "metadata": {},
   "source": [
    "#### Тариф «Ультра»"
   ]
  },
  {
   "cell_type": "markdown",
   "metadata": {},
   "source": [
    "Ежемесячная плата: 1950 рублей\n",
    "\n",
    "Включено 3000 минут разговора, 1000 сообщений и 30 Гб интернет-трафика\n",
    "\n",
    "Стоимость услуг сверх тарифного пакета: 1. минута разговора: 1 рубль; 2. сообщение: 1 рубль; 3. 1 Гб интернет-трафика: 150 рублей."
   ]
  },
  {
   "cell_type": "markdown",
   "metadata": {},
   "source": [
    "#### Особенности тарификации"
   ]
  },
  {
   "cell_type": "markdown",
   "metadata": {},
   "source": [
    "«Мегалайн» всегда округляет секунды до минут, а мегабайты — до гигабайт. Каждый звонок округляется отдельно: даже если он длился всего 1 секунду, будет засчитан как 1 минута.\n",
    "\n",
    "Для веб-трафика отдельные сессии не считаются. Вместо этого общая сумма за месяц округляется в бо́льшую сторону. Если абонент использует 1025 мегабайт в этом месяце, с него возьмут плату за 2 гигабайта."
   ]
  },
  {
   "cell_type": "markdown",
   "metadata": {},
   "source": [
    "## Изучение данных"
   ]
  },
  {
   "cell_type": "markdown",
   "metadata": {},
   "source": [
    "Для начала посмотрим на имеющиеся в распоряжении данные. У нас есть 5 таблиц,содержащих данные о поведении 500 абонентов за 2018 год:\n",
    "- информация о пользователях;\n",
    "- информация о звонках;\n",
    "- информация о сообщениях;\n",
    "- информация об интернет-сессиях;\n",
    "- информация о тарифах.\n",
    "\n",
    "Изучим их по порядку: посмотрим на общую информацию и данные"
   ]
  },
  {
   "cell_type": "markdown",
   "metadata": {},
   "source": [
    "### Информация о пользователях"
   ]
  },
  {
   "cell_type": "code",
   "execution_count": 1,
   "metadata": {
    "scrolled": false
   },
   "outputs": [
    {
     "data": {
      "text/html": [
       "<div>\n",
       "<style scoped>\n",
       "    .dataframe tbody tr th:only-of-type {\n",
       "        vertical-align: middle;\n",
       "    }\n",
       "\n",
       "    .dataframe tbody tr th {\n",
       "        vertical-align: top;\n",
       "    }\n",
       "\n",
       "    .dataframe thead th {\n",
       "        text-align: right;\n",
       "    }\n",
       "</style>\n",
       "<table border=\"1\" class=\"dataframe\">\n",
       "  <thead>\n",
       "    <tr style=\"text-align: right;\">\n",
       "      <th></th>\n",
       "      <th>user_id</th>\n",
       "      <th>age</th>\n",
       "      <th>churn_date</th>\n",
       "      <th>city</th>\n",
       "      <th>first_name</th>\n",
       "      <th>last_name</th>\n",
       "      <th>reg_date</th>\n",
       "      <th>tariff</th>\n",
       "    </tr>\n",
       "  </thead>\n",
       "  <tbody>\n",
       "    <tr>\n",
       "      <td>0</td>\n",
       "      <td>1000</td>\n",
       "      <td>52</td>\n",
       "      <td>NaN</td>\n",
       "      <td>Краснодар</td>\n",
       "      <td>Рафаил</td>\n",
       "      <td>Верещагин</td>\n",
       "      <td>2018-05-25</td>\n",
       "      <td>ultra</td>\n",
       "    </tr>\n",
       "    <tr>\n",
       "      <td>1</td>\n",
       "      <td>1001</td>\n",
       "      <td>41</td>\n",
       "      <td>NaN</td>\n",
       "      <td>Москва</td>\n",
       "      <td>Иван</td>\n",
       "      <td>Ежов</td>\n",
       "      <td>2018-11-01</td>\n",
       "      <td>smart</td>\n",
       "    </tr>\n",
       "    <tr>\n",
       "      <td>2</td>\n",
       "      <td>1002</td>\n",
       "      <td>59</td>\n",
       "      <td>NaN</td>\n",
       "      <td>Стерлитамак</td>\n",
       "      <td>Евгений</td>\n",
       "      <td>Абрамович</td>\n",
       "      <td>2018-06-17</td>\n",
       "      <td>smart</td>\n",
       "    </tr>\n",
       "    <tr>\n",
       "      <td>3</td>\n",
       "      <td>1003</td>\n",
       "      <td>23</td>\n",
       "      <td>NaN</td>\n",
       "      <td>Москва</td>\n",
       "      <td>Белла</td>\n",
       "      <td>Белякова</td>\n",
       "      <td>2018-08-17</td>\n",
       "      <td>ultra</td>\n",
       "    </tr>\n",
       "    <tr>\n",
       "      <td>4</td>\n",
       "      <td>1004</td>\n",
       "      <td>68</td>\n",
       "      <td>NaN</td>\n",
       "      <td>Новокузнецк</td>\n",
       "      <td>Татьяна</td>\n",
       "      <td>Авдеенко</td>\n",
       "      <td>2018-05-14</td>\n",
       "      <td>ultra</td>\n",
       "    </tr>\n",
       "    <tr>\n",
       "      <td>5</td>\n",
       "      <td>1005</td>\n",
       "      <td>67</td>\n",
       "      <td>NaN</td>\n",
       "      <td>Набережные Челны</td>\n",
       "      <td>Афанасий</td>\n",
       "      <td>Горлов</td>\n",
       "      <td>2018-01-25</td>\n",
       "      <td>smart</td>\n",
       "    </tr>\n",
       "    <tr>\n",
       "      <td>6</td>\n",
       "      <td>1006</td>\n",
       "      <td>21</td>\n",
       "      <td>NaN</td>\n",
       "      <td>Ульяновск</td>\n",
       "      <td>Леонид</td>\n",
       "      <td>Ермолаев</td>\n",
       "      <td>2018-02-26</td>\n",
       "      <td>smart</td>\n",
       "    </tr>\n",
       "    <tr>\n",
       "      <td>7</td>\n",
       "      <td>1007</td>\n",
       "      <td>65</td>\n",
       "      <td>NaN</td>\n",
       "      <td>Москва</td>\n",
       "      <td>Юна</td>\n",
       "      <td>Березина</td>\n",
       "      <td>2018-04-19</td>\n",
       "      <td>smart</td>\n",
       "    </tr>\n",
       "    <tr>\n",
       "      <td>8</td>\n",
       "      <td>1008</td>\n",
       "      <td>63</td>\n",
       "      <td>NaN</td>\n",
       "      <td>Челябинск</td>\n",
       "      <td>Рустэм</td>\n",
       "      <td>Пономарёв</td>\n",
       "      <td>2018-12-19</td>\n",
       "      <td>smart</td>\n",
       "    </tr>\n",
       "    <tr>\n",
       "      <td>9</td>\n",
       "      <td>1009</td>\n",
       "      <td>24</td>\n",
       "      <td>NaN</td>\n",
       "      <td>Пермь</td>\n",
       "      <td>Василиса</td>\n",
       "      <td>Блинова</td>\n",
       "      <td>2018-03-22</td>\n",
       "      <td>smart</td>\n",
       "    </tr>\n",
       "  </tbody>\n",
       "</table>\n",
       "</div>"
      ],
      "text/plain": [
       "   user_id  age churn_date              city first_name  last_name  \\\n",
       "0     1000   52        NaN         Краснодар     Рафаил  Верещагин   \n",
       "1     1001   41        NaN            Москва       Иван       Ежов   \n",
       "2     1002   59        NaN       Стерлитамак    Евгений  Абрамович   \n",
       "3     1003   23        NaN            Москва      Белла   Белякова   \n",
       "4     1004   68        NaN       Новокузнецк    Татьяна   Авдеенко   \n",
       "5     1005   67        NaN  Набережные Челны   Афанасий     Горлов   \n",
       "6     1006   21        NaN         Ульяновск     Леонид   Ермолаев   \n",
       "7     1007   65        NaN            Москва        Юна   Березина   \n",
       "8     1008   63        NaN         Челябинск     Рустэм  Пономарёв   \n",
       "9     1009   24        NaN             Пермь   Василиса    Блинова   \n",
       "\n",
       "     reg_date tariff  \n",
       "0  2018-05-25  ultra  \n",
       "1  2018-11-01  smart  \n",
       "2  2018-06-17  smart  \n",
       "3  2018-08-17  ultra  \n",
       "4  2018-05-14  ultra  \n",
       "5  2018-01-25  smart  \n",
       "6  2018-02-26  smart  \n",
       "7  2018-04-19  smart  \n",
       "8  2018-12-19  smart  \n",
       "9  2018-03-22  smart  "
      ]
     },
     "metadata": {},
     "output_type": "display_data"
    },
    {
     "name": "stdout",
     "output_type": "stream",
     "text": [
      "<class 'pandas.core.frame.DataFrame'>\n",
      "RangeIndex: 500 entries, 0 to 499\n",
      "Data columns (total 8 columns):\n",
      "user_id       500 non-null int64\n",
      "age           500 non-null int64\n",
      "churn_date    38 non-null object\n",
      "city          500 non-null object\n",
      "first_name    500 non-null object\n",
      "last_name     500 non-null object\n",
      "reg_date      500 non-null object\n",
      "tariff        500 non-null object\n",
      "dtypes: int64(2), object(6)\n",
      "memory usage: 31.4+ KB\n"
     ]
    }
   ],
   "source": [
    "import pandas as pd\n",
    "import numpy as np\n",
    "import matplotlib.pyplot as plt\n",
    "from scipy import stats as st\n",
    "import warnings\n",
    "warnings.filterwarnings('ignore')\n",
    "\n",
    "users_df = pd.read_csv('/datasets/users.csv')\n",
    "display(users_df.head(10))\n",
    "users_df.info()"
   ]
  },
  {
   "cell_type": "markdown",
   "metadata": {},
   "source": [
    "Проверим, нет ли среди данных о пользователях дубликатов"
   ]
  },
  {
   "cell_type": "code",
   "execution_count": 2,
   "metadata": {},
   "outputs": [
    {
     "data": {
      "text/plain": [
       "0"
      ]
     },
     "execution_count": 2,
     "metadata": {},
     "output_type": "execute_result"
    }
   ],
   "source": [
    "users_df.duplicated().sum()"
   ]
  },
  {
   "cell_type": "markdown",
   "metadata": {},
   "source": [
    "- Данные полные, пропусков нет, кроме столбца \"churn_date\" - даты прекращения пользования тарифом. Из него ясно, что 38 человек ушли с тарифов до конца 2018 года.\n",
    "- Столбцы churn_date и reg_date - столбцы дат, их надо привести к datetime. Для churn_date это невозможно, пока есть пропуски. Поскольку данные за один год, логично будет заполнить пропуски концом периода - '2018-12-31', хотя не факт, что этот столбец нам вообще понадобится при анализе: при группировке данных из разных таблиц месяцы после прекращения обслуживания (за которые нет данных) в группировку просто не войдут (также как и для месяцев до даты регистрации).\n",
    "- Столбцы с именами пользователей нам в исследовании не понадобятся, в принципе их можно будет опустить\n",
    "- Столбец с возрастом мог бы понадобиться: люди разных возрастов очень по-разному используют тарифы. Молодежь использует больше интернет-трафика, но меньше минут для разговоров. Но перед данным исследованием стоят другие вопросы. Нужно лишь убедиться, что в выборка стратифицирована, в ней присутствуют все возрастные группы"
   ]
  },
  {
   "cell_type": "code",
   "execution_count": 3,
   "metadata": {},
   "outputs": [
    {
     "data": {
      "text/plain": [
       "count    500.00000\n",
       "mean      46.58800\n",
       "std       16.66763\n",
       "min       18.00000\n",
       "25%       32.00000\n",
       "50%       46.00000\n",
       "75%       62.00000\n",
       "max       75.00000\n",
       "Name: age, dtype: float64"
      ]
     },
     "execution_count": 3,
     "metadata": {},
     "output_type": "execute_result"
    }
   ],
   "source": [
    "users_df['age'].describe()"
   ]
  },
  {
   "cell_type": "markdown",
   "metadata": {},
   "source": [
    "Как видно, в выборке все возрастные групыы: от 18 до 75 лет причем очень равномерно распределенные - среднее и медиана почти равны."
   ]
  },
  {
   "cell_type": "markdown",
   "metadata": {},
   "source": [
    "### Информация о звонках"
   ]
  },
  {
   "cell_type": "code",
   "execution_count": 4,
   "metadata": {},
   "outputs": [
    {
     "data": {
      "text/html": [
       "<div>\n",
       "<style scoped>\n",
       "    .dataframe tbody tr th:only-of-type {\n",
       "        vertical-align: middle;\n",
       "    }\n",
       "\n",
       "    .dataframe tbody tr th {\n",
       "        vertical-align: top;\n",
       "    }\n",
       "\n",
       "    .dataframe thead th {\n",
       "        text-align: right;\n",
       "    }\n",
       "</style>\n",
       "<table border=\"1\" class=\"dataframe\">\n",
       "  <thead>\n",
       "    <tr style=\"text-align: right;\">\n",
       "      <th></th>\n",
       "      <th>id</th>\n",
       "      <th>call_date</th>\n",
       "      <th>duration</th>\n",
       "      <th>user_id</th>\n",
       "    </tr>\n",
       "  </thead>\n",
       "  <tbody>\n",
       "    <tr>\n",
       "      <td>0</td>\n",
       "      <td>1000_0</td>\n",
       "      <td>2018-07-25</td>\n",
       "      <td>0.00</td>\n",
       "      <td>1000</td>\n",
       "    </tr>\n",
       "    <tr>\n",
       "      <td>1</td>\n",
       "      <td>1000_1</td>\n",
       "      <td>2018-08-17</td>\n",
       "      <td>0.00</td>\n",
       "      <td>1000</td>\n",
       "    </tr>\n",
       "    <tr>\n",
       "      <td>2</td>\n",
       "      <td>1000_2</td>\n",
       "      <td>2018-06-11</td>\n",
       "      <td>2.85</td>\n",
       "      <td>1000</td>\n",
       "    </tr>\n",
       "    <tr>\n",
       "      <td>3</td>\n",
       "      <td>1000_3</td>\n",
       "      <td>2018-09-21</td>\n",
       "      <td>13.80</td>\n",
       "      <td>1000</td>\n",
       "    </tr>\n",
       "    <tr>\n",
       "      <td>4</td>\n",
       "      <td>1000_4</td>\n",
       "      <td>2018-12-15</td>\n",
       "      <td>5.18</td>\n",
       "      <td>1000</td>\n",
       "    </tr>\n",
       "    <tr>\n",
       "      <td>5</td>\n",
       "      <td>1000_5</td>\n",
       "      <td>2018-11-02</td>\n",
       "      <td>0.00</td>\n",
       "      <td>1000</td>\n",
       "    </tr>\n",
       "    <tr>\n",
       "      <td>6</td>\n",
       "      <td>1000_6</td>\n",
       "      <td>2018-10-18</td>\n",
       "      <td>0.00</td>\n",
       "      <td>1000</td>\n",
       "    </tr>\n",
       "    <tr>\n",
       "      <td>7</td>\n",
       "      <td>1000_7</td>\n",
       "      <td>2018-08-22</td>\n",
       "      <td>18.31</td>\n",
       "      <td>1000</td>\n",
       "    </tr>\n",
       "    <tr>\n",
       "      <td>8</td>\n",
       "      <td>1000_8</td>\n",
       "      <td>2018-09-15</td>\n",
       "      <td>18.44</td>\n",
       "      <td>1000</td>\n",
       "    </tr>\n",
       "    <tr>\n",
       "      <td>9</td>\n",
       "      <td>1000_9</td>\n",
       "      <td>2018-08-15</td>\n",
       "      <td>0.00</td>\n",
       "      <td>1000</td>\n",
       "    </tr>\n",
       "  </tbody>\n",
       "</table>\n",
       "</div>"
      ],
      "text/plain": [
       "       id   call_date  duration  user_id\n",
       "0  1000_0  2018-07-25      0.00     1000\n",
       "1  1000_1  2018-08-17      0.00     1000\n",
       "2  1000_2  2018-06-11      2.85     1000\n",
       "3  1000_3  2018-09-21     13.80     1000\n",
       "4  1000_4  2018-12-15      5.18     1000\n",
       "5  1000_5  2018-11-02      0.00     1000\n",
       "6  1000_6  2018-10-18      0.00     1000\n",
       "7  1000_7  2018-08-22     18.31     1000\n",
       "8  1000_8  2018-09-15     18.44     1000\n",
       "9  1000_9  2018-08-15      0.00     1000"
      ]
     },
     "metadata": {},
     "output_type": "display_data"
    },
    {
     "name": "stdout",
     "output_type": "stream",
     "text": [
      "<class 'pandas.core.frame.DataFrame'>\n",
      "RangeIndex: 202607 entries, 0 to 202606\n",
      "Data columns (total 4 columns):\n",
      "id           202607 non-null object\n",
      "call_date    202607 non-null object\n",
      "duration     202607 non-null float64\n",
      "user_id      202607 non-null int64\n",
      "dtypes: float64(1), int64(1), object(2)\n",
      "memory usage: 6.2+ MB\n"
     ]
    }
   ],
   "source": [
    "calls_df = pd.read_csv('/datasets/calls.csv')\n",
    "display(calls_df.head(10))\n",
    "calls_df.info()"
   ]
  },
  {
   "cell_type": "markdown",
   "metadata": {},
   "source": [
    "- Столбец call_date должен быть приведен к datetime. В дальнейшем нас будут интересовать данные в месячном разрезе, поэтому данные могут быть округлены до месяцов (или добавлен столбец)\n",
    "- Столбец duration, считающий время разговора в минутах, должен быть округлен до целого (вверх), так как разговоры тарифицируются поминутно, после чего можно было бы привести к int, но в дальнейшем нам предстоит группировка, в результате которой скорее всего появлятся пропуски и тип станет float, поэтому это излишне"
   ]
  },
  {
   "cell_type": "markdown",
   "metadata": {},
   "source": [
    "### Информация о сообщениях"
   ]
  },
  {
   "cell_type": "code",
   "execution_count": 5,
   "metadata": {},
   "outputs": [
    {
     "data": {
      "text/html": [
       "<div>\n",
       "<style scoped>\n",
       "    .dataframe tbody tr th:only-of-type {\n",
       "        vertical-align: middle;\n",
       "    }\n",
       "\n",
       "    .dataframe tbody tr th {\n",
       "        vertical-align: top;\n",
       "    }\n",
       "\n",
       "    .dataframe thead th {\n",
       "        text-align: right;\n",
       "    }\n",
       "</style>\n",
       "<table border=\"1\" class=\"dataframe\">\n",
       "  <thead>\n",
       "    <tr style=\"text-align: right;\">\n",
       "      <th></th>\n",
       "      <th>id</th>\n",
       "      <th>message_date</th>\n",
       "      <th>user_id</th>\n",
       "    </tr>\n",
       "  </thead>\n",
       "  <tbody>\n",
       "    <tr>\n",
       "      <td>0</td>\n",
       "      <td>1000_0</td>\n",
       "      <td>2018-06-27</td>\n",
       "      <td>1000</td>\n",
       "    </tr>\n",
       "    <tr>\n",
       "      <td>1</td>\n",
       "      <td>1000_1</td>\n",
       "      <td>2018-10-08</td>\n",
       "      <td>1000</td>\n",
       "    </tr>\n",
       "    <tr>\n",
       "      <td>2</td>\n",
       "      <td>1000_2</td>\n",
       "      <td>2018-08-04</td>\n",
       "      <td>1000</td>\n",
       "    </tr>\n",
       "    <tr>\n",
       "      <td>3</td>\n",
       "      <td>1000_3</td>\n",
       "      <td>2018-06-16</td>\n",
       "      <td>1000</td>\n",
       "    </tr>\n",
       "    <tr>\n",
       "      <td>4</td>\n",
       "      <td>1000_4</td>\n",
       "      <td>2018-12-05</td>\n",
       "      <td>1000</td>\n",
       "    </tr>\n",
       "    <tr>\n",
       "      <td>5</td>\n",
       "      <td>1000_5</td>\n",
       "      <td>2018-06-20</td>\n",
       "      <td>1000</td>\n",
       "    </tr>\n",
       "    <tr>\n",
       "      <td>6</td>\n",
       "      <td>1000_6</td>\n",
       "      <td>2018-11-19</td>\n",
       "      <td>1000</td>\n",
       "    </tr>\n",
       "    <tr>\n",
       "      <td>7</td>\n",
       "      <td>1000_7</td>\n",
       "      <td>2018-10-29</td>\n",
       "      <td>1000</td>\n",
       "    </tr>\n",
       "    <tr>\n",
       "      <td>8</td>\n",
       "      <td>1000_8</td>\n",
       "      <td>2018-06-25</td>\n",
       "      <td>1000</td>\n",
       "    </tr>\n",
       "    <tr>\n",
       "      <td>9</td>\n",
       "      <td>1000_9</td>\n",
       "      <td>2018-12-18</td>\n",
       "      <td>1000</td>\n",
       "    </tr>\n",
       "  </tbody>\n",
       "</table>\n",
       "</div>"
      ],
      "text/plain": [
       "       id message_date  user_id\n",
       "0  1000_0   2018-06-27     1000\n",
       "1  1000_1   2018-10-08     1000\n",
       "2  1000_2   2018-08-04     1000\n",
       "3  1000_3   2018-06-16     1000\n",
       "4  1000_4   2018-12-05     1000\n",
       "5  1000_5   2018-06-20     1000\n",
       "6  1000_6   2018-11-19     1000\n",
       "7  1000_7   2018-10-29     1000\n",
       "8  1000_8   2018-06-25     1000\n",
       "9  1000_9   2018-12-18     1000"
      ]
     },
     "metadata": {},
     "output_type": "display_data"
    },
    {
     "name": "stdout",
     "output_type": "stream",
     "text": [
      "<class 'pandas.core.frame.DataFrame'>\n",
      "RangeIndex: 123036 entries, 0 to 123035\n",
      "Data columns (total 3 columns):\n",
      "id              123036 non-null object\n",
      "message_date    123036 non-null object\n",
      "user_id         123036 non-null int64\n",
      "dtypes: int64(1), object(2)\n",
      "memory usage: 2.8+ MB\n"
     ]
    }
   ],
   "source": [
    "messages_df = pd.read_csv('/datasets/messages.csv')\n",
    "display(messages_df.head(10))\n",
    "messages_df.info()"
   ]
  },
  {
   "cell_type": "markdown",
   "metadata": {},
   "source": [
    "- Столбец message_date должен быть приведен к datetime. В дальнейшем нас будут интересовать данные в месячном разрезе, поэтому данные могут быть округлены до месяцов (или добавлен столбец)"
   ]
  },
  {
   "cell_type": "markdown",
   "metadata": {},
   "source": [
    "### Информация об интернет трафике"
   ]
  },
  {
   "cell_type": "code",
   "execution_count": 6,
   "metadata": {
    "scrolled": false
   },
   "outputs": [
    {
     "data": {
      "text/html": [
       "<div>\n",
       "<style scoped>\n",
       "    .dataframe tbody tr th:only-of-type {\n",
       "        vertical-align: middle;\n",
       "    }\n",
       "\n",
       "    .dataframe tbody tr th {\n",
       "        vertical-align: top;\n",
       "    }\n",
       "\n",
       "    .dataframe thead th {\n",
       "        text-align: right;\n",
       "    }\n",
       "</style>\n",
       "<table border=\"1\" class=\"dataframe\">\n",
       "  <thead>\n",
       "    <tr style=\"text-align: right;\">\n",
       "      <th></th>\n",
       "      <th>Unnamed: 0</th>\n",
       "      <th>id</th>\n",
       "      <th>mb_used</th>\n",
       "      <th>session_date</th>\n",
       "      <th>user_id</th>\n",
       "    </tr>\n",
       "  </thead>\n",
       "  <tbody>\n",
       "    <tr>\n",
       "      <td>0</td>\n",
       "      <td>0</td>\n",
       "      <td>1000_0</td>\n",
       "      <td>112.95</td>\n",
       "      <td>2018-11-25</td>\n",
       "      <td>1000</td>\n",
       "    </tr>\n",
       "    <tr>\n",
       "      <td>1</td>\n",
       "      <td>1</td>\n",
       "      <td>1000_1</td>\n",
       "      <td>1052.81</td>\n",
       "      <td>2018-09-07</td>\n",
       "      <td>1000</td>\n",
       "    </tr>\n",
       "    <tr>\n",
       "      <td>2</td>\n",
       "      <td>2</td>\n",
       "      <td>1000_2</td>\n",
       "      <td>1197.26</td>\n",
       "      <td>2018-06-25</td>\n",
       "      <td>1000</td>\n",
       "    </tr>\n",
       "    <tr>\n",
       "      <td>3</td>\n",
       "      <td>3</td>\n",
       "      <td>1000_3</td>\n",
       "      <td>550.27</td>\n",
       "      <td>2018-08-22</td>\n",
       "      <td>1000</td>\n",
       "    </tr>\n",
       "    <tr>\n",
       "      <td>4</td>\n",
       "      <td>4</td>\n",
       "      <td>1000_4</td>\n",
       "      <td>302.56</td>\n",
       "      <td>2018-09-24</td>\n",
       "      <td>1000</td>\n",
       "    </tr>\n",
       "    <tr>\n",
       "      <td>5</td>\n",
       "      <td>5</td>\n",
       "      <td>1000_5</td>\n",
       "      <td>399.97</td>\n",
       "      <td>2018-10-02</td>\n",
       "      <td>1000</td>\n",
       "    </tr>\n",
       "    <tr>\n",
       "      <td>6</td>\n",
       "      <td>6</td>\n",
       "      <td>1000_6</td>\n",
       "      <td>540.08</td>\n",
       "      <td>2018-09-07</td>\n",
       "      <td>1000</td>\n",
       "    </tr>\n",
       "    <tr>\n",
       "      <td>7</td>\n",
       "      <td>7</td>\n",
       "      <td>1000_7</td>\n",
       "      <td>415.70</td>\n",
       "      <td>2018-07-11</td>\n",
       "      <td>1000</td>\n",
       "    </tr>\n",
       "    <tr>\n",
       "      <td>8</td>\n",
       "      <td>8</td>\n",
       "      <td>1000_8</td>\n",
       "      <td>505.40</td>\n",
       "      <td>2018-10-08</td>\n",
       "      <td>1000</td>\n",
       "    </tr>\n",
       "    <tr>\n",
       "      <td>9</td>\n",
       "      <td>9</td>\n",
       "      <td>1000_9</td>\n",
       "      <td>345.54</td>\n",
       "      <td>2018-09-03</td>\n",
       "      <td>1000</td>\n",
       "    </tr>\n",
       "  </tbody>\n",
       "</table>\n",
       "</div>"
      ],
      "text/plain": [
       "   Unnamed: 0      id  mb_used session_date  user_id\n",
       "0           0  1000_0   112.95   2018-11-25     1000\n",
       "1           1  1000_1  1052.81   2018-09-07     1000\n",
       "2           2  1000_2  1197.26   2018-06-25     1000\n",
       "3           3  1000_3   550.27   2018-08-22     1000\n",
       "4           4  1000_4   302.56   2018-09-24     1000\n",
       "5           5  1000_5   399.97   2018-10-02     1000\n",
       "6           6  1000_6   540.08   2018-09-07     1000\n",
       "7           7  1000_7   415.70   2018-07-11     1000\n",
       "8           8  1000_8   505.40   2018-10-08     1000\n",
       "9           9  1000_9   345.54   2018-09-03     1000"
      ]
     },
     "metadata": {},
     "output_type": "display_data"
    },
    {
     "name": "stdout",
     "output_type": "stream",
     "text": [
      "<class 'pandas.core.frame.DataFrame'>\n",
      "RangeIndex: 149396 entries, 0 to 149395\n",
      "Data columns (total 5 columns):\n",
      "Unnamed: 0      149396 non-null int64\n",
      "id              149396 non-null object\n",
      "mb_used         149396 non-null float64\n",
      "session_date    149396 non-null object\n",
      "user_id         149396 non-null int64\n",
      "dtypes: float64(1), int64(2), object(2)\n",
      "memory usage: 5.7+ MB\n"
     ]
    }
   ],
   "source": [
    "internet_df = pd.read_csv('/datasets/internet.csv')\n",
    "display(internet_df.head(10))\n",
    "internet_df.info()"
   ]
  },
  {
   "cell_type": "markdown",
   "metadata": {},
   "source": [
    "- Присутствует неясный столбец \"Unnamed: 0\", который, похоже, просто дублирует индекс. Если это так, то его можно просто удалить.\n",
    "- Столбец session_date должен быть приведен к datetime. В дальнейшем нас будут интересовать данные в месячном разрезе, поэтому данные могут быть округлены до месяцов (или добавлен столбец).\n",
    "- Тарификация осуществляется помесячно за гигабайты, поэтому столбец \"mb_used\" должен быть сложен в рамках месяца, потом округлен до гигабайтов (вверх)."
   ]
  },
  {
   "cell_type": "markdown",
   "metadata": {},
   "source": [
    "### Информация о тарифах"
   ]
  },
  {
   "cell_type": "code",
   "execution_count": 7,
   "metadata": {},
   "outputs": [
    {
     "data": {
      "text/html": [
       "<div>\n",
       "<style scoped>\n",
       "    .dataframe tbody tr th:only-of-type {\n",
       "        vertical-align: middle;\n",
       "    }\n",
       "\n",
       "    .dataframe tbody tr th {\n",
       "        vertical-align: top;\n",
       "    }\n",
       "\n",
       "    .dataframe thead th {\n",
       "        text-align: right;\n",
       "    }\n",
       "</style>\n",
       "<table border=\"1\" class=\"dataframe\">\n",
       "  <thead>\n",
       "    <tr style=\"text-align: right;\">\n",
       "      <th></th>\n",
       "      <th>messages_included</th>\n",
       "      <th>mb_per_month_included</th>\n",
       "      <th>minutes_included</th>\n",
       "      <th>rub_monthly_fee</th>\n",
       "      <th>rub_per_gb</th>\n",
       "      <th>rub_per_message</th>\n",
       "      <th>rub_per_minute</th>\n",
       "      <th>tariff_name</th>\n",
       "    </tr>\n",
       "  </thead>\n",
       "  <tbody>\n",
       "    <tr>\n",
       "      <td>0</td>\n",
       "      <td>50</td>\n",
       "      <td>15360</td>\n",
       "      <td>500</td>\n",
       "      <td>550</td>\n",
       "      <td>200</td>\n",
       "      <td>3</td>\n",
       "      <td>3</td>\n",
       "      <td>smart</td>\n",
       "    </tr>\n",
       "    <tr>\n",
       "      <td>1</td>\n",
       "      <td>1000</td>\n",
       "      <td>30720</td>\n",
       "      <td>3000</td>\n",
       "      <td>1950</td>\n",
       "      <td>150</td>\n",
       "      <td>1</td>\n",
       "      <td>1</td>\n",
       "      <td>ultra</td>\n",
       "    </tr>\n",
       "  </tbody>\n",
       "</table>\n",
       "</div>"
      ],
      "text/plain": [
       "   messages_included  mb_per_month_included  minutes_included  \\\n",
       "0                 50                  15360               500   \n",
       "1               1000                  30720              3000   \n",
       "\n",
       "   rub_monthly_fee  rub_per_gb  rub_per_message  rub_per_minute tariff_name  \n",
       "0              550         200                3               3       smart  \n",
       "1             1950         150                1               1       ultra  "
      ]
     },
     "metadata": {},
     "output_type": "display_data"
    },
    {
     "name": "stdout",
     "output_type": "stream",
     "text": [
      "<class 'pandas.core.frame.DataFrame'>\n",
      "RangeIndex: 2 entries, 0 to 1\n",
      "Data columns (total 8 columns):\n",
      "messages_included        2 non-null int64\n",
      "mb_per_month_included    2 non-null int64\n",
      "minutes_included         2 non-null int64\n",
      "rub_monthly_fee          2 non-null int64\n",
      "rub_per_gb               2 non-null int64\n",
      "rub_per_message          2 non-null int64\n",
      "rub_per_minute           2 non-null int64\n",
      "tariff_name              2 non-null object\n",
      "dtypes: int64(7), object(1)\n",
      "memory usage: 256.0+ bytes\n"
     ]
    }
   ],
   "source": [
    "tariffs_df = pd.read_csv('/datasets/tariffs.csv')\n",
    "display(tariffs_df.head(10))\n",
    "tariffs_df.info()"
   ]
  },
  {
   "cell_type": "markdown",
   "metadata": {},
   "source": [
    "В этой таблице просто информация о тарифах. Единственное, что нужно сделать - округлить столбец \"mb_per_month_included\" до гигабайт, ведь тарификация осуществялется за гигабайты\t"
   ]
  },
  {
   "cell_type": "markdown",
   "metadata": {},
   "source": [
    "## Предобработка данных"
   ]
  },
  {
   "cell_type": "markdown",
   "metadata": {},
   "source": [
    "### Cтолбцы времени"
   ]
  },
  {
   "cell_type": "markdown",
   "metadata": {},
   "source": [
    "Приведем столбцы к типу datetime"
   ]
  },
  {
   "cell_type": "code",
   "execution_count": 8,
   "metadata": {},
   "outputs": [],
   "source": [
    "users_df['reg_date'] = pd.to_datetime(users_df['reg_date'], format='%Y-%m-%d')\n",
    "calls_df['call_date'] = pd.to_datetime(calls_df['call_date'], format='%Y-%m-%d')\n",
    "messages_df['message_date'] = pd.to_datetime(messages_df['message_date'], format='%Y-%m-%d')\n",
    "internet_df['session_date'] = pd.to_datetime(internet_df['session_date'], format='%Y-%m-%d')"
   ]
  },
  {
   "cell_type": "markdown",
   "metadata": {},
   "source": [
    "Нас будут интересовать только данные в месячном разрезе, поэтому можно округлить все даты до месяца, но сначала надо убедиться, что все они - действительно за 2018 год"
   ]
  },
  {
   "cell_type": "code",
   "execution_count": 9,
   "metadata": {},
   "outputs": [
    {
     "name": "stdout",
     "output_type": "stream",
     "text": [
      "count                     500\n",
      "unique                    270\n",
      "top       2018-05-28 00:00:00\n",
      "freq                        8\n",
      "first     2018-01-01 00:00:00\n",
      "last      2018-12-31 00:00:00\n",
      "Name: reg_date, dtype: object\n",
      "count                  202607\n",
      "unique                    365\n",
      "top       2018-12-31 00:00:00\n",
      "freq                     1435\n",
      "first     2018-01-01 00:00:00\n",
      "last      2018-12-31 00:00:00\n",
      "Name: call_date, dtype: object\n",
      "count                  123036\n",
      "unique                    364\n",
      "top       2018-12-31 00:00:00\n",
      "freq                      859\n",
      "first     2018-01-02 00:00:00\n",
      "last      2018-12-31 00:00:00\n",
      "Name: message_date, dtype: object\n",
      "count                  149396\n",
      "unique                    365\n",
      "top       2018-12-31 00:00:00\n",
      "freq                     1057\n",
      "first     2018-01-01 00:00:00\n",
      "last      2018-12-31 00:00:00\n",
      "Name: session_date, dtype: object\n"
     ]
    }
   ],
   "source": [
    "time_columns = [users_df['reg_date'], calls_df['call_date'], messages_df['message_date'], internet_df['session_date']]\n",
    "for column in time_columns:\n",
    "    print(column.describe())    "
   ]
  },
  {
   "cell_type": "markdown",
   "metadata": {},
   "source": [
    "Все данные только за 2018, можно смело оставлять только месяца"
   ]
  },
  {
   "cell_type": "code",
   "execution_count": 10,
   "metadata": {
    "scrolled": false
   },
   "outputs": [
    {
     "data": {
      "text/html": [
       "<div>\n",
       "<style scoped>\n",
       "    .dataframe tbody tr th:only-of-type {\n",
       "        vertical-align: middle;\n",
       "    }\n",
       "\n",
       "    .dataframe tbody tr th {\n",
       "        vertical-align: top;\n",
       "    }\n",
       "\n",
       "    .dataframe thead th {\n",
       "        text-align: right;\n",
       "    }\n",
       "</style>\n",
       "<table border=\"1\" class=\"dataframe\">\n",
       "  <thead>\n",
       "    <tr style=\"text-align: right;\">\n",
       "      <th></th>\n",
       "      <th>user_id</th>\n",
       "      <th>age</th>\n",
       "      <th>churn_date</th>\n",
       "      <th>city</th>\n",
       "      <th>first_name</th>\n",
       "      <th>last_name</th>\n",
       "      <th>reg_date</th>\n",
       "      <th>tariff</th>\n",
       "    </tr>\n",
       "  </thead>\n",
       "  <tbody>\n",
       "    <tr>\n",
       "      <td>0</td>\n",
       "      <td>1000</td>\n",
       "      <td>52</td>\n",
       "      <td>NaN</td>\n",
       "      <td>Краснодар</td>\n",
       "      <td>Рафаил</td>\n",
       "      <td>Верещагин</td>\n",
       "      <td>5</td>\n",
       "      <td>ultra</td>\n",
       "    </tr>\n",
       "    <tr>\n",
       "      <td>1</td>\n",
       "      <td>1001</td>\n",
       "      <td>41</td>\n",
       "      <td>NaN</td>\n",
       "      <td>Москва</td>\n",
       "      <td>Иван</td>\n",
       "      <td>Ежов</td>\n",
       "      <td>11</td>\n",
       "      <td>smart</td>\n",
       "    </tr>\n",
       "    <tr>\n",
       "      <td>2</td>\n",
       "      <td>1002</td>\n",
       "      <td>59</td>\n",
       "      <td>NaN</td>\n",
       "      <td>Стерлитамак</td>\n",
       "      <td>Евгений</td>\n",
       "      <td>Абрамович</td>\n",
       "      <td>6</td>\n",
       "      <td>smart</td>\n",
       "    </tr>\n",
       "    <tr>\n",
       "      <td>3</td>\n",
       "      <td>1003</td>\n",
       "      <td>23</td>\n",
       "      <td>NaN</td>\n",
       "      <td>Москва</td>\n",
       "      <td>Белла</td>\n",
       "      <td>Белякова</td>\n",
       "      <td>8</td>\n",
       "      <td>ultra</td>\n",
       "    </tr>\n",
       "    <tr>\n",
       "      <td>4</td>\n",
       "      <td>1004</td>\n",
       "      <td>68</td>\n",
       "      <td>NaN</td>\n",
       "      <td>Новокузнецк</td>\n",
       "      <td>Татьяна</td>\n",
       "      <td>Авдеенко</td>\n",
       "      <td>5</td>\n",
       "      <td>ultra</td>\n",
       "    </tr>\n",
       "  </tbody>\n",
       "</table>\n",
       "</div>"
      ],
      "text/plain": [
       "   user_id  age churn_date         city first_name  last_name  reg_date tariff\n",
       "0     1000   52        NaN    Краснодар     Рафаил  Верещагин         5  ultra\n",
       "1     1001   41        NaN       Москва       Иван       Ежов        11  smart\n",
       "2     1002   59        NaN  Стерлитамак    Евгений  Абрамович         6  smart\n",
       "3     1003   23        NaN       Москва      Белла   Белякова         8  ultra\n",
       "4     1004   68        NaN  Новокузнецк    Татьяна   Авдеенко         5  ultra"
      ]
     },
     "execution_count": 10,
     "metadata": {},
     "output_type": "execute_result"
    }
   ],
   "source": [
    "users_df['reg_date'] = users_df['reg_date'].dt.month\n",
    "calls_df['call_date'] = calls_df['call_date'].dt.month\n",
    "messages_df['message_date'] = messages_df['message_date'].dt.month\n",
    "internet_df['session_date'] = internet_df['session_date'].dt.month\n",
    "#проверим\n",
    "users_df.head()"
   ]
  },
  {
   "cell_type": "markdown",
   "metadata": {},
   "source": [
    "Осталось переименовать временные столбцы в 'month', чтоб потом можно было объединять таблицы по столбцу 'month'"
   ]
  },
  {
   "cell_type": "code",
   "execution_count": 11,
   "metadata": {},
   "outputs": [],
   "source": [
    "calls_df = calls_df.rename(columns = {'call_date': 'month'})\n",
    "messages_df = messages_df.rename(columns = {'message_date': 'month'})\n",
    "internet_df = internet_df.rename(columns = {'session_date': 'month'})"
   ]
  },
  {
   "cell_type": "markdown",
   "metadata": {},
   "source": [
    "Временные столбцы предварительно обработаны"
   ]
  },
  {
   "cell_type": "markdown",
   "metadata": {},
   "source": [
    "### Длительность разговора"
   ]
  },
  {
   "cell_type": "markdown",
   "metadata": {},
   "source": [
    "Поскольку каждый звонок округляется отдельно: даже если он длился всего 1 секунду, будет засчитан как 1 минута, надо округлить данные в duration в верхнюю сторону."
   ]
  },
  {
   "cell_type": "code",
   "execution_count": 12,
   "metadata": {},
   "outputs": [
    {
     "data": {
      "text/html": [
       "<div>\n",
       "<style scoped>\n",
       "    .dataframe tbody tr th:only-of-type {\n",
       "        vertical-align: middle;\n",
       "    }\n",
       "\n",
       "    .dataframe tbody tr th {\n",
       "        vertical-align: top;\n",
       "    }\n",
       "\n",
       "    .dataframe thead th {\n",
       "        text-align: right;\n",
       "    }\n",
       "</style>\n",
       "<table border=\"1\" class=\"dataframe\">\n",
       "  <thead>\n",
       "    <tr style=\"text-align: right;\">\n",
       "      <th></th>\n",
       "      <th>id</th>\n",
       "      <th>month</th>\n",
       "      <th>duration</th>\n",
       "      <th>user_id</th>\n",
       "    </tr>\n",
       "  </thead>\n",
       "  <tbody>\n",
       "    <tr>\n",
       "      <td>0</td>\n",
       "      <td>1000_0</td>\n",
       "      <td>7</td>\n",
       "      <td>0.0</td>\n",
       "      <td>1000</td>\n",
       "    </tr>\n",
       "    <tr>\n",
       "      <td>1</td>\n",
       "      <td>1000_1</td>\n",
       "      <td>8</td>\n",
       "      <td>0.0</td>\n",
       "      <td>1000</td>\n",
       "    </tr>\n",
       "    <tr>\n",
       "      <td>2</td>\n",
       "      <td>1000_2</td>\n",
       "      <td>6</td>\n",
       "      <td>3.0</td>\n",
       "      <td>1000</td>\n",
       "    </tr>\n",
       "    <tr>\n",
       "      <td>3</td>\n",
       "      <td>1000_3</td>\n",
       "      <td>9</td>\n",
       "      <td>14.0</td>\n",
       "      <td>1000</td>\n",
       "    </tr>\n",
       "    <tr>\n",
       "      <td>4</td>\n",
       "      <td>1000_4</td>\n",
       "      <td>12</td>\n",
       "      <td>6.0</td>\n",
       "      <td>1000</td>\n",
       "    </tr>\n",
       "  </tbody>\n",
       "</table>\n",
       "</div>"
      ],
      "text/plain": [
       "       id  month  duration  user_id\n",
       "0  1000_0      7       0.0     1000\n",
       "1  1000_1      8       0.0     1000\n",
       "2  1000_2      6       3.0     1000\n",
       "3  1000_3      9      14.0     1000\n",
       "4  1000_4     12       6.0     1000"
      ]
     },
     "metadata": {},
     "output_type": "display_data"
    },
    {
     "name": "stdout",
     "output_type": "stream",
     "text": [
      "<class 'pandas.core.frame.DataFrame'>\n",
      "RangeIndex: 202607 entries, 0 to 202606\n",
      "Data columns (total 4 columns):\n",
      "id          202607 non-null object\n",
      "month       202607 non-null int64\n",
      "duration    202607 non-null float64\n",
      "user_id     202607 non-null int64\n",
      "dtypes: float64(1), int64(2), object(1)\n",
      "memory usage: 6.2+ MB\n"
     ]
    }
   ],
   "source": [
    "calls_df['duration'] = calls_df['duration'].apply(np.ceil)\n",
    "#проверим\n",
    "display(calls_df.head())\n",
    "calls_df.info()"
   ]
  },
  {
   "cell_type": "markdown",
   "metadata": {},
   "source": [
    "Данные о длительности разговора округлены до минут"
   ]
  },
  {
   "cell_type": "markdown",
   "metadata": {},
   "source": [
    "### Информация о тарифах"
   ]
  },
  {
   "cell_type": "markdown",
   "metadata": {},
   "source": [
    "Приведем mb_per_month_included к нужному виду"
   ]
  },
  {
   "cell_type": "code",
   "execution_count": 13,
   "metadata": {},
   "outputs": [
    {
     "data": {
      "text/html": [
       "<div>\n",
       "<style scoped>\n",
       "    .dataframe tbody tr th:only-of-type {\n",
       "        vertical-align: middle;\n",
       "    }\n",
       "\n",
       "    .dataframe tbody tr th {\n",
       "        vertical-align: top;\n",
       "    }\n",
       "\n",
       "    .dataframe thead th {\n",
       "        text-align: right;\n",
       "    }\n",
       "</style>\n",
       "<table border=\"1\" class=\"dataframe\">\n",
       "  <thead>\n",
       "    <tr style=\"text-align: right;\">\n",
       "      <th></th>\n",
       "      <th>messages_included</th>\n",
       "      <th>gb_per_month_included</th>\n",
       "      <th>minutes_included</th>\n",
       "      <th>rub_monthly_fee</th>\n",
       "      <th>rub_per_gb</th>\n",
       "      <th>rub_per_message</th>\n",
       "      <th>rub_per_minute</th>\n",
       "      <th>tariff_name</th>\n",
       "    </tr>\n",
       "  </thead>\n",
       "  <tbody>\n",
       "    <tr>\n",
       "      <td>0</td>\n",
       "      <td>50</td>\n",
       "      <td>15.0</td>\n",
       "      <td>500</td>\n",
       "      <td>550</td>\n",
       "      <td>200</td>\n",
       "      <td>3</td>\n",
       "      <td>3</td>\n",
       "      <td>smart</td>\n",
       "    </tr>\n",
       "    <tr>\n",
       "      <td>1</td>\n",
       "      <td>1000</td>\n",
       "      <td>30.0</td>\n",
       "      <td>3000</td>\n",
       "      <td>1950</td>\n",
       "      <td>150</td>\n",
       "      <td>1</td>\n",
       "      <td>1</td>\n",
       "      <td>ultra</td>\n",
       "    </tr>\n",
       "  </tbody>\n",
       "</table>\n",
       "</div>"
      ],
      "text/plain": [
       "   messages_included  gb_per_month_included  minutes_included  \\\n",
       "0                 50                   15.0               500   \n",
       "1               1000                   30.0              3000   \n",
       "\n",
       "   rub_monthly_fee  rub_per_gb  rub_per_message  rub_per_minute tariff_name  \n",
       "0              550         200                3               3       smart  \n",
       "1             1950         150                1               1       ultra  "
      ]
     },
     "execution_count": 13,
     "metadata": {},
     "output_type": "execute_result"
    }
   ],
   "source": [
    "tariffs_df['mb_per_month_included'] = tariffs_df['mb_per_month_included'] / 1024\n",
    "tariffs_df = tariffs_df.rename(columns = {'mb_per_month_included': 'gb_per_month_included'})\n",
    "tariffs_df"
   ]
  },
  {
   "cell_type": "markdown",
   "metadata": {},
   "source": [
    "Информацяи о тарифах приведена к нужному виду"
   ]
  },
  {
   "cell_type": "markdown",
   "metadata": {},
   "source": [
    "### Удаление лишних столбцов"
   ]
  },
  {
   "cell_type": "markdown",
   "metadata": {},
   "source": [
    "Уберем лишние столбцы:\n",
    "- имена из информации о пользователях\n",
    "- столбец \"Unnamed: 0\" из информации об интернет-трафике"
   ]
  },
  {
   "cell_type": "code",
   "execution_count": 14,
   "metadata": {},
   "outputs": [
    {
     "data": {
      "text/html": [
       "<div>\n",
       "<style scoped>\n",
       "    .dataframe tbody tr th:only-of-type {\n",
       "        vertical-align: middle;\n",
       "    }\n",
       "\n",
       "    .dataframe tbody tr th {\n",
       "        vertical-align: top;\n",
       "    }\n",
       "\n",
       "    .dataframe thead th {\n",
       "        text-align: right;\n",
       "    }\n",
       "</style>\n",
       "<table border=\"1\" class=\"dataframe\">\n",
       "  <thead>\n",
       "    <tr style=\"text-align: right;\">\n",
       "      <th></th>\n",
       "      <th>user_id</th>\n",
       "      <th>age</th>\n",
       "      <th>city</th>\n",
       "      <th>reg_date</th>\n",
       "      <th>tariff</th>\n",
       "    </tr>\n",
       "  </thead>\n",
       "  <tbody>\n",
       "    <tr>\n",
       "      <td>0</td>\n",
       "      <td>1000</td>\n",
       "      <td>52</td>\n",
       "      <td>Краснодар</td>\n",
       "      <td>5</td>\n",
       "      <td>ultra</td>\n",
       "    </tr>\n",
       "    <tr>\n",
       "      <td>1</td>\n",
       "      <td>1001</td>\n",
       "      <td>41</td>\n",
       "      <td>Москва</td>\n",
       "      <td>11</td>\n",
       "      <td>smart</td>\n",
       "    </tr>\n",
       "    <tr>\n",
       "      <td>2</td>\n",
       "      <td>1002</td>\n",
       "      <td>59</td>\n",
       "      <td>Стерлитамак</td>\n",
       "      <td>6</td>\n",
       "      <td>smart</td>\n",
       "    </tr>\n",
       "    <tr>\n",
       "      <td>3</td>\n",
       "      <td>1003</td>\n",
       "      <td>23</td>\n",
       "      <td>Москва</td>\n",
       "      <td>8</td>\n",
       "      <td>ultra</td>\n",
       "    </tr>\n",
       "    <tr>\n",
       "      <td>4</td>\n",
       "      <td>1004</td>\n",
       "      <td>68</td>\n",
       "      <td>Новокузнецк</td>\n",
       "      <td>5</td>\n",
       "      <td>ultra</td>\n",
       "    </tr>\n",
       "  </tbody>\n",
       "</table>\n",
       "</div>"
      ],
      "text/plain": [
       "   user_id  age         city  reg_date tariff\n",
       "0     1000   52    Краснодар         5  ultra\n",
       "1     1001   41       Москва        11  smart\n",
       "2     1002   59  Стерлитамак         6  smart\n",
       "3     1003   23       Москва         8  ultra\n",
       "4     1004   68  Новокузнецк         5  ultra"
      ]
     },
     "metadata": {},
     "output_type": "display_data"
    },
    {
     "data": {
      "text/html": [
       "<div>\n",
       "<style scoped>\n",
       "    .dataframe tbody tr th:only-of-type {\n",
       "        vertical-align: middle;\n",
       "    }\n",
       "\n",
       "    .dataframe tbody tr th {\n",
       "        vertical-align: top;\n",
       "    }\n",
       "\n",
       "    .dataframe thead th {\n",
       "        text-align: right;\n",
       "    }\n",
       "</style>\n",
       "<table border=\"1\" class=\"dataframe\">\n",
       "  <thead>\n",
       "    <tr style=\"text-align: right;\">\n",
       "      <th></th>\n",
       "      <th>id</th>\n",
       "      <th>mb_used</th>\n",
       "      <th>month</th>\n",
       "      <th>user_id</th>\n",
       "    </tr>\n",
       "  </thead>\n",
       "  <tbody>\n",
       "    <tr>\n",
       "      <td>0</td>\n",
       "      <td>1000_0</td>\n",
       "      <td>112.95</td>\n",
       "      <td>11</td>\n",
       "      <td>1000</td>\n",
       "    </tr>\n",
       "    <tr>\n",
       "      <td>1</td>\n",
       "      <td>1000_1</td>\n",
       "      <td>1052.81</td>\n",
       "      <td>9</td>\n",
       "      <td>1000</td>\n",
       "    </tr>\n",
       "    <tr>\n",
       "      <td>2</td>\n",
       "      <td>1000_2</td>\n",
       "      <td>1197.26</td>\n",
       "      <td>6</td>\n",
       "      <td>1000</td>\n",
       "    </tr>\n",
       "    <tr>\n",
       "      <td>3</td>\n",
       "      <td>1000_3</td>\n",
       "      <td>550.27</td>\n",
       "      <td>8</td>\n",
       "      <td>1000</td>\n",
       "    </tr>\n",
       "    <tr>\n",
       "      <td>4</td>\n",
       "      <td>1000_4</td>\n",
       "      <td>302.56</td>\n",
       "      <td>9</td>\n",
       "      <td>1000</td>\n",
       "    </tr>\n",
       "  </tbody>\n",
       "</table>\n",
       "</div>"
      ],
      "text/plain": [
       "       id  mb_used  month  user_id\n",
       "0  1000_0   112.95     11     1000\n",
       "1  1000_1  1052.81      9     1000\n",
       "2  1000_2  1197.26      6     1000\n",
       "3  1000_3   550.27      8     1000\n",
       "4  1000_4   302.56      9     1000"
      ]
     },
     "execution_count": 14,
     "metadata": {},
     "output_type": "execute_result"
    }
   ],
   "source": [
    "users_df = users_df.drop(['first_name', 'last_name', 'churn_date'], axis = 1)\n",
    "internet_df = internet_df.drop(['Unnamed: 0'], axis = 1)\n",
    "#проверим\n",
    "display(users_df.head())\n",
    "internet_df.head()"
   ]
  },
  {
   "cell_type": "markdown",
   "metadata": {},
   "source": [
    "Лишние столбцы удалены"
   ]
  },
  {
   "cell_type": "markdown",
   "metadata": {},
   "source": [
    "## Вычисление помесячных данных"
   ]
  },
  {
   "cell_type": "markdown",
   "metadata": {},
   "source": [
    "Теперь посчитаем помесячные показатели для каждого пользователя"
   ]
  },
  {
   "cell_type": "markdown",
   "metadata": {},
   "source": [
    "### Группировка имеющихся данных"
   ]
  },
  {
   "cell_type": "markdown",
   "metadata": {},
   "source": [
    "Для начала сгрупируем имеющуюся информацию"
   ]
  },
  {
   "cell_type": "code",
   "execution_count": 15,
   "metadata": {},
   "outputs": [
    {
     "data": {
      "text/html": [
       "<div>\n",
       "<style scoped>\n",
       "    .dataframe tbody tr th:only-of-type {\n",
       "        vertical-align: middle;\n",
       "    }\n",
       "\n",
       "    .dataframe tbody tr th {\n",
       "        vertical-align: top;\n",
       "    }\n",
       "\n",
       "    .dataframe thead tr th {\n",
       "        text-align: left;\n",
       "    }\n",
       "\n",
       "    .dataframe thead tr:last-of-type th {\n",
       "        text-align: right;\n",
       "    }\n",
       "</style>\n",
       "<table border=\"1\" class=\"dataframe\">\n",
       "  <thead>\n",
       "    <tr>\n",
       "      <th></th>\n",
       "      <th></th>\n",
       "      <th>sum</th>\n",
       "      <th>count</th>\n",
       "    </tr>\n",
       "    <tr>\n",
       "      <th></th>\n",
       "      <th></th>\n",
       "      <th>duration</th>\n",
       "      <th>duration</th>\n",
       "    </tr>\n",
       "    <tr>\n",
       "      <th>user_id</th>\n",
       "      <th>month</th>\n",
       "      <th></th>\n",
       "      <th></th>\n",
       "    </tr>\n",
       "  </thead>\n",
       "  <tbody>\n",
       "    <tr>\n",
       "      <td rowspan=\"5\" valign=\"top\">1000</td>\n",
       "      <td>5</td>\n",
       "      <td>159.0</td>\n",
       "      <td>22</td>\n",
       "    </tr>\n",
       "    <tr>\n",
       "      <td>6</td>\n",
       "      <td>172.0</td>\n",
       "      <td>43</td>\n",
       "    </tr>\n",
       "    <tr>\n",
       "      <td>7</td>\n",
       "      <td>340.0</td>\n",
       "      <td>47</td>\n",
       "    </tr>\n",
       "    <tr>\n",
       "      <td>8</td>\n",
       "      <td>408.0</td>\n",
       "      <td>52</td>\n",
       "    </tr>\n",
       "    <tr>\n",
       "      <td>9</td>\n",
       "      <td>466.0</td>\n",
       "      <td>58</td>\n",
       "    </tr>\n",
       "    <tr>\n",
       "      <td>...</td>\n",
       "      <td>...</td>\n",
       "      <td>...</td>\n",
       "      <td>...</td>\n",
       "    </tr>\n",
       "    <tr>\n",
       "      <td>1498</td>\n",
       "      <td>10</td>\n",
       "      <td>247.0</td>\n",
       "      <td>41</td>\n",
       "    </tr>\n",
       "    <tr>\n",
       "      <td rowspan=\"4\" valign=\"top\">1499</td>\n",
       "      <td>9</td>\n",
       "      <td>70.0</td>\n",
       "      <td>9</td>\n",
       "    </tr>\n",
       "    <tr>\n",
       "      <td>10</td>\n",
       "      <td>449.0</td>\n",
       "      <td>68</td>\n",
       "    </tr>\n",
       "    <tr>\n",
       "      <td>11</td>\n",
       "      <td>612.0</td>\n",
       "      <td>74</td>\n",
       "    </tr>\n",
       "    <tr>\n",
       "      <td>12</td>\n",
       "      <td>492.0</td>\n",
       "      <td>69</td>\n",
       "    </tr>\n",
       "  </tbody>\n",
       "</table>\n",
       "<p>3174 rows × 2 columns</p>\n",
       "</div>"
      ],
      "text/plain": [
       "                   sum    count\n",
       "              duration duration\n",
       "user_id month                  \n",
       "1000    5        159.0       22\n",
       "        6        172.0       43\n",
       "        7        340.0       47\n",
       "        8        408.0       52\n",
       "        9        466.0       58\n",
       "...                ...      ...\n",
       "1498    10       247.0       41\n",
       "1499    9         70.0        9\n",
       "        10       449.0       68\n",
       "        11       612.0       74\n",
       "        12       492.0       69\n",
       "\n",
       "[3174 rows x 2 columns]"
      ]
     },
     "execution_count": 15,
     "metadata": {},
     "output_type": "execute_result"
    }
   ],
   "source": [
    "#Сначала о звонках\n",
    "month_stat = calls_df.pivot_table(index = ['user_id', 'month'], values = 'duration', aggfunc = ['sum', 'count'])\n",
    "#проверим\n",
    "month_stat"
   ]
  },
  {
   "cell_type": "code",
   "execution_count": 16,
   "metadata": {
    "scrolled": false
   },
   "outputs": [
    {
     "data": {
      "text/html": [
       "<div>\n",
       "<style scoped>\n",
       "    .dataframe tbody tr th:only-of-type {\n",
       "        vertical-align: middle;\n",
       "    }\n",
       "\n",
       "    .dataframe tbody tr th {\n",
       "        vertical-align: top;\n",
       "    }\n",
       "\n",
       "    .dataframe thead th {\n",
       "        text-align: right;\n",
       "    }\n",
       "</style>\n",
       "<table border=\"1\" class=\"dataframe\">\n",
       "  <thead>\n",
       "    <tr style=\"text-align: right;\">\n",
       "      <th></th>\n",
       "      <th></th>\n",
       "      <th>id</th>\n",
       "    </tr>\n",
       "    <tr>\n",
       "      <th>user_id</th>\n",
       "      <th>month</th>\n",
       "      <th></th>\n",
       "    </tr>\n",
       "  </thead>\n",
       "  <tbody>\n",
       "    <tr>\n",
       "      <td rowspan=\"5\" valign=\"top\">1000</td>\n",
       "      <td>5</td>\n",
       "      <td>22</td>\n",
       "    </tr>\n",
       "    <tr>\n",
       "      <td>6</td>\n",
       "      <td>60</td>\n",
       "    </tr>\n",
       "    <tr>\n",
       "      <td>7</td>\n",
       "      <td>75</td>\n",
       "    </tr>\n",
       "    <tr>\n",
       "      <td>8</td>\n",
       "      <td>81</td>\n",
       "    </tr>\n",
       "    <tr>\n",
       "      <td>9</td>\n",
       "      <td>57</td>\n",
       "    </tr>\n",
       "    <tr>\n",
       "      <td>...</td>\n",
       "      <td>...</td>\n",
       "      <td>...</td>\n",
       "    </tr>\n",
       "    <tr>\n",
       "      <td>1498</td>\n",
       "      <td>10</td>\n",
       "      <td>42</td>\n",
       "    </tr>\n",
       "    <tr>\n",
       "      <td rowspan=\"4\" valign=\"top\">1499</td>\n",
       "      <td>9</td>\n",
       "      <td>11</td>\n",
       "    </tr>\n",
       "    <tr>\n",
       "      <td>10</td>\n",
       "      <td>48</td>\n",
       "    </tr>\n",
       "    <tr>\n",
       "      <td>11</td>\n",
       "      <td>59</td>\n",
       "    </tr>\n",
       "    <tr>\n",
       "      <td>12</td>\n",
       "      <td>66</td>\n",
       "    </tr>\n",
       "  </tbody>\n",
       "</table>\n",
       "<p>2717 rows × 1 columns</p>\n",
       "</div>"
      ],
      "text/plain": [
       "               id\n",
       "user_id month    \n",
       "1000    5      22\n",
       "        6      60\n",
       "        7      75\n",
       "        8      81\n",
       "        9      57\n",
       "...            ..\n",
       "1498    10     42\n",
       "1499    9      11\n",
       "        10     48\n",
       "        11     59\n",
       "        12     66\n",
       "\n",
       "[2717 rows x 1 columns]"
      ]
     },
     "execution_count": 16,
     "metadata": {},
     "output_type": "execute_result"
    }
   ],
   "source": [
    "#теперь посчитаем таким же образом сообщения\n",
    "month_messages = messages_df.pivot_table(index = ['user_id', 'month'], values = 'month', aggfunc = 'count')\n",
    "#проверим\n",
    "month_messages"
   ]
  },
  {
   "cell_type": "code",
   "execution_count": 17,
   "metadata": {},
   "outputs": [
    {
     "data": {
      "text/html": [
       "<div>\n",
       "<style scoped>\n",
       "    .dataframe tbody tr th:only-of-type {\n",
       "        vertical-align: middle;\n",
       "    }\n",
       "\n",
       "    .dataframe tbody tr th {\n",
       "        vertical-align: top;\n",
       "    }\n",
       "\n",
       "    .dataframe thead th {\n",
       "        text-align: right;\n",
       "    }\n",
       "</style>\n",
       "<table border=\"1\" class=\"dataframe\">\n",
       "  <thead>\n",
       "    <tr style=\"text-align: right;\">\n",
       "      <th></th>\n",
       "      <th></th>\n",
       "      <th>gb</th>\n",
       "    </tr>\n",
       "    <tr>\n",
       "      <th>user_id</th>\n",
       "      <th>month</th>\n",
       "      <th></th>\n",
       "    </tr>\n",
       "  </thead>\n",
       "  <tbody>\n",
       "    <tr>\n",
       "      <td rowspan=\"5\" valign=\"top\">1000</td>\n",
       "      <td>5</td>\n",
       "      <td>3.0</td>\n",
       "    </tr>\n",
       "    <tr>\n",
       "      <td>6</td>\n",
       "      <td>23.0</td>\n",
       "    </tr>\n",
       "    <tr>\n",
       "      <td>7</td>\n",
       "      <td>14.0</td>\n",
       "    </tr>\n",
       "    <tr>\n",
       "      <td>8</td>\n",
       "      <td>14.0</td>\n",
       "    </tr>\n",
       "    <tr>\n",
       "      <td>9</td>\n",
       "      <td>15.0</td>\n",
       "    </tr>\n",
       "    <tr>\n",
       "      <td>...</td>\n",
       "      <td>...</td>\n",
       "      <td>...</td>\n",
       "    </tr>\n",
       "    <tr>\n",
       "      <td>1498</td>\n",
       "      <td>10</td>\n",
       "      <td>21.0</td>\n",
       "    </tr>\n",
       "    <tr>\n",
       "      <td rowspan=\"4\" valign=\"top\">1499</td>\n",
       "      <td>9</td>\n",
       "      <td>2.0</td>\n",
       "    </tr>\n",
       "    <tr>\n",
       "      <td>10</td>\n",
       "      <td>18.0</td>\n",
       "    </tr>\n",
       "    <tr>\n",
       "      <td>11</td>\n",
       "      <td>18.0</td>\n",
       "    </tr>\n",
       "    <tr>\n",
       "      <td>12</td>\n",
       "      <td>13.0</td>\n",
       "    </tr>\n",
       "  </tbody>\n",
       "</table>\n",
       "<p>3203 rows × 1 columns</p>\n",
       "</div>"
      ],
      "text/plain": [
       "                 gb\n",
       "user_id month      \n",
       "1000    5       3.0\n",
       "        6      23.0\n",
       "        7      14.0\n",
       "        8      14.0\n",
       "        9      15.0\n",
       "...             ...\n",
       "1498    10     21.0\n",
       "1499    9       2.0\n",
       "        10     18.0\n",
       "        11     18.0\n",
       "        12     13.0\n",
       "\n",
       "[3203 rows x 1 columns]"
      ]
     },
     "execution_count": 17,
     "metadata": {},
     "output_type": "execute_result"
    }
   ],
   "source": [
    "#а теперь интернет-трафик\n",
    "month_internet = internet_df.pivot_table(index = ['user_id', 'month'], values = 'mb_used', aggfunc = 'sum')\n",
    "#нас интересует трафик в гигабайтах, округленный до большего значения. Переименуем столбец и приведем данные к нужному виду\n",
    "month_internet.columns = ['gb']\n",
    "month_internet['gb'] = month_internet['gb'] / 1024\n",
    "month_internet['gb'] = month_internet['gb'].apply(np.ceil)\n",
    "#проверим\n",
    "month_internet"
   ]
  },
  {
   "cell_type": "code",
   "execution_count": 18,
   "metadata": {},
   "outputs": [
    {
     "data": {
      "text/html": [
       "<div>\n",
       "<style scoped>\n",
       "    .dataframe tbody tr th:only-of-type {\n",
       "        vertical-align: middle;\n",
       "    }\n",
       "\n",
       "    .dataframe tbody tr th {\n",
       "        vertical-align: top;\n",
       "    }\n",
       "\n",
       "    .dataframe thead th {\n",
       "        text-align: right;\n",
       "    }\n",
       "</style>\n",
       "<table border=\"1\" class=\"dataframe\">\n",
       "  <thead>\n",
       "    <tr style=\"text-align: right;\">\n",
       "      <th></th>\n",
       "      <th></th>\n",
       "      <th>(sum, duration)</th>\n",
       "      <th>(count, duration)</th>\n",
       "      <th>id</th>\n",
       "      <th>gb</th>\n",
       "    </tr>\n",
       "    <tr>\n",
       "      <th>user_id</th>\n",
       "      <th>month</th>\n",
       "      <th></th>\n",
       "      <th></th>\n",
       "      <th></th>\n",
       "      <th></th>\n",
       "    </tr>\n",
       "  </thead>\n",
       "  <tbody>\n",
       "    <tr>\n",
       "      <td rowspan=\"5\" valign=\"top\">1000</td>\n",
       "      <td>5</td>\n",
       "      <td>159.0</td>\n",
       "      <td>22.0</td>\n",
       "      <td>22.0</td>\n",
       "      <td>3.0</td>\n",
       "    </tr>\n",
       "    <tr>\n",
       "      <td>6</td>\n",
       "      <td>172.0</td>\n",
       "      <td>43.0</td>\n",
       "      <td>60.0</td>\n",
       "      <td>23.0</td>\n",
       "    </tr>\n",
       "    <tr>\n",
       "      <td>7</td>\n",
       "      <td>340.0</td>\n",
       "      <td>47.0</td>\n",
       "      <td>75.0</td>\n",
       "      <td>14.0</td>\n",
       "    </tr>\n",
       "    <tr>\n",
       "      <td>8</td>\n",
       "      <td>408.0</td>\n",
       "      <td>52.0</td>\n",
       "      <td>81.0</td>\n",
       "      <td>14.0</td>\n",
       "    </tr>\n",
       "    <tr>\n",
       "      <td>9</td>\n",
       "      <td>466.0</td>\n",
       "      <td>58.0</td>\n",
       "      <td>57.0</td>\n",
       "      <td>15.0</td>\n",
       "    </tr>\n",
       "    <tr>\n",
       "      <td>...</td>\n",
       "      <td>...</td>\n",
       "      <td>...</td>\n",
       "      <td>...</td>\n",
       "      <td>...</td>\n",
       "      <td>...</td>\n",
       "    </tr>\n",
       "    <tr>\n",
       "      <td rowspan=\"4\" valign=\"top\">1489</td>\n",
       "      <td>9</td>\n",
       "      <td>NaN</td>\n",
       "      <td>NaN</td>\n",
       "      <td>32.0</td>\n",
       "      <td>17.0</td>\n",
       "    </tr>\n",
       "    <tr>\n",
       "      <td>10</td>\n",
       "      <td>NaN</td>\n",
       "      <td>NaN</td>\n",
       "      <td>21.0</td>\n",
       "      <td>20.0</td>\n",
       "    </tr>\n",
       "    <tr>\n",
       "      <td>11</td>\n",
       "      <td>NaN</td>\n",
       "      <td>NaN</td>\n",
       "      <td>20.0</td>\n",
       "      <td>18.0</td>\n",
       "    </tr>\n",
       "    <tr>\n",
       "      <td>12</td>\n",
       "      <td>NaN</td>\n",
       "      <td>NaN</td>\n",
       "      <td>35.0</td>\n",
       "      <td>17.0</td>\n",
       "    </tr>\n",
       "    <tr>\n",
       "      <td>1476</td>\n",
       "      <td>4</td>\n",
       "      <td>NaN</td>\n",
       "      <td>NaN</td>\n",
       "      <td>NaN</td>\n",
       "      <td>1.0</td>\n",
       "    </tr>\n",
       "  </tbody>\n",
       "</table>\n",
       "<p>3214 rows × 4 columns</p>\n",
       "</div>"
      ],
      "text/plain": [
       "               (sum, duration)  (count, duration)    id    gb\n",
       "user_id month                                                \n",
       "1000    5                159.0               22.0  22.0   3.0\n",
       "        6                172.0               43.0  60.0  23.0\n",
       "        7                340.0               47.0  75.0  14.0\n",
       "        8                408.0               52.0  81.0  14.0\n",
       "        9                466.0               58.0  57.0  15.0\n",
       "...                        ...                ...   ...   ...\n",
       "1489    9                  NaN                NaN  32.0  17.0\n",
       "        10                 NaN                NaN  21.0  20.0\n",
       "        11                 NaN                NaN  20.0  18.0\n",
       "        12                 NaN                NaN  35.0  17.0\n",
       "1476    4                  NaN                NaN   NaN   1.0\n",
       "\n",
       "[3214 rows x 4 columns]"
      ]
     },
     "execution_count": 18,
     "metadata": {},
     "output_type": "execute_result"
    }
   ],
   "source": [
    "#присоединим к month_stat данные о трафике и сообщениях\n",
    "month_stat = month_stat.merge(month_messages, on = ['user_id', 'month'], how = 'outer')\n",
    "month_stat = month_stat.merge(month_internet, on = ['user_id', 'month'], how = 'outer')\n",
    "month_stat"
   ]
  },
  {
   "cell_type": "markdown",
   "metadata": {},
   "source": [
    "Осталось переименовать столбцы и присоединить к этой таблице название тарифа, возраста и города из информации о пользователях - эти данные нам пригодятся."
   ]
  },
  {
   "cell_type": "code",
   "execution_count": 19,
   "metadata": {},
   "outputs": [
    {
     "data": {
      "text/html": [
       "<div>\n",
       "<style scoped>\n",
       "    .dataframe tbody tr th:only-of-type {\n",
       "        vertical-align: middle;\n",
       "    }\n",
       "\n",
       "    .dataframe tbody tr th {\n",
       "        vertical-align: top;\n",
       "    }\n",
       "\n",
       "    .dataframe thead th {\n",
       "        text-align: right;\n",
       "    }\n",
       "</style>\n",
       "<table border=\"1\" class=\"dataframe\">\n",
       "  <thead>\n",
       "    <tr style=\"text-align: right;\">\n",
       "      <th></th>\n",
       "      <th>user_id</th>\n",
       "      <th>month</th>\n",
       "      <th>duration</th>\n",
       "      <th>calls</th>\n",
       "      <th>messages</th>\n",
       "      <th>gb</th>\n",
       "      <th>tariff</th>\n",
       "      <th>city</th>\n",
       "    </tr>\n",
       "  </thead>\n",
       "  <tbody>\n",
       "    <tr>\n",
       "      <td>0</td>\n",
       "      <td>1000</td>\n",
       "      <td>5.0</td>\n",
       "      <td>159.0</td>\n",
       "      <td>22.0</td>\n",
       "      <td>22.0</td>\n",
       "      <td>3.0</td>\n",
       "      <td>ultra</td>\n",
       "      <td>Краснодар</td>\n",
       "    </tr>\n",
       "    <tr>\n",
       "      <td>1</td>\n",
       "      <td>1000</td>\n",
       "      <td>6.0</td>\n",
       "      <td>172.0</td>\n",
       "      <td>43.0</td>\n",
       "      <td>60.0</td>\n",
       "      <td>23.0</td>\n",
       "      <td>ultra</td>\n",
       "      <td>Краснодар</td>\n",
       "    </tr>\n",
       "    <tr>\n",
       "      <td>2</td>\n",
       "      <td>1000</td>\n",
       "      <td>7.0</td>\n",
       "      <td>340.0</td>\n",
       "      <td>47.0</td>\n",
       "      <td>75.0</td>\n",
       "      <td>14.0</td>\n",
       "      <td>ultra</td>\n",
       "      <td>Краснодар</td>\n",
       "    </tr>\n",
       "    <tr>\n",
       "      <td>3</td>\n",
       "      <td>1000</td>\n",
       "      <td>8.0</td>\n",
       "      <td>408.0</td>\n",
       "      <td>52.0</td>\n",
       "      <td>81.0</td>\n",
       "      <td>14.0</td>\n",
       "      <td>ultra</td>\n",
       "      <td>Краснодар</td>\n",
       "    </tr>\n",
       "    <tr>\n",
       "      <td>4</td>\n",
       "      <td>1000</td>\n",
       "      <td>9.0</td>\n",
       "      <td>466.0</td>\n",
       "      <td>58.0</td>\n",
       "      <td>57.0</td>\n",
       "      <td>15.0</td>\n",
       "      <td>ultra</td>\n",
       "      <td>Краснодар</td>\n",
       "    </tr>\n",
       "    <tr>\n",
       "      <td>...</td>\n",
       "      <td>...</td>\n",
       "      <td>...</td>\n",
       "      <td>...</td>\n",
       "      <td>...</td>\n",
       "      <td>...</td>\n",
       "      <td>...</td>\n",
       "      <td>...</td>\n",
       "      <td>...</td>\n",
       "    </tr>\n",
       "    <tr>\n",
       "      <td>3211</td>\n",
       "      <td>1489</td>\n",
       "      <td>10.0</td>\n",
       "      <td>NaN</td>\n",
       "      <td>NaN</td>\n",
       "      <td>21.0</td>\n",
       "      <td>20.0</td>\n",
       "      <td>smart</td>\n",
       "      <td>Санкт-Петербург</td>\n",
       "    </tr>\n",
       "    <tr>\n",
       "      <td>3212</td>\n",
       "      <td>1489</td>\n",
       "      <td>11.0</td>\n",
       "      <td>NaN</td>\n",
       "      <td>NaN</td>\n",
       "      <td>20.0</td>\n",
       "      <td>18.0</td>\n",
       "      <td>smart</td>\n",
       "      <td>Санкт-Петербург</td>\n",
       "    </tr>\n",
       "    <tr>\n",
       "      <td>3213</td>\n",
       "      <td>1489</td>\n",
       "      <td>12.0</td>\n",
       "      <td>NaN</td>\n",
       "      <td>NaN</td>\n",
       "      <td>35.0</td>\n",
       "      <td>17.0</td>\n",
       "      <td>smart</td>\n",
       "      <td>Санкт-Петербург</td>\n",
       "    </tr>\n",
       "    <tr>\n",
       "      <td>3214</td>\n",
       "      <td>1128</td>\n",
       "      <td>NaN</td>\n",
       "      <td>NaN</td>\n",
       "      <td>NaN</td>\n",
       "      <td>NaN</td>\n",
       "      <td>NaN</td>\n",
       "      <td>ultra</td>\n",
       "      <td>Волжский</td>\n",
       "    </tr>\n",
       "    <tr>\n",
       "      <td>3215</td>\n",
       "      <td>1371</td>\n",
       "      <td>NaN</td>\n",
       "      <td>NaN</td>\n",
       "      <td>NaN</td>\n",
       "      <td>NaN</td>\n",
       "      <td>NaN</td>\n",
       "      <td>smart</td>\n",
       "      <td>Омск</td>\n",
       "    </tr>\n",
       "  </tbody>\n",
       "</table>\n",
       "<p>3216 rows × 8 columns</p>\n",
       "</div>"
      ],
      "text/plain": [
       "      user_id  month  duration  calls  messages    gb tariff             city\n",
       "0        1000    5.0     159.0   22.0      22.0   3.0  ultra        Краснодар\n",
       "1        1000    6.0     172.0   43.0      60.0  23.0  ultra        Краснодар\n",
       "2        1000    7.0     340.0   47.0      75.0  14.0  ultra        Краснодар\n",
       "3        1000    8.0     408.0   52.0      81.0  14.0  ultra        Краснодар\n",
       "4        1000    9.0     466.0   58.0      57.0  15.0  ultra        Краснодар\n",
       "...       ...    ...       ...    ...       ...   ...    ...              ...\n",
       "3211     1489   10.0       NaN    NaN      21.0  20.0  smart  Санкт-Петербург\n",
       "3212     1489   11.0       NaN    NaN      20.0  18.0  smart  Санкт-Петербург\n",
       "3213     1489   12.0       NaN    NaN      35.0  17.0  smart  Санкт-Петербург\n",
       "3214     1128    NaN       NaN    NaN       NaN   NaN  ultra         Волжский\n",
       "3215     1371    NaN       NaN    NaN       NaN   NaN  smart             Омск\n",
       "\n",
       "[3216 rows x 8 columns]"
      ]
     },
     "execution_count": 19,
     "metadata": {},
     "output_type": "execute_result"
    }
   ],
   "source": [
    "#упорядочим таблицу\n",
    "month_stat = month_stat.reset_index()\n",
    "month_stat.columns = ['user_id', 'month', 'duration', 'calls', 'messages', 'gb']\n",
    "#добавим нужные столбцы\n",
    "month_stat = month_stat.merge(users_df[['user_id', 'tariff', 'city']], on = 'user_id', how = 'outer')\n",
    "month_stat"
   ]
  },
  {
   "cell_type": "markdown",
   "metadata": {},
   "source": [
    "Поскольку пропуски в данных значат, что данной услугой в этом месяце просто не пользовались, можно заполнить их нулями"
   ]
  },
  {
   "cell_type": "code",
   "execution_count": 20,
   "metadata": {},
   "outputs": [
    {
     "data": {
      "text/html": [
       "<div>\n",
       "<style scoped>\n",
       "    .dataframe tbody tr th:only-of-type {\n",
       "        vertical-align: middle;\n",
       "    }\n",
       "\n",
       "    .dataframe tbody tr th {\n",
       "        vertical-align: top;\n",
       "    }\n",
       "\n",
       "    .dataframe thead th {\n",
       "        text-align: right;\n",
       "    }\n",
       "</style>\n",
       "<table border=\"1\" class=\"dataframe\">\n",
       "  <thead>\n",
       "    <tr style=\"text-align: right;\">\n",
       "      <th></th>\n",
       "      <th>user_id</th>\n",
       "      <th>month</th>\n",
       "      <th>duration</th>\n",
       "      <th>calls</th>\n",
       "      <th>messages</th>\n",
       "      <th>gb</th>\n",
       "      <th>tariff</th>\n",
       "      <th>city</th>\n",
       "    </tr>\n",
       "  </thead>\n",
       "  <tbody>\n",
       "    <tr>\n",
       "      <td>0</td>\n",
       "      <td>1000</td>\n",
       "      <td>5.0</td>\n",
       "      <td>159.0</td>\n",
       "      <td>22.0</td>\n",
       "      <td>22.0</td>\n",
       "      <td>3.0</td>\n",
       "      <td>ultra</td>\n",
       "      <td>Краснодар</td>\n",
       "    </tr>\n",
       "    <tr>\n",
       "      <td>1</td>\n",
       "      <td>1000</td>\n",
       "      <td>6.0</td>\n",
       "      <td>172.0</td>\n",
       "      <td>43.0</td>\n",
       "      <td>60.0</td>\n",
       "      <td>23.0</td>\n",
       "      <td>ultra</td>\n",
       "      <td>Краснодар</td>\n",
       "    </tr>\n",
       "    <tr>\n",
       "      <td>2</td>\n",
       "      <td>1000</td>\n",
       "      <td>7.0</td>\n",
       "      <td>340.0</td>\n",
       "      <td>47.0</td>\n",
       "      <td>75.0</td>\n",
       "      <td>14.0</td>\n",
       "      <td>ultra</td>\n",
       "      <td>Краснодар</td>\n",
       "    </tr>\n",
       "    <tr>\n",
       "      <td>3</td>\n",
       "      <td>1000</td>\n",
       "      <td>8.0</td>\n",
       "      <td>408.0</td>\n",
       "      <td>52.0</td>\n",
       "      <td>81.0</td>\n",
       "      <td>14.0</td>\n",
       "      <td>ultra</td>\n",
       "      <td>Краснодар</td>\n",
       "    </tr>\n",
       "    <tr>\n",
       "      <td>4</td>\n",
       "      <td>1000</td>\n",
       "      <td>9.0</td>\n",
       "      <td>466.0</td>\n",
       "      <td>58.0</td>\n",
       "      <td>57.0</td>\n",
       "      <td>15.0</td>\n",
       "      <td>ultra</td>\n",
       "      <td>Краснодар</td>\n",
       "    </tr>\n",
       "    <tr>\n",
       "      <td>...</td>\n",
       "      <td>...</td>\n",
       "      <td>...</td>\n",
       "      <td>...</td>\n",
       "      <td>...</td>\n",
       "      <td>...</td>\n",
       "      <td>...</td>\n",
       "      <td>...</td>\n",
       "      <td>...</td>\n",
       "    </tr>\n",
       "    <tr>\n",
       "      <td>3211</td>\n",
       "      <td>1489</td>\n",
       "      <td>10.0</td>\n",
       "      <td>0.0</td>\n",
       "      <td>0.0</td>\n",
       "      <td>21.0</td>\n",
       "      <td>20.0</td>\n",
       "      <td>smart</td>\n",
       "      <td>Санкт-Петербург</td>\n",
       "    </tr>\n",
       "    <tr>\n",
       "      <td>3212</td>\n",
       "      <td>1489</td>\n",
       "      <td>11.0</td>\n",
       "      <td>0.0</td>\n",
       "      <td>0.0</td>\n",
       "      <td>20.0</td>\n",
       "      <td>18.0</td>\n",
       "      <td>smart</td>\n",
       "      <td>Санкт-Петербург</td>\n",
       "    </tr>\n",
       "    <tr>\n",
       "      <td>3213</td>\n",
       "      <td>1489</td>\n",
       "      <td>12.0</td>\n",
       "      <td>0.0</td>\n",
       "      <td>0.0</td>\n",
       "      <td>35.0</td>\n",
       "      <td>17.0</td>\n",
       "      <td>smart</td>\n",
       "      <td>Санкт-Петербург</td>\n",
       "    </tr>\n",
       "    <tr>\n",
       "      <td>3214</td>\n",
       "      <td>1128</td>\n",
       "      <td>0.0</td>\n",
       "      <td>0.0</td>\n",
       "      <td>0.0</td>\n",
       "      <td>0.0</td>\n",
       "      <td>0.0</td>\n",
       "      <td>ultra</td>\n",
       "      <td>Волжский</td>\n",
       "    </tr>\n",
       "    <tr>\n",
       "      <td>3215</td>\n",
       "      <td>1371</td>\n",
       "      <td>0.0</td>\n",
       "      <td>0.0</td>\n",
       "      <td>0.0</td>\n",
       "      <td>0.0</td>\n",
       "      <td>0.0</td>\n",
       "      <td>smart</td>\n",
       "      <td>Омск</td>\n",
       "    </tr>\n",
       "  </tbody>\n",
       "</table>\n",
       "<p>3216 rows × 8 columns</p>\n",
       "</div>"
      ],
      "text/plain": [
       "      user_id  month  duration  calls  messages    gb tariff             city\n",
       "0        1000    5.0     159.0   22.0      22.0   3.0  ultra        Краснодар\n",
       "1        1000    6.0     172.0   43.0      60.0  23.0  ultra        Краснодар\n",
       "2        1000    7.0     340.0   47.0      75.0  14.0  ultra        Краснодар\n",
       "3        1000    8.0     408.0   52.0      81.0  14.0  ultra        Краснодар\n",
       "4        1000    9.0     466.0   58.0      57.0  15.0  ultra        Краснодар\n",
       "...       ...    ...       ...    ...       ...   ...    ...              ...\n",
       "3211     1489   10.0       0.0    0.0      21.0  20.0  smart  Санкт-Петербург\n",
       "3212     1489   11.0       0.0    0.0      20.0  18.0  smart  Санкт-Петербург\n",
       "3213     1489   12.0       0.0    0.0      35.0  17.0  smart  Санкт-Петербург\n",
       "3214     1128    0.0       0.0    0.0       0.0   0.0  ultra         Волжский\n",
       "3215     1371    0.0       0.0    0.0       0.0   0.0  smart             Омск\n",
       "\n",
       "[3216 rows x 8 columns]"
      ]
     },
     "execution_count": 20,
     "metadata": {},
     "output_type": "execute_result"
    }
   ],
   "source": [
    "month_stat = month_stat.fillna(0)\n",
    "month_stat"
   ]
  },
  {
   "cell_type": "markdown",
   "metadata": {},
   "source": [
    "### Вычисление помесячной выручки"
   ]
  },
  {
   "cell_type": "markdown",
   "metadata": {},
   "source": [
    "Объединение данных в общий массив произведено, теперь его можно разбить на две части по тарифам, чьи показатели и будем, собственно, сравнивать"
   ]
  },
  {
   "cell_type": "code",
   "execution_count": 21,
   "metadata": {},
   "outputs": [
    {
     "data": {
      "text/html": [
       "<div>\n",
       "<style scoped>\n",
       "    .dataframe tbody tr th:only-of-type {\n",
       "        vertical-align: middle;\n",
       "    }\n",
       "\n",
       "    .dataframe tbody tr th {\n",
       "        vertical-align: top;\n",
       "    }\n",
       "\n",
       "    .dataframe thead th {\n",
       "        text-align: right;\n",
       "    }\n",
       "</style>\n",
       "<table border=\"1\" class=\"dataframe\">\n",
       "  <thead>\n",
       "    <tr style=\"text-align: right;\">\n",
       "      <th></th>\n",
       "      <th>user_id</th>\n",
       "      <th>month</th>\n",
       "      <th>duration</th>\n",
       "      <th>calls</th>\n",
       "      <th>messages</th>\n",
       "      <th>gb</th>\n",
       "      <th>tariff</th>\n",
       "      <th>city</th>\n",
       "    </tr>\n",
       "  </thead>\n",
       "  <tbody>\n",
       "    <tr>\n",
       "      <td>0</td>\n",
       "      <td>1000</td>\n",
       "      <td>5.0</td>\n",
       "      <td>159.0</td>\n",
       "      <td>22.0</td>\n",
       "      <td>22.0</td>\n",
       "      <td>3.0</td>\n",
       "      <td>ultra</td>\n",
       "      <td>Краснодар</td>\n",
       "    </tr>\n",
       "    <tr>\n",
       "      <td>1</td>\n",
       "      <td>1000</td>\n",
       "      <td>6.0</td>\n",
       "      <td>172.0</td>\n",
       "      <td>43.0</td>\n",
       "      <td>60.0</td>\n",
       "      <td>23.0</td>\n",
       "      <td>ultra</td>\n",
       "      <td>Краснодар</td>\n",
       "    </tr>\n",
       "    <tr>\n",
       "      <td>2</td>\n",
       "      <td>1000</td>\n",
       "      <td>7.0</td>\n",
       "      <td>340.0</td>\n",
       "      <td>47.0</td>\n",
       "      <td>75.0</td>\n",
       "      <td>14.0</td>\n",
       "      <td>ultra</td>\n",
       "      <td>Краснодар</td>\n",
       "    </tr>\n",
       "    <tr>\n",
       "      <td>3</td>\n",
       "      <td>1000</td>\n",
       "      <td>8.0</td>\n",
       "      <td>408.0</td>\n",
       "      <td>52.0</td>\n",
       "      <td>81.0</td>\n",
       "      <td>14.0</td>\n",
       "      <td>ultra</td>\n",
       "      <td>Краснодар</td>\n",
       "    </tr>\n",
       "    <tr>\n",
       "      <td>4</td>\n",
       "      <td>1000</td>\n",
       "      <td>9.0</td>\n",
       "      <td>466.0</td>\n",
       "      <td>58.0</td>\n",
       "      <td>57.0</td>\n",
       "      <td>15.0</td>\n",
       "      <td>ultra</td>\n",
       "      <td>Краснодар</td>\n",
       "    </tr>\n",
       "  </tbody>\n",
       "</table>\n",
       "</div>"
      ],
      "text/plain": [
       "   user_id  month  duration  calls  messages    gb tariff       city\n",
       "0     1000    5.0     159.0   22.0      22.0   3.0  ultra  Краснодар\n",
       "1     1000    6.0     172.0   43.0      60.0  23.0  ultra  Краснодар\n",
       "2     1000    7.0     340.0   47.0      75.0  14.0  ultra  Краснодар\n",
       "3     1000    8.0     408.0   52.0      81.0  14.0  ultra  Краснодар\n",
       "4     1000    9.0     466.0   58.0      57.0  15.0  ultra  Краснодар"
      ]
     },
     "metadata": {},
     "output_type": "display_data"
    },
    {
     "data": {
      "text/html": [
       "<div>\n",
       "<style scoped>\n",
       "    .dataframe tbody tr th:only-of-type {\n",
       "        vertical-align: middle;\n",
       "    }\n",
       "\n",
       "    .dataframe tbody tr th {\n",
       "        vertical-align: top;\n",
       "    }\n",
       "\n",
       "    .dataframe thead th {\n",
       "        text-align: right;\n",
       "    }\n",
       "</style>\n",
       "<table border=\"1\" class=\"dataframe\">\n",
       "  <thead>\n",
       "    <tr style=\"text-align: right;\">\n",
       "      <th></th>\n",
       "      <th>user_id</th>\n",
       "      <th>month</th>\n",
       "      <th>duration</th>\n",
       "      <th>calls</th>\n",
       "      <th>messages</th>\n",
       "      <th>gb</th>\n",
       "      <th>tariff</th>\n",
       "      <th>city</th>\n",
       "    </tr>\n",
       "  </thead>\n",
       "  <tbody>\n",
       "    <tr>\n",
       "      <td>8</td>\n",
       "      <td>1001</td>\n",
       "      <td>11.0</td>\n",
       "      <td>430.0</td>\n",
       "      <td>59.0</td>\n",
       "      <td>0.0</td>\n",
       "      <td>18.0</td>\n",
       "      <td>smart</td>\n",
       "      <td>Москва</td>\n",
       "    </tr>\n",
       "    <tr>\n",
       "      <td>9</td>\n",
       "      <td>1001</td>\n",
       "      <td>12.0</td>\n",
       "      <td>414.0</td>\n",
       "      <td>63.0</td>\n",
       "      <td>0.0</td>\n",
       "      <td>14.0</td>\n",
       "      <td>smart</td>\n",
       "      <td>Москва</td>\n",
       "    </tr>\n",
       "    <tr>\n",
       "      <td>10</td>\n",
       "      <td>1002</td>\n",
       "      <td>6.0</td>\n",
       "      <td>117.0</td>\n",
       "      <td>15.0</td>\n",
       "      <td>4.0</td>\n",
       "      <td>11.0</td>\n",
       "      <td>smart</td>\n",
       "      <td>Стерлитамак</td>\n",
       "    </tr>\n",
       "    <tr>\n",
       "      <td>11</td>\n",
       "      <td>1002</td>\n",
       "      <td>7.0</td>\n",
       "      <td>214.0</td>\n",
       "      <td>26.0</td>\n",
       "      <td>11.0</td>\n",
       "      <td>18.0</td>\n",
       "      <td>smart</td>\n",
       "      <td>Стерлитамак</td>\n",
       "    </tr>\n",
       "    <tr>\n",
       "      <td>12</td>\n",
       "      <td>1002</td>\n",
       "      <td>8.0</td>\n",
       "      <td>289.0</td>\n",
       "      <td>42.0</td>\n",
       "      <td>13.0</td>\n",
       "      <td>20.0</td>\n",
       "      <td>smart</td>\n",
       "      <td>Стерлитамак</td>\n",
       "    </tr>\n",
       "  </tbody>\n",
       "</table>\n",
       "</div>"
      ],
      "text/plain": [
       "    user_id  month  duration  calls  messages    gb tariff         city\n",
       "8      1001   11.0     430.0   59.0       0.0  18.0  smart       Москва\n",
       "9      1001   12.0     414.0   63.0       0.0  14.0  smart       Москва\n",
       "10     1002    6.0     117.0   15.0       4.0  11.0  smart  Стерлитамак\n",
       "11     1002    7.0     214.0   26.0      11.0  18.0  smart  Стерлитамак\n",
       "12     1002    8.0     289.0   42.0      13.0  20.0  smart  Стерлитамак"
      ]
     },
     "execution_count": 21,
     "metadata": {},
     "output_type": "execute_result"
    }
   ],
   "source": [
    "ultra_people = month_stat.query('tariff == \"ultra\"')\n",
    "smart_people = month_stat.query('tariff == \"smart\"')\n",
    "#проверим\n",
    "display(ultra_people.head())\n",
    "smart_people.head()"
   ]
  },
  {
   "cell_type": "markdown",
   "metadata": {},
   "source": [
    "#### Месячные расходы пользователей ultra"
   ]
  },
  {
   "cell_type": "markdown",
   "metadata": {},
   "source": [
    "Сначала определим сколько каждый пользователь использует сверх лимита, предложенного его тарифным планом."
   ]
  },
  {
   "cell_type": "code",
   "execution_count": 22,
   "metadata": {
    "scrolled": false
   },
   "outputs": [
    {
     "data": {
      "text/html": [
       "<div>\n",
       "<style scoped>\n",
       "    .dataframe tbody tr th:only-of-type {\n",
       "        vertical-align: middle;\n",
       "    }\n",
       "\n",
       "    .dataframe tbody tr th {\n",
       "        vertical-align: top;\n",
       "    }\n",
       "\n",
       "    .dataframe thead th {\n",
       "        text-align: right;\n",
       "    }\n",
       "</style>\n",
       "<table border=\"1\" class=\"dataframe\">\n",
       "  <thead>\n",
       "    <tr style=\"text-align: right;\">\n",
       "      <th></th>\n",
       "      <th>user_id</th>\n",
       "      <th>month</th>\n",
       "      <th>duration</th>\n",
       "      <th>calls</th>\n",
       "      <th>messages</th>\n",
       "      <th>gb</th>\n",
       "      <th>tariff</th>\n",
       "      <th>city</th>\n",
       "      <th>minutes_over</th>\n",
       "      <th>messages_over</th>\n",
       "      <th>gb_over</th>\n",
       "    </tr>\n",
       "  </thead>\n",
       "  <tbody>\n",
       "    <tr>\n",
       "      <td>159</td>\n",
       "      <td>1024</td>\n",
       "      <td>11.0</td>\n",
       "      <td>1146.0</td>\n",
       "      <td>157.0</td>\n",
       "      <td>0.0</td>\n",
       "      <td>43.0</td>\n",
       "      <td>ultra</td>\n",
       "      <td>Санкт-Петербург</td>\n",
       "      <td>0.0</td>\n",
       "      <td>0.0</td>\n",
       "      <td>13.0</td>\n",
       "    </tr>\n",
       "    <tr>\n",
       "      <td>160</td>\n",
       "      <td>1024</td>\n",
       "      <td>12.0</td>\n",
       "      <td>949.0</td>\n",
       "      <td>136.0</td>\n",
       "      <td>0.0</td>\n",
       "      <td>36.0</td>\n",
       "      <td>ultra</td>\n",
       "      <td>Санкт-Петербург</td>\n",
       "      <td>0.0</td>\n",
       "      <td>0.0</td>\n",
       "      <td>6.0</td>\n",
       "    </tr>\n",
       "    <tr>\n",
       "      <td>311</td>\n",
       "      <td>1050</td>\n",
       "      <td>7.0</td>\n",
       "      <td>209.0</td>\n",
       "      <td>35.0</td>\n",
       "      <td>52.0</td>\n",
       "      <td>35.0</td>\n",
       "      <td>ultra</td>\n",
       "      <td>Тюмень</td>\n",
       "      <td>0.0</td>\n",
       "      <td>0.0</td>\n",
       "      <td>5.0</td>\n",
       "    </tr>\n",
       "    <tr>\n",
       "      <td>383</td>\n",
       "      <td>1060</td>\n",
       "      <td>12.0</td>\n",
       "      <td>1233.0</td>\n",
       "      <td>184.0</td>\n",
       "      <td>52.0</td>\n",
       "      <td>43.0</td>\n",
       "      <td>ultra</td>\n",
       "      <td>Калуга</td>\n",
       "      <td>0.0</td>\n",
       "      <td>0.0</td>\n",
       "      <td>13.0</td>\n",
       "    </tr>\n",
       "    <tr>\n",
       "      <td>782</td>\n",
       "      <td>1124</td>\n",
       "      <td>10.0</td>\n",
       "      <td>1225.0</td>\n",
       "      <td>152.0</td>\n",
       "      <td>121.0</td>\n",
       "      <td>49.0</td>\n",
       "      <td>ultra</td>\n",
       "      <td>Махачкала</td>\n",
       "      <td>0.0</td>\n",
       "      <td>0.0</td>\n",
       "      <td>19.0</td>\n",
       "    </tr>\n",
       "    <tr>\n",
       "      <td>...</td>\n",
       "      <td>...</td>\n",
       "      <td>...</td>\n",
       "      <td>...</td>\n",
       "      <td>...</td>\n",
       "      <td>...</td>\n",
       "      <td>...</td>\n",
       "      <td>...</td>\n",
       "      <td>...</td>\n",
       "      <td>...</td>\n",
       "      <td>...</td>\n",
       "      <td>...</td>\n",
       "    </tr>\n",
       "    <tr>\n",
       "      <td>3197</td>\n",
       "      <td>1231</td>\n",
       "      <td>9.0</td>\n",
       "      <td>0.0</td>\n",
       "      <td>0.0</td>\n",
       "      <td>188.0</td>\n",
       "      <td>33.0</td>\n",
       "      <td>ultra</td>\n",
       "      <td>Чебоксары</td>\n",
       "      <td>0.0</td>\n",
       "      <td>0.0</td>\n",
       "      <td>3.0</td>\n",
       "    </tr>\n",
       "    <tr>\n",
       "      <td>3198</td>\n",
       "      <td>1231</td>\n",
       "      <td>10.0</td>\n",
       "      <td>0.0</td>\n",
       "      <td>0.0</td>\n",
       "      <td>185.0</td>\n",
       "      <td>31.0</td>\n",
       "      <td>ultra</td>\n",
       "      <td>Чебоксары</td>\n",
       "      <td>0.0</td>\n",
       "      <td>0.0</td>\n",
       "      <td>1.0</td>\n",
       "    </tr>\n",
       "    <tr>\n",
       "      <td>3200</td>\n",
       "      <td>1231</td>\n",
       "      <td>12.0</td>\n",
       "      <td>0.0</td>\n",
       "      <td>0.0</td>\n",
       "      <td>191.0</td>\n",
       "      <td>32.0</td>\n",
       "      <td>ultra</td>\n",
       "      <td>Чебоксары</td>\n",
       "      <td>0.0</td>\n",
       "      <td>0.0</td>\n",
       "      <td>2.0</td>\n",
       "    </tr>\n",
       "    <tr>\n",
       "      <td>3202</td>\n",
       "      <td>1328</td>\n",
       "      <td>11.0</td>\n",
       "      <td>0.0</td>\n",
       "      <td>0.0</td>\n",
       "      <td>8.0</td>\n",
       "      <td>35.0</td>\n",
       "      <td>ultra</td>\n",
       "      <td>Мурманск</td>\n",
       "      <td>0.0</td>\n",
       "      <td>0.0</td>\n",
       "      <td>5.0</td>\n",
       "    </tr>\n",
       "    <tr>\n",
       "      <td>3203</td>\n",
       "      <td>1328</td>\n",
       "      <td>12.0</td>\n",
       "      <td>0.0</td>\n",
       "      <td>0.0</td>\n",
       "      <td>7.0</td>\n",
       "      <td>39.0</td>\n",
       "      <td>ultra</td>\n",
       "      <td>Мурманск</td>\n",
       "      <td>0.0</td>\n",
       "      <td>0.0</td>\n",
       "      <td>9.0</td>\n",
       "    </tr>\n",
       "  </tbody>\n",
       "</table>\n",
       "<p>134 rows × 11 columns</p>\n",
       "</div>"
      ],
      "text/plain": [
       "      user_id  month  duration  calls  messages    gb tariff             city  \\\n",
       "159      1024   11.0    1146.0  157.0       0.0  43.0  ultra  Санкт-Петербург   \n",
       "160      1024   12.0     949.0  136.0       0.0  36.0  ultra  Санкт-Петербург   \n",
       "311      1050    7.0     209.0   35.0      52.0  35.0  ultra           Тюмень   \n",
       "383      1060   12.0    1233.0  184.0      52.0  43.0  ultra           Калуга   \n",
       "782      1124   10.0    1225.0  152.0     121.0  49.0  ultra        Махачкала   \n",
       "...       ...    ...       ...    ...       ...   ...    ...              ...   \n",
       "3197     1231    9.0       0.0    0.0     188.0  33.0  ultra        Чебоксары   \n",
       "3198     1231   10.0       0.0    0.0     185.0  31.0  ultra        Чебоксары   \n",
       "3200     1231   12.0       0.0    0.0     191.0  32.0  ultra        Чебоксары   \n",
       "3202     1328   11.0       0.0    0.0       8.0  35.0  ultra         Мурманск   \n",
       "3203     1328   12.0       0.0    0.0       7.0  39.0  ultra         Мурманск   \n",
       "\n",
       "      minutes_over  messages_over  gb_over  \n",
       "159            0.0            0.0     13.0  \n",
       "160            0.0            0.0      6.0  \n",
       "311            0.0            0.0      5.0  \n",
       "383            0.0            0.0     13.0  \n",
       "782            0.0            0.0     19.0  \n",
       "...            ...            ...      ...  \n",
       "3197           0.0            0.0      3.0  \n",
       "3198           0.0            0.0      1.0  \n",
       "3200           0.0            0.0      2.0  \n",
       "3202           0.0            0.0      5.0  \n",
       "3203           0.0            0.0      9.0  \n",
       "\n",
       "[134 rows x 11 columns]"
      ]
     },
     "execution_count": 22,
     "metadata": {},
     "output_type": "execute_result"
    }
   ],
   "source": [
    "ultra_people['minutes_over'] = ultra_people['duration'] - tariffs_df.loc[1, 'minutes_included']\n",
    "ultra_people['messages_over'] = ultra_people['messages'] - tariffs_df.loc[1, 'messages_included']\n",
    "ultra_people['gb_over'] = ultra_people['gb'] - tariffs_df.loc[1, 'gb_per_month_included']\n",
    "#там, где перерасхода не случилось, надо оставить ноль вместо отрицательных значений - заменим выборочно\n",
    "ultra_people['minutes_over'] = ultra_people['minutes_over'].where(ultra_people['minutes_over'] > 0, 0)\n",
    "ultra_people['messages_over'] = ultra_people['messages_over'].where(ultra_people['messages_over'] > 0, 0)\n",
    "ultra_people['gb_over'] = ultra_people['gb_over'].where(ultra_people['gb_over'] > 0, 0)\n",
    "#проверим\n",
    "ultra_people.query('minutes_over > 0 or messages_over > 0 or gb_over > 0')"
   ]
  },
  {
   "cell_type": "markdown",
   "metadata": {},
   "source": [
    "Похоже, на ultra люди в основном перерасходуют интернет. Осталось посчитать счет за месяц для каждого пользователя"
   ]
  },
  {
   "cell_type": "code",
   "execution_count": 23,
   "metadata": {},
   "outputs": [
    {
     "data": {
      "text/html": [
       "<div>\n",
       "<style scoped>\n",
       "    .dataframe tbody tr th:only-of-type {\n",
       "        vertical-align: middle;\n",
       "    }\n",
       "\n",
       "    .dataframe tbody tr th {\n",
       "        vertical-align: top;\n",
       "    }\n",
       "\n",
       "    .dataframe thead th {\n",
       "        text-align: right;\n",
       "    }\n",
       "</style>\n",
       "<table border=\"1\" class=\"dataframe\">\n",
       "  <thead>\n",
       "    <tr style=\"text-align: right;\">\n",
       "      <th></th>\n",
       "      <th>user_id</th>\n",
       "      <th>month</th>\n",
       "      <th>duration</th>\n",
       "      <th>calls</th>\n",
       "      <th>messages</th>\n",
       "      <th>gb</th>\n",
       "      <th>tariff</th>\n",
       "      <th>city</th>\n",
       "      <th>minutes_over</th>\n",
       "      <th>messages_over</th>\n",
       "      <th>gb_over</th>\n",
       "      <th>payment</th>\n",
       "    </tr>\n",
       "  </thead>\n",
       "  <tbody>\n",
       "    <tr>\n",
       "      <td>159</td>\n",
       "      <td>1024</td>\n",
       "      <td>11.0</td>\n",
       "      <td>1146.0</td>\n",
       "      <td>157.0</td>\n",
       "      <td>0.0</td>\n",
       "      <td>43.0</td>\n",
       "      <td>ultra</td>\n",
       "      <td>Санкт-Петербург</td>\n",
       "      <td>0.0</td>\n",
       "      <td>0.0</td>\n",
       "      <td>13.0</td>\n",
       "      <td>3900.0</td>\n",
       "    </tr>\n",
       "    <tr>\n",
       "      <td>160</td>\n",
       "      <td>1024</td>\n",
       "      <td>12.0</td>\n",
       "      <td>949.0</td>\n",
       "      <td>136.0</td>\n",
       "      <td>0.0</td>\n",
       "      <td>36.0</td>\n",
       "      <td>ultra</td>\n",
       "      <td>Санкт-Петербург</td>\n",
       "      <td>0.0</td>\n",
       "      <td>0.0</td>\n",
       "      <td>6.0</td>\n",
       "      <td>2850.0</td>\n",
       "    </tr>\n",
       "    <tr>\n",
       "      <td>311</td>\n",
       "      <td>1050</td>\n",
       "      <td>7.0</td>\n",
       "      <td>209.0</td>\n",
       "      <td>35.0</td>\n",
       "      <td>52.0</td>\n",
       "      <td>35.0</td>\n",
       "      <td>ultra</td>\n",
       "      <td>Тюмень</td>\n",
       "      <td>0.0</td>\n",
       "      <td>0.0</td>\n",
       "      <td>5.0</td>\n",
       "      <td>2700.0</td>\n",
       "    </tr>\n",
       "    <tr>\n",
       "      <td>383</td>\n",
       "      <td>1060</td>\n",
       "      <td>12.0</td>\n",
       "      <td>1233.0</td>\n",
       "      <td>184.0</td>\n",
       "      <td>52.0</td>\n",
       "      <td>43.0</td>\n",
       "      <td>ultra</td>\n",
       "      <td>Калуга</td>\n",
       "      <td>0.0</td>\n",
       "      <td>0.0</td>\n",
       "      <td>13.0</td>\n",
       "      <td>3900.0</td>\n",
       "    </tr>\n",
       "    <tr>\n",
       "      <td>782</td>\n",
       "      <td>1124</td>\n",
       "      <td>10.0</td>\n",
       "      <td>1225.0</td>\n",
       "      <td>152.0</td>\n",
       "      <td>121.0</td>\n",
       "      <td>49.0</td>\n",
       "      <td>ultra</td>\n",
       "      <td>Махачкала</td>\n",
       "      <td>0.0</td>\n",
       "      <td>0.0</td>\n",
       "      <td>19.0</td>\n",
       "      <td>4800.0</td>\n",
       "    </tr>\n",
       "    <tr>\n",
       "      <td>...</td>\n",
       "      <td>...</td>\n",
       "      <td>...</td>\n",
       "      <td>...</td>\n",
       "      <td>...</td>\n",
       "      <td>...</td>\n",
       "      <td>...</td>\n",
       "      <td>...</td>\n",
       "      <td>...</td>\n",
       "      <td>...</td>\n",
       "      <td>...</td>\n",
       "      <td>...</td>\n",
       "      <td>...</td>\n",
       "    </tr>\n",
       "    <tr>\n",
       "      <td>3197</td>\n",
       "      <td>1231</td>\n",
       "      <td>9.0</td>\n",
       "      <td>0.0</td>\n",
       "      <td>0.0</td>\n",
       "      <td>188.0</td>\n",
       "      <td>33.0</td>\n",
       "      <td>ultra</td>\n",
       "      <td>Чебоксары</td>\n",
       "      <td>0.0</td>\n",
       "      <td>0.0</td>\n",
       "      <td>3.0</td>\n",
       "      <td>2400.0</td>\n",
       "    </tr>\n",
       "    <tr>\n",
       "      <td>3198</td>\n",
       "      <td>1231</td>\n",
       "      <td>10.0</td>\n",
       "      <td>0.0</td>\n",
       "      <td>0.0</td>\n",
       "      <td>185.0</td>\n",
       "      <td>31.0</td>\n",
       "      <td>ultra</td>\n",
       "      <td>Чебоксары</td>\n",
       "      <td>0.0</td>\n",
       "      <td>0.0</td>\n",
       "      <td>1.0</td>\n",
       "      <td>2100.0</td>\n",
       "    </tr>\n",
       "    <tr>\n",
       "      <td>3200</td>\n",
       "      <td>1231</td>\n",
       "      <td>12.0</td>\n",
       "      <td>0.0</td>\n",
       "      <td>0.0</td>\n",
       "      <td>191.0</td>\n",
       "      <td>32.0</td>\n",
       "      <td>ultra</td>\n",
       "      <td>Чебоксары</td>\n",
       "      <td>0.0</td>\n",
       "      <td>0.0</td>\n",
       "      <td>2.0</td>\n",
       "      <td>2250.0</td>\n",
       "    </tr>\n",
       "    <tr>\n",
       "      <td>3202</td>\n",
       "      <td>1328</td>\n",
       "      <td>11.0</td>\n",
       "      <td>0.0</td>\n",
       "      <td>0.0</td>\n",
       "      <td>8.0</td>\n",
       "      <td>35.0</td>\n",
       "      <td>ultra</td>\n",
       "      <td>Мурманск</td>\n",
       "      <td>0.0</td>\n",
       "      <td>0.0</td>\n",
       "      <td>5.0</td>\n",
       "      <td>2700.0</td>\n",
       "    </tr>\n",
       "    <tr>\n",
       "      <td>3203</td>\n",
       "      <td>1328</td>\n",
       "      <td>12.0</td>\n",
       "      <td>0.0</td>\n",
       "      <td>0.0</td>\n",
       "      <td>7.0</td>\n",
       "      <td>39.0</td>\n",
       "      <td>ultra</td>\n",
       "      <td>Мурманск</td>\n",
       "      <td>0.0</td>\n",
       "      <td>0.0</td>\n",
       "      <td>9.0</td>\n",
       "      <td>3300.0</td>\n",
       "    </tr>\n",
       "  </tbody>\n",
       "</table>\n",
       "<p>134 rows × 12 columns</p>\n",
       "</div>"
      ],
      "text/plain": [
       "      user_id  month  duration  calls  messages    gb tariff             city  \\\n",
       "159      1024   11.0    1146.0  157.0       0.0  43.0  ultra  Санкт-Петербург   \n",
       "160      1024   12.0     949.0  136.0       0.0  36.0  ultra  Санкт-Петербург   \n",
       "311      1050    7.0     209.0   35.0      52.0  35.0  ultra           Тюмень   \n",
       "383      1060   12.0    1233.0  184.0      52.0  43.0  ultra           Калуга   \n",
       "782      1124   10.0    1225.0  152.0     121.0  49.0  ultra        Махачкала   \n",
       "...       ...    ...       ...    ...       ...   ...    ...              ...   \n",
       "3197     1231    9.0       0.0    0.0     188.0  33.0  ultra        Чебоксары   \n",
       "3198     1231   10.0       0.0    0.0     185.0  31.0  ultra        Чебоксары   \n",
       "3200     1231   12.0       0.0    0.0     191.0  32.0  ultra        Чебоксары   \n",
       "3202     1328   11.0       0.0    0.0       8.0  35.0  ultra         Мурманск   \n",
       "3203     1328   12.0       0.0    0.0       7.0  39.0  ultra         Мурманск   \n",
       "\n",
       "      minutes_over  messages_over  gb_over  payment  \n",
       "159            0.0            0.0     13.0   3900.0  \n",
       "160            0.0            0.0      6.0   2850.0  \n",
       "311            0.0            0.0      5.0   2700.0  \n",
       "383            0.0            0.0     13.0   3900.0  \n",
       "782            0.0            0.0     19.0   4800.0  \n",
       "...            ...            ...      ...      ...  \n",
       "3197           0.0            0.0      3.0   2400.0  \n",
       "3198           0.0            0.0      1.0   2100.0  \n",
       "3200           0.0            0.0      2.0   2250.0  \n",
       "3202           0.0            0.0      5.0   2700.0  \n",
       "3203           0.0            0.0      9.0   3300.0  \n",
       "\n",
       "[134 rows x 12 columns]"
      ]
     },
     "execution_count": 23,
     "metadata": {},
     "output_type": "execute_result"
    }
   ],
   "source": [
    "ultra_people['payment'] = (tariffs_df.loc[1, 'rub_monthly_fee'] + \n",
    "                           ultra_people['minutes_over'] * tariffs_df.loc[1, 'rub_per_minute'] + \n",
    "                           ultra_people['messages_over'] * tariffs_df.loc[1,'rub_per_message'] +\n",
    "                           ultra_people['gb_over'] * tariffs_df.loc[1,'rub_per_gb'])\n",
    "#проверим (посмотрим на траты сверх тарифа)\n",
    "ultra_people.query('payment > 1950')"
   ]
  },
  {
   "cell_type": "markdown",
   "metadata": {},
   "source": [
    "#### Месячные расходы пользователей smart"
   ]
  },
  {
   "cell_type": "markdown",
   "metadata": {},
   "source": [
    "Теперь проделаем все то же самое для другого тарифа"
   ]
  },
  {
   "cell_type": "code",
   "execution_count": 24,
   "metadata": {},
   "outputs": [
    {
     "data": {
      "text/html": [
       "<div>\n",
       "<style scoped>\n",
       "    .dataframe tbody tr th:only-of-type {\n",
       "        vertical-align: middle;\n",
       "    }\n",
       "\n",
       "    .dataframe tbody tr th {\n",
       "        vertical-align: top;\n",
       "    }\n",
       "\n",
       "    .dataframe thead th {\n",
       "        text-align: right;\n",
       "    }\n",
       "</style>\n",
       "<table border=\"1\" class=\"dataframe\">\n",
       "  <thead>\n",
       "    <tr style=\"text-align: right;\">\n",
       "      <th></th>\n",
       "      <th>user_id</th>\n",
       "      <th>month</th>\n",
       "      <th>duration</th>\n",
       "      <th>calls</th>\n",
       "      <th>messages</th>\n",
       "      <th>gb</th>\n",
       "      <th>tariff</th>\n",
       "      <th>city</th>\n",
       "      <th>minutes_over</th>\n",
       "      <th>messages_over</th>\n",
       "      <th>gb_over</th>\n",
       "      <th>payment</th>\n",
       "    </tr>\n",
       "  </thead>\n",
       "  <tbody>\n",
       "    <tr>\n",
       "      <td>8</td>\n",
       "      <td>1001</td>\n",
       "      <td>11.0</td>\n",
       "      <td>430.0</td>\n",
       "      <td>59.0</td>\n",
       "      <td>0.0</td>\n",
       "      <td>18.0</td>\n",
       "      <td>smart</td>\n",
       "      <td>Москва</td>\n",
       "      <td>0.0</td>\n",
       "      <td>0.0</td>\n",
       "      <td>3.0</td>\n",
       "      <td>1150.0</td>\n",
       "    </tr>\n",
       "    <tr>\n",
       "      <td>11</td>\n",
       "      <td>1002</td>\n",
       "      <td>7.0</td>\n",
       "      <td>214.0</td>\n",
       "      <td>26.0</td>\n",
       "      <td>11.0</td>\n",
       "      <td>18.0</td>\n",
       "      <td>smart</td>\n",
       "      <td>Стерлитамак</td>\n",
       "      <td>0.0</td>\n",
       "      <td>0.0</td>\n",
       "      <td>3.0</td>\n",
       "      <td>1150.0</td>\n",
       "    </tr>\n",
       "    <tr>\n",
       "      <td>12</td>\n",
       "      <td>1002</td>\n",
       "      <td>8.0</td>\n",
       "      <td>289.0</td>\n",
       "      <td>42.0</td>\n",
       "      <td>13.0</td>\n",
       "      <td>20.0</td>\n",
       "      <td>smart</td>\n",
       "      <td>Стерлитамак</td>\n",
       "      <td>0.0</td>\n",
       "      <td>0.0</td>\n",
       "      <td>5.0</td>\n",
       "      <td>1550.0</td>\n",
       "    </tr>\n",
       "    <tr>\n",
       "      <td>13</td>\n",
       "      <td>1002</td>\n",
       "      <td>9.0</td>\n",
       "      <td>206.0</td>\n",
       "      <td>36.0</td>\n",
       "      <td>4.0</td>\n",
       "      <td>17.0</td>\n",
       "      <td>smart</td>\n",
       "      <td>Стерлитамак</td>\n",
       "      <td>0.0</td>\n",
       "      <td>0.0</td>\n",
       "      <td>2.0</td>\n",
       "      <td>950.0</td>\n",
       "    </tr>\n",
       "    <tr>\n",
       "      <td>15</td>\n",
       "      <td>1002</td>\n",
       "      <td>11.0</td>\n",
       "      <td>243.0</td>\n",
       "      <td>32.0</td>\n",
       "      <td>16.0</td>\n",
       "      <td>19.0</td>\n",
       "      <td>smart</td>\n",
       "      <td>Стерлитамак</td>\n",
       "      <td>0.0</td>\n",
       "      <td>0.0</td>\n",
       "      <td>4.0</td>\n",
       "      <td>1350.0</td>\n",
       "    </tr>\n",
       "    <tr>\n",
       "      <td>...</td>\n",
       "      <td>...</td>\n",
       "      <td>...</td>\n",
       "      <td>...</td>\n",
       "      <td>...</td>\n",
       "      <td>...</td>\n",
       "      <td>...</td>\n",
       "      <td>...</td>\n",
       "      <td>...</td>\n",
       "      <td>...</td>\n",
       "      <td>...</td>\n",
       "      <td>...</td>\n",
       "      <td>...</td>\n",
       "    </tr>\n",
       "    <tr>\n",
       "      <td>3175</td>\n",
       "      <td>1499</td>\n",
       "      <td>12.0</td>\n",
       "      <td>492.0</td>\n",
       "      <td>69.0</td>\n",
       "      <td>66.0</td>\n",
       "      <td>13.0</td>\n",
       "      <td>smart</td>\n",
       "      <td>Пермь</td>\n",
       "      <td>0.0</td>\n",
       "      <td>16.0</td>\n",
       "      <td>0.0</td>\n",
       "      <td>598.0</td>\n",
       "    </tr>\n",
       "    <tr>\n",
       "      <td>3210</td>\n",
       "      <td>1489</td>\n",
       "      <td>9.0</td>\n",
       "      <td>0.0</td>\n",
       "      <td>0.0</td>\n",
       "      <td>32.0</td>\n",
       "      <td>17.0</td>\n",
       "      <td>smart</td>\n",
       "      <td>Санкт-Петербург</td>\n",
       "      <td>0.0</td>\n",
       "      <td>0.0</td>\n",
       "      <td>2.0</td>\n",
       "      <td>950.0</td>\n",
       "    </tr>\n",
       "    <tr>\n",
       "      <td>3211</td>\n",
       "      <td>1489</td>\n",
       "      <td>10.0</td>\n",
       "      <td>0.0</td>\n",
       "      <td>0.0</td>\n",
       "      <td>21.0</td>\n",
       "      <td>20.0</td>\n",
       "      <td>smart</td>\n",
       "      <td>Санкт-Петербург</td>\n",
       "      <td>0.0</td>\n",
       "      <td>0.0</td>\n",
       "      <td>5.0</td>\n",
       "      <td>1550.0</td>\n",
       "    </tr>\n",
       "    <tr>\n",
       "      <td>3212</td>\n",
       "      <td>1489</td>\n",
       "      <td>11.0</td>\n",
       "      <td>0.0</td>\n",
       "      <td>0.0</td>\n",
       "      <td>20.0</td>\n",
       "      <td>18.0</td>\n",
       "      <td>smart</td>\n",
       "      <td>Санкт-Петербург</td>\n",
       "      <td>0.0</td>\n",
       "      <td>0.0</td>\n",
       "      <td>3.0</td>\n",
       "      <td>1150.0</td>\n",
       "    </tr>\n",
       "    <tr>\n",
       "      <td>3213</td>\n",
       "      <td>1489</td>\n",
       "      <td>12.0</td>\n",
       "      <td>0.0</td>\n",
       "      <td>0.0</td>\n",
       "      <td>35.0</td>\n",
       "      <td>17.0</td>\n",
       "      <td>smart</td>\n",
       "      <td>Санкт-Петербург</td>\n",
       "      <td>0.0</td>\n",
       "      <td>0.0</td>\n",
       "      <td>2.0</td>\n",
       "      <td>950.0</td>\n",
       "    </tr>\n",
       "  </tbody>\n",
       "</table>\n",
       "<p>1662 rows × 12 columns</p>\n",
       "</div>"
      ],
      "text/plain": [
       "      user_id  month  duration  calls  messages    gb tariff             city  \\\n",
       "8        1001   11.0     430.0   59.0       0.0  18.0  smart           Москва   \n",
       "11       1002    7.0     214.0   26.0      11.0  18.0  smart      Стерлитамак   \n",
       "12       1002    8.0     289.0   42.0      13.0  20.0  smart      Стерлитамак   \n",
       "13       1002    9.0     206.0   36.0       4.0  17.0  smart      Стерлитамак   \n",
       "15       1002   11.0     243.0   32.0      16.0  19.0  smart      Стерлитамак   \n",
       "...       ...    ...       ...    ...       ...   ...    ...              ...   \n",
       "3175     1499   12.0     492.0   69.0      66.0  13.0  smart            Пермь   \n",
       "3210     1489    9.0       0.0    0.0      32.0  17.0  smart  Санкт-Петербург   \n",
       "3211     1489   10.0       0.0    0.0      21.0  20.0  smart  Санкт-Петербург   \n",
       "3212     1489   11.0       0.0    0.0      20.0  18.0  smart  Санкт-Петербург   \n",
       "3213     1489   12.0       0.0    0.0      35.0  17.0  smart  Санкт-Петербург   \n",
       "\n",
       "      minutes_over  messages_over  gb_over  payment  \n",
       "8              0.0            0.0      3.0   1150.0  \n",
       "11             0.0            0.0      3.0   1150.0  \n",
       "12             0.0            0.0      5.0   1550.0  \n",
       "13             0.0            0.0      2.0    950.0  \n",
       "15             0.0            0.0      4.0   1350.0  \n",
       "...            ...            ...      ...      ...  \n",
       "3175           0.0           16.0      0.0    598.0  \n",
       "3210           0.0            0.0      2.0    950.0  \n",
       "3211           0.0            0.0      5.0   1550.0  \n",
       "3212           0.0            0.0      3.0   1150.0  \n",
       "3213           0.0            0.0      2.0    950.0  \n",
       "\n",
       "[1662 rows x 12 columns]"
      ]
     },
     "execution_count": 24,
     "metadata": {},
     "output_type": "execute_result"
    }
   ],
   "source": [
    "smart_people['minutes_over'] = smart_people['duration'] - tariffs_df.loc[0, 'minutes_included']\n",
    "smart_people['messages_over'] = smart_people['messages'] - tariffs_df.loc[0, 'messages_included']\n",
    "smart_people['gb_over'] = smart_people['gb'] - tariffs_df.loc[0, 'gb_per_month_included']\n",
    "#там, где перерасхода не случилось, надо оставить ноль вместо отрицательных значений - заменим выборочно\n",
    "smart_people['minutes_over'] = smart_people['minutes_over'].where(smart_people['minutes_over'] > 0, 0)\n",
    "smart_people['messages_over'] = smart_people['messages_over'].where(smart_people['messages_over'] > 0, 0)\n",
    "smart_people['gb_over'] = smart_people['gb_over'].where(smart_people['gb_over'] > 0, 0)\n",
    "smart_people['payment'] = (tariffs_df.loc[0, 'rub_monthly_fee'] + \n",
    "                           smart_people['minutes_over'] * tariffs_df.loc[0, 'rub_per_minute'] + \n",
    "                           smart_people['messages_over'] * tariffs_df.loc[0,'rub_per_message'] +\n",
    "                           smart_people['gb_over'] * tariffs_df.loc[0,'rub_per_gb'])\n",
    "#проверим\n",
    "smart_people.query('payment > 550')"
   ]
  },
  {
   "cell_type": "markdown",
   "metadata": {},
   "source": [
    "Кажется, в этом тарифе людей, превышающих лимиты, гораздо больше"
   ]
  },
  {
   "cell_type": "markdown",
   "metadata": {},
   "source": [
    "## Анализ данных"
   ]
  },
  {
   "cell_type": "markdown",
   "metadata": {},
   "source": [
    "Посмотрим на средние показатели для пользователей двух тарифов"
   ]
  },
  {
   "cell_type": "markdown",
   "metadata": {},
   "source": [
    "### Длительность разговора"
   ]
  },
  {
   "cell_type": "markdown",
   "metadata": {},
   "source": [
    "Посмотрим данные о длительности разговоров на двух тарифах, а также посчитаем их дисперсию"
   ]
  },
  {
   "cell_type": "code",
   "execution_count": 25,
   "metadata": {},
   "outputs": [
    {
     "name": "stdout",
     "output_type": "stream",
     "text": [
      "count     986.000000\n",
      "mean      526.089249\n",
      "std       317.887549\n",
      "min         0.000000\n",
      "25%       282.500000\n",
      "50%       518.000000\n",
      "75%       751.750000\n",
      "max      1673.000000\n",
      "Name: duration, dtype: float64\n",
      "count    2230.000000\n",
      "mean      417.747534\n",
      "std       190.476754\n",
      "min         0.000000\n",
      "25%       282.000000\n",
      "50%       421.500000\n",
      "75%       545.000000\n",
      "max      1435.000000\n",
      "Name: duration, dtype: float64\n",
      "Дисперсия для длительности тарифа ultra 100950.00623331097\n",
      "Дисперсия для длительности тарифа smart 36265.12415310985\n"
     ]
    }
   ],
   "source": [
    "print(ultra_people['duration'].describe())\n",
    "print(smart_people['duration'].describe())\n",
    "print('Дисперсия для длительности тарифа ultra', np.var(ultra_people['duration']))\n",
    "print('Дисперсия для длительности тарифа smart', np.var(smart_people['duration']))"
   ]
  },
  {
   "cell_type": "markdown",
   "metadata": {},
   "source": [
    "- В среднем пользователю на тарифе ultra, по данным выборки, требуется 526 минут в месяц, а на тарифе smart - 417 минут.\n",
    "- Стандратное отклонение для ultra - 317.887549 минут, а для smart - 190.476754, дисперсия - 100950.00623331097 и 36265.12415310985 соответственно. Это говорит о том, чо на тарифе ultra распределение более плавное, разброс значений гораздо больше, т.е. существует \"хвост\" пользователей, которые говорят существенно дольше, чем на smart. \n",
    "- При этом пользователи ultra не выходят, судя по маскимальному значению 1673 минуты, за границы включенного в тариф пакета, в то время, как на smart граница третьего квартиля лишь чуть-чуть уступает объему включенного пакета в 550 минут, т.е. чуть меньше 25% пользователей превышают лимит\n",
    "- Набор для ultra скошен вправо (среднее чуть больше медианы), а для smart, наоборот, влево (медиана больше среднего). Но тут нужно учитывать, что в обоих наборах есть непринятые нулевые звонки.\n",
    "\n",
    "Построим гистограммы для всего описанного."
   ]
  },
  {
   "cell_type": "code",
   "execution_count": 26,
   "metadata": {
    "scrolled": false
   },
   "outputs": [
    {
     "data": {
      "image/png": "[encoded data removed]",
      "text/plain": [
       "<Figure size 1080x720 with 1 Axes>"
      ]
     },
     "metadata": {
      "needs_background": "light"
     },
     "output_type": "display_data"
    }
   ],
   "source": [
    "ultra_people['duration'].hist(bins = 50, figsize = (15, 10), alpha = 0.5)\n",
    "smart_people['duration'].hist(bins = 50, figsize = (15, 10), alpha = 0.5)\n",
    "plt.show()"
   ]
  },
  {
   "cell_type": "markdown",
   "metadata": {},
   "source": [
    "Гистограммы подтверждают описанное выше. В обоих случаях гистограммы имеют некоторую скошенность: для тарифа смарт гистограмма плавнее слева, а для ультра - справа. Слева, разумеется, обе гистограммы упираются в 0 - отрицательного значения длительности быть не может. Соответственно, высокое число разговоров около нуля - не следствие очень коротких звонков, а следствие непринятых. Это можно проверить, построив те же гистограммы без неприянтых звонков "
   ]
  },
  {
   "cell_type": "code",
   "execution_count": 27,
   "metadata": {},
   "outputs": [
    {
     "data": {
      "image/png": "[encoded data removed]",
      "text/plain": [
       "<Figure size 1080x720 with 1 Axes>"
      ]
     },
     "metadata": {
      "needs_background": "light"
     },
     "output_type": "display_data"
    }
   ],
   "source": [
    "ultra_people.query('duration != 0')['duration'].hist(bins = 50, figsize = (15, 10), alpha = 0.5)\n",
    "smart_people.query('duration != 0')['duration'].hist(bins = 50, figsize = (15, 10), alpha = 0.5)\n",
    "plt.show()"
   ]
  },
  {
   "cell_type": "markdown",
   "metadata": {},
   "source": [
    "Как и следовало ожидать, высокие столбики слева исчезли, остались только действительно существовавшие, но короткие разговоры"
   ]
  },
  {
   "cell_type": "markdown",
   "metadata": {},
   "source": [
    "### Количество сообщений"
   ]
  },
  {
   "cell_type": "code",
   "execution_count": 28,
   "metadata": {},
   "outputs": [
    {
     "name": "stdout",
     "output_type": "stream",
     "text": [
      "count    986.000000\n",
      "mean      49.313387\n",
      "std       47.806040\n",
      "min        0.000000\n",
      "25%        6.000000\n",
      "50%       38.000000\n",
      "75%       78.750000\n",
      "max      224.000000\n",
      "Name: messages, dtype: float64\n",
      "count    2230.000000\n",
      "mean       33.369058\n",
      "std        28.230396\n",
      "min         0.000000\n",
      "25%        10.000000\n",
      "50%        28.000000\n",
      "75%        51.000000\n",
      "max       143.000000\n",
      "Name: messages, dtype: float64\n",
      "Дисперсия для месячного количества сообщений тарифа ultra 2283.0995570851965\n",
      "Дисперсия для месячного количества сообщений тарифа smart 796.5978766916688\n"
     ]
    }
   ],
   "source": [
    "print(ultra_people['messages'].describe())\n",
    "print(smart_people['messages'].describe())\n",
    "print('Дисперсия для месячного количества сообщений тарифа ultra', np.var(ultra_people['messages']))\n",
    "print('Дисперсия для месячного количества сообщений тарифа smart', np.var(smart_people['messages']))"
   ]
  },
  {
   "cell_type": "markdown",
   "metadata": {},
   "source": [
    "- Для тарифа \"Ультра\" среднее число сообщений - 49.313387, а для \"Смарт\" - 33.369058\n",
    "- Стандартное отклонение для \"Ультра\" - 47.806040, для \"Смарт\" - 28.230396, дисперсия - 2283.0995570851965 и 796.5978766916688, соответственно. Как и в случае со звонками, это показывает, что распределение количества сообщений по выборке для тарифа \"Смарт\" гораздо шире\n",
    "- В отличие от длительности звонков в случае с сообщениями оба графика скошены вправо - разброс бОльших чем среднее значение довольно большой\n",
    "- При этом довольно много людей в выборке обоих тарифов отправляет довольно мало сообщений в месяц - первые квартили заканичаются на 6 сообщениях для \"Ультра\" и 10 для \"Смарта\". Построим гистограммы."
   ]
  },
  {
   "cell_type": "code",
   "execution_count": 29,
   "metadata": {
    "scrolled": false
   },
   "outputs": [
    {
     "data": {
      "image/png": "[encoded data removed]",
      "text/plain": [
       "<Figure size 1080x720 with 1 Axes>"
      ]
     },
     "metadata": {
      "needs_background": "light"
     },
     "output_type": "display_data"
    }
   ],
   "source": [
    "ultra_people['messages'].hist(bins = 30, figsize = (15, 10), alpha = 0.5)\n",
    "smart_people['messages'].hist(bins = 30, figsize = (15, 10), alpha = 0.5)\n",
    "plt.show()"
   ]
  },
  {
   "cell_type": "markdown",
   "metadata": {},
   "source": [
    "Гистограммы отлично иллюстрируют описанное выше. Высокие столбцы слева - это те, кто отправляет мало сообщений или не отправляет их вовсе. Посмотрим на тот же график, убрав нулевые значения и приблизив левую часть"
   ]
  },
  {
   "cell_type": "code",
   "execution_count": 30,
   "metadata": {},
   "outputs": [
    {
     "data": {
      "image/png": "[encoded data removed]",
      "text/plain": [
       "<Figure size 1080x720 with 1 Axes>"
      ]
     },
     "metadata": {
      "needs_background": "light"
     },
     "output_type": "display_data"
    }
   ],
   "source": [
    "ultra_people.query('messages != 0')['messages'].hist(bins = 30,\n",
    "                                                     range = (0, 150), figsize = (15, 10), alpha = 0.5)\n",
    "smart_people.query('messages != 0')['messages'].hist(bins = 30,\n",
    "                                                     range = (0, 150), figsize = (15, 10), alpha = 0.5)\n",
    "plt.show()"
   ]
  },
  {
   "cell_type": "markdown",
   "metadata": {},
   "source": [
    "Без \"нулевых\" данных, стали четко видны пики тарифа \"Смарт\" в районе 10 - 30 сообщений в месяц, в то время, как \"Ультра\" гораздо больше распределен. Это может быть связано с тем, что более дорого тариф используется для каких- то коммерческих рассылок, в то время, как \"Смарт\" чаще используется для частного пользования."
   ]
  },
  {
   "cell_type": "markdown",
   "metadata": {},
   "source": [
    "### Интернет-трафик"
   ]
  },
  {
   "cell_type": "code",
   "execution_count": 31,
   "metadata": {},
   "outputs": [
    {
     "name": "stdout",
     "output_type": "stream",
     "text": [
      "count    986.000000\n",
      "mean      19.474645\n",
      "std        9.868057\n",
      "min        0.000000\n",
      "25%       12.000000\n",
      "50%       19.000000\n",
      "75%       27.000000\n",
      "max       49.000000\n",
      "Name: gb, dtype: float64\n",
      "count    2230.000000\n",
      "mean       16.321525\n",
      "std         5.756167\n",
      "min         0.000000\n",
      "25%        13.000000\n",
      "50%        17.000000\n",
      "75%        20.000000\n",
      "max        38.000000\n",
      "Name: gb, dtype: float64\n",
      "Дисперсия для месячного трафика на тарифе ultra 97.27978308900676\n",
      "Дисперсия для месячного трафика на тарифе smart 33.11859498481772\n"
     ]
    }
   ],
   "source": [
    "print(ultra_people['gb'].describe())\n",
    "print(smart_people['gb'].describe())\n",
    "print('Дисперсия для месячного трафика на тарифе ultra', np.var(ultra_people['gb']))\n",
    "print('Дисперсия для месячного трафика на тарифе smart', np.var(smart_people['gb']))"
   ]
  },
  {
   "cell_type": "markdown",
   "metadata": {},
   "source": [
    "- Пользователи тарифа \"Ультра\" в выборке в среднем расходуют 19.474645 гб в месяц, в то время как пользователи \"Смарт\" - 16.321525 гб.\n",
    "- Стандартное отклонение для \"Ультра\" - 9.868057, для \"Смарт\" - 5.756167, дисперсия 97.27978308900676 и 33.11859498481772 соответственно. Как и в случае с минутами и сообщениями, разброс данных на более \"старшем\" тарифе \"Ультра\" - почти в 3 раза больше.\n",
    "- В обоих тарифах среднее не сильно отличается от медианы, но набор данных \"Ультра\" чуть скошен вправо (в том числе за счет бОльшего разброса значений), а тарифа \"Смарт\" - влево, его пользователи потребляют в месяц сравнительно меньше трафика. Построим иллюстрирующую это гистограмму, сразу же выделив на ней тех, кто не пользуется мобильным интернетом (т.е. промежуток 0-1 на оси х)."
   ]
  },
  {
   "cell_type": "code",
   "execution_count": 32,
   "metadata": {},
   "outputs": [
    {
     "data": {
      "image/png": "[encoded data removed]",
      "text/plain": [
       "<Figure size 1080x720 with 1 Axes>"
      ]
     },
     "metadata": {
      "needs_background": "light"
     },
     "output_type": "display_data"
    }
   ],
   "source": [
    "ultra_people['gb'].hist(bins= [0, 1, 5, 9, 13, 17, 21, 25, 29, 33, 37, 41, 45, 49], figsize = (15, 10), alpha = 0.5)\n",
    "smart_people['gb'].hist(bins= [0, 1, 5, 9, 13, 17, 21, 25, 29, 33, 37, 41, 45, 49], figsize = (15, 10), alpha = 0.5)\n",
    "plt.show()"
   ]
  },
  {
   "cell_type": "markdown",
   "metadata": {},
   "source": [
    "Интересно, что в отличие от звонков и сообщений, данных о месячном потреблении интернета, равном \"0\" - совсем мало. При этом видны четкие максимумы - на обоих тарифах люди чаще всего потребляют 15 - 25 гб в месяц, хотя на тарифе \"Ультра\" - в среднем больше."
   ]
  },
  {
   "cell_type": "markdown",
   "metadata": {},
   "source": [
    "## Проверка гипотез"
   ]
  },
  {
   "cell_type": "markdown",
   "metadata": {},
   "source": [
    "### Выручка для пользователей тарифов  \"Ультра\" и \"Смарт\""
   ]
  },
  {
   "cell_type": "markdown",
   "metadata": {},
   "source": [
    "Сравним среднюю выручку в выборках тарифов. Нулевая гипотеза будет звучать так:\n",
    "- Средняя выручка пользователей тарифов \"Ультра\" и \"Смарт\" равна.\n",
    "\n",
    "Учитывая то, что абонентская плата в тарифе \"Ультра\" практически в 4 раза больше, чем в \"Смарт\", да и разброс данных при анализе количества звонков, сообщений и трафика шире (есть большой \"хвост\" в большую сторону), альтернативную гипотезу целесообразно сформулировать односторонней:\n",
    "- Средняя выручка пользователей тарифа \"Ультра\" больше, чем тарифа \"Смарт\""
   ]
  },
  {
   "cell_type": "code",
   "execution_count": 33,
   "metadata": {
    "scrolled": true
   },
   "outputs": [
    {
     "name": "stdout",
     "output_type": "stream",
     "text": [
      "p-значение:  9.635056972104705e-251\n",
      "Отвергаем нулевую гипотезу\n"
     ]
    }
   ],
   "source": [
    "#применим метод для проверки гипотезы о равенстве среднего двух генеральных совокупностей по взятым из них выборкам.\n",
    "#Поскольку выборки у нас разного размера (986 и 2230 строк), поставим equal_var = False.\n",
    "\n",
    "alpha = .05 # критический уровень статистической значимости\n",
    "# если p-value окажется меньше него - отвегнем гипотезу\n",
    "\n",
    "results_payment = st.ttest_ind(\n",
    "    ultra_people['payment'], \n",
    "    smart_people['payment'], equal_var = False)\n",
    "\n",
    "#мы проверяем одностороннюю гипотезу, поэтому p-value надо поделить на 2\n",
    "print('p-значение: ', results_payment.pvalue / 2)\n",
    "\n",
    "if (results_payment.pvalue / 2 < alpha) and (ultra_people['payment'].mean() > smart_people['payment'].mean()):\n",
    "    print(\"Отвергаем нулевую гипотезу\")\n",
    "else:\n",
    "    print(\"Не получилось отвергнуть нулевую гипотезу\") "
   ]
  },
  {
   "cell_type": "markdown",
   "metadata": {},
   "source": [
    "P-значение исчезающе маленькое, можно с уверенностью отвергнуть первоначальную гипотезу о равенстве выручки пользователей тарифов. Подтверждение находит гипотеза, что выручка пользователей тарифа \"Ультра\" больше."
   ]
  },
  {
   "cell_type": "markdown",
   "metadata": {},
   "source": [
    "### Выручка для пользователей тарифов из Москвы и других регионов"
   ]
  },
  {
   "cell_type": "markdown",
   "metadata": {},
   "source": [
    "Теперь нам надо посмотреть отличается ли средняя выручка пользователей из Москвы отличается от выручки пользователей из других регионов.\n",
    "\n",
    "Сделаем это для каждого тарифа отдельно. Но нулевая и альтернативная гипотезы будут звучать одинаково. Нулевая:\n",
    "- Средняя выручка пользователей из Москвы и из других регионов равна\n",
    "\n",
    "Альтернативная:\n",
    "- Средняя выручка пользователей из Москвы и других регионов не равна (в данном случае гипотеза двухсторонняя)\n",
    "\n",
    "Начнем с тарифа \"Ультра\""
   ]
  },
  {
   "cell_type": "code",
   "execution_count": 34,
   "metadata": {
    "scrolled": true
   },
   "outputs": [
    {
     "name": "stdout",
     "output_type": "stream",
     "text": [
      "p-значение:  0.8499417228125278\n",
      "Не получилось отвергнуть нулевую гипотезу\n"
     ]
    }
   ],
   "source": [
    "#С помощью метода query отдельно сделаем выборки для Москвы и не для Москвы \n",
    "#Выборки получатся наверняка разными по размеру, да и дисперсия скорее всего разная. Лучше поставить equal_var = False\n",
    "results_ultra = st.ttest_ind(ultra_people.query('city == \"Москва\"')['payment'], \n",
    "                             ultra_people.query('city != \"Москва\"')['payment'], \n",
    "                             equal_var = False)\n",
    "\n",
    "print('p-значение: ', results_ultra.pvalue)\n",
    "\n",
    "if results_ultra.pvalue < alpha:\n",
    "    print(\"Отвергаем нулевую гипотезу\")\n",
    "else:\n",
    "    print(\"Не получилось отвергнуть нулевую гипотезу\")"
   ]
  },
  {
   "cell_type": "markdown",
   "metadata": {},
   "source": [
    "По имеющимся в выборке данным мы не можем утверждать, что средняя выручка для пользователей тарифа \"Ультра\" в Москве и дургих регионов отличается. Если построить гистограммы для этих параметров, то они должны в целом повторяться с поправкой на масштаб московской и немосковской выборок"
   ]
  },
  {
   "cell_type": "code",
   "execution_count": 35,
   "metadata": {
    "scrolled": false
   },
   "outputs": [
    {
     "data": {
      "image/png": "[encoded data removed]",
      "text/plain": [
       "<Figure size 1080x720 with 1 Axes>"
      ]
     },
     "metadata": {
      "needs_background": "light"
     },
     "output_type": "display_data"
    }
   ],
   "source": [
    "upm = ultra_people.query('city == \"Москва\"')['payment'].plot(\n",
    "    kind='hist',\n",
    "    histtype='step',\n",
    "    range=(1950, 6000),\n",
    "    bins=10,\n",
    "    linewidth=5,\n",
    "    alpha=0.7,\n",
    "    label='Москва', \n",
    "    figsize = (15, 10))\n",
    "\n",
    "ultra_people.query('city != \"Москва\"')['payment'].plot(kind='hist',\n",
    "    y='time_spent',\n",
    "    histtype='step',\n",
    "    range=(1950, 5000),\n",
    "    xticks = range(1900, \n",
    "                   6000, \n",
    "                   200), \n",
    "    bins=10,                                                \n",
    "    linewidth=5,\n",
    "    alpha=0.7,\n",
    "    label='Не Москва',\n",
    "    ax=upm,\n",
    "    grid=True,\n",
    "    legend=True, figsize = (15, 10))\n",
    "plt.show()"
   ]
  },
  {
   "cell_type": "markdown",
   "metadata": {},
   "source": [
    "Да, так и есть. Теперь посмотрим на тариф \"Смарт\""
   ]
  },
  {
   "cell_type": "code",
   "execution_count": 36,
   "metadata": {},
   "outputs": [
    {
     "name": "stdout",
     "output_type": "stream",
     "text": [
      "p-значение:  0.15741281346674899\n",
      "Не получилось отвергнуть нулевую гипотезу\n"
     ]
    },
    {
     "data": {
      "image/png": "[encoded data removed]",
      "text/plain": [
       "<Figure size 1080x720 with 1 Axes>"
      ]
     },
     "metadata": {
      "needs_background": "light"
     },
     "output_type": "display_data"
    }
   ],
   "source": [
    "#С помощью метода query отдельно сделаем выборки для Москвы и не для Москвы \n",
    "#Выборки получатся наверняка разными по размеру, да и дисперсия скорее всего разная. Лучше поставить equal_var = False\n",
    "results_smart = st.ttest_ind(smart_people.query('city == \"Москва\"')['payment'], \n",
    "                             smart_people.query('city != \"Москва\"')['payment'], \n",
    "                             equal_var = False)\n",
    "\n",
    "print('p-значение: ', results_smart.pvalue)\n",
    "\n",
    "if results_smart.pvalue < alpha:\n",
    "    print(\"Отвергаем нулевую гипотезу\")\n",
    "else:\n",
    "    print(\"Не получилось отвергнуть нулевую гипотезу\")\n",
    "    \n",
    "#Сразу построим гистограммы\n",
    "\n",
    "spm = smart_people.query('city == \"Москва\"')['payment'].plot(\n",
    "    kind='hist',\n",
    "    histtype='step',\n",
    "    range=(500, 5000),\n",
    "    bins=30,\n",
    "    linewidth=5,\n",
    "    alpha=0.7,\n",
    "    label='Москва', \n",
    "    figsize = (15, 10))\n",
    "\n",
    "smart_people.query('city != \"Москва\"')['payment'].plot(kind='hist',\n",
    "    y='time_spent',\n",
    "    histtype='step',\n",
    "    range=(500, 5000),\n",
    "    xticks = range(500, \n",
    "                   5000, \n",
    "                   200), \n",
    "    bins=30,\n",
    "    linewidth=5,\n",
    "    alpha=0.7,\n",
    "    label='Не Москва',\n",
    "    ax=spm,\n",
    "    grid=True,\n",
    "    legend=True, figsize = (15, 10))\n",
    "plt.show()"
   ]
  },
  {
   "cell_type": "markdown",
   "metadata": {},
   "source": [
    "Для тарифа \"Смарт\" также отвергнуть гипотезу об одинаковой выручке в Москве и других регионах нельзя, хотя, судя по тому, что p-значение гораздо меньше, чем у тарифа \"Ультра\", разница в отдельных случаях может быть более существенной, чем у \"Ультра\"."
   ]
  },
  {
   "cell_type": "markdown",
   "metadata": {},
   "source": [
    "### Выручка для общей выборки"
   ]
  },
  {
   "cell_type": "markdown",
   "metadata": {},
   "source": [
    "Теперь проверим для всей совокупности. Для начала снова объединим талицы, ведь выручку мы считали уже в таблицах по тарифам."
   ]
  },
  {
   "cell_type": "code",
   "execution_count": 37,
   "metadata": {},
   "outputs": [
    {
     "data": {
      "text/html": [
       "<div>\n",
       "<style scoped>\n",
       "    .dataframe tbody tr th:only-of-type {\n",
       "        vertical-align: middle;\n",
       "    }\n",
       "\n",
       "    .dataframe tbody tr th {\n",
       "        vertical-align: top;\n",
       "    }\n",
       "\n",
       "    .dataframe thead th {\n",
       "        text-align: right;\n",
       "    }\n",
       "</style>\n",
       "<table border=\"1\" class=\"dataframe\">\n",
       "  <thead>\n",
       "    <tr style=\"text-align: right;\">\n",
       "      <th></th>\n",
       "      <th>user_id</th>\n",
       "      <th>month</th>\n",
       "      <th>duration</th>\n",
       "      <th>calls</th>\n",
       "      <th>messages</th>\n",
       "      <th>gb</th>\n",
       "      <th>tariff</th>\n",
       "      <th>city</th>\n",
       "      <th>minutes_over</th>\n",
       "      <th>messages_over</th>\n",
       "      <th>gb_over</th>\n",
       "      <th>payment</th>\n",
       "    </tr>\n",
       "  </thead>\n",
       "  <tbody>\n",
       "    <tr>\n",
       "      <td>0</td>\n",
       "      <td>1000</td>\n",
       "      <td>5.0</td>\n",
       "      <td>159.0</td>\n",
       "      <td>22.0</td>\n",
       "      <td>22.0</td>\n",
       "      <td>3.0</td>\n",
       "      <td>ultra</td>\n",
       "      <td>Краснодар</td>\n",
       "      <td>0.0</td>\n",
       "      <td>0.0</td>\n",
       "      <td>0.0</td>\n",
       "      <td>1950.0</td>\n",
       "    </tr>\n",
       "    <tr>\n",
       "      <td>1</td>\n",
       "      <td>1000</td>\n",
       "      <td>6.0</td>\n",
       "      <td>172.0</td>\n",
       "      <td>43.0</td>\n",
       "      <td>60.0</td>\n",
       "      <td>23.0</td>\n",
       "      <td>ultra</td>\n",
       "      <td>Краснодар</td>\n",
       "      <td>0.0</td>\n",
       "      <td>0.0</td>\n",
       "      <td>0.0</td>\n",
       "      <td>1950.0</td>\n",
       "    </tr>\n",
       "    <tr>\n",
       "      <td>2</td>\n",
       "      <td>1000</td>\n",
       "      <td>7.0</td>\n",
       "      <td>340.0</td>\n",
       "      <td>47.0</td>\n",
       "      <td>75.0</td>\n",
       "      <td>14.0</td>\n",
       "      <td>ultra</td>\n",
       "      <td>Краснодар</td>\n",
       "      <td>0.0</td>\n",
       "      <td>0.0</td>\n",
       "      <td>0.0</td>\n",
       "      <td>1950.0</td>\n",
       "    </tr>\n",
       "    <tr>\n",
       "      <td>3</td>\n",
       "      <td>1000</td>\n",
       "      <td>8.0</td>\n",
       "      <td>408.0</td>\n",
       "      <td>52.0</td>\n",
       "      <td>81.0</td>\n",
       "      <td>14.0</td>\n",
       "      <td>ultra</td>\n",
       "      <td>Краснодар</td>\n",
       "      <td>0.0</td>\n",
       "      <td>0.0</td>\n",
       "      <td>0.0</td>\n",
       "      <td>1950.0</td>\n",
       "    </tr>\n",
       "    <tr>\n",
       "      <td>4</td>\n",
       "      <td>1000</td>\n",
       "      <td>9.0</td>\n",
       "      <td>466.0</td>\n",
       "      <td>58.0</td>\n",
       "      <td>57.0</td>\n",
       "      <td>15.0</td>\n",
       "      <td>ultra</td>\n",
       "      <td>Краснодар</td>\n",
       "      <td>0.0</td>\n",
       "      <td>0.0</td>\n",
       "      <td>0.0</td>\n",
       "      <td>1950.0</td>\n",
       "    </tr>\n",
       "    <tr>\n",
       "      <td>...</td>\n",
       "      <td>...</td>\n",
       "      <td>...</td>\n",
       "      <td>...</td>\n",
       "      <td>...</td>\n",
       "      <td>...</td>\n",
       "      <td>...</td>\n",
       "      <td>...</td>\n",
       "      <td>...</td>\n",
       "      <td>...</td>\n",
       "      <td>...</td>\n",
       "      <td>...</td>\n",
       "      <td>...</td>\n",
       "    </tr>\n",
       "    <tr>\n",
       "      <td>3211</td>\n",
       "      <td>1489</td>\n",
       "      <td>9.0</td>\n",
       "      <td>0.0</td>\n",
       "      <td>0.0</td>\n",
       "      <td>32.0</td>\n",
       "      <td>17.0</td>\n",
       "      <td>smart</td>\n",
       "      <td>Санкт-Петербург</td>\n",
       "      <td>0.0</td>\n",
       "      <td>0.0</td>\n",
       "      <td>2.0</td>\n",
       "      <td>950.0</td>\n",
       "    </tr>\n",
       "    <tr>\n",
       "      <td>3212</td>\n",
       "      <td>1489</td>\n",
       "      <td>10.0</td>\n",
       "      <td>0.0</td>\n",
       "      <td>0.0</td>\n",
       "      <td>21.0</td>\n",
       "      <td>20.0</td>\n",
       "      <td>smart</td>\n",
       "      <td>Санкт-Петербург</td>\n",
       "      <td>0.0</td>\n",
       "      <td>0.0</td>\n",
       "      <td>5.0</td>\n",
       "      <td>1550.0</td>\n",
       "    </tr>\n",
       "    <tr>\n",
       "      <td>3213</td>\n",
       "      <td>1489</td>\n",
       "      <td>11.0</td>\n",
       "      <td>0.0</td>\n",
       "      <td>0.0</td>\n",
       "      <td>20.0</td>\n",
       "      <td>18.0</td>\n",
       "      <td>smart</td>\n",
       "      <td>Санкт-Петербург</td>\n",
       "      <td>0.0</td>\n",
       "      <td>0.0</td>\n",
       "      <td>3.0</td>\n",
       "      <td>1150.0</td>\n",
       "    </tr>\n",
       "    <tr>\n",
       "      <td>3214</td>\n",
       "      <td>1489</td>\n",
       "      <td>12.0</td>\n",
       "      <td>0.0</td>\n",
       "      <td>0.0</td>\n",
       "      <td>35.0</td>\n",
       "      <td>17.0</td>\n",
       "      <td>smart</td>\n",
       "      <td>Санкт-Петербург</td>\n",
       "      <td>0.0</td>\n",
       "      <td>0.0</td>\n",
       "      <td>2.0</td>\n",
       "      <td>950.0</td>\n",
       "    </tr>\n",
       "    <tr>\n",
       "      <td>3215</td>\n",
       "      <td>1371</td>\n",
       "      <td>0.0</td>\n",
       "      <td>0.0</td>\n",
       "      <td>0.0</td>\n",
       "      <td>0.0</td>\n",
       "      <td>0.0</td>\n",
       "      <td>smart</td>\n",
       "      <td>Омск</td>\n",
       "      <td>0.0</td>\n",
       "      <td>0.0</td>\n",
       "      <td>0.0</td>\n",
       "      <td>550.0</td>\n",
       "    </tr>\n",
       "  </tbody>\n",
       "</table>\n",
       "<p>3216 rows × 12 columns</p>\n",
       "</div>"
      ],
      "text/plain": [
       "      user_id  month  duration  calls  messages    gb tariff             city  \\\n",
       "0        1000    5.0     159.0   22.0      22.0   3.0  ultra        Краснодар   \n",
       "1        1000    6.0     172.0   43.0      60.0  23.0  ultra        Краснодар   \n",
       "2        1000    7.0     340.0   47.0      75.0  14.0  ultra        Краснодар   \n",
       "3        1000    8.0     408.0   52.0      81.0  14.0  ultra        Краснодар   \n",
       "4        1000    9.0     466.0   58.0      57.0  15.0  ultra        Краснодар   \n",
       "...       ...    ...       ...    ...       ...   ...    ...              ...   \n",
       "3211     1489    9.0       0.0    0.0      32.0  17.0  smart  Санкт-Петербург   \n",
       "3212     1489   10.0       0.0    0.0      21.0  20.0  smart  Санкт-Петербург   \n",
       "3213     1489   11.0       0.0    0.0      20.0  18.0  smart  Санкт-Петербург   \n",
       "3214     1489   12.0       0.0    0.0      35.0  17.0  smart  Санкт-Петербург   \n",
       "3215     1371    0.0       0.0    0.0       0.0   0.0  smart             Омск   \n",
       "\n",
       "      minutes_over  messages_over  gb_over  payment  \n",
       "0              0.0            0.0      0.0   1950.0  \n",
       "1              0.0            0.0      0.0   1950.0  \n",
       "2              0.0            0.0      0.0   1950.0  \n",
       "3              0.0            0.0      0.0   1950.0  \n",
       "4              0.0            0.0      0.0   1950.0  \n",
       "...            ...            ...      ...      ...  \n",
       "3211           0.0            0.0      2.0    950.0  \n",
       "3212           0.0            0.0      5.0   1550.0  \n",
       "3213           0.0            0.0      3.0   1150.0  \n",
       "3214           0.0            0.0      2.0    950.0  \n",
       "3215           0.0            0.0      0.0    550.0  \n",
       "\n",
       "[3216 rows x 12 columns]"
      ]
     },
     "execution_count": 37,
     "metadata": {},
     "output_type": "execute_result"
    }
   ],
   "source": [
    "month_full = ultra_people.merge(smart_people, how = 'outer')\n",
    "month_full"
   ]
  },
  {
   "cell_type": "markdown",
   "metadata": {},
   "source": [
    "Нулевая гипотеза по-прежнему:\n",
    "- Средняя выручка пользователей из Москвы и из других регионов равна\n",
    "\n",
    "Альтернативная:\n",
    "- Средняя выручка пользователей из Москвы и других регионов не равна (в данном случае гипотеза двухсторонняя)"
   ]
  },
  {
   "cell_type": "code",
   "execution_count": 40,
   "metadata": {
    "scrolled": false
   },
   "outputs": [
    {
     "name": "stdout",
     "output_type": "stream",
     "text": [
      "p-значение:  0.5216952110000278\n",
      "Не получилось отвергнуть нулевую гипотезу\n"
     ]
    },
    {
     "data": {
      "image/png": "[encoded data removed]",
      "text/plain": [
       "<Figure size 1080x720 with 1 Axes>"
      ]
     },
     "metadata": {
      "needs_background": "light"
     },
     "output_type": "display_data"
    }
   ],
   "source": [
    "results_all = st.ttest_ind(month_full.query('city == \"Москва\"')['payment'], \n",
    "                             month_full.query('city != \"Москва\"')['payment'], \n",
    "                             equal_var = False)\n",
    "\n",
    "print('p-значение: ', results_all.pvalue)\n",
    "\n",
    "if results_all.pvalue < alpha:\n",
    "    print(\"Отвергаем нулевую гипотезу\")\n",
    "else:\n",
    "    print(\"Не получилось отвергнуть нулевую гипотезу\")\n",
    "\n",
    "#и сразу построим гистограмму    \n",
    "apm = month_full.query('city == \"Москва\"')['payment'].plot(\n",
    "    kind='hist',\n",
    "    histtype='step',\n",
    "    range=(400, 6000),\n",
    "    bins=30,\n",
    "    linewidth=5,\n",
    "    alpha=0.7,\n",
    "    label='Москва', \n",
    "    figsize = (15, 10))\n",
    "\n",
    "month_full.query('city != \"Москва\"')['payment'].plot(kind='hist',\n",
    "    y='time_spent',\n",
    "    histtype='step',\n",
    "    range=(0, 5000),\n",
    "    xticks = range(400, \n",
    "                   6000, \n",
    "                   200), \n",
    "    bins=30,\n",
    "    linewidth=5,\n",
    "    alpha=0.7,\n",
    "    label='Не Москва',\n",
    "    ax=apm,\n",
    "    grid=True,\n",
    "    legend=True, figsize = (15, 10))\n",
    "plt.show()"
   ]
  },
  {
   "cell_type": "markdown",
   "metadata": {},
   "source": [
    "Для двух тарифов совокупно, как и для каждого по отдельности, гипотеза о разной выручке в Москве и других регионах не находит подтверждения. На общем графике прекрасно видны пики, равные абонентской плате тарфиов - это те пользователи, которые не превысили лимит."
   ]
  },
  {
   "cell_type": "markdown",
   "metadata": {},
   "source": [
    "## Вывод"
   ]
  },
  {
   "cell_type": "markdown",
   "metadata": {},
   "source": [
    "- Средний пользователь тарифа \"Ультра\", согласно данным в выборке, в месяц говорит 526 минут, отправляет 49 сообщений и расходует почти 19,5 гб трафика\n",
    "- Средний пользователь тарифа \"Смарт\", согласно данным в выборке, в месяц говорит 418 минут, отправляет 33 сообщения и расходует 16,32 гб трафика\n",
    "- Разброс значений в показателях  тарифа \"Ультра\" значительно шире, чем для тарифа \"Смарт\", что определяется и бОльшими лимитами.\n",
    "- Тем не менее, именно на тарифе \"Смарт\" пользователи чаще превышают лимиты: показатели для среднего пользователя гораздо ближе к лимитам тарифа, а для интернета - вообще превышают лимит в 15 гб. Таким образом, пользователи \"Смарт\" гораздо чаще платят сверх абонентской платы\n",
    "- Несмотря на переплату сверх тарифа для пользователей \"Смарт\", гипотеза о том, что выручка пользователей \"Смарт\" и \"Ультра\" равна, не находит подтверждения. По данным выборки можно сказать, что выручка для пользователя \"Ультра\" будет все равно больше.\n",
    "- Гипотеза о том, что выручка для пользователей из Москвы и из других регионов сильно различается, не находит подтверждения, как для совокупности данных по обоим тарифам, так и для тарифов по-отдельности. Вместе с тем p-значение припроверке гипотез о равенстве выручки для пользователей Москвы и не Москвы у тарифа \"Смарт\" гораздо меньше, чем у \"Ультра\", т.е. вероятность того, что средняя выручка для пользователей \"Смарт\" будет различаться - больше. "
   ]
  }
 ],
 "metadata": {
  "ExecuteTimeLog": [
   {
    "duration": 45,
    "start_time": "2022-01-05T06:05:35.776Z"
   },
   {
    "duration": 619,
    "start_time": "2022-01-05T06:06:00.121Z"
   },
   {
    "duration": 52,
    "start_time": "2022-01-05T06:07:29.370Z"
   },
   {
    "duration": 299,
    "start_time": "2022-01-05T06:08:09.980Z"
   },
   {
    "duration": 45,
    "start_time": "2022-01-05T06:08:15.853Z"
   },
   {
    "duration": 679,
    "start_time": "2022-01-05T06:18:29.999Z"
   },
   {
    "duration": 18,
    "start_time": "2022-01-05T06:18:30.680Z"
   },
   {
    "duration": 171,
    "start_time": "2022-01-05T06:19:04.664Z"
   },
   {
    "duration": 45,
    "start_time": "2022-01-05T06:19:10.968Z"
   },
   {
    "duration": 173,
    "start_time": "2022-01-05T06:19:13.512Z"
   },
   {
    "duration": 99,
    "start_time": "2022-01-05T06:30:56.939Z"
   },
   {
    "duration": 148,
    "start_time": "2022-01-05T06:42:53.676Z"
   },
   {
    "duration": 23,
    "start_time": "2022-01-05T06:49:57.807Z"
   },
   {
    "duration": 48,
    "start_time": "2022-01-05T07:11:03.791Z"
   },
   {
    "duration": 54,
    "start_time": "2022-01-05T07:24:33.676Z"
   },
   {
    "duration": 3957,
    "start_time": "2022-01-05T07:24:51.907Z"
   },
   {
    "duration": 233,
    "start_time": "2022-01-05T07:25:32.009Z"
   },
   {
    "duration": 53,
    "start_time": "2022-01-05T07:25:38.376Z"
   },
   {
    "duration": 53,
    "start_time": "2022-01-05T07:25:57.760Z"
   },
   {
    "duration": 53,
    "start_time": "2022-01-05T07:26:56.439Z"
   },
   {
    "duration": 54,
    "start_time": "2022-01-05T07:28:15.513Z"
   },
   {
    "duration": 61,
    "start_time": "2022-01-05T07:28:21.737Z"
   },
   {
    "duration": 55,
    "start_time": "2022-01-05T07:29:19.527Z"
   },
   {
    "duration": 545,
    "start_time": "2022-01-05T07:30:04.148Z"
   },
   {
    "duration": 166,
    "start_time": "2022-01-05T07:30:04.695Z"
   },
   {
    "duration": 100,
    "start_time": "2022-01-05T07:30:04.865Z"
   },
   {
    "duration": 148,
    "start_time": "2022-01-05T07:30:04.967Z"
   },
   {
    "duration": 23,
    "start_time": "2022-01-05T07:30:05.116Z"
   },
   {
    "duration": 66,
    "start_time": "2022-01-05T07:30:05.141Z"
   },
   {
    "duration": 339,
    "start_time": "2022-01-05T07:30:24.255Z"
   },
   {
    "duration": 275,
    "start_time": "2022-01-05T07:30:40.608Z"
   },
   {
    "duration": 40,
    "start_time": "2022-01-05T07:30:46.264Z"
   },
   {
    "duration": 70,
    "start_time": "2022-01-05T07:30:47.951Z"
   },
   {
    "duration": 73,
    "start_time": "2022-01-05T07:32:59.088Z"
   },
   {
    "duration": 42,
    "start_time": "2022-01-05T07:40:53.080Z"
   },
   {
    "duration": 710,
    "start_time": "2022-01-05T07:41:02.200Z"
   },
   {
    "duration": 22597,
    "start_time": "2022-01-05T07:41:10.179Z"
   },
   {
    "duration": 47,
    "start_time": "2022-01-05T07:42:47.771Z"
   },
   {
    "duration": 39304,
    "start_time": "2022-01-05T07:44:04.947Z"
   },
   {
    "duration": 6,
    "start_time": "2022-01-05T07:45:11.804Z"
   },
   {
    "duration": 56,
    "start_time": "2022-01-05T07:46:26.756Z"
   },
   {
    "duration": 7,
    "start_time": "2022-01-05T07:46:33.356Z"
   },
   {
    "duration": 215,
    "start_time": "2022-01-05T07:46:43.196Z"
   },
   {
    "duration": 264,
    "start_time": "2022-01-05T07:46:50.028Z"
   },
   {
    "duration": 231,
    "start_time": "2022-01-05T07:47:04.633Z"
   },
   {
    "duration": 348,
    "start_time": "2022-01-05T07:47:07.797Z"
   },
   {
    "duration": 45,
    "start_time": "2022-01-05T07:48:08.893Z"
   },
   {
    "duration": 51,
    "start_time": "2022-01-05T07:52:25.549Z"
   },
   {
    "duration": 48,
    "start_time": "2022-01-05T08:01:17.226Z"
   },
   {
    "duration": 35803,
    "start_time": "2022-01-05T08:01:24.898Z"
   },
   {
    "duration": 7,
    "start_time": "2022-01-05T08:02:20.729Z"
   },
   {
    "duration": 54,
    "start_time": "2022-01-05T08:03:52.106Z"
   },
   {
    "duration": 7,
    "start_time": "2022-01-05T08:03:53.113Z"
   },
   {
    "duration": 60,
    "start_time": "2022-01-05T08:09:00.372Z"
   },
   {
    "duration": 7,
    "start_time": "2022-01-05T08:09:01.324Z"
   },
   {
    "duration": 47,
    "start_time": "2022-01-05T08:12:25.804Z"
   },
   {
    "duration": 95,
    "start_time": "2022-01-05T08:12:38.205Z"
   },
   {
    "duration": 43,
    "start_time": "2022-01-05T08:13:22.821Z"
   },
   {
    "duration": 59,
    "start_time": "2022-01-05T08:13:29.031Z"
   },
   {
    "duration": 43,
    "start_time": "2022-01-05T08:14:19.221Z"
   },
   {
    "duration": 18,
    "start_time": "2022-01-05T08:16:51.703Z"
   },
   {
    "duration": 56,
    "start_time": "2022-01-05T08:17:54.831Z"
   },
   {
    "duration": 9,
    "start_time": "2022-01-05T08:18:09.455Z"
   },
   {
    "duration": 162,
    "start_time": "2022-01-05T08:21:17.032Z"
   },
   {
    "duration": 3,
    "start_time": "2022-01-05T08:21:38.992Z"
   },
   {
    "duration": 133,
    "start_time": "2022-01-05T08:30:35.371Z"
   },
   {
    "duration": 208,
    "start_time": "2022-01-05T08:31:36.539Z"
   },
   {
    "duration": 20,
    "start_time": "2022-01-05T08:34:37.874Z"
   },
   {
    "duration": 139,
    "start_time": "2022-01-05T08:38:42.925Z"
   },
   {
    "duration": 10,
    "start_time": "2022-01-05T08:38:55.166Z"
   },
   {
    "duration": 8,
    "start_time": "2022-01-05T08:41:02.749Z"
   },
   {
    "duration": 25,
    "start_time": "2022-01-05T08:41:38.190Z"
   },
   {
    "duration": 24,
    "start_time": "2022-01-05T08:41:46.966Z"
   },
   {
    "duration": 50,
    "start_time": "2022-01-05T08:46:14.576Z"
   },
   {
    "duration": 131,
    "start_time": "2022-01-05T08:46:29.465Z"
   },
   {
    "duration": 618,
    "start_time": "2022-01-05T08:47:20.582Z"
   },
   {
    "duration": 176,
    "start_time": "2022-01-05T08:47:21.202Z"
   },
   {
    "duration": 103,
    "start_time": "2022-01-05T08:47:21.380Z"
   },
   {
    "duration": 145,
    "start_time": "2022-01-05T08:47:21.485Z"
   },
   {
    "duration": 23,
    "start_time": "2022-01-05T08:47:21.632Z"
   },
   {
    "duration": 3,
    "start_time": "2022-01-05T08:47:21.657Z"
   },
   {
    "duration": 76,
    "start_time": "2022-01-05T08:47:21.661Z"
   },
   {
    "duration": 70,
    "start_time": "2022-01-05T08:47:21.740Z"
   },
   {
    "duration": 56,
    "start_time": "2022-01-05T08:47:21.812Z"
   },
   {
    "duration": 569,
    "start_time": "2022-01-05T08:50:54.219Z"
   },
   {
    "duration": 166,
    "start_time": "2022-01-05T08:50:54.790Z"
   },
   {
    "duration": 101,
    "start_time": "2022-01-05T08:50:54.958Z"
   },
   {
    "duration": 150,
    "start_time": "2022-01-05T08:50:55.061Z"
   },
   {
    "duration": 23,
    "start_time": "2022-01-05T08:50:55.212Z"
   },
   {
    "duration": 254,
    "start_time": "2022-01-05T08:50:58.533Z"
   },
   {
    "duration": 68,
    "start_time": "2022-01-05T08:51:40.614Z"
   },
   {
    "duration": 63,
    "start_time": "2022-01-05T08:51:44.352Z"
   },
   {
    "duration": 57,
    "start_time": "2022-01-05T08:51:48.438Z"
   },
   {
    "duration": 596,
    "start_time": "2022-01-05T08:53:17.798Z"
   },
   {
    "duration": 172,
    "start_time": "2022-01-05T08:53:18.396Z"
   },
   {
    "duration": 101,
    "start_time": "2022-01-05T08:53:18.572Z"
   },
   {
    "duration": 142,
    "start_time": "2022-01-05T08:53:18.675Z"
   },
   {
    "duration": 24,
    "start_time": "2022-01-05T08:53:18.819Z"
   },
   {
    "duration": 2,
    "start_time": "2022-01-05T08:53:18.845Z"
   },
   {
    "duration": 89,
    "start_time": "2022-01-05T08:53:18.850Z"
   },
   {
    "duration": 198,
    "start_time": "2022-01-05T08:53:18.941Z"
   },
   {
    "duration": -888,
    "start_time": "2022-01-05T08:53:20.029Z"
   },
   {
    "duration": 555,
    "start_time": "2022-01-05T08:53:53.633Z"
   },
   {
    "duration": 168,
    "start_time": "2022-01-05T08:53:54.190Z"
   },
   {
    "duration": 108,
    "start_time": "2022-01-05T08:53:54.362Z"
   },
   {
    "duration": 153,
    "start_time": "2022-01-05T08:53:54.472Z"
   },
   {
    "duration": 25,
    "start_time": "2022-01-05T08:53:54.626Z"
   },
   {
    "duration": 19,
    "start_time": "2022-01-05T08:53:54.652Z"
   },
   {
    "duration": 78,
    "start_time": "2022-01-05T08:53:54.674Z"
   },
   {
    "duration": 70,
    "start_time": "2022-01-05T08:53:54.753Z"
   },
   {
    "duration": 68,
    "start_time": "2022-01-05T08:53:54.824Z"
   },
   {
    "duration": 599,
    "start_time": "2022-01-05T09:09:25.088Z"
   },
   {
    "duration": 174,
    "start_time": "2022-01-05T09:09:25.688Z"
   },
   {
    "duration": 98,
    "start_time": "2022-01-05T09:09:25.864Z"
   },
   {
    "duration": 142,
    "start_time": "2022-01-05T09:09:25.964Z"
   },
   {
    "duration": 23,
    "start_time": "2022-01-05T09:09:26.108Z"
   },
   {
    "duration": 13,
    "start_time": "2022-01-05T09:09:26.132Z"
   },
   {
    "duration": 4,
    "start_time": "2022-01-05T09:10:25.853Z"
   },
   {
    "duration": 69,
    "start_time": "2022-01-05T09:10:45.215Z"
   },
   {
    "duration": 66,
    "start_time": "2022-01-05T09:10:49.276Z"
   },
   {
    "duration": 59,
    "start_time": "2022-01-05T09:10:58.188Z"
   },
   {
    "duration": 626,
    "start_time": "2022-01-05T09:11:41.465Z"
   },
   {
    "duration": 177,
    "start_time": "2022-01-05T09:11:42.093Z"
   },
   {
    "duration": 101,
    "start_time": "2022-01-05T09:11:42.272Z"
   },
   {
    "duration": 144,
    "start_time": "2022-01-05T09:11:42.375Z"
   },
   {
    "duration": 23,
    "start_time": "2022-01-05T09:11:42.521Z"
   },
   {
    "duration": 9,
    "start_time": "2022-01-05T09:11:42.546Z"
   },
   {
    "duration": 6,
    "start_time": "2022-01-05T09:11:42.557Z"
   },
   {
    "duration": 84,
    "start_time": "2022-01-05T09:11:42.565Z"
   },
   {
    "duration": 73,
    "start_time": "2022-01-05T09:11:42.651Z"
   },
   {
    "duration": 68,
    "start_time": "2022-01-05T09:11:42.726Z"
   },
   {
    "duration": 50,
    "start_time": "2022-01-05T09:12:42.873Z"
   },
   {
    "duration": 938,
    "start_time": "2022-01-05T09:12:50.708Z"
   },
   {
    "duration": 161,
    "start_time": "2022-01-05T09:14:29.557Z"
   },
   {
    "duration": 47,
    "start_time": "2022-01-05T09:30:59.925Z"
   },
   {
    "duration": 26,
    "start_time": "2022-01-05T09:31:07.429Z"
   },
   {
    "duration": 501,
    "start_time": "2022-01-06T05:29:22.671Z"
   },
   {
    "duration": 823,
    "start_time": "2022-01-06T05:29:41.147Z"
   },
   {
    "duration": 244,
    "start_time": "2022-01-06T05:29:41.972Z"
   },
   {
    "duration": 143,
    "start_time": "2022-01-06T05:29:42.219Z"
   },
   {
    "duration": 205,
    "start_time": "2022-01-06T05:29:42.365Z"
   },
   {
    "duration": 33,
    "start_time": "2022-01-06T05:29:42.572Z"
   },
   {
    "duration": 15,
    "start_time": "2022-01-06T05:29:42.608Z"
   },
   {
    "duration": 4,
    "start_time": "2022-01-06T05:29:42.626Z"
   },
   {
    "duration": 130,
    "start_time": "2022-01-06T05:29:42.633Z"
   },
   {
    "duration": 109,
    "start_time": "2022-01-06T05:29:42.765Z"
   },
   {
    "duration": 97,
    "start_time": "2022-01-06T05:29:42.876Z"
   },
   {
    "duration": 36,
    "start_time": "2022-01-06T05:29:42.975Z"
   },
   {
    "duration": 19,
    "start_time": "2022-01-06T05:29:43.014Z"
   },
   {
    "duration": 15,
    "start_time": "2022-01-06T05:33:03.174Z"
   },
   {
    "duration": 800,
    "start_time": "2022-01-06T05:33:33.166Z"
   },
   {
    "duration": 239,
    "start_time": "2022-01-06T05:33:33.968Z"
   },
   {
    "duration": 152,
    "start_time": "2022-01-06T05:33:34.211Z"
   },
   {
    "duration": 212,
    "start_time": "2022-01-06T05:33:34.366Z"
   },
   {
    "duration": 31,
    "start_time": "2022-01-06T05:33:34.581Z"
   },
   {
    "duration": 16,
    "start_time": "2022-01-06T05:33:34.614Z"
   },
   {
    "duration": 4,
    "start_time": "2022-01-06T05:33:34.633Z"
   },
   {
    "duration": 110,
    "start_time": "2022-01-06T05:33:34.663Z"
   },
   {
    "duration": 107,
    "start_time": "2022-01-06T05:33:34.776Z"
   },
   {
    "duration": 99,
    "start_time": "2022-01-06T05:33:34.886Z"
   },
   {
    "duration": 36,
    "start_time": "2022-01-06T05:33:34.988Z"
   },
   {
    "duration": 41,
    "start_time": "2022-01-06T05:33:35.027Z"
   },
   {
    "duration": 10,
    "start_time": "2022-01-06T05:36:54.368Z"
   },
   {
    "duration": 84,
    "start_time": "2022-01-06T05:37:42.023Z"
   },
   {
    "duration": 19,
    "start_time": "2022-01-06T05:42:50.736Z"
   },
   {
    "duration": 26,
    "start_time": "2022-01-06T05:50:53.217Z"
   },
   {
    "duration": 452,
    "start_time": "2022-01-06T05:51:08.995Z"
   },
   {
    "duration": 280,
    "start_time": "2022-01-06T05:51:22.563Z"
   },
   {
    "duration": 767,
    "start_time": "2022-01-06T05:51:34.294Z"
   },
   {
    "duration": 11,
    "start_time": "2022-01-06T05:51:35.064Z"
   },
   {
    "duration": 239,
    "start_time": "2022-01-06T05:51:35.078Z"
   },
   {
    "duration": 148,
    "start_time": "2022-01-06T05:51:35.320Z"
   },
   {
    "duration": 213,
    "start_time": "2022-01-06T05:51:35.471Z"
   },
   {
    "duration": 34,
    "start_time": "2022-01-06T05:51:35.686Z"
   },
   {
    "duration": 17,
    "start_time": "2022-01-06T05:51:35.722Z"
   },
   {
    "duration": 21,
    "start_time": "2022-01-06T05:51:35.743Z"
   },
   {
    "duration": 110,
    "start_time": "2022-01-06T05:51:35.767Z"
   },
   {
    "duration": 105,
    "start_time": "2022-01-06T05:51:35.880Z"
   },
   {
    "duration": 99,
    "start_time": "2022-01-06T05:51:35.989Z"
   },
   {
    "duration": 36,
    "start_time": "2022-01-06T05:51:36.091Z"
   },
   {
    "duration": 42,
    "start_time": "2022-01-06T05:51:36.130Z"
   },
   {
    "duration": 36,
    "start_time": "2022-01-06T05:51:36.174Z"
   },
   {
    "duration": 377,
    "start_time": "2022-01-06T06:01:53.537Z"
   },
   {
    "duration": 84,
    "start_time": "2022-01-06T06:02:29.835Z"
   },
   {
    "duration": 110,
    "start_time": "2022-01-06T06:06:43.774Z"
   },
   {
    "duration": 347,
    "start_time": "2022-01-06T06:11:51.447Z"
   },
   {
    "duration": 433,
    "start_time": "2022-01-06T06:11:59.119Z"
   },
   {
    "duration": 79,
    "start_time": "2022-01-06T06:12:41.239Z"
   },
   {
    "duration": 88,
    "start_time": "2022-01-06T06:16:57.850Z"
   },
   {
    "duration": 1246,
    "start_time": "2022-01-06T06:17:20.065Z"
   },
   {
    "duration": 81,
    "start_time": "2022-01-06T06:18:04.530Z"
   },
   {
    "duration": 805,
    "start_time": "2022-01-06T06:23:39.626Z"
   },
   {
    "duration": 12,
    "start_time": "2022-01-06T06:23:40.435Z"
   },
   {
    "duration": 234,
    "start_time": "2022-01-06T06:23:40.451Z"
   },
   {
    "duration": 143,
    "start_time": "2022-01-06T06:23:40.688Z"
   },
   {
    "duration": 208,
    "start_time": "2022-01-06T06:23:40.833Z"
   },
   {
    "duration": 33,
    "start_time": "2022-01-06T06:23:41.044Z"
   },
   {
    "duration": 15,
    "start_time": "2022-01-06T06:23:41.079Z"
   },
   {
    "duration": 4,
    "start_time": "2022-01-06T06:23:41.097Z"
   },
   {
    "duration": 136,
    "start_time": "2022-01-06T06:23:41.105Z"
   },
   {
    "duration": 91,
    "start_time": "2022-01-06T06:23:41.244Z"
   },
   {
    "duration": 101,
    "start_time": "2022-01-06T06:23:41.338Z"
   },
   {
    "duration": 65,
    "start_time": "2022-01-06T06:23:41.441Z"
   },
   {
    "duration": 33,
    "start_time": "2022-01-06T06:23:41.508Z"
   },
   {
    "duration": 37,
    "start_time": "2022-01-06T06:23:41.544Z"
   },
   {
    "duration": 29,
    "start_time": "2022-01-06T06:23:41.583Z"
   },
   {
    "duration": 401,
    "start_time": "2022-01-06T06:23:41.614Z"
   },
   {
    "duration": 69,
    "start_time": "2022-01-06T06:23:53.906Z"
   },
   {
    "duration": 54,
    "start_time": "2022-01-06T06:25:49.324Z"
   },
   {
    "duration": 466,
    "start_time": "2022-01-06T06:26:49.269Z"
   },
   {
    "duration": 372,
    "start_time": "2022-01-06T06:27:01.716Z"
   },
   {
    "duration": 470,
    "start_time": "2022-01-06T06:28:27.108Z"
   },
   {
    "duration": 39,
    "start_time": "2022-01-06T06:28:38.908Z"
   },
   {
    "duration": 57,
    "start_time": "2022-01-06T06:28:48.292Z"
   },
   {
    "duration": 879,
    "start_time": "2022-01-06T06:30:09.756Z"
   },
   {
    "duration": 9,
    "start_time": "2022-01-06T06:30:10.638Z"
   },
   {
    "duration": 236,
    "start_time": "2022-01-06T06:30:10.652Z"
   },
   {
    "duration": 139,
    "start_time": "2022-01-06T06:30:10.891Z"
   },
   {
    "duration": 211,
    "start_time": "2022-01-06T06:30:11.032Z"
   },
   {
    "duration": 33,
    "start_time": "2022-01-06T06:30:11.245Z"
   },
   {
    "duration": 16,
    "start_time": "2022-01-06T06:30:11.280Z"
   },
   {
    "duration": 5,
    "start_time": "2022-01-06T06:30:11.299Z"
   },
   {
    "duration": 136,
    "start_time": "2022-01-06T06:30:11.308Z"
   },
   {
    "duration": 92,
    "start_time": "2022-01-06T06:30:11.447Z"
   },
   {
    "duration": 102,
    "start_time": "2022-01-06T06:30:11.542Z"
   },
   {
    "duration": 67,
    "start_time": "2022-01-06T06:30:11.647Z"
   },
   {
    "duration": 52,
    "start_time": "2022-01-06T06:30:11.716Z"
   },
   {
    "duration": 21,
    "start_time": "2022-01-06T06:30:11.771Z"
   },
   {
    "duration": 29,
    "start_time": "2022-01-06T06:30:11.794Z"
   },
   {
    "duration": 98,
    "start_time": "2022-01-06T06:30:11.826Z"
   },
   {
    "duration": 40,
    "start_time": "2022-01-06T06:30:15.281Z"
   },
   {
    "duration": 33,
    "start_time": "2022-01-06T06:32:14.074Z"
   },
   {
    "duration": 372,
    "start_time": "2022-01-06T06:37:58.028Z"
   },
   {
    "duration": 40,
    "start_time": "2022-01-06T06:38:32.765Z"
   },
   {
    "duration": 42,
    "start_time": "2022-01-06T06:43:22.409Z"
   },
   {
    "duration": 34,
    "start_time": "2022-01-06T06:43:52.232Z"
   },
   {
    "duration": 44,
    "start_time": "2022-01-06T06:44:00.952Z"
   },
   {
    "duration": 782,
    "start_time": "2022-01-06T06:44:56.960Z"
   },
   {
    "duration": 9,
    "start_time": "2022-01-06T06:44:57.744Z"
   },
   {
    "duration": 242,
    "start_time": "2022-01-06T06:44:57.756Z"
   },
   {
    "duration": 145,
    "start_time": "2022-01-06T06:44:58.001Z"
   },
   {
    "duration": 216,
    "start_time": "2022-01-06T06:44:58.148Z"
   },
   {
    "duration": 32,
    "start_time": "2022-01-06T06:44:58.367Z"
   },
   {
    "duration": 15,
    "start_time": "2022-01-06T06:44:58.402Z"
   },
   {
    "duration": 4,
    "start_time": "2022-01-06T06:44:58.420Z"
   },
   {
    "duration": 123,
    "start_time": "2022-01-06T06:44:58.427Z"
   },
   {
    "duration": 110,
    "start_time": "2022-01-06T06:44:58.552Z"
   },
   {
    "duration": 99,
    "start_time": "2022-01-06T06:44:58.665Z"
   },
   {
    "duration": 51,
    "start_time": "2022-01-06T06:44:58.766Z"
   },
   {
    "duration": 54,
    "start_time": "2022-01-06T06:44:58.820Z"
   },
   {
    "duration": 22,
    "start_time": "2022-01-06T06:44:58.877Z"
   },
   {
    "duration": 28,
    "start_time": "2022-01-06T06:44:58.901Z"
   },
   {
    "duration": 95,
    "start_time": "2022-01-06T06:44:58.931Z"
   },
   {
    "duration": 56,
    "start_time": "2022-01-06T06:44:59.028Z"
   },
   {
    "duration": 39,
    "start_time": "2022-01-06T06:44:59.086Z"
   },
   {
    "duration": 333,
    "start_time": "2022-01-06T06:44:59.127Z"
   },
   {
    "duration": 285,
    "start_time": "2022-01-06T06:45:05.662Z"
   },
   {
    "duration": 271,
    "start_time": "2022-01-06T06:45:19.104Z"
   },
   {
    "duration": 266,
    "start_time": "2022-01-06T06:48:39.793Z"
   },
   {
    "duration": 23,
    "start_time": "2022-01-06T06:49:23.434Z"
   },
   {
    "duration": 768,
    "start_time": "2022-01-06T06:50:19.617Z"
   },
   {
    "duration": 9,
    "start_time": "2022-01-06T06:50:20.388Z"
   },
   {
    "duration": 258,
    "start_time": "2022-01-06T06:50:20.404Z"
   },
   {
    "duration": 145,
    "start_time": "2022-01-06T06:50:20.665Z"
   },
   {
    "duration": 222,
    "start_time": "2022-01-06T06:50:20.812Z"
   },
   {
    "duration": 35,
    "start_time": "2022-01-06T06:50:21.037Z"
   },
   {
    "duration": 18,
    "start_time": "2022-01-06T06:50:21.076Z"
   },
   {
    "duration": 8,
    "start_time": "2022-01-06T06:50:21.098Z"
   },
   {
    "duration": 135,
    "start_time": "2022-01-06T06:50:21.109Z"
   },
   {
    "duration": 99,
    "start_time": "2022-01-06T06:50:21.247Z"
   },
   {
    "duration": 115,
    "start_time": "2022-01-06T06:50:21.348Z"
   },
   {
    "duration": 59,
    "start_time": "2022-01-06T06:50:21.465Z"
   },
   {
    "duration": 55,
    "start_time": "2022-01-06T06:50:21.527Z"
   },
   {
    "duration": 22,
    "start_time": "2022-01-06T06:50:21.584Z"
   },
   {
    "duration": 67,
    "start_time": "2022-01-06T06:50:21.609Z"
   },
   {
    "duration": 87,
    "start_time": "2022-01-06T06:50:21.679Z"
   },
   {
    "duration": 39,
    "start_time": "2022-01-06T06:50:21.768Z"
   },
   {
    "duration": 59,
    "start_time": "2022-01-06T06:50:21.809Z"
   },
   {
    "duration": 31,
    "start_time": "2022-01-06T06:50:21.870Z"
   },
   {
    "duration": 845,
    "start_time": "2022-01-06T06:51:04.227Z"
   },
   {
    "duration": 9,
    "start_time": "2022-01-06T06:51:05.075Z"
   },
   {
    "duration": 250,
    "start_time": "2022-01-06T06:51:05.087Z"
   },
   {
    "duration": 146,
    "start_time": "2022-01-06T06:51:05.340Z"
   },
   {
    "duration": 209,
    "start_time": "2022-01-06T06:51:05.488Z"
   },
   {
    "duration": 34,
    "start_time": "2022-01-06T06:51:05.699Z"
   },
   {
    "duration": 29,
    "start_time": "2022-01-06T06:51:05.736Z"
   },
   {
    "duration": 5,
    "start_time": "2022-01-06T06:51:05.769Z"
   },
   {
    "duration": 124,
    "start_time": "2022-01-06T06:51:05.777Z"
   },
   {
    "duration": 108,
    "start_time": "2022-01-06T06:51:05.904Z"
   },
   {
    "duration": 101,
    "start_time": "2022-01-06T06:51:06.014Z"
   },
   {
    "duration": 65,
    "start_time": "2022-01-06T06:51:06.117Z"
   },
   {
    "duration": 34,
    "start_time": "2022-01-06T06:51:06.184Z"
   },
   {
    "duration": 43,
    "start_time": "2022-01-06T06:51:06.220Z"
   },
   {
    "duration": 32,
    "start_time": "2022-01-06T06:51:06.265Z"
   },
   {
    "duration": 92,
    "start_time": "2022-01-06T06:51:06.300Z"
   },
   {
    "duration": 41,
    "start_time": "2022-01-06T06:51:06.394Z"
   },
   {
    "duration": 57,
    "start_time": "2022-01-06T06:51:06.437Z"
   },
   {
    "duration": 68,
    "start_time": "2022-01-06T06:51:06.496Z"
   },
   {
    "duration": 22,
    "start_time": "2022-01-06T07:01:38.907Z"
   },
   {
    "duration": 813,
    "start_time": "2022-01-06T07:06:02.844Z"
   },
   {
    "duration": 12,
    "start_time": "2022-01-06T07:06:03.661Z"
   },
   {
    "duration": 247,
    "start_time": "2022-01-06T07:06:03.677Z"
   },
   {
    "duration": 154,
    "start_time": "2022-01-06T07:06:03.928Z"
   },
   {
    "duration": 236,
    "start_time": "2022-01-06T07:06:04.085Z"
   },
   {
    "duration": 40,
    "start_time": "2022-01-06T07:06:04.324Z"
   },
   {
    "duration": 17,
    "start_time": "2022-01-06T07:06:04.367Z"
   },
   {
    "duration": 5,
    "start_time": "2022-01-06T07:06:04.388Z"
   },
   {
    "duration": 140,
    "start_time": "2022-01-06T07:06:04.399Z"
   },
   {
    "duration": 104,
    "start_time": "2022-01-06T07:06:04.541Z"
   },
   {
    "duration": 96,
    "start_time": "2022-01-06T07:06:04.647Z"
   },
   {
    "duration": 63,
    "start_time": "2022-01-06T07:06:04.746Z"
   },
   {
    "duration": 52,
    "start_time": "2022-01-06T07:06:04.811Z"
   },
   {
    "duration": 20,
    "start_time": "2022-01-06T07:06:04.865Z"
   },
   {
    "duration": 29,
    "start_time": "2022-01-06T07:06:04.888Z"
   },
   {
    "duration": 360,
    "start_time": "2022-01-06T07:06:07.982Z"
   },
   {
    "duration": 306,
    "start_time": "2022-01-06T07:07:34.754Z"
   },
   {
    "duration": 262,
    "start_time": "2022-01-06T07:07:42.593Z"
   },
   {
    "duration": 79,
    "start_time": "2022-01-06T07:08:21.314Z"
   },
   {
    "duration": 41,
    "start_time": "2022-01-06T07:08:22.690Z"
   },
   {
    "duration": 40,
    "start_time": "2022-01-06T07:08:23.602Z"
   },
   {
    "duration": 44,
    "start_time": "2022-01-06T07:08:24.529Z"
   },
   {
    "duration": 6429,
    "start_time": "2022-01-06T07:13:08.482Z"
   },
   {
    "duration": 399,
    "start_time": "2022-01-06T07:13:29.084Z"
   },
   {
    "duration": 262,
    "start_time": "2022-01-06T07:13:42.732Z"
   },
   {
    "duration": 828,
    "start_time": "2022-01-06T07:14:12.324Z"
   },
   {
    "duration": 10,
    "start_time": "2022-01-06T07:14:13.154Z"
   },
   {
    "duration": 249,
    "start_time": "2022-01-06T07:14:13.167Z"
   },
   {
    "duration": 155,
    "start_time": "2022-01-06T07:14:13.419Z"
   },
   {
    "duration": 216,
    "start_time": "2022-01-06T07:14:13.576Z"
   },
   {
    "duration": 33,
    "start_time": "2022-01-06T07:14:13.795Z"
   },
   {
    "duration": 32,
    "start_time": "2022-01-06T07:14:13.830Z"
   },
   {
    "duration": 5,
    "start_time": "2022-01-06T07:14:13.867Z"
   },
   {
    "duration": 124,
    "start_time": "2022-01-06T07:14:13.875Z"
   },
   {
    "duration": 101,
    "start_time": "2022-01-06T07:14:14.001Z"
   },
   {
    "duration": 105,
    "start_time": "2022-01-06T07:14:14.104Z"
   },
   {
    "duration": 64,
    "start_time": "2022-01-06T07:14:14.212Z"
   },
   {
    "duration": 36,
    "start_time": "2022-01-06T07:14:14.278Z"
   },
   {
    "duration": 24,
    "start_time": "2022-01-06T07:14:14.316Z"
   },
   {
    "duration": 48,
    "start_time": "2022-01-06T07:14:14.342Z"
   },
   {
    "duration": 95,
    "start_time": "2022-01-06T07:14:14.393Z"
   },
   {
    "duration": 41,
    "start_time": "2022-01-06T07:14:14.491Z"
   },
   {
    "duration": 58,
    "start_time": "2022-01-06T07:14:14.534Z"
   },
   {
    "duration": 43,
    "start_time": "2022-01-06T07:14:14.595Z"
   },
   {
    "duration": 365,
    "start_time": "2022-01-06T07:14:14.640Z"
   },
   {
    "duration": -2277,
    "start_time": "2022-01-06T07:14:17.285Z"
   },
   {
    "duration": 771,
    "start_time": "2022-01-06T07:18:21.921Z"
   },
   {
    "duration": 10,
    "start_time": "2022-01-06T07:18:22.695Z"
   },
   {
    "duration": 243,
    "start_time": "2022-01-06T07:18:22.709Z"
   },
   {
    "duration": 155,
    "start_time": "2022-01-06T07:18:22.955Z"
   },
   {
    "duration": 214,
    "start_time": "2022-01-06T07:18:23.113Z"
   },
   {
    "duration": 38,
    "start_time": "2022-01-06T07:18:23.329Z"
   },
   {
    "duration": 17,
    "start_time": "2022-01-06T07:18:23.369Z"
   },
   {
    "duration": 5,
    "start_time": "2022-01-06T07:18:23.388Z"
   },
   {
    "duration": 131,
    "start_time": "2022-01-06T07:18:23.396Z"
   },
   {
    "duration": 95,
    "start_time": "2022-01-06T07:18:23.529Z"
   },
   {
    "duration": 102,
    "start_time": "2022-01-06T07:18:23.627Z"
   },
   {
    "duration": 65,
    "start_time": "2022-01-06T07:18:23.731Z"
   },
   {
    "duration": 33,
    "start_time": "2022-01-06T07:18:23.799Z"
   },
   {
    "duration": 38,
    "start_time": "2022-01-06T07:18:23.835Z"
   },
   {
    "duration": 30,
    "start_time": "2022-01-06T07:18:23.875Z"
   },
   {
    "duration": 92,
    "start_time": "2022-01-06T07:18:23.908Z"
   },
   {
    "duration": 41,
    "start_time": "2022-01-06T07:18:24.003Z"
   },
   {
    "duration": 6928,
    "start_time": "2022-01-06T07:18:24.046Z"
   },
   {
    "duration": -2305,
    "start_time": "2022-01-06T07:18:33.282Z"
   },
   {
    "duration": -2305,
    "start_time": "2022-01-06T07:18:33.283Z"
   },
   {
    "duration": -2305,
    "start_time": "2022-01-06T07:18:33.284Z"
   },
   {
    "duration": 43,
    "start_time": "2022-01-06T07:18:52.007Z"
   },
   {
    "duration": 48,
    "start_time": "2022-01-06T07:18:54.687Z"
   },
   {
    "duration": 1485,
    "start_time": "2022-01-06T07:19:04.287Z"
   },
   {
    "duration": 25,
    "start_time": "2022-01-06T07:19:24.576Z"
   },
   {
    "duration": 19,
    "start_time": "2022-01-06T07:19:46.880Z"
   },
   {
    "duration": 818,
    "start_time": "2022-01-06T07:20:53.959Z"
   },
   {
    "duration": 10,
    "start_time": "2022-01-06T07:20:54.780Z"
   },
   {
    "duration": 254,
    "start_time": "2022-01-06T07:20:54.794Z"
   },
   {
    "duration": 140,
    "start_time": "2022-01-06T07:20:55.050Z"
   },
   {
    "duration": 205,
    "start_time": "2022-01-06T07:20:55.192Z"
   },
   {
    "duration": 33,
    "start_time": "2022-01-06T07:20:55.400Z"
   },
   {
    "duration": 29,
    "start_time": "2022-01-06T07:20:55.435Z"
   },
   {
    "duration": 3,
    "start_time": "2022-01-06T07:20:55.468Z"
   },
   {
    "duration": 121,
    "start_time": "2022-01-06T07:20:55.474Z"
   },
   {
    "duration": 100,
    "start_time": "2022-01-06T07:20:55.597Z"
   },
   {
    "duration": 103,
    "start_time": "2022-01-06T07:20:55.700Z"
   },
   {
    "duration": 60,
    "start_time": "2022-01-06T07:20:55.806Z"
   },
   {
    "duration": 34,
    "start_time": "2022-01-06T07:20:55.869Z"
   },
   {
    "duration": 21,
    "start_time": "2022-01-06T07:20:55.906Z"
   },
   {
    "duration": 56,
    "start_time": "2022-01-06T07:20:55.930Z"
   },
   {
    "duration": 85,
    "start_time": "2022-01-06T07:20:55.989Z"
   },
   {
    "duration": 39,
    "start_time": "2022-01-06T07:20:56.076Z"
   },
   {
    "duration": 59,
    "start_time": "2022-01-06T07:20:56.117Z"
   },
   {
    "duration": 45,
    "start_time": "2022-01-06T07:20:56.178Z"
   },
   {
    "duration": 45,
    "start_time": "2022-01-06T07:20:56.226Z"
   },
   {
    "duration": 3,
    "start_time": "2022-01-06T07:20:56.273Z"
   },
   {
    "duration": 1212,
    "start_time": "2022-01-06T07:21:28.382Z"
   },
   {
    "duration": 1005,
    "start_time": "2022-01-06T07:23:39.711Z"
   },
   {
    "duration": 261,
    "start_time": "2022-01-06T07:23:56.031Z"
   },
   {
    "duration": 319,
    "start_time": "2022-01-06T07:24:48.540Z"
   },
   {
    "duration": 803,
    "start_time": "2022-01-06T07:24:56.809Z"
   },
   {
    "duration": 10,
    "start_time": "2022-01-06T07:24:57.615Z"
   },
   {
    "duration": 241,
    "start_time": "2022-01-06T07:24:57.627Z"
   },
   {
    "duration": 157,
    "start_time": "2022-01-06T07:24:57.871Z"
   },
   {
    "duration": 218,
    "start_time": "2022-01-06T07:24:58.031Z"
   },
   {
    "duration": 34,
    "start_time": "2022-01-06T07:24:58.263Z"
   },
   {
    "duration": 20,
    "start_time": "2022-01-06T07:24:58.299Z"
   },
   {
    "duration": 10,
    "start_time": "2022-01-06T07:24:58.322Z"
   },
   {
    "duration": 111,
    "start_time": "2022-01-06T07:24:58.335Z"
   },
   {
    "duration": 93,
    "start_time": "2022-01-06T07:24:58.449Z"
   },
   {
    "duration": 93,
    "start_time": "2022-01-06T07:24:58.544Z"
   },
   {
    "duration": 62,
    "start_time": "2022-01-06T07:24:58.640Z"
   },
   {
    "duration": 59,
    "start_time": "2022-01-06T07:24:58.705Z"
   },
   {
    "duration": 21,
    "start_time": "2022-01-06T07:24:58.767Z"
   },
   {
    "duration": 30,
    "start_time": "2022-01-06T07:24:58.791Z"
   },
   {
    "duration": 95,
    "start_time": "2022-01-06T07:24:58.824Z"
   },
   {
    "duration": 54,
    "start_time": "2022-01-06T07:24:58.922Z"
   },
   {
    "duration": 39,
    "start_time": "2022-01-06T07:24:58.978Z"
   },
   {
    "duration": 69,
    "start_time": "2022-01-06T07:24:59.019Z"
   },
   {
    "duration": 7,
    "start_time": "2022-01-06T07:24:59.091Z"
   },
   {
    "duration": 397,
    "start_time": "2022-01-06T07:24:59.100Z"
   },
   {
    "duration": -2251,
    "start_time": "2022-01-06T07:25:01.751Z"
   },
   {
    "duration": 409,
    "start_time": "2022-01-06T07:26:23.430Z"
   },
   {
    "duration": 282,
    "start_time": "2022-01-06T07:26:42.608Z"
   },
   {
    "duration": 1580,
    "start_time": "2022-01-06T07:27:16.048Z"
   },
   {
    "duration": 785,
    "start_time": "2022-01-06T07:27:37.690Z"
   },
   {
    "duration": 9,
    "start_time": "2022-01-06T07:27:38.478Z"
   },
   {
    "duration": 248,
    "start_time": "2022-01-06T07:27:38.491Z"
   },
   {
    "duration": 143,
    "start_time": "2022-01-06T07:27:38.742Z"
   },
   {
    "duration": 208,
    "start_time": "2022-01-06T07:27:38.887Z"
   },
   {
    "duration": 34,
    "start_time": "2022-01-06T07:27:39.097Z"
   },
   {
    "duration": 33,
    "start_time": "2022-01-06T07:27:39.133Z"
   },
   {
    "duration": 5,
    "start_time": "2022-01-06T07:27:39.169Z"
   },
   {
    "duration": 182,
    "start_time": "2022-01-06T07:27:39.180Z"
   },
   {
    "duration": 140,
    "start_time": "2022-01-06T07:27:39.365Z"
   },
   {
    "duration": 93,
    "start_time": "2022-01-06T07:27:39.508Z"
   },
   {
    "duration": 70,
    "start_time": "2022-01-06T07:27:39.603Z"
   },
   {
    "duration": 33,
    "start_time": "2022-01-06T07:27:39.675Z"
   },
   {
    "duration": 21,
    "start_time": "2022-01-06T07:27:39.711Z"
   },
   {
    "duration": 52,
    "start_time": "2022-01-06T07:27:39.735Z"
   },
   {
    "duration": 82,
    "start_time": "2022-01-06T07:27:39.790Z"
   },
   {
    "duration": 39,
    "start_time": "2022-01-06T07:27:39.874Z"
   },
   {
    "duration": 65,
    "start_time": "2022-01-06T07:27:39.915Z"
   },
   {
    "duration": 44,
    "start_time": "2022-01-06T07:27:39.982Z"
   },
   {
    "duration": 11,
    "start_time": "2022-01-06T07:27:42.632Z"
   },
   {
    "duration": 31,
    "start_time": "2022-01-06T07:27:53.098Z"
   },
   {
    "duration": 793,
    "start_time": "2022-01-06T07:31:14.265Z"
   },
   {
    "duration": 10,
    "start_time": "2022-01-06T07:31:15.061Z"
   },
   {
    "duration": 248,
    "start_time": "2022-01-06T07:31:15.077Z"
   },
   {
    "duration": 144,
    "start_time": "2022-01-06T07:31:15.327Z"
   },
   {
    "duration": 203,
    "start_time": "2022-01-06T07:31:15.474Z"
   },
   {
    "duration": 32,
    "start_time": "2022-01-06T07:31:15.679Z"
   },
   {
    "duration": 15,
    "start_time": "2022-01-06T07:31:15.715Z"
   },
   {
    "duration": 31,
    "start_time": "2022-01-06T07:31:15.733Z"
   },
   {
    "duration": 109,
    "start_time": "2022-01-06T07:31:15.767Z"
   },
   {
    "duration": 101,
    "start_time": "2022-01-06T07:31:15.878Z"
   },
   {
    "duration": 98,
    "start_time": "2022-01-06T07:31:15.981Z"
   },
   {
    "duration": 51,
    "start_time": "2022-01-06T07:31:16.081Z"
   },
   {
    "duration": 51,
    "start_time": "2022-01-06T07:31:16.134Z"
   },
   {
    "duration": 20,
    "start_time": "2022-01-06T07:31:16.187Z"
   },
   {
    "duration": 28,
    "start_time": "2022-01-06T07:31:16.209Z"
   },
   {
    "duration": 90,
    "start_time": "2022-01-06T07:31:16.239Z"
   },
   {
    "duration": 62,
    "start_time": "2022-01-06T07:31:16.331Z"
   },
   {
    "duration": 39,
    "start_time": "2022-01-06T07:31:16.395Z"
   },
   {
    "duration": 63,
    "start_time": "2022-01-06T07:31:16.437Z"
   },
   {
    "duration": 62,
    "start_time": "2022-01-06T07:31:16.502Z"
   },
   {
    "duration": 3,
    "start_time": "2022-01-06T07:31:16.567Z"
   },
   {
    "duration": 85,
    "start_time": "2022-01-06T07:36:26.679Z"
   },
   {
    "duration": 10,
    "start_time": "2022-01-06T07:37:32.191Z"
   },
   {
    "duration": 24,
    "start_time": "2022-01-06T07:38:09.520Z"
   },
   {
    "duration": 85,
    "start_time": "2022-01-06T08:43:04.699Z"
   },
   {
    "duration": 348,
    "start_time": "2022-01-06T08:43:13.260Z"
   },
   {
    "duration": 35,
    "start_time": "2022-01-06T08:43:25.709Z"
   },
   {
    "duration": 30,
    "start_time": "2022-01-06T08:45:07.006Z"
   },
   {
    "duration": 795,
    "start_time": "2022-01-06T08:45:24.974Z"
   },
   {
    "duration": 13,
    "start_time": "2022-01-06T08:45:25.772Z"
   },
   {
    "duration": 246,
    "start_time": "2022-01-06T08:45:25.789Z"
   },
   {
    "duration": 149,
    "start_time": "2022-01-06T08:45:26.037Z"
   },
   {
    "duration": 214,
    "start_time": "2022-01-06T08:45:26.188Z"
   },
   {
    "duration": 33,
    "start_time": "2022-01-06T08:45:26.405Z"
   },
   {
    "duration": 25,
    "start_time": "2022-01-06T08:45:26.440Z"
   },
   {
    "duration": 4,
    "start_time": "2022-01-06T08:45:26.470Z"
   },
   {
    "duration": 123,
    "start_time": "2022-01-06T08:45:26.477Z"
   },
   {
    "duration": 99,
    "start_time": "2022-01-06T08:45:26.602Z"
   },
   {
    "duration": 101,
    "start_time": "2022-01-06T08:45:26.704Z"
   },
   {
    "duration": 61,
    "start_time": "2022-01-06T08:45:26.808Z"
   },
   {
    "duration": 29,
    "start_time": "2022-01-06T08:45:26.871Z"
   },
   {
    "duration": 22,
    "start_time": "2022-01-06T08:45:26.903Z"
   },
   {
    "duration": 54,
    "start_time": "2022-01-06T08:45:26.927Z"
   },
   {
    "duration": 101,
    "start_time": "2022-01-06T08:45:26.984Z"
   },
   {
    "duration": 39,
    "start_time": "2022-01-06T08:45:27.087Z"
   },
   {
    "duration": 65,
    "start_time": "2022-01-06T08:45:27.128Z"
   },
   {
    "duration": 45,
    "start_time": "2022-01-06T08:45:27.195Z"
   },
   {
    "duration": 47,
    "start_time": "2022-01-06T08:45:27.242Z"
   },
   {
    "duration": 22,
    "start_time": "2022-01-06T08:45:27.292Z"
   },
   {
    "duration": 59,
    "start_time": "2022-01-06T08:45:27.316Z"
   },
   {
    "duration": 15,
    "start_time": "2022-01-06T08:46:52.731Z"
   },
   {
    "duration": 13,
    "start_time": "2022-01-06T08:47:18.451Z"
   },
   {
    "duration": 29,
    "start_time": "2022-01-06T08:47:53.819Z"
   },
   {
    "duration": 46412,
    "start_time": "2022-01-06T08:49:29.597Z"
   },
   {
    "duration": 3936,
    "start_time": "2022-01-06T08:50:40.701Z"
   },
   {
    "duration": 808,
    "start_time": "2022-01-06T08:50:49.648Z"
   },
   {
    "duration": 10,
    "start_time": "2022-01-06T08:50:50.459Z"
   },
   {
    "duration": 254,
    "start_time": "2022-01-06T08:50:50.475Z"
   },
   {
    "duration": 150,
    "start_time": "2022-01-06T08:50:50.732Z"
   },
   {
    "duration": 211,
    "start_time": "2022-01-06T08:50:50.884Z"
   },
   {
    "duration": 34,
    "start_time": "2022-01-06T08:50:51.097Z"
   },
   {
    "duration": 29,
    "start_time": "2022-01-06T08:50:51.135Z"
   },
   {
    "duration": 4,
    "start_time": "2022-01-06T08:50:51.167Z"
   },
   {
    "duration": 122,
    "start_time": "2022-01-06T08:50:51.173Z"
   },
   {
    "duration": 100,
    "start_time": "2022-01-06T08:50:51.297Z"
   },
   {
    "duration": 100,
    "start_time": "2022-01-06T08:50:51.400Z"
   },
   {
    "duration": 71,
    "start_time": "2022-01-06T08:50:51.503Z"
   },
   {
    "duration": 35,
    "start_time": "2022-01-06T08:50:51.576Z"
   },
   {
    "duration": 51,
    "start_time": "2022-01-06T08:50:51.613Z"
   },
   {
    "duration": 40,
    "start_time": "2022-01-06T08:50:51.668Z"
   },
   {
    "duration": 106,
    "start_time": "2022-01-06T08:50:51.711Z"
   },
   {
    "duration": 55,
    "start_time": "2022-01-06T08:50:51.819Z"
   },
   {
    "duration": 43,
    "start_time": "2022-01-06T08:50:51.877Z"
   },
   {
    "duration": 66,
    "start_time": "2022-01-06T08:50:51.922Z"
   },
   {
    "duration": 32,
    "start_time": "2022-01-06T08:50:51.990Z"
   },
   {
    "duration": 47,
    "start_time": "2022-01-06T08:50:52.024Z"
   },
   {
    "duration": 74691,
    "start_time": "2022-01-06T08:50:52.075Z"
   },
   {
    "duration": -2311,
    "start_time": "2022-01-06T08:57:07.763Z"
   },
   {
    "duration": 31,
    "start_time": "2022-01-06T08:57:07.254Z"
   },
   {
    "duration": 4309,
    "start_time": "2022-01-06T09:05:43.678Z"
   },
   {
    "duration": 3564,
    "start_time": "2022-01-06T09:06:24.827Z"
   },
   {
    "duration": 4158,
    "start_time": "2022-01-06T09:08:03.418Z"
   },
   {
    "duration": 6521,
    "start_time": "2022-01-06T09:08:34.490Z"
   },
   {
    "duration": 6390,
    "start_time": "2022-01-06T09:09:00.787Z"
   },
   {
    "duration": 6324,
    "start_time": "2022-01-06T09:10:06.397Z"
   },
   {
    "duration": 5424,
    "start_time": "2022-01-06T09:12:30.732Z"
   },
   {
    "duration": 6196,
    "start_time": "2022-01-06T09:13:03.140Z"
   },
   {
    "duration": 792,
    "start_time": "2022-01-06T09:18:18.063Z"
   },
   {
    "duration": 9,
    "start_time": "2022-01-06T09:18:18.858Z"
   },
   {
    "duration": 238,
    "start_time": "2022-01-06T09:18:18.870Z"
   },
   {
    "duration": 146,
    "start_time": "2022-01-06T09:18:19.110Z"
   },
   {
    "duration": 212,
    "start_time": "2022-01-06T09:18:19.258Z"
   },
   {
    "duration": 34,
    "start_time": "2022-01-06T09:18:19.473Z"
   },
   {
    "duration": 16,
    "start_time": "2022-01-06T09:18:19.510Z"
   },
   {
    "duration": 4,
    "start_time": "2022-01-06T09:18:19.532Z"
   },
   {
    "duration": 141,
    "start_time": "2022-01-06T09:18:19.539Z"
   },
   {
    "duration": 107,
    "start_time": "2022-01-06T09:18:19.682Z"
   },
   {
    "duration": 102,
    "start_time": "2022-01-06T09:18:19.793Z"
   },
   {
    "duration": 65,
    "start_time": "2022-01-06T09:18:19.898Z"
   },
   {
    "duration": 33,
    "start_time": "2022-01-06T09:18:19.965Z"
   },
   {
    "duration": 21,
    "start_time": "2022-01-06T09:18:20.000Z"
   },
   {
    "duration": 59,
    "start_time": "2022-01-06T09:18:20.023Z"
   },
   {
    "duration": 82,
    "start_time": "2022-01-06T09:18:20.084Z"
   },
   {
    "duration": 40,
    "start_time": "2022-01-06T09:18:20.169Z"
   },
   {
    "duration": 63,
    "start_time": "2022-01-06T09:18:20.211Z"
   },
   {
    "duration": 53,
    "start_time": "2022-01-06T09:18:20.278Z"
   },
   {
    "duration": 57,
    "start_time": "2022-01-06T09:18:20.333Z"
   },
   {
    "duration": 25,
    "start_time": "2022-01-06T09:18:20.392Z"
   },
   {
    "duration": 13347,
    "start_time": "2022-01-06T09:18:20.419Z"
   },
   {
    "duration": 12504,
    "start_time": "2022-01-06T09:20:35.656Z"
   },
   {
    "duration": 122,
    "start_time": "2022-01-06T09:21:54.064Z"
   },
   {
    "duration": 303,
    "start_time": "2022-01-06T09:25:19.151Z"
   },
   {
    "duration": 283,
    "start_time": "2022-01-06T09:25:53.112Z"
   },
   {
    "duration": 279,
    "start_time": "2022-01-06T09:26:03.192Z"
   },
   {
    "duration": 92,
    "start_time": "2022-01-06T09:28:08.217Z"
   },
   {
    "duration": 84,
    "start_time": "2022-01-06T09:28:24.810Z"
   },
   {
    "duration": 2508,
    "start_time": "2022-01-06T09:28:51.866Z"
   },
   {
    "duration": 113,
    "start_time": "2022-01-06T09:30:15.410Z"
   },
   {
    "duration": 124,
    "start_time": "2022-01-06T09:33:18.580Z"
   },
   {
    "duration": 218,
    "start_time": "2022-01-06T09:34:15.245Z"
   },
   {
    "duration": 139,
    "start_time": "2022-01-06T09:34:57.085Z"
   },
   {
    "duration": 20,
    "start_time": "2022-01-06T09:35:45.921Z"
   },
   {
    "duration": 37,
    "start_time": "2022-01-06T09:35:55.553Z"
   },
   {
    "duration": 118,
    "start_time": "2022-01-06T09:36:46.801Z"
   },
   {
    "duration": 124,
    "start_time": "2022-01-06T09:51:34.439Z"
   },
   {
    "duration": 106,
    "start_time": "2022-01-06T09:52:15.712Z"
   },
   {
    "duration": 107,
    "start_time": "2022-01-06T09:53:35.624Z"
   },
   {
    "duration": 1035,
    "start_time": "2022-01-08T06:29:15.822Z"
   },
   {
    "duration": 10,
    "start_time": "2022-01-08T06:29:20.176Z"
   },
   {
    "duration": 249,
    "start_time": "2022-01-08T06:31:17.494Z"
   },
   {
    "duration": 154,
    "start_time": "2022-01-08T06:31:20.263Z"
   },
   {
    "duration": 213,
    "start_time": "2022-01-08T06:31:30.014Z"
   },
   {
    "duration": 29,
    "start_time": "2022-01-08T06:31:33.511Z"
   },
   {
    "duration": 16,
    "start_time": "2022-01-08T06:31:37.118Z"
   },
   {
    "duration": 5,
    "start_time": "2022-01-08T06:31:38.263Z"
   },
   {
    "duration": 104,
    "start_time": "2022-01-08T06:31:54.759Z"
   },
   {
    "duration": 94,
    "start_time": "2022-01-08T06:31:57.271Z"
   },
   {
    "duration": 87,
    "start_time": "2022-01-08T06:32:01.183Z"
   },
   {
    "duration": 51,
    "start_time": "2022-01-08T06:32:06.225Z"
   },
   {
    "duration": 34,
    "start_time": "2022-01-08T06:32:59.280Z"
   },
   {
    "duration": 33,
    "start_time": "2022-01-08T06:33:01.623Z"
   },
   {
    "duration": 22,
    "start_time": "2022-01-08T06:33:05.327Z"
   },
   {
    "duration": 28,
    "start_time": "2022-01-08T06:33:32.711Z"
   },
   {
    "duration": 64,
    "start_time": "2022-01-08T06:33:38.192Z"
   },
   {
    "duration": 40,
    "start_time": "2022-01-08T06:33:39.752Z"
   },
   {
    "duration": 40,
    "start_time": "2022-01-08T06:33:42.335Z"
   },
   {
    "duration": 43,
    "start_time": "2022-01-08T06:33:43.704Z"
   },
   {
    "duration": 31,
    "start_time": "2022-01-08T06:33:51.800Z"
   },
   {
    "duration": 22,
    "start_time": "2022-01-08T06:34:31.088Z"
   },
   {
    "duration": 108,
    "start_time": "2022-01-08T06:34:35.576Z"
   },
   {
    "duration": 239,
    "start_time": "2022-01-08T07:11:00.988Z"
   },
   {
    "duration": 838,
    "start_time": "2022-01-08T07:11:13.076Z"
   },
   {
    "duration": 10,
    "start_time": "2022-01-08T07:11:17.804Z"
   },
   {
    "duration": 265,
    "start_time": "2022-01-08T07:11:20.356Z"
   },
   {
    "duration": 141,
    "start_time": "2022-01-08T07:11:22.580Z"
   },
   {
    "duration": 201,
    "start_time": "2022-01-08T07:11:25.691Z"
   },
   {
    "duration": 31,
    "start_time": "2022-01-08T07:11:31.643Z"
   },
   {
    "duration": 4,
    "start_time": "2022-01-08T07:12:00.509Z"
   },
   {
    "duration": 100,
    "start_time": "2022-01-08T07:12:07.557Z"
   },
   {
    "duration": 83,
    "start_time": "2022-01-08T07:12:10.812Z"
   },
   {
    "duration": 84,
    "start_time": "2022-01-08T07:12:17.589Z"
   },
   {
    "duration": 50,
    "start_time": "2022-01-08T07:12:39.204Z"
   },
   {
    "duration": 48,
    "start_time": "2022-01-08T07:12:51.892Z"
   },
   {
    "duration": 23,
    "start_time": "2022-01-08T07:12:54.660Z"
   },
   {
    "duration": 32,
    "start_time": "2022-01-08T07:13:00.268Z"
   },
   {
    "duration": 475,
    "start_time": "2022-01-08T07:13:16.862Z"
   },
   {
    "duration": 811,
    "start_time": "2022-01-08T07:13:51.640Z"
   },
   {
    "duration": 10,
    "start_time": "2022-01-08T07:13:52.453Z"
   },
   {
    "duration": 246,
    "start_time": "2022-01-08T07:13:52.466Z"
   },
   {
    "duration": 138,
    "start_time": "2022-01-08T07:13:52.717Z"
   },
   {
    "duration": 207,
    "start_time": "2022-01-08T07:13:52.857Z"
   },
   {
    "duration": 29,
    "start_time": "2022-01-08T07:13:53.066Z"
   },
   {
    "duration": 3,
    "start_time": "2022-01-08T07:13:53.097Z"
   },
   {
    "duration": 120,
    "start_time": "2022-01-08T07:13:53.103Z"
   },
   {
    "duration": 97,
    "start_time": "2022-01-08T07:13:53.226Z"
   },
   {
    "duration": 95,
    "start_time": "2022-01-08T07:13:53.325Z"
   },
   {
    "duration": 63,
    "start_time": "2022-01-08T07:13:53.423Z"
   },
   {
    "duration": 49,
    "start_time": "2022-01-08T07:13:53.489Z"
   },
   {
    "duration": 22,
    "start_time": "2022-01-08T07:13:53.541Z"
   },
   {
    "duration": 28,
    "start_time": "2022-01-08T07:13:56.329Z"
   },
   {
    "duration": 67,
    "start_time": "2022-01-08T07:14:23.058Z"
   },
   {
    "duration": 38,
    "start_time": "2022-01-08T07:14:24.498Z"
   },
   {
    "duration": 39,
    "start_time": "2022-01-08T07:14:26.082Z"
   },
   {
    "duration": 45,
    "start_time": "2022-01-08T07:14:27.314Z"
   },
   {
    "duration": 38,
    "start_time": "2022-01-08T07:16:24.043Z"
   },
   {
    "duration": 28,
    "start_time": "2022-01-08T07:16:34.895Z"
   },
   {
    "duration": 29,
    "start_time": "2022-01-08T07:19:17.703Z"
   },
   {
    "duration": 841,
    "start_time": "2022-01-08T07:22:15.621Z"
   },
   {
    "duration": 26,
    "start_time": "2022-01-08T07:22:17.832Z"
   },
   {
    "duration": 16,
    "start_time": "2022-01-08T07:22:58.044Z"
   },
   {
    "duration": 9,
    "start_time": "2022-01-08T07:25:40.101Z"
   },
   {
    "duration": 259,
    "start_time": "2022-01-08T07:25:42.885Z"
   },
   {
    "duration": 158,
    "start_time": "2022-01-08T07:25:45.382Z"
   },
   {
    "duration": 210,
    "start_time": "2022-01-08T07:25:47.881Z"
   },
   {
    "duration": 35,
    "start_time": "2022-01-08T07:25:57.401Z"
   },
   {
    "duration": 5,
    "start_time": "2022-01-08T07:26:05.217Z"
   },
   {
    "duration": 100,
    "start_time": "2022-01-08T07:26:06.609Z"
   },
   {
    "duration": 89,
    "start_time": "2022-01-08T07:26:09.004Z"
   },
   {
    "duration": 94,
    "start_time": "2022-01-08T07:26:12.297Z"
   },
   {
    "duration": 54,
    "start_time": "2022-01-08T07:26:14.081Z"
   },
   {
    "duration": 33,
    "start_time": "2022-01-08T07:26:21.673Z"
   },
   {
    "duration": 15,
    "start_time": "2022-01-08T07:26:24.689Z"
   },
   {
    "duration": 30,
    "start_time": "2022-01-08T07:26:31.497Z"
   },
   {
    "duration": 65,
    "start_time": "2022-01-08T07:26:35.457Z"
   },
   {
    "duration": 45,
    "start_time": "2022-01-08T07:26:36.289Z"
   },
   {
    "duration": 42,
    "start_time": "2022-01-08T07:26:38.705Z"
   },
   {
    "duration": 49,
    "start_time": "2022-01-08T07:26:39.865Z"
   },
   {
    "duration": 38,
    "start_time": "2022-01-08T07:26:42.097Z"
   },
   {
    "duration": 29,
    "start_time": "2022-01-08T07:26:45.561Z"
   },
   {
    "duration": 30,
    "start_time": "2022-01-08T07:26:50.490Z"
   },
   {
    "duration": 759,
    "start_time": "2022-01-08T07:30:46.763Z"
   },
   {
    "duration": 8,
    "start_time": "2022-01-08T07:30:47.525Z"
   },
   {
    "duration": 243,
    "start_time": "2022-01-08T07:30:47.536Z"
   },
   {
    "duration": 138,
    "start_time": "2022-01-08T07:30:47.782Z"
   },
   {
    "duration": 210,
    "start_time": "2022-01-08T07:30:47.922Z"
   },
   {
    "duration": 30,
    "start_time": "2022-01-08T07:30:48.135Z"
   },
   {
    "duration": 4,
    "start_time": "2022-01-08T07:30:48.167Z"
   },
   {
    "duration": 113,
    "start_time": "2022-01-08T07:30:48.174Z"
   },
   {
    "duration": 100,
    "start_time": "2022-01-08T07:30:48.291Z"
   },
   {
    "duration": 100,
    "start_time": "2022-01-08T07:30:48.393Z"
   },
   {
    "duration": 65,
    "start_time": "2022-01-08T07:30:48.495Z"
   },
   {
    "duration": 33,
    "start_time": "2022-01-08T07:30:48.562Z"
   },
   {
    "duration": 37,
    "start_time": "2022-01-08T07:30:48.597Z"
   },
   {
    "duration": 28,
    "start_time": "2022-01-08T07:30:48.636Z"
   },
   {
    "duration": 96,
    "start_time": "2022-01-08T07:30:48.666Z"
   },
   {
    "duration": 58,
    "start_time": "2022-01-08T07:30:48.765Z"
   },
   {
    "duration": 39,
    "start_time": "2022-01-08T07:30:48.826Z"
   },
   {
    "duration": 457,
    "start_time": "2022-01-08T07:30:55.015Z"
   },
   {
    "duration": 800,
    "start_time": "2022-01-08T07:32:31.658Z"
   },
   {
    "duration": 12,
    "start_time": "2022-01-08T07:32:32.462Z"
   },
   {
    "duration": 253,
    "start_time": "2022-01-08T07:32:32.478Z"
   },
   {
    "duration": 152,
    "start_time": "2022-01-08T07:32:32.735Z"
   },
   {
    "duration": 227,
    "start_time": "2022-01-08T07:32:32.890Z"
   },
   {
    "duration": 30,
    "start_time": "2022-01-08T07:32:33.119Z"
   },
   {
    "duration": 4,
    "start_time": "2022-01-08T07:32:33.151Z"
   },
   {
    "duration": 121,
    "start_time": "2022-01-08T07:32:33.159Z"
   },
   {
    "duration": 94,
    "start_time": "2022-01-08T07:32:33.283Z"
   },
   {
    "duration": 112,
    "start_time": "2022-01-08T07:32:33.379Z"
   },
   {
    "duration": 53,
    "start_time": "2022-01-08T07:32:33.494Z"
   },
   {
    "duration": 33,
    "start_time": "2022-01-08T07:32:33.550Z"
   },
   {
    "duration": 21,
    "start_time": "2022-01-08T07:32:33.585Z"
   },
   {
    "duration": 29,
    "start_time": "2022-01-08T07:32:33.609Z"
   },
   {
    "duration": 76,
    "start_time": "2022-01-08T07:32:33.640Z"
   },
   {
    "duration": 39,
    "start_time": "2022-01-08T07:32:33.719Z"
   },
   {
    "duration": 39,
    "start_time": "2022-01-08T07:32:33.760Z"
   },
   {
    "duration": 49,
    "start_time": "2022-01-08T07:32:33.802Z"
   },
   {
    "duration": 36,
    "start_time": "2022-01-08T07:32:33.853Z"
   },
   {
    "duration": 38,
    "start_time": "2022-01-08T07:32:33.891Z"
   },
   {
    "duration": 29,
    "start_time": "2022-01-08T07:32:33.931Z"
   },
   {
    "duration": 114,
    "start_time": "2022-01-08T07:32:33.962Z"
   },
   {
    "duration": 107,
    "start_time": "2022-01-08T07:32:34.080Z"
   },
   {
    "duration": 39,
    "start_time": "2022-01-08T07:34:26.899Z"
   },
   {
    "duration": 410,
    "start_time": "2022-01-08T07:38:47.971Z"
   },
   {
    "duration": 9804,
    "start_time": "2022-01-08T07:39:04.411Z"
   },
   {
    "duration": 33,
    "start_time": "2022-01-08T07:39:31.004Z"
   },
   {
    "duration": 31,
    "start_time": "2022-01-08T07:39:54.236Z"
   },
   {
    "duration": 6696,
    "start_time": "2022-01-08T07:41:05.223Z"
   },
   {
    "duration": 845,
    "start_time": "2022-01-08T07:41:31.295Z"
   },
   {
    "duration": 10,
    "start_time": "2022-01-08T07:41:32.142Z"
   },
   {
    "duration": 239,
    "start_time": "2022-01-08T07:41:32.155Z"
   },
   {
    "duration": 149,
    "start_time": "2022-01-08T07:41:32.397Z"
   },
   {
    "duration": 216,
    "start_time": "2022-01-08T07:41:32.549Z"
   },
   {
    "duration": 31,
    "start_time": "2022-01-08T07:41:32.768Z"
   },
   {
    "duration": 15,
    "start_time": "2022-01-08T07:41:32.817Z"
   },
   {
    "duration": 108,
    "start_time": "2022-01-08T07:41:32.834Z"
   },
   {
    "duration": 98,
    "start_time": "2022-01-08T07:41:32.946Z"
   },
   {
    "duration": 101,
    "start_time": "2022-01-08T07:41:33.046Z"
   },
   {
    "duration": 52,
    "start_time": "2022-01-08T07:41:33.149Z"
   },
   {
    "duration": 34,
    "start_time": "2022-01-08T07:41:33.216Z"
   },
   {
    "duration": 21,
    "start_time": "2022-01-08T07:41:33.252Z"
   },
   {
    "duration": 55,
    "start_time": "2022-01-08T07:41:33.275Z"
   },
   {
    "duration": 92,
    "start_time": "2022-01-08T07:41:33.332Z"
   },
   {
    "duration": 42,
    "start_time": "2022-01-08T07:41:33.427Z"
   },
   {
    "duration": 67,
    "start_time": "2022-01-08T07:41:33.473Z"
   },
   {
    "duration": 45,
    "start_time": "2022-01-08T07:41:33.542Z"
   },
   {
    "duration": 61,
    "start_time": "2022-01-08T07:41:33.589Z"
   },
   {
    "duration": 26,
    "start_time": "2022-01-08T07:41:33.652Z"
   },
   {
    "duration": 61,
    "start_time": "2022-01-08T07:41:33.680Z"
   },
   {
    "duration": 6860,
    "start_time": "2022-01-08T07:41:37.699Z"
   },
   {
    "duration": 6345,
    "start_time": "2022-01-08T07:44:36.861Z"
   },
   {
    "duration": 8,
    "start_time": "2022-01-08T07:44:55.581Z"
   },
   {
    "duration": 8382,
    "start_time": "2022-01-08T07:46:08.022Z"
   },
   {
    "duration": 809,
    "start_time": "2022-01-08T07:47:01.858Z"
   },
   {
    "duration": 10,
    "start_time": "2022-01-08T07:47:02.670Z"
   },
   {
    "duration": 256,
    "start_time": "2022-01-08T07:47:02.683Z"
   },
   {
    "duration": 147,
    "start_time": "2022-01-08T07:47:02.942Z"
   },
   {
    "duration": 204,
    "start_time": "2022-01-08T07:47:03.091Z"
   },
   {
    "duration": 29,
    "start_time": "2022-01-08T07:47:03.297Z"
   },
   {
    "duration": 4,
    "start_time": "2022-01-08T07:47:03.329Z"
   },
   {
    "duration": 120,
    "start_time": "2022-01-08T07:47:03.335Z"
   },
   {
    "duration": 101,
    "start_time": "2022-01-08T07:47:03.459Z"
   },
   {
    "duration": 106,
    "start_time": "2022-01-08T07:47:03.563Z"
   },
   {
    "duration": 59,
    "start_time": "2022-01-08T07:47:03.672Z"
   },
   {
    "duration": 34,
    "start_time": "2022-01-08T07:47:03.733Z"
   },
   {
    "duration": 22,
    "start_time": "2022-01-08T07:47:03.769Z"
   },
   {
    "duration": 50,
    "start_time": "2022-01-08T07:47:03.793Z"
   },
   {
    "duration": 84,
    "start_time": "2022-01-08T07:47:03.845Z"
   },
   {
    "duration": 38,
    "start_time": "2022-01-08T07:47:03.932Z"
   },
   {
    "duration": 64,
    "start_time": "2022-01-08T07:47:03.972Z"
   },
   {
    "duration": 45,
    "start_time": "2022-01-08T07:47:04.038Z"
   },
   {
    "duration": 58,
    "start_time": "2022-01-08T07:47:04.086Z"
   },
   {
    "duration": 27,
    "start_time": "2022-01-08T07:47:04.146Z"
   },
   {
    "duration": 65,
    "start_time": "2022-01-08T07:47:04.175Z"
   },
   {
    "duration": 34,
    "start_time": "2022-01-08T07:47:52.799Z"
   },
   {
    "duration": 53,
    "start_time": "2022-01-08T07:48:05.992Z"
   },
   {
    "duration": 16,
    "start_time": "2022-01-08T07:49:13.337Z"
   },
   {
    "duration": 843,
    "start_time": "2022-01-08T07:53:26.922Z"
   },
   {
    "duration": 10,
    "start_time": "2022-01-08T07:53:27.768Z"
   },
   {
    "duration": 236,
    "start_time": "2022-01-08T07:53:27.781Z"
   },
   {
    "duration": 140,
    "start_time": "2022-01-08T07:53:28.020Z"
   },
   {
    "duration": 208,
    "start_time": "2022-01-08T07:53:28.163Z"
   },
   {
    "duration": 44,
    "start_time": "2022-01-08T07:53:28.374Z"
   },
   {
    "duration": 5,
    "start_time": "2022-01-08T07:53:28.421Z"
   },
   {
    "duration": 129,
    "start_time": "2022-01-08T07:53:28.429Z"
   },
   {
    "duration": 92,
    "start_time": "2022-01-08T07:53:28.562Z"
   },
   {
    "duration": 105,
    "start_time": "2022-01-08T07:53:28.657Z"
   },
   {
    "duration": 68,
    "start_time": "2022-01-08T07:53:28.764Z"
   },
   {
    "duration": 35,
    "start_time": "2022-01-08T07:53:28.834Z"
   },
   {
    "duration": 21,
    "start_time": "2022-01-08T07:53:28.872Z"
   },
   {
    "duration": 34,
    "start_time": "2022-01-08T07:53:28.917Z"
   },
   {
    "duration": 94,
    "start_time": "2022-01-08T07:53:28.954Z"
   },
   {
    "duration": 40,
    "start_time": "2022-01-08T07:53:29.050Z"
   },
   {
    "duration": 61,
    "start_time": "2022-01-08T07:53:29.092Z"
   },
   {
    "duration": 63,
    "start_time": "2022-01-08T07:53:29.155Z"
   },
   {
    "duration": 38,
    "start_time": "2022-01-08T07:53:29.221Z"
   },
   {
    "duration": 27,
    "start_time": "2022-01-08T07:53:29.261Z"
   },
   {
    "duration": 60,
    "start_time": "2022-01-08T07:53:29.290Z"
   },
   {
    "duration": 119,
    "start_time": "2022-01-08T07:53:29.352Z"
   },
   {
    "duration": 17,
    "start_time": "2022-01-08T07:53:48.198Z"
   },
   {
    "duration": 34,
    "start_time": "2022-01-08T07:58:39.785Z"
   },
   {
    "duration": 54,
    "start_time": "2022-01-08T07:59:20.416Z"
   },
   {
    "duration": 453,
    "start_time": "2022-01-08T08:01:10.522Z"
   },
   {
    "duration": 403,
    "start_time": "2022-01-08T08:01:35.556Z"
   },
   {
    "duration": 49,
    "start_time": "2022-01-08T08:03:12.043Z"
   },
   {
    "duration": 975,
    "start_time": "2022-01-08T08:11:13.510Z"
   },
   {
    "duration": 37,
    "start_time": "2022-01-08T08:11:45.814Z"
   },
   {
    "duration": 335,
    "start_time": "2022-01-08T08:18:08.705Z"
   },
   {
    "duration": 51,
    "start_time": "2022-01-08T08:18:24.153Z"
   },
   {
    "duration": 24,
    "start_time": "2022-01-08T08:19:17.954Z"
   },
   {
    "duration": 26,
    "start_time": "2022-01-08T08:21:36.138Z"
   },
   {
    "duration": 355,
    "start_time": "2022-01-08T08:24:42.980Z"
   },
   {
    "duration": 396,
    "start_time": "2022-01-08T08:24:57.236Z"
   },
   {
    "duration": 16,
    "start_time": "2022-01-08T08:25:08.452Z"
   },
   {
    "duration": 40,
    "start_time": "2022-01-08T08:25:22.390Z"
   },
   {
    "duration": 49,
    "start_time": "2022-01-08T08:26:14.701Z"
   },
   {
    "duration": 50,
    "start_time": "2022-01-08T08:27:12.646Z"
   },
   {
    "duration": 10,
    "start_time": "2022-01-08T08:35:23.232Z"
   },
   {
    "duration": 425,
    "start_time": "2022-01-08T08:35:32.624Z"
   },
   {
    "duration": 7,
    "start_time": "2022-01-08T08:35:56.056Z"
   },
   {
    "duration": 5,
    "start_time": "2022-01-08T08:36:50.258Z"
   },
   {
    "duration": 6,
    "start_time": "2022-01-08T08:37:45.019Z"
   },
   {
    "duration": 302,
    "start_time": "2022-01-08T09:08:46.934Z"
   },
   {
    "duration": 162,
    "start_time": "2022-01-08T09:09:44.295Z"
   },
   {
    "duration": 300,
    "start_time": "2022-01-08T09:09:48.883Z"
   },
   {
    "duration": 352,
    "start_time": "2022-01-08T09:14:41.230Z"
   },
   {
    "duration": 942,
    "start_time": "2022-01-08T09:14:48.181Z"
   },
   {
    "duration": 829,
    "start_time": "2022-01-08T09:15:18.286Z"
   },
   {
    "duration": 2685,
    "start_time": "2022-01-08T09:15:45.351Z"
   },
   {
    "duration": 510,
    "start_time": "2022-01-08T09:17:09.255Z"
   },
   {
    "duration": 565,
    "start_time": "2022-01-08T09:17:34.167Z"
   },
   {
    "duration": 614,
    "start_time": "2022-01-08T09:17:52.871Z"
   },
   {
    "duration": 753,
    "start_time": "2022-01-08T09:18:03.558Z"
   },
   {
    "duration": 734,
    "start_time": "2022-01-08T09:18:28.543Z"
   },
   {
    "duration": 109,
    "start_time": "2022-01-08T09:27:50.741Z"
   },
   {
    "duration": 6,
    "start_time": "2022-01-08T09:29:10.525Z"
   },
   {
    "duration": 7,
    "start_time": "2022-01-08T09:29:51.252Z"
   },
   {
    "duration": 20,
    "start_time": "2022-01-08T09:36:49.127Z"
   },
   {
    "duration": 18,
    "start_time": "2022-01-08T09:37:06.599Z"
   },
   {
    "duration": 17,
    "start_time": "2022-01-08T09:39:30.337Z"
   },
   {
    "duration": 1038,
    "start_time": "2022-01-08T09:52:50.006Z"
   },
   {
    "duration": 1048,
    "start_time": "2022-01-08T09:53:24.838Z"
   },
   {
    "duration": 1135,
    "start_time": "2022-01-08T09:53:29.806Z"
   },
   {
    "duration": 1028,
    "start_time": "2022-01-08T09:54:08.247Z"
   },
   {
    "duration": 1262,
    "start_time": "2022-01-08T09:54:16.818Z"
   },
   {
    "duration": 787,
    "start_time": "2022-01-08T09:57:46.001Z"
   },
   {
    "duration": 1119,
    "start_time": "2022-01-08T09:58:26.267Z"
   },
   {
    "duration": 765,
    "start_time": "2022-01-08T09:58:39.289Z"
   },
   {
    "duration": 1100,
    "start_time": "2022-01-08T10:00:39.986Z"
   },
   {
    "duration": 918,
    "start_time": "2022-01-08T10:05:19.221Z"
   },
   {
    "duration": 10,
    "start_time": "2022-01-08T10:05:20.143Z"
   },
   {
    "duration": 265,
    "start_time": "2022-01-08T10:05:20.156Z"
   },
   {
    "duration": 180,
    "start_time": "2022-01-08T10:05:20.424Z"
   },
   {
    "duration": 334,
    "start_time": "2022-01-08T10:05:20.607Z"
   },
   {
    "duration": 40,
    "start_time": "2022-01-08T10:05:20.944Z"
   },
   {
    "duration": 4,
    "start_time": "2022-01-08T10:05:20.987Z"
   },
   {
    "duration": 130,
    "start_time": "2022-01-08T10:05:20.995Z"
   },
   {
    "duration": 171,
    "start_time": "2022-01-08T10:05:21.130Z"
   },
   {
    "duration": 125,
    "start_time": "2022-01-08T10:05:21.305Z"
   },
   {
    "duration": 66,
    "start_time": "2022-01-08T10:05:21.433Z"
   },
   {
    "duration": 54,
    "start_time": "2022-01-08T10:05:21.517Z"
   },
   {
    "duration": 44,
    "start_time": "2022-01-08T10:05:21.574Z"
   },
   {
    "duration": 31,
    "start_time": "2022-01-08T10:05:21.620Z"
   },
   {
    "duration": 98,
    "start_time": "2022-01-08T10:05:21.654Z"
   },
   {
    "duration": 39,
    "start_time": "2022-01-08T10:05:21.754Z"
   },
   {
    "duration": 57,
    "start_time": "2022-01-08T10:05:21.796Z"
   },
   {
    "duration": 63,
    "start_time": "2022-01-08T10:05:21.855Z"
   },
   {
    "duration": 38,
    "start_time": "2022-01-08T10:05:21.921Z"
   },
   {
    "duration": 27,
    "start_time": "2022-01-08T10:05:21.961Z"
   },
   {
    "duration": 38,
    "start_time": "2022-01-08T10:05:22.017Z"
   },
   {
    "duration": 81,
    "start_time": "2022-01-08T10:05:22.058Z"
   },
   {
    "duration": 45,
    "start_time": "2022-01-08T10:05:22.142Z"
   },
   {
    "duration": 79,
    "start_time": "2022-01-08T10:05:22.189Z"
   },
   {
    "duration": 18,
    "start_time": "2022-01-08T10:05:22.270Z"
   },
   {
    "duration": 936,
    "start_time": "2022-01-08T10:05:22.317Z"
   },
   {
    "duration": 837,
    "start_time": "2022-01-08T10:10:52.574Z"
   },
   {
    "duration": 18,
    "start_time": "2022-01-08T10:15:22.863Z"
   },
   {
    "duration": 830,
    "start_time": "2022-01-08T10:16:48.575Z"
   },
   {
    "duration": 491,
    "start_time": "2022-01-08T10:19:26.994Z"
   },
   {
    "duration": 809,
    "start_time": "2022-01-08T10:19:41.802Z"
   },
   {
    "duration": 563,
    "start_time": "2022-01-08T10:19:58.826Z"
   },
   {
    "duration": 517,
    "start_time": "2022-01-08T10:20:52.554Z"
   },
   {
    "duration": 500,
    "start_time": "2022-01-08T10:21:11.258Z"
   },
   {
    "duration": 518,
    "start_time": "2022-01-08T10:21:19.979Z"
   },
   {
    "duration": 524,
    "start_time": "2022-01-08T10:22:38.140Z"
   },
   {
    "duration": 902,
    "start_time": "2022-01-08T10:23:31.148Z"
   },
   {
    "duration": 827,
    "start_time": "2022-01-08T10:23:46.564Z"
   },
   {
    "duration": 19,
    "start_time": "2022-01-08T10:27:29.701Z"
   },
   {
    "duration": 724,
    "start_time": "2022-01-08T10:28:18.926Z"
   },
   {
    "duration": 548,
    "start_time": "2022-01-08T10:28:27.504Z"
   },
   {
    "duration": 656,
    "start_time": "2022-01-08T10:28:45.597Z"
   },
   {
    "duration": 1276,
    "start_time": "2022-01-08T12:35:47.401Z"
   },
   {
    "duration": 9,
    "start_time": "2022-01-08T12:35:48.680Z"
   },
   {
    "duration": 236,
    "start_time": "2022-01-08T12:35:48.692Z"
   },
   {
    "duration": 130,
    "start_time": "2022-01-08T12:35:48.931Z"
   },
   {
    "duration": 201,
    "start_time": "2022-01-08T12:35:49.064Z"
   },
   {
    "duration": 29,
    "start_time": "2022-01-08T12:35:49.268Z"
   },
   {
    "duration": 17,
    "start_time": "2022-01-08T12:35:49.302Z"
   },
   {
    "duration": 115,
    "start_time": "2022-01-08T12:35:49.322Z"
   },
   {
    "duration": 104,
    "start_time": "2022-01-08T12:35:49.440Z"
   },
   {
    "duration": 101,
    "start_time": "2022-01-08T12:35:49.547Z"
   },
   {
    "duration": 72,
    "start_time": "2022-01-08T12:35:49.650Z"
   },
   {
    "duration": 35,
    "start_time": "2022-01-08T12:35:49.724Z"
   },
   {
    "duration": 22,
    "start_time": "2022-01-08T12:35:49.762Z"
   },
   {
    "duration": 60,
    "start_time": "2022-01-08T12:35:49.786Z"
   },
   {
    "duration": 89,
    "start_time": "2022-01-08T12:35:49.849Z"
   },
   {
    "duration": 41,
    "start_time": "2022-01-08T12:35:49.940Z"
   },
   {
    "duration": 59,
    "start_time": "2022-01-08T12:35:49.984Z"
   },
   {
    "duration": 45,
    "start_time": "2022-01-08T12:35:50.046Z"
   },
   {
    "duration": 57,
    "start_time": "2022-01-08T12:35:50.093Z"
   },
   {
    "duration": 26,
    "start_time": "2022-01-08T12:35:50.153Z"
   },
   {
    "duration": 63,
    "start_time": "2022-01-08T12:35:50.182Z"
   },
   {
    "duration": 74,
    "start_time": "2022-01-08T12:35:50.248Z"
   },
   {
    "duration": 40,
    "start_time": "2022-01-08T12:35:50.328Z"
   },
   {
    "duration": 77,
    "start_time": "2022-01-08T12:35:50.370Z"
   },
   {
    "duration": 19,
    "start_time": "2022-01-08T12:35:50.449Z"
   },
   {
    "duration": 981,
    "start_time": "2022-01-08T12:35:50.470Z"
   },
   {
    "duration": 909,
    "start_time": "2022-01-08T12:35:51.454Z"
   },
   {
    "duration": 24,
    "start_time": "2022-01-08T12:35:52.366Z"
   },
   {
    "duration": 756,
    "start_time": "2022-01-08T12:35:52.393Z"
   },
   {
    "duration": 16,
    "start_time": "2022-01-08T12:35:53.151Z"
   },
   {
    "duration": 550,
    "start_time": "2022-01-08T12:35:53.169Z"
   },
   {
    "duration": 6,
    "start_time": "2022-01-08T12:37:50.792Z"
   },
   {
    "duration": 368,
    "start_time": "2022-01-09T08:14:49.621Z"
   },
   {
    "duration": 1259,
    "start_time": "2022-01-09T08:14:58.766Z"
   },
   {
    "duration": 9,
    "start_time": "2022-01-09T08:15:00.028Z"
   },
   {
    "duration": 240,
    "start_time": "2022-01-09T08:15:00.039Z"
   },
   {
    "duration": 151,
    "start_time": "2022-01-09T08:15:00.281Z"
   },
   {
    "duration": 217,
    "start_time": "2022-01-09T08:15:00.435Z"
   },
   {
    "duration": 32,
    "start_time": "2022-01-09T08:15:00.659Z"
   },
   {
    "duration": 9,
    "start_time": "2022-01-09T08:15:00.694Z"
   },
   {
    "duration": 103,
    "start_time": "2022-01-09T08:15:00.707Z"
   },
   {
    "duration": 89,
    "start_time": "2022-01-09T08:15:00.813Z"
   },
   {
    "duration": 104,
    "start_time": "2022-01-09T08:15:00.904Z"
   },
   {
    "duration": 72,
    "start_time": "2022-01-09T08:15:01.011Z"
   },
   {
    "duration": 36,
    "start_time": "2022-01-09T08:15:01.086Z"
   },
   {
    "duration": 42,
    "start_time": "2022-01-09T08:15:01.125Z"
   },
   {
    "duration": 30,
    "start_time": "2022-01-09T08:15:01.170Z"
   },
   {
    "duration": 98,
    "start_time": "2022-01-09T08:15:01.203Z"
   },
   {
    "duration": 40,
    "start_time": "2022-01-09T08:15:01.303Z"
   },
   {
    "duration": 53,
    "start_time": "2022-01-09T08:15:01.345Z"
   },
   {
    "duration": 64,
    "start_time": "2022-01-09T08:15:01.400Z"
   },
   {
    "duration": 40,
    "start_time": "2022-01-09T08:15:01.466Z"
   },
   {
    "duration": 50,
    "start_time": "2022-01-09T08:15:01.508Z"
   },
   {
    "duration": 36,
    "start_time": "2022-01-09T08:15:01.561Z"
   },
   {
    "duration": 79,
    "start_time": "2022-01-09T08:15:01.600Z"
   },
   {
    "duration": 42,
    "start_time": "2022-01-09T08:15:01.685Z"
   },
   {
    "duration": 77,
    "start_time": "2022-01-09T08:15:01.730Z"
   },
   {
    "duration": 49,
    "start_time": "2022-01-09T08:15:01.810Z"
   },
   {
    "duration": 1033,
    "start_time": "2022-01-09T08:15:01.862Z"
   },
   {
    "duration": 798,
    "start_time": "2022-01-09T08:15:02.898Z"
   },
   {
    "duration": 19,
    "start_time": "2022-01-09T08:15:03.699Z"
   },
   {
    "duration": 675,
    "start_time": "2022-01-09T08:15:03.721Z"
   },
   {
    "duration": 18,
    "start_time": "2022-01-09T08:15:04.399Z"
   },
   {
    "duration": 622,
    "start_time": "2022-01-09T08:15:04.420Z"
   },
   {
    "duration": 680,
    "start_time": "2022-01-09T08:15:29.835Z"
   },
   {
    "duration": 608,
    "start_time": "2022-01-09T08:17:38.124Z"
   },
   {
    "duration": 570,
    "start_time": "2022-01-09T08:18:19.173Z"
   },
   {
    "duration": 686,
    "start_time": "2022-01-09T08:19:52.127Z"
   },
   {
    "duration": 800,
    "start_time": "2022-01-09T08:20:00.638Z"
   },
   {
    "duration": 831,
    "start_time": "2022-01-09T08:37:35.796Z"
   },
   {
    "duration": 833,
    "start_time": "2022-01-09T08:38:29.146Z"
   },
   {
    "duration": 847,
    "start_time": "2022-01-09T08:41:09.967Z"
   },
   {
    "duration": 887,
    "start_time": "2022-01-09T08:42:20.399Z"
   },
   {
    "duration": 901,
    "start_time": "2022-01-09T08:43:53.374Z"
   },
   {
    "duration": 19,
    "start_time": "2022-01-09T08:47:00.577Z"
   },
   {
    "duration": 540,
    "start_time": "2022-01-09T09:03:26.461Z"
   },
   {
    "duration": 563,
    "start_time": "2022-01-09T09:05:04.666Z"
   },
   {
    "duration": 551,
    "start_time": "2022-01-09T09:12:57.469Z"
   },
   {
    "duration": 8,
    "start_time": "2022-01-09T13:16:48.451Z"
   },
   {
    "duration": 16,
    "start_time": "2022-01-09T13:17:18.598Z"
   },
   {
    "duration": 8,
    "start_time": "2022-01-09T13:18:49.095Z"
   },
   {
    "duration": 10,
    "start_time": "2022-01-09T13:19:26.535Z"
   },
   {
    "duration": 8,
    "start_time": "2022-01-09T13:25:28.433Z"
   },
   {
    "duration": 484,
    "start_time": "2022-01-09T13:28:55.961Z"
   },
   {
    "duration": 1306,
    "start_time": "2022-01-09T13:29:13.380Z"
   },
   {
    "duration": 10,
    "start_time": "2022-01-09T13:29:14.689Z"
   },
   {
    "duration": 259,
    "start_time": "2022-01-09T13:29:14.702Z"
   },
   {
    "duration": 147,
    "start_time": "2022-01-09T13:29:14.965Z"
   },
   {
    "duration": 219,
    "start_time": "2022-01-09T13:29:15.115Z"
   },
   {
    "duration": 43,
    "start_time": "2022-01-09T13:29:15.336Z"
   },
   {
    "duration": 5,
    "start_time": "2022-01-09T13:29:15.383Z"
   },
   {
    "duration": 150,
    "start_time": "2022-01-09T13:29:15.393Z"
   },
   {
    "duration": 113,
    "start_time": "2022-01-09T13:29:15.547Z"
   },
   {
    "duration": 109,
    "start_time": "2022-01-09T13:29:15.664Z"
   },
   {
    "duration": 50,
    "start_time": "2022-01-09T13:29:15.776Z"
   },
   {
    "duration": 59,
    "start_time": "2022-01-09T13:29:15.828Z"
   },
   {
    "duration": 21,
    "start_time": "2022-01-09T13:29:15.890Z"
   },
   {
    "duration": 60,
    "start_time": "2022-01-09T13:29:15.914Z"
   },
   {
    "duration": 83,
    "start_time": "2022-01-09T13:29:15.976Z"
   },
   {
    "duration": 51,
    "start_time": "2022-01-09T13:29:16.063Z"
   },
   {
    "duration": 72,
    "start_time": "2022-01-09T13:29:16.116Z"
   },
   {
    "duration": 51,
    "start_time": "2022-01-09T13:29:16.191Z"
   },
   {
    "duration": 56,
    "start_time": "2022-01-09T13:29:16.260Z"
   },
   {
    "duration": 56,
    "start_time": "2022-01-09T13:29:16.319Z"
   },
   {
    "duration": 40,
    "start_time": "2022-01-09T13:29:16.378Z"
   },
   {
    "duration": 80,
    "start_time": "2022-01-09T13:29:16.420Z"
   },
   {
    "duration": 63,
    "start_time": "2022-01-09T13:29:16.505Z"
   },
   {
    "duration": 53,
    "start_time": "2022-01-09T13:29:16.571Z"
   },
   {
    "duration": 35,
    "start_time": "2022-01-09T13:29:16.626Z"
   },
   {
    "duration": 1030,
    "start_time": "2022-01-09T13:29:16.664Z"
   },
   {
    "duration": 841,
    "start_time": "2022-01-09T13:29:17.696Z"
   },
   {
    "duration": 32,
    "start_time": "2022-01-09T13:29:18.539Z"
   },
   {
    "duration": 721,
    "start_time": "2022-01-09T13:29:18.575Z"
   },
   {
    "duration": 721,
    "start_time": "2022-01-09T13:29:19.299Z"
   },
   {
    "duration": 17,
    "start_time": "2022-01-09T13:29:20.023Z"
   },
   {
    "duration": 599,
    "start_time": "2022-01-09T13:29:20.060Z"
   },
   {
    "duration": 12,
    "start_time": "2022-01-09T13:29:20.662Z"
   },
   {
    "duration": 10,
    "start_time": "2022-01-09T13:29:20.677Z"
   },
   {
    "duration": 1292,
    "start_time": "2022-01-09T13:32:21.554Z"
   },
   {
    "duration": 19,
    "start_time": "2022-01-09T13:32:22.850Z"
   },
   {
    "duration": 276,
    "start_time": "2022-01-09T13:32:22.874Z"
   },
   {
    "duration": 149,
    "start_time": "2022-01-09T13:32:23.153Z"
   },
   {
    "duration": 208,
    "start_time": "2022-01-09T13:32:23.304Z"
   },
   {
    "duration": 31,
    "start_time": "2022-01-09T13:32:23.514Z"
   },
   {
    "duration": 7,
    "start_time": "2022-01-09T13:32:23.563Z"
   },
   {
    "duration": 116,
    "start_time": "2022-01-09T13:32:23.573Z"
   },
   {
    "duration": 108,
    "start_time": "2022-01-09T13:32:23.694Z"
   },
   {
    "duration": 100,
    "start_time": "2022-01-09T13:32:23.806Z"
   },
   {
    "duration": 59,
    "start_time": "2022-01-09T13:32:23.909Z"
   },
   {
    "duration": 33,
    "start_time": "2022-01-09T13:32:23.972Z"
   },
   {
    "duration": 21,
    "start_time": "2022-01-09T13:32:24.007Z"
   },
   {
    "duration": 60,
    "start_time": "2022-01-09T13:32:24.030Z"
   },
   {
    "duration": 95,
    "start_time": "2022-01-09T13:32:24.093Z"
   },
   {
    "duration": 38,
    "start_time": "2022-01-09T13:32:24.191Z"
   },
   {
    "duration": 61,
    "start_time": "2022-01-09T13:32:24.231Z"
   },
   {
    "duration": 44,
    "start_time": "2022-01-09T13:32:24.295Z"
   },
   {
    "duration": 63,
    "start_time": "2022-01-09T13:32:24.341Z"
   },
   {
    "duration": 28,
    "start_time": "2022-01-09T13:32:24.407Z"
   },
   {
    "duration": 40,
    "start_time": "2022-01-09T13:32:24.461Z"
   },
   {
    "duration": 75,
    "start_time": "2022-01-09T13:32:24.504Z"
   },
   {
    "duration": 38,
    "start_time": "2022-01-09T13:32:24.582Z"
   },
   {
    "duration": 73,
    "start_time": "2022-01-09T13:32:24.623Z"
   },
   {
    "duration": 16,
    "start_time": "2022-01-09T13:32:24.698Z"
   },
   {
    "duration": 1000,
    "start_time": "2022-01-09T13:32:24.716Z"
   },
   {
    "duration": 833,
    "start_time": "2022-01-09T13:32:25.720Z"
   },
   {
    "duration": 21,
    "start_time": "2022-01-09T13:32:26.560Z"
   },
   {
    "duration": 721,
    "start_time": "2022-01-09T13:32:26.585Z"
   },
   {
    "duration": 733,
    "start_time": "2022-01-09T13:32:27.309Z"
   },
   {
    "duration": 34,
    "start_time": "2022-01-09T13:32:28.044Z"
   },
   {
    "duration": 590,
    "start_time": "2022-01-09T13:32:28.081Z"
   },
   {
    "duration": 7,
    "start_time": "2022-01-09T13:32:28.674Z"
   },
   {
    "duration": 12,
    "start_time": "2022-01-09T13:32:28.684Z"
   },
   {
    "duration": 10,
    "start_time": "2022-01-09T13:35:19.577Z"
   },
   {
    "duration": 533,
    "start_time": "2022-01-09T14:05:40.844Z"
   },
   {
    "duration": 14,
    "start_time": "2022-01-09T14:05:56.991Z"
   },
   {
    "duration": 24,
    "start_time": "2022-01-09T14:06:53.630Z"
   },
   {
    "duration": 11,
    "start_time": "2022-01-09T14:07:15.581Z"
   },
   {
    "duration": 11,
    "start_time": "2022-01-09T14:07:25.333Z"
   },
   {
    "duration": 13,
    "start_time": "2022-01-09T14:13:28.702Z"
   },
   {
    "duration": 19,
    "start_time": "2022-01-09T14:13:46.208Z"
   },
   {
    "duration": 18,
    "start_time": "2022-01-09T14:14:44.357Z"
   },
   {
    "duration": 14,
    "start_time": "2022-01-09T14:15:42.407Z"
   },
   {
    "duration": 673,
    "start_time": "2022-01-09T14:17:41.898Z"
   },
   {
    "duration": 615,
    "start_time": "2022-01-09T14:18:06.759Z"
   },
   {
    "duration": 1399,
    "start_time": "2022-01-09T14:20:33.687Z"
   },
   {
    "duration": 10,
    "start_time": "2022-01-09T14:20:35.089Z"
   },
   {
    "duration": 259,
    "start_time": "2022-01-09T14:20:35.103Z"
   },
   {
    "duration": 151,
    "start_time": "2022-01-09T14:20:35.366Z"
   },
   {
    "duration": 210,
    "start_time": "2022-01-09T14:20:35.520Z"
   },
   {
    "duration": 35,
    "start_time": "2022-01-09T14:20:35.732Z"
   },
   {
    "duration": 20,
    "start_time": "2022-01-09T14:20:35.771Z"
   },
   {
    "duration": 115,
    "start_time": "2022-01-09T14:20:35.796Z"
   },
   {
    "duration": 104,
    "start_time": "2022-01-09T14:20:35.914Z"
   },
   {
    "duration": 105,
    "start_time": "2022-01-09T14:20:36.020Z"
   },
   {
    "duration": 70,
    "start_time": "2022-01-09T14:20:36.128Z"
   },
   {
    "duration": 34,
    "start_time": "2022-01-09T14:20:36.200Z"
   },
   {
    "duration": 49,
    "start_time": "2022-01-09T14:20:36.237Z"
   },
   {
    "duration": 28,
    "start_time": "2022-01-09T14:20:36.289Z"
   },
   {
    "duration": 97,
    "start_time": "2022-01-09T14:20:36.319Z"
   },
   {
    "duration": 54,
    "start_time": "2022-01-09T14:20:36.418Z"
   },
   {
    "duration": 40,
    "start_time": "2022-01-09T14:20:36.474Z"
   },
   {
    "duration": 75,
    "start_time": "2022-01-09T14:20:36.517Z"
   },
   {
    "duration": 38,
    "start_time": "2022-01-09T14:20:36.595Z"
   },
   {
    "duration": 53,
    "start_time": "2022-01-09T14:20:36.636Z"
   },
   {
    "duration": 38,
    "start_time": "2022-01-09T14:20:36.692Z"
   },
   {
    "duration": 50,
    "start_time": "2022-01-09T14:20:36.760Z"
   },
   {
    "duration": 73,
    "start_time": "2022-01-09T14:20:36.817Z"
   },
   {
    "duration": 77,
    "start_time": "2022-01-09T14:20:36.894Z"
   },
   {
    "duration": 19,
    "start_time": "2022-01-09T14:20:36.974Z"
   },
   {
    "duration": 932,
    "start_time": "2022-01-09T14:20:36.996Z"
   },
   {
    "duration": 839,
    "start_time": "2022-01-09T14:20:37.931Z"
   },
   {
    "duration": 18,
    "start_time": "2022-01-09T14:20:38.773Z"
   },
   {
    "duration": 716,
    "start_time": "2022-01-09T14:20:38.794Z"
   },
   {
    "duration": 741,
    "start_time": "2022-01-09T14:20:39.512Z"
   },
   {
    "duration": 26,
    "start_time": "2022-01-09T14:20:40.255Z"
   },
   {
    "duration": 610,
    "start_time": "2022-01-09T14:20:40.283Z"
   },
   {
    "duration": 9,
    "start_time": "2022-01-09T14:20:40.895Z"
   },
   {
    "duration": 20,
    "start_time": "2022-01-09T14:20:40.907Z"
   },
   {
    "duration": 901,
    "start_time": "2022-01-09T14:20:40.930Z"
   },
   {
    "duration": -6648,
    "start_time": "2022-01-09T14:20:48.483Z"
   },
   {
    "duration": 3922,
    "start_time": "2022-01-09T14:21:08.737Z"
   },
   {
    "duration": 343,
    "start_time": "2022-01-09T14:21:24.273Z"
   },
   {
    "duration": 312,
    "start_time": "2022-01-09T14:21:43.629Z"
   },
   {
    "duration": 377,
    "start_time": "2022-01-09T14:22:22.269Z"
   },
   {
    "duration": 862,
    "start_time": "2022-01-09T14:23:03.508Z"
   },
   {
    "duration": 536,
    "start_time": "2022-01-09T14:23:19.987Z"
   },
   {
    "duration": 772,
    "start_time": "2022-01-09T14:24:14.605Z"
   },
   {
    "duration": 880,
    "start_time": "2022-01-09T14:24:32.397Z"
   },
   {
    "duration": 919,
    "start_time": "2022-01-09T14:25:38.846Z"
   },
   {
    "duration": 574,
    "start_time": "2022-01-09T14:26:36.711Z"
   },
   {
    "duration": 541,
    "start_time": "2022-01-09T14:26:59.878Z"
   },
   {
    "duration": 580,
    "start_time": "2022-01-09T14:27:27.847Z"
   },
   {
    "duration": 560,
    "start_time": "2022-01-09T14:30:11.581Z"
   },
   {
    "duration": 959,
    "start_time": "2022-01-09T14:31:24.912Z"
   },
   {
    "duration": 601,
    "start_time": "2022-01-09T14:31:38.224Z"
   },
   {
    "duration": 629,
    "start_time": "2022-01-09T14:32:17.232Z"
   },
   {
    "duration": 646,
    "start_time": "2022-01-09T14:32:41.098Z"
   },
   {
    "duration": 1841,
    "start_time": "2022-01-09T14:38:49.163Z"
   },
   {
    "duration": 899,
    "start_time": "2022-01-09T14:39:13.932Z"
   },
   {
    "duration": 972,
    "start_time": "2022-01-09T14:39:44.923Z"
   },
   {
    "duration": 912,
    "start_time": "2022-01-09T14:40:24.516Z"
   },
   {
    "duration": 1027,
    "start_time": "2022-01-09T14:40:37.877Z"
   },
   {
    "duration": 593,
    "start_time": "2022-01-09T14:41:04.059Z"
   },
   {
    "duration": 719,
    "start_time": "2022-01-09T14:41:55.860Z"
   },
   {
    "duration": 575,
    "start_time": "2022-01-09T14:43:17.557Z"
   },
   {
    "duration": 649,
    "start_time": "2022-01-09T14:43:43.695Z"
   },
   {
    "duration": 719,
    "start_time": "2022-01-09T14:44:07.517Z"
   },
   {
    "duration": 112,
    "start_time": "2022-01-09T14:45:11.630Z"
   },
   {
    "duration": 6920,
    "start_time": "2022-01-09T14:45:17.271Z"
   },
   {
    "duration": 709,
    "start_time": "2022-01-09T14:45:34.606Z"
   },
   {
    "duration": 768,
    "start_time": "2022-01-09T14:45:51.023Z"
   },
   {
    "duration": 590,
    "start_time": "2022-01-09T14:46:07.919Z"
   },
   {
    "duration": 12,
    "start_time": "2022-01-09T14:51:40.360Z"
   },
   {
    "duration": 1448,
    "start_time": "2022-01-09T14:54:52.089Z"
   },
   {
    "duration": 15,
    "start_time": "2022-01-09T14:54:56.449Z"
   },
   {
    "duration": 11,
    "start_time": "2022-01-09T14:54:59.825Z"
   },
   {
    "duration": 232,
    "start_time": "2022-01-09T14:55:09.297Z"
   },
   {
    "duration": 143,
    "start_time": "2022-01-09T14:55:19.409Z"
   },
   {
    "duration": 205,
    "start_time": "2022-01-09T14:55:23.281Z"
   },
   {
    "duration": 140,
    "start_time": "2022-01-09T14:56:44.794Z"
   },
   {
    "duration": 154,
    "start_time": "2022-01-09T14:56:46.834Z"
   },
   {
    "duration": 195,
    "start_time": "2022-01-09T14:56:52.434Z"
   },
   {
    "duration": 32,
    "start_time": "2022-01-09T14:57:05.154Z"
   },
   {
    "duration": 105,
    "start_time": "2022-01-09T14:58:26.635Z"
   },
   {
    "duration": 89,
    "start_time": "2022-01-09T14:58:32.322Z"
   },
   {
    "duration": 34,
    "start_time": "2022-01-09T14:58:45.611Z"
   },
   {
    "duration": 79,
    "start_time": "2022-01-09T14:58:48.435Z"
   },
   {
    "duration": 48,
    "start_time": "2022-01-09T14:58:55.299Z"
   },
   {
    "duration": 28,
    "start_time": "2022-01-09T14:59:28.605Z"
   },
   {
    "duration": 26,
    "start_time": "2022-01-09T14:59:49.099Z"
   },
   {
    "duration": 29,
    "start_time": "2022-01-09T14:59:56.515Z"
   },
   {
    "duration": 78,
    "start_time": "2022-01-09T15:00:04.027Z"
   },
   {
    "duration": 39,
    "start_time": "2022-01-09T15:00:06.260Z"
   },
   {
    "duration": 42,
    "start_time": "2022-01-09T15:00:07.939Z"
   },
   {
    "duration": 46,
    "start_time": "2022-01-09T15:00:24.524Z"
   },
   {
    "duration": 32,
    "start_time": "2022-01-09T15:00:35.491Z"
   },
   {
    "duration": 26,
    "start_time": "2022-01-09T15:00:40.436Z"
   },
   {
    "duration": 36,
    "start_time": "2022-01-09T15:00:48.492Z"
   },
   {
    "duration": 47,
    "start_time": "2022-01-09T15:01:02.067Z"
   },
   {
    "duration": 36,
    "start_time": "2022-01-09T15:01:20.700Z"
   },
   {
    "duration": 49,
    "start_time": "2022-01-09T15:01:25.811Z"
   },
   {
    "duration": 18,
    "start_time": "2022-01-09T15:02:16.492Z"
   },
   {
    "duration": 842,
    "start_time": "2022-01-09T15:02:25.303Z"
   },
   {
    "duration": 758,
    "start_time": "2022-01-09T15:02:33.101Z"
   },
   {
    "duration": 911,
    "start_time": "2022-01-09T15:02:47.893Z"
   },
   {
    "duration": 18,
    "start_time": "2022-01-09T15:03:02.590Z"
   },
   {
    "duration": 627,
    "start_time": "2022-01-09T15:03:18.236Z"
   },
   {
    "duration": 726,
    "start_time": "2022-01-09T15:03:29.021Z"
   },
   {
    "duration": 18,
    "start_time": "2022-01-09T15:03:46.685Z"
   },
   {
    "duration": 658,
    "start_time": "2022-01-09T15:04:01.413Z"
   },
   {
    "duration": 548,
    "start_time": "2022-01-09T15:04:05.725Z"
   },
   {
    "duration": 10,
    "start_time": "2022-01-09T15:04:14.558Z"
   },
   {
    "duration": 14,
    "start_time": "2022-01-09T15:04:18.005Z"
   },
   {
    "duration": 612,
    "start_time": "2022-01-09T15:04:21.317Z"
   },
   {
    "duration": 592,
    "start_time": "2022-01-09T15:04:25.293Z"
   },
   {
    "duration": 1092,
    "start_time": "2022-01-10T07:09:39.077Z"
   },
   {
    "duration": 8,
    "start_time": "2022-01-10T07:09:42.277Z"
   },
   {
    "duration": 8,
    "start_time": "2022-01-10T07:09:43.708Z"
   },
   {
    "duration": 177,
    "start_time": "2022-01-10T07:10:05.220Z"
   },
   {
    "duration": 99,
    "start_time": "2022-01-10T07:10:16.573Z"
   },
   {
    "duration": 149,
    "start_time": "2022-01-10T07:10:20.828Z"
   },
   {
    "duration": 24,
    "start_time": "2022-01-10T07:10:23.780Z"
   },
   {
    "duration": 73,
    "start_time": "2022-01-10T07:10:33.349Z"
   },
   {
    "duration": 25,
    "start_time": "2022-01-10T07:10:36.389Z"
   },
   {
    "duration": 55,
    "start_time": "2022-01-10T07:10:38.604Z"
   },
   {
    "duration": 41,
    "start_time": "2022-01-10T07:10:57.797Z"
   },
   {
    "duration": 20,
    "start_time": "2022-01-10T07:11:03.429Z"
   },
   {
    "duration": 12,
    "start_time": "2022-01-10T07:11:07.381Z"
   },
   {
    "duration": 22,
    "start_time": "2022-01-10T07:11:12.237Z"
   },
   {
    "duration": 54,
    "start_time": "2022-01-10T07:11:16.700Z"
   },
   {
    "duration": 28,
    "start_time": "2022-01-10T07:11:17.838Z"
   },
   {
    "duration": 29,
    "start_time": "2022-01-10T07:11:19.565Z"
   },
   {
    "duration": 31,
    "start_time": "2022-01-10T07:11:21.709Z"
   },
   {
    "duration": 22,
    "start_time": "2022-01-10T07:11:25.165Z"
   },
   {
    "duration": 16,
    "start_time": "2022-01-10T07:11:28.153Z"
   },
   {
    "duration": 27,
    "start_time": "2022-01-10T07:11:31.157Z"
   },
   {
    "duration": 32,
    "start_time": "2022-01-10T07:11:40.277Z"
   },
   {
    "duration": 27,
    "start_time": "2022-01-10T07:12:10.274Z"
   },
   {
    "duration": 33,
    "start_time": "2022-01-10T07:12:17.310Z"
   },
   {
    "duration": 13,
    "start_time": "2022-01-10T07:12:23.957Z"
   },
   {
    "duration": 492,
    "start_time": "2022-01-10T07:12:26.693Z"
   },
   {
    "duration": 500,
    "start_time": "2022-01-10T07:12:29.237Z"
   },
   {
    "duration": 12,
    "start_time": "2022-01-10T07:12:32.869Z"
   },
   {
    "duration": 400,
    "start_time": "2022-01-10T07:12:34.717Z"
   },
   {
    "duration": 418,
    "start_time": "2022-01-10T07:12:40.661Z"
   },
   {
    "duration": 12,
    "start_time": "2022-01-10T07:12:44.718Z"
   },
   {
    "duration": 344,
    "start_time": "2022-01-10T07:12:47.166Z"
   },
   {
    "duration": 6,
    "start_time": "2022-01-10T07:12:52.230Z"
   },
   {
    "duration": 10,
    "start_time": "2022-01-10T07:12:55.557Z"
   },
   {
    "duration": 443,
    "start_time": "2022-01-10T07:12:57.213Z"
   },
   {
    "duration": 370,
    "start_time": "2022-01-10T07:14:19.526Z"
   },
   {
    "duration": 1505,
    "start_time": "2022-01-11T18:15:27.674Z"
   },
   {
    "duration": 10,
    "start_time": "2022-01-11T18:15:29.182Z"
   },
   {
    "duration": 11,
    "start_time": "2022-01-11T18:15:29.195Z"
   },
   {
    "duration": 255,
    "start_time": "2022-01-11T18:15:29.208Z"
   },
   {
    "duration": 145,
    "start_time": "2022-01-11T18:15:29.465Z"
   },
   {
    "duration": 270,
    "start_time": "2022-01-11T18:15:29.613Z"
   },
   {
    "duration": 33,
    "start_time": "2022-01-11T18:15:29.885Z"
   },
   {
    "duration": 213,
    "start_time": "2022-01-11T18:15:29.964Z"
   },
   {
    "duration": 89,
    "start_time": "2022-01-11T18:15:30.181Z"
   },
   {
    "duration": 133,
    "start_time": "2022-01-11T18:15:30.273Z"
   },
   {
    "duration": 107,
    "start_time": "2022-01-11T18:15:30.463Z"
   },
   {
    "duration": 28,
    "start_time": "2022-01-11T18:15:30.573Z"
   },
   {
    "duration": 70,
    "start_time": "2022-01-11T18:15:30.603Z"
   },
   {
    "duration": 28,
    "start_time": "2022-01-11T18:15:30.676Z"
   },
   {
    "duration": 117,
    "start_time": "2022-01-11T18:15:30.706Z"
   },
   {
    "duration": 60,
    "start_time": "2022-01-11T18:15:30.826Z"
   },
   {
    "duration": 44,
    "start_time": "2022-01-11T18:15:30.888Z"
   },
   {
    "duration": 66,
    "start_time": "2022-01-11T18:15:30.934Z"
   },
   {
    "duration": 32,
    "start_time": "2022-01-11T18:15:31.002Z"
   },
   {
    "duration": 45,
    "start_time": "2022-01-11T18:15:31.037Z"
   },
   {
    "duration": 39,
    "start_time": "2022-01-11T18:15:31.084Z"
   },
   {
    "duration": 81,
    "start_time": "2022-01-11T18:15:31.126Z"
   },
   {
    "duration": 62,
    "start_time": "2022-01-11T18:15:31.209Z"
   },
   {
    "duration": 50,
    "start_time": "2022-01-11T18:15:31.273Z"
   },
   {
    "duration": 40,
    "start_time": "2022-01-11T18:15:31.326Z"
   },
   {
    "duration": 789,
    "start_time": "2022-01-11T18:15:31.368Z"
   },
   {
    "duration": 935,
    "start_time": "2022-01-11T18:15:32.166Z"
   },
   {
    "duration": 18,
    "start_time": "2022-01-11T18:15:33.104Z"
   },
   {
    "duration": 763,
    "start_time": "2022-01-11T18:15:33.125Z"
   },
   {
    "duration": 1251,
    "start_time": "2022-01-11T18:15:33.890Z"
   },
   {
    "duration": 27,
    "start_time": "2022-01-11T18:15:35.144Z"
   },
   {
    "duration": 707,
    "start_time": "2022-01-11T18:15:35.174Z"
   },
   {
    "duration": 9,
    "start_time": "2022-01-11T18:15:35.883Z"
   },
   {
    "duration": 16,
    "start_time": "2022-01-11T18:15:35.895Z"
   },
   {
    "duration": 689,
    "start_time": "2022-01-11T18:15:35.913Z"
   },
   {
    "duration": 624,
    "start_time": "2022-01-11T18:15:36.604Z"
   },
   {
    "duration": 11,
    "start_time": "2022-01-11T18:48:46.035Z"
   },
   {
    "duration": 11,
    "start_time": "2022-01-11T20:10:57.695Z"
   },
   {
    "duration": 430,
    "start_time": "2022-01-11T20:11:03.966Z"
   },
   {
    "duration": 11,
    "start_time": "2022-01-11T20:11:05.636Z"
   },
   {
    "duration": 1441,
    "start_time": "2022-01-12T04:30:17.296Z"
   },
   {
    "duration": 9,
    "start_time": "2022-01-12T04:30:18.740Z"
   },
   {
    "duration": 11,
    "start_time": "2022-01-12T04:30:18.752Z"
   },
   {
    "duration": 229,
    "start_time": "2022-01-12T04:30:18.766Z"
   },
   {
    "duration": 133,
    "start_time": "2022-01-12T04:30:18.997Z"
   },
   {
    "duration": 191,
    "start_time": "2022-01-12T04:30:19.132Z"
   },
   {
    "duration": 29,
    "start_time": "2022-01-12T04:30:19.325Z"
   },
   {
    "duration": 105,
    "start_time": "2022-01-12T04:30:19.358Z"
   },
   {
    "duration": 36,
    "start_time": "2022-01-12T04:30:19.466Z"
   },
   {
    "duration": 90,
    "start_time": "2022-01-12T04:30:19.505Z"
   },
   {
    "duration": 57,
    "start_time": "2022-01-12T04:30:19.598Z"
   },
   {
    "duration": 27,
    "start_time": "2022-01-12T04:30:19.657Z"
   },
   {
    "duration": 42,
    "start_time": "2022-01-12T04:30:19.686Z"
   },
   {
    "duration": 26,
    "start_time": "2022-01-12T04:30:19.731Z"
   },
   {
    "duration": 89,
    "start_time": "2022-01-12T04:30:19.759Z"
   },
   {
    "duration": 36,
    "start_time": "2022-01-12T04:30:19.850Z"
   },
   {
    "duration": 62,
    "start_time": "2022-01-12T04:30:19.888Z"
   },
   {
    "duration": 41,
    "start_time": "2022-01-12T04:30:19.952Z"
   },
   {
    "duration": 46,
    "start_time": "2022-01-12T04:30:19.996Z"
   },
   {
    "duration": 22,
    "start_time": "2022-01-12T04:30:20.044Z"
   },
   {
    "duration": 62,
    "start_time": "2022-01-12T04:30:20.068Z"
   },
   {
    "duration": 49,
    "start_time": "2022-01-12T04:30:20.132Z"
   },
   {
    "duration": 60,
    "start_time": "2022-01-12T04:30:20.185Z"
   },
   {
    "duration": 45,
    "start_time": "2022-01-12T04:30:20.248Z"
   },
   {
    "duration": 38,
    "start_time": "2022-01-12T04:30:20.295Z"
   },
   {
    "duration": 758,
    "start_time": "2022-01-12T04:30:20.336Z"
   },
   {
    "duration": 771,
    "start_time": "2022-01-12T04:30:21.096Z"
   },
   {
    "duration": 17,
    "start_time": "2022-01-12T04:30:21.870Z"
   },
   {
    "duration": 654,
    "start_time": "2022-01-12T04:30:21.890Z"
   },
   {
    "duration": 669,
    "start_time": "2022-01-12T04:30:22.547Z"
   },
   {
    "duration": 19,
    "start_time": "2022-01-12T04:30:23.219Z"
   },
   {
    "duration": 565,
    "start_time": "2022-01-12T04:30:23.240Z"
   },
   {
    "duration": 17,
    "start_time": "2022-01-12T04:30:23.807Z"
   },
   {
    "duration": 13,
    "start_time": "2022-01-12T04:30:23.826Z"
   },
   {
    "duration": 654,
    "start_time": "2022-01-12T04:30:23.841Z"
   },
   {
    "duration": 611,
    "start_time": "2022-01-12T04:30:24.498Z"
   },
   {
    "duration": 447,
    "start_time": "2022-01-12T04:45:57.186Z"
   },
   {
    "duration": 343,
    "start_time": "2022-01-12T04:46:13.959Z"
   },
   {
    "duration": 331,
    "start_time": "2022-01-12T04:49:25.712Z"
   },
   {
    "duration": 365,
    "start_time": "2022-01-12T04:49:39.170Z"
   },
   {
    "duration": 409,
    "start_time": "2022-01-12T04:49:51.923Z"
   },
   {
    "duration": 6,
    "start_time": "2022-01-12T04:50:08.639Z"
   },
   {
    "duration": 308,
    "start_time": "2022-01-12T04:50:16.891Z"
   },
   {
    "duration": 1442,
    "start_time": "2022-01-12T04:50:28.203Z"
   },
   {
    "duration": 10,
    "start_time": "2022-01-12T04:50:29.648Z"
   },
   {
    "duration": 10,
    "start_time": "2022-01-12T04:50:29.662Z"
   },
   {
    "duration": 234,
    "start_time": "2022-01-12T04:50:29.674Z"
   },
   {
    "duration": 134,
    "start_time": "2022-01-12T04:50:29.910Z"
   },
   {
    "duration": 191,
    "start_time": "2022-01-12T04:50:30.047Z"
   },
   {
    "duration": 30,
    "start_time": "2022-01-12T04:50:30.241Z"
   },
   {
    "duration": 108,
    "start_time": "2022-01-12T04:50:30.275Z"
   },
   {
    "duration": 51,
    "start_time": "2022-01-12T04:50:30.386Z"
   },
   {
    "duration": 92,
    "start_time": "2022-01-12T04:50:30.440Z"
   },
   {
    "duration": 47,
    "start_time": "2022-01-12T04:50:30.535Z"
   },
   {
    "duration": 52,
    "start_time": "2022-01-12T04:50:30.584Z"
   },
   {
    "duration": 20,
    "start_time": "2022-01-12T04:50:30.639Z"
   },
   {
    "duration": 28,
    "start_time": "2022-01-12T04:50:30.661Z"
   },
   {
    "duration": 96,
    "start_time": "2022-01-12T04:50:30.691Z"
   },
   {
    "duration": 56,
    "start_time": "2022-01-12T04:50:30.789Z"
   },
   {
    "duration": 40,
    "start_time": "2022-01-12T04:50:30.847Z"
   },
   {
    "duration": 62,
    "start_time": "2022-01-12T04:50:30.890Z"
   },
   {
    "duration": 30,
    "start_time": "2022-01-12T04:50:30.955Z"
   },
   {
    "duration": 45,
    "start_time": "2022-01-12T04:50:30.987Z"
   },
   {
    "duration": 34,
    "start_time": "2022-01-12T04:50:31.035Z"
   },
   {
    "duration": 71,
    "start_time": "2022-01-12T04:50:31.071Z"
   },
   {
    "duration": 37,
    "start_time": "2022-01-12T04:50:31.146Z"
   },
   {
    "duration": 71,
    "start_time": "2022-01-12T04:50:31.186Z"
   },
   {
    "duration": 18,
    "start_time": "2022-01-12T04:50:31.259Z"
   },
   {
    "duration": 761,
    "start_time": "2022-01-12T04:50:31.280Z"
   },
   {
    "duration": 734,
    "start_time": "2022-01-12T04:50:32.043Z"
   },
   {
    "duration": 18,
    "start_time": "2022-01-12T04:50:32.780Z"
   },
   {
    "duration": 632,
    "start_time": "2022-01-12T04:50:32.800Z"
   },
   {
    "duration": 641,
    "start_time": "2022-01-12T04:50:33.435Z"
   },
   {
    "duration": 19,
    "start_time": "2022-01-12T04:50:34.079Z"
   },
   {
    "duration": 513,
    "start_time": "2022-01-12T04:50:34.124Z"
   },
   {
    "duration": 10,
    "start_time": "2022-01-12T04:50:34.640Z"
   },
   {
    "duration": 16,
    "start_time": "2022-01-12T04:50:34.653Z"
   },
   {
    "duration": 644,
    "start_time": "2022-01-12T04:50:34.672Z"
   },
   {
    "duration": 571,
    "start_time": "2022-01-12T04:50:35.318Z"
   },
   {
    "duration": 46,
    "start_time": "2022-01-12T04:50:35.892Z"
   },
   {
    "duration": 1419,
    "start_time": "2022-01-12T04:54:41.819Z"
   },
   {
    "duration": 10,
    "start_time": "2022-01-12T04:54:43.241Z"
   },
   {
    "duration": 12,
    "start_time": "2022-01-12T04:54:43.254Z"
   },
   {
    "duration": 260,
    "start_time": "2022-01-12T04:54:43.268Z"
   },
   {
    "duration": 131,
    "start_time": "2022-01-12T04:54:43.530Z"
   },
   {
    "duration": 198,
    "start_time": "2022-01-12T04:54:43.663Z"
   },
   {
    "duration": 29,
    "start_time": "2022-01-12T04:54:43.863Z"
   },
   {
    "duration": 114,
    "start_time": "2022-01-12T04:54:43.894Z"
   },
   {
    "duration": 51,
    "start_time": "2022-01-12T04:54:44.012Z"
   },
   {
    "duration": 111,
    "start_time": "2022-01-12T04:54:44.067Z"
   },
   {
    "duration": 55,
    "start_time": "2022-01-12T04:54:44.180Z"
   },
   {
    "duration": 28,
    "start_time": "2022-01-12T04:54:44.237Z"
   },
   {
    "duration": 20,
    "start_time": "2022-01-12T04:54:44.268Z"
   },
   {
    "duration": 56,
    "start_time": "2022-01-12T04:54:44.291Z"
   },
   {
    "duration": 94,
    "start_time": "2022-01-12T04:54:44.350Z"
   },
   {
    "duration": 37,
    "start_time": "2022-01-12T04:54:44.447Z"
   },
   {
    "duration": 68,
    "start_time": "2022-01-12T04:54:44.486Z"
   },
   {
    "duration": 43,
    "start_time": "2022-01-12T04:54:44.556Z"
   },
   {
    "duration": 47,
    "start_time": "2022-01-12T04:54:44.601Z"
   },
   {
    "duration": 21,
    "start_time": "2022-01-12T04:54:44.651Z"
   },
   {
    "duration": 63,
    "start_time": "2022-01-12T04:54:44.674Z"
   },
   {
    "duration": 44,
    "start_time": "2022-01-12T04:54:44.739Z"
   },
   {
    "duration": 63,
    "start_time": "2022-01-12T04:54:44.785Z"
   },
   {
    "duration": 48,
    "start_time": "2022-01-12T04:54:44.851Z"
   },
   {
    "duration": 37,
    "start_time": "2022-01-12T04:54:44.901Z"
   },
   {
    "duration": 785,
    "start_time": "2022-01-12T04:54:44.941Z"
   },
   {
    "duration": 792,
    "start_time": "2022-01-12T04:54:45.731Z"
   },
   {
    "duration": 16,
    "start_time": "2022-01-12T04:54:46.526Z"
   },
   {
    "duration": 657,
    "start_time": "2022-01-12T04:54:46.545Z"
   },
   {
    "duration": 688,
    "start_time": "2022-01-12T04:54:47.204Z"
   },
   {
    "duration": 31,
    "start_time": "2022-01-12T04:54:47.894Z"
   },
   {
    "duration": 543,
    "start_time": "2022-01-12T04:54:47.928Z"
   },
   {
    "duration": 9,
    "start_time": "2022-01-12T04:54:48.474Z"
   },
   {
    "duration": 41,
    "start_time": "2022-01-12T04:54:48.485Z"
   },
   {
    "duration": 661,
    "start_time": "2022-01-12T04:54:48.528Z"
   },
   {
    "duration": 616,
    "start_time": "2022-01-12T04:54:49.192Z"
   },
   {
    "duration": 581,
    "start_time": "2022-01-12T04:54:54.017Z"
   },
   {
    "duration": 410,
    "start_time": "2022-01-12T04:55:40.461Z"
   },
   {
    "duration": 340,
    "start_time": "2022-01-12T04:56:01.333Z"
   },
   {
    "duration": 1372,
    "start_time": "2022-01-12T04:56:14.471Z"
   },
   {
    "duration": 10,
    "start_time": "2022-01-12T04:56:15.845Z"
   },
   {
    "duration": 15,
    "start_time": "2022-01-12T04:56:15.858Z"
   },
   {
    "duration": 267,
    "start_time": "2022-01-12T04:56:15.877Z"
   },
   {
    "duration": 145,
    "start_time": "2022-01-12T04:56:16.147Z"
   },
   {
    "duration": 215,
    "start_time": "2022-01-12T04:56:16.295Z"
   },
   {
    "duration": 38,
    "start_time": "2022-01-12T04:56:16.512Z"
   },
   {
    "duration": 114,
    "start_time": "2022-01-12T04:56:16.554Z"
   },
   {
    "duration": 53,
    "start_time": "2022-01-12T04:56:16.671Z"
   },
   {
    "duration": 81,
    "start_time": "2022-01-12T04:56:16.727Z"
   },
   {
    "duration": 63,
    "start_time": "2022-01-12T04:56:16.811Z"
   },
   {
    "duration": 54,
    "start_time": "2022-01-12T04:56:16.876Z"
   },
   {
    "duration": 21,
    "start_time": "2022-01-12T04:56:16.932Z"
   },
   {
    "duration": 29,
    "start_time": "2022-01-12T04:56:16.955Z"
   },
   {
    "duration": 99,
    "start_time": "2022-01-12T04:56:16.987Z"
   },
   {
    "duration": 56,
    "start_time": "2022-01-12T04:56:17.089Z"
   },
   {
    "duration": 44,
    "start_time": "2022-01-12T04:56:17.148Z"
   },
   {
    "duration": 67,
    "start_time": "2022-01-12T04:56:17.194Z"
   },
   {
    "duration": 32,
    "start_time": "2022-01-12T04:56:17.263Z"
   },
   {
    "duration": 44,
    "start_time": "2022-01-12T04:56:17.298Z"
   },
   {
    "duration": 38,
    "start_time": "2022-01-12T04:56:17.344Z"
   },
   {
    "duration": 79,
    "start_time": "2022-01-12T04:56:17.384Z"
   },
   {
    "duration": 57,
    "start_time": "2022-01-12T04:56:17.468Z"
   },
   {
    "duration": 49,
    "start_time": "2022-01-12T04:56:17.527Z"
   },
   {
    "duration": 16,
    "start_time": "2022-01-12T04:56:17.578Z"
   },
   {
    "duration": 780,
    "start_time": "2022-01-12T04:56:17.624Z"
   },
   {
    "duration": 788,
    "start_time": "2022-01-12T04:56:18.407Z"
   },
   {
    "duration": 33,
    "start_time": "2022-01-12T04:56:19.198Z"
   },
   {
    "duration": 651,
    "start_time": "2022-01-12T04:56:19.234Z"
   },
   {
    "duration": 675,
    "start_time": "2022-01-12T04:56:19.887Z"
   },
   {
    "duration": 18,
    "start_time": "2022-01-12T04:56:20.565Z"
   },
   {
    "duration": 549,
    "start_time": "2022-01-12T04:56:20.586Z"
   },
   {
    "duration": 9,
    "start_time": "2022-01-12T04:56:21.137Z"
   },
   {
    "duration": 15,
    "start_time": "2022-01-12T04:56:21.148Z"
   },
   {
    "duration": 672,
    "start_time": "2022-01-12T04:56:21.165Z"
   },
   {
    "duration": 617,
    "start_time": "2022-01-12T04:56:21.839Z"
   },
   {
    "duration": 26,
    "start_time": "2022-01-12T04:56:22.460Z"
   },
   {
    "duration": 444,
    "start_time": "2022-01-12T04:56:42.743Z"
   },
   {
    "duration": 413,
    "start_time": "2022-01-12T04:57:32.137Z"
   },
   {
    "duration": 320,
    "start_time": "2022-01-12T04:58:15.504Z"
   },
   {
    "duration": 1771,
    "start_time": "2022-01-12T04:59:35.367Z"
   },
   {
    "duration": 12,
    "start_time": "2022-01-12T04:59:37.141Z"
   },
   {
    "duration": 13,
    "start_time": "2022-01-12T04:59:37.157Z"
   },
   {
    "duration": 340,
    "start_time": "2022-01-12T04:59:37.174Z"
   },
   {
    "duration": 185,
    "start_time": "2022-01-12T04:59:37.524Z"
   },
   {
    "duration": 273,
    "start_time": "2022-01-12T04:59:37.712Z"
   },
   {
    "duration": 46,
    "start_time": "2022-01-12T04:59:37.988Z"
   },
   {
    "duration": 157,
    "start_time": "2022-01-12T04:59:38.037Z"
   },
   {
    "duration": 54,
    "start_time": "2022-01-12T04:59:38.201Z"
   },
   {
    "duration": 103,
    "start_time": "2022-01-12T04:59:38.258Z"
   },
   {
    "duration": 61,
    "start_time": "2022-01-12T04:59:38.363Z"
   },
   {
    "duration": 26,
    "start_time": "2022-01-12T04:59:38.426Z"
   },
   {
    "duration": 20,
    "start_time": "2022-01-12T04:59:38.455Z"
   },
   {
    "duration": 50,
    "start_time": "2022-01-12T04:59:38.477Z"
   },
   {
    "duration": 117,
    "start_time": "2022-01-12T04:59:38.531Z"
   },
   {
    "duration": 72,
    "start_time": "2022-01-12T04:59:38.651Z"
   },
   {
    "duration": 59,
    "start_time": "2022-01-12T04:59:38.726Z"
   },
   {
    "duration": 67,
    "start_time": "2022-01-12T04:59:38.788Z"
   },
   {
    "duration": 30,
    "start_time": "2022-01-12T04:59:38.857Z"
   },
   {
    "duration": 43,
    "start_time": "2022-01-12T04:59:38.890Z"
   },
   {
    "duration": 36,
    "start_time": "2022-01-12T04:59:38.935Z"
   },
   {
    "duration": 69,
    "start_time": "2022-01-12T04:59:38.974Z"
   },
   {
    "duration": 36,
    "start_time": "2022-01-12T04:59:39.045Z"
   },
   {
    "duration": 68,
    "start_time": "2022-01-12T04:59:39.084Z"
   },
   {
    "duration": 18,
    "start_time": "2022-01-12T04:59:39.154Z"
   },
   {
    "duration": 773,
    "start_time": "2022-01-12T04:59:39.174Z"
   },
   {
    "duration": 799,
    "start_time": "2022-01-12T04:59:39.952Z"
   },
   {
    "duration": 18,
    "start_time": "2022-01-12T04:59:40.754Z"
   },
   {
    "duration": 644,
    "start_time": "2022-01-12T04:59:40.774Z"
   },
   {
    "duration": 685,
    "start_time": "2022-01-12T04:59:41.423Z"
   },
   {
    "duration": 25,
    "start_time": "2022-01-12T04:59:42.110Z"
   },
   {
    "duration": 530,
    "start_time": "2022-01-12T04:59:42.137Z"
   },
   {
    "duration": 9,
    "start_time": "2022-01-12T04:59:42.669Z"
   },
   {
    "duration": 43,
    "start_time": "2022-01-12T04:59:42.680Z"
   },
   {
    "duration": 650,
    "start_time": "2022-01-12T04:59:42.725Z"
   },
   {
    "duration": 597,
    "start_time": "2022-01-12T04:59:43.379Z"
   },
   {
    "duration": 515,
    "start_time": "2022-01-12T04:59:43.978Z"
   },
   {
    "duration": 134,
    "start_time": "2022-01-12T05:01:15.376Z"
   },
   {
    "duration": 317,
    "start_time": "2022-01-12T05:01:20.481Z"
   },
   {
    "duration": 36,
    "start_time": "2022-01-12T05:01:44.730Z"
   },
   {
    "duration": 25,
    "start_time": "2022-01-12T05:01:56.274Z"
   },
   {
    "duration": 1450,
    "start_time": "2022-01-12T05:02:04.795Z"
   },
   {
    "duration": 9,
    "start_time": "2022-01-12T05:02:06.248Z"
   },
   {
    "duration": 14,
    "start_time": "2022-01-12T05:02:06.260Z"
   },
   {
    "duration": 246,
    "start_time": "2022-01-12T05:02:06.277Z"
   },
   {
    "duration": 133,
    "start_time": "2022-01-12T05:02:06.526Z"
   },
   {
    "duration": 190,
    "start_time": "2022-01-12T05:02:06.662Z"
   },
   {
    "duration": 29,
    "start_time": "2022-01-12T05:02:06.854Z"
   },
   {
    "duration": 117,
    "start_time": "2022-01-12T05:02:06.887Z"
   },
   {
    "duration": 47,
    "start_time": "2022-01-12T05:02:07.007Z"
   },
   {
    "duration": 102,
    "start_time": "2022-01-12T05:02:07.057Z"
   },
   {
    "duration": 48,
    "start_time": "2022-01-12T05:02:07.162Z"
   },
   {
    "duration": 27,
    "start_time": "2022-01-12T05:02:07.223Z"
   },
   {
    "duration": 20,
    "start_time": "2022-01-12T05:02:07.253Z"
   },
   {
    "duration": 56,
    "start_time": "2022-01-12T05:02:07.276Z"
   },
   {
    "duration": 93,
    "start_time": "2022-01-12T05:02:07.335Z"
   },
   {
    "duration": 39,
    "start_time": "2022-01-12T05:02:07.431Z"
   },
   {
    "duration": 63,
    "start_time": "2022-01-12T05:02:07.472Z"
   },
   {
    "duration": 42,
    "start_time": "2022-01-12T05:02:07.537Z"
   },
   {
    "duration": 55,
    "start_time": "2022-01-12T05:02:07.582Z"
   },
   {
    "duration": 22,
    "start_time": "2022-01-12T05:02:07.640Z"
   },
   {
    "duration": 62,
    "start_time": "2022-01-12T05:02:07.665Z"
   },
   {
    "duration": 46,
    "start_time": "2022-01-12T05:02:07.729Z"
   },
   {
    "duration": 57,
    "start_time": "2022-01-12T05:02:07.779Z"
   },
   {
    "duration": 46,
    "start_time": "2022-01-12T05:02:07.839Z"
   },
   {
    "duration": 45,
    "start_time": "2022-01-12T05:02:07.887Z"
   },
   {
    "duration": 801,
    "start_time": "2022-01-12T05:02:07.934Z"
   },
   {
    "duration": 800,
    "start_time": "2022-01-12T05:02:08.737Z"
   },
   {
    "duration": 19,
    "start_time": "2022-01-12T05:02:09.540Z"
   },
   {
    "duration": 664,
    "start_time": "2022-01-12T05:02:09.562Z"
   },
   {
    "duration": 678,
    "start_time": "2022-01-12T05:02:10.229Z"
   },
   {
    "duration": 31,
    "start_time": "2022-01-12T05:02:10.910Z"
   },
   {
    "duration": 540,
    "start_time": "2022-01-12T05:02:10.944Z"
   },
   {
    "duration": 9,
    "start_time": "2022-01-12T05:02:11.486Z"
   },
   {
    "duration": 32,
    "start_time": "2022-01-12T05:02:11.497Z"
   },
   {
    "duration": 653,
    "start_time": "2022-01-12T05:02:11.532Z"
   },
   {
    "duration": 604,
    "start_time": "2022-01-12T05:02:12.188Z"
   },
   {
    "duration": 43,
    "start_time": "2022-01-12T05:02:12.796Z"
   },
   {
    "duration": 1644,
    "start_time": "2022-01-12T05:04:40.809Z"
   },
   {
    "duration": 10,
    "start_time": "2022-01-12T05:04:42.456Z"
   },
   {
    "duration": 16,
    "start_time": "2022-01-12T05:04:42.469Z"
   },
   {
    "duration": 226,
    "start_time": "2022-01-12T05:04:42.488Z"
   },
   {
    "duration": 128,
    "start_time": "2022-01-12T05:04:42.724Z"
   },
   {
    "duration": 188,
    "start_time": "2022-01-12T05:04:42.855Z"
   },
   {
    "duration": 30,
    "start_time": "2022-01-12T05:04:43.046Z"
   },
   {
    "duration": 115,
    "start_time": "2022-01-12T05:04:43.081Z"
   },
   {
    "duration": 40,
    "start_time": "2022-01-12T05:04:43.199Z"
   },
   {
    "duration": 93,
    "start_time": "2022-01-12T05:04:43.241Z"
   },
   {
    "duration": 45,
    "start_time": "2022-01-12T05:04:43.336Z"
   },
   {
    "duration": 51,
    "start_time": "2022-01-12T05:04:43.383Z"
   },
   {
    "duration": 19,
    "start_time": "2022-01-12T05:04:43.437Z"
   },
   {
    "duration": 29,
    "start_time": "2022-01-12T05:04:43.458Z"
   },
   {
    "duration": 104,
    "start_time": "2022-01-12T05:04:43.490Z"
   },
   {
    "duration": 53,
    "start_time": "2022-01-12T05:04:43.596Z"
   },
   {
    "duration": 40,
    "start_time": "2022-01-12T05:04:43.651Z"
   },
   {
    "duration": 63,
    "start_time": "2022-01-12T05:04:43.693Z"
   },
   {
    "duration": 30,
    "start_time": "2022-01-12T05:04:43.759Z"
   },
   {
    "duration": 52,
    "start_time": "2022-01-12T05:04:43.791Z"
   },
   {
    "duration": 36,
    "start_time": "2022-01-12T05:04:43.845Z"
   },
   {
    "duration": 67,
    "start_time": "2022-01-12T05:04:43.884Z"
   },
   {
    "duration": 35,
    "start_time": "2022-01-12T05:04:43.956Z"
   },
   {
    "duration": 84,
    "start_time": "2022-01-12T05:04:43.994Z"
   },
   {
    "duration": 17,
    "start_time": "2022-01-12T05:04:44.081Z"
   },
   {
    "duration": 769,
    "start_time": "2022-01-12T05:04:44.125Z"
   },
   {
    "duration": 784,
    "start_time": "2022-01-12T05:04:44.897Z"
   },
   {
    "duration": 39,
    "start_time": "2022-01-12T05:04:45.684Z"
   },
   {
    "duration": 635,
    "start_time": "2022-01-12T05:04:45.726Z"
   },
   {
    "duration": 662,
    "start_time": "2022-01-12T05:04:46.363Z"
   },
   {
    "duration": 18,
    "start_time": "2022-01-12T05:04:47.027Z"
   },
   {
    "duration": 540,
    "start_time": "2022-01-12T05:04:47.048Z"
   },
   {
    "duration": 10,
    "start_time": "2022-01-12T05:04:47.591Z"
   },
   {
    "duration": 32,
    "start_time": "2022-01-12T05:04:47.603Z"
   },
   {
    "duration": 629,
    "start_time": "2022-01-12T05:04:47.637Z"
   },
   {
    "duration": 568,
    "start_time": "2022-01-12T05:04:48.269Z"
   },
   {
    "duration": 51,
    "start_time": "2022-01-12T05:04:48.840Z"
   },
   {
    "duration": 464,
    "start_time": "2022-01-12T05:20:10.619Z"
   },
   {
    "duration": 636,
    "start_time": "2022-01-12T05:35:08.114Z"
   },
   {
    "duration": 616,
    "start_time": "2022-01-12T05:35:57.133Z"
   }
  ],
  "kernelspec": {
   "display_name": "Python 3 (ipykernel)",
   "language": "python",
   "name": "python3"
  },
  "language_info": {
   "codemirror_mode": {
    "name": "ipython",
    "version": 3
   },
   "file_extension": ".py",
   "mimetype": "text/x-python",
   "name": "python",
   "nbconvert_exporter": "python",
   "pygments_lexer": "ipython3",
   "version": "3.9.7"
  },
  "toc": {
   "base_numbering": 1,
   "nav_menu": {},
   "number_sections": true,
   "sideBar": true,
   "skip_h1_title": true,
   "title_cell": "Table of Contents",
   "title_sidebar": "Contents",
   "toc_cell": false,
   "toc_position": {
    "height": "calc(100% - 180px)",
    "left": "10px",
    "top": "150px",
    "width": "299px"
   },
   "toc_section_display": true,
   "toc_window_display": true
  }
 },
 "nbformat": 4,
 "nbformat_minor": 2
}
